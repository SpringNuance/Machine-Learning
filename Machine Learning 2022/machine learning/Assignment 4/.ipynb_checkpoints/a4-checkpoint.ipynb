{
 "cells": [
  {
   "cell_type": "markdown",
   "id": "dedc78f0",
   "metadata": {
    "nbgrader": {
     "grade": false,
     "grade_id": "cell-220cfc15877a15ed",
     "locked": true,
     "schema_version": 3,
     "solution": false,
     "task": false
    }
   },
   "source": [
    "# Assignment 4\n",
    "\n",
    "## Lecture 7 & 8 - Clustering & Probability Theory\n",
    "\n",
    "## Learning Goals\n",
    "\n",
    "* Learn how to **construct** and **train** K-means for **hard-clustering** task using `scikit-learn`. \n",
    "* Learn the importance of K-means initialization.\n",
    "* Learn about the properties of K-means clusters.\n",
    "* Learn how to use inertia and silhouette coefficient to choose the number of clusters k.\n",
    "* Learn how to construct new features using clustering, and to leverage those for more expressive (supervised) models.\n",
    "* Learn the basics of Bayesian probability theory\n",
    "* Learn how to train a naive Bayes classifier"
   ]
  },
  {
   "cell_type": "markdown",
   "id": "b75c9fd6",
   "metadata": {
    "nbgrader": {
     "grade": false,
     "grade_id": "cell-1d28f7b8df7f9ea5",
     "locked": true,
     "schema_version": 3,
     "solution": false,
     "task": false
    }
   },
   "source": [
    "# Table of Contents\n",
    "1. [Clustering](#Clustering)\n",
    "2. [Bayes Classifier](#Bayes-Classifier)"
   ]
  },
  {
   "cell_type": "markdown",
   "id": "119fb9a1",
   "metadata": {
    "nbgrader": {
     "grade": false,
     "grade_id": "cell-0c2dcf4cedc66b7d",
     "locked": true,
     "schema_version": 3,
     "solution": false,
     "task": false
    }
   },
   "source": [
    "# General Instructions\n",
    "- Jupyter notebook is supposed to be run cell by cell in order, please do not skip any code cell, this will cause some errors. Also running cells back and forth sometimes might also incur errors. If you feel you lost your track, you can click \"Kernel->Restart\" from the menu to restart the process.\n",
    "- Please DO NOT change the metadata of any cell, cells for demo and instructions are not editable.\n",
    "- Please DO NOT change the order of solution cell and test cell, you will lost points if the order is changed.\n",
    "- You can copy lines of code from cells that are not editable, but please DO NOT copy and paste them as cells, this may incur validation error. \n",
    "- You can add extra cells or code to help double-check your solution, but please make sure that variables required by tasks are not overwritten, or just delete those extra cells before submitting.\n",
    "- Please DO NOT change file names in you submission, renamed files can not be recognized by the grading system.\n",
    "- Reading the documentation of Python libraries is always a good practice, all the Python libraries (Numpy, Pandas, Sklearn,etc.) we utilized in this course provide very well organized documentation for each method/class/function."
   ]
  },
  {
   "cell_type": "code",
   "execution_count": 1,
   "id": "c5cc9b89",
   "metadata": {
    "nbgrader": {
     "grade": false,
     "grade_id": "cell-684df6da27545715",
     "locked": true,
     "schema_version": 3,
     "solution": false,
     "task": false
    }
   },
   "outputs": [
    {
     "name": "stderr",
     "output_type": "stream",
     "text": [
      "Fontconfig error: Cannot load default config file: No such file: (null)\n"
     ]
    }
   ],
   "source": [
    "# Import libraries needed for this assignment\n",
    "from re import findall # regular expressions\n",
    "from time import time # library providing various time-related functions\n",
    "\n",
    "import numpy as np # library for numerical computations (vectors, matrices, tensors)\n",
    "import numpy.testing as np_testing # for tests\n",
    "import matplotlib.pyplot as plt # library providing tools for plotting data\n",
    "import pandas as pd\n",
    "\n",
    "from sklearn.datasets import load_iris # function providing iris dataset\n",
    "from sklearn.linear_model import LinearRegression\n",
    "from sklearn.cluster import KMeans # library for K-Means clustering\n",
    "from sklearn import metrics # library providing score functions, performance metrics and pairwise metrics and distance computations\n",
    "from sklearn.metrics import mean_squared_error, confusion_matrix as calculate_confusion_matrix\n",
    "from sklearn.preprocessing import StandardScaler\n",
    "from mpl_toolkits.mplot3d import Axes3D # library for 3D axes object\n",
    "from seaborn import heatmap"
   ]
  },
  {
   "cell_type": "markdown",
   "id": "05e3ff54",
   "metadata": {
    "nbgrader": {
     "grade": false,
     "grade_id": "cell-851f05f8fc7653db",
     "locked": true,
     "schema_version": 3,
     "solution": false,
     "task": false
    }
   },
   "source": [
    "# Clustering\n",
    "\n",
    "Here we discuss about an unsupervised ML method [Clustering](https://en.wikipedia.org/wiki/Cluster_analysis), which does not require a supervisor to provide the label values for any datapoint. Clustering methods aim to decompose datapoints into a few subsets which we refer to as clusters. They learn a hypothesis for assigning each data point either to one cluster or several clusters with different degrees of belonging.\n",
    "\n",
    "Broadly speaking, clustering can be divided into two subgroups:\n",
    "\n",
    "- **Hard Clustering**: In hard clustering, each data point either belongs to a cluster completely or not. \n",
    "- **Soft Clustering**: In soft clustering, instead of putting each data point into a separate cluster, a probability or likelihood of that data point to be in those clusters is assigned. \n",
    "\n",
    "Clustering of unlabeled data can be performed with the module [`sklearn.cluster`](https://scikit-learn.org/stable/modules/classes.html#module-sklearn.cluster). Each clustering algorithm comes in two variants: a class ([python class](https://docs.python.org/3/tutorial/classes.html)), that implements the `fit.()` method to learn the clusters on training data, and a function, that, given training data, returns an array of integer labels corresponding to the different clusters. For the class, the labels over the training data can be found in the `labels_` attribute. Here is the overview of [clustering methods](https://scikit-learn.org/stable/modules/clustering.html#overview-of-clustering-methods).\n",
    "\n",
    "In this assignment, we will use **K-means** to solve a **hard-clustering** task. "
   ]
  },
  {
   "cell_type": "markdown",
   "id": "a4691e5f",
   "metadata": {
    "nbgrader": {
     "grade": false,
     "grade_id": "cell-4762b48f56262c4f",
     "locked": true,
     "schema_version": 3,
     "solution": false,
     "task": false
    }
   },
   "source": [
    "<a id='A4.1'></a>\n",
    "<div class=\" alert alert-warning\">\n",
    "    <h2><b>Student task A4.1.</b> K-means for hard-clustering problem.</h2>\n",
    "\n",
    "Now, your task is to use **K-means** for a **hard-clustering** problem. \n",
    "    \n",
    "You can use [`sklearn.cluster.KMeans`](https://scikit-learn.org/stable/modules/generated/sklearn.cluster.KMeans.html#sklearn.cluster.KMeans) to construct the model.\n",
    "</div>"
   ]
  },
  {
   "cell_type": "markdown",
   "id": "52a88c00",
   "metadata": {
    "nbgrader": {
     "grade": false,
     "grade_id": "cell-5b8331730324a5a8",
     "locked": true,
     "schema_version": 3,
     "solution": false,
     "task": false
    }
   },
   "source": [
    "The **[KMeans](https://en.wikipedia.org/wiki/K-means_clustering)** algorithm clusters data by trying to separate samples in n groups of equal variance, minimizing a criterion known as the inertia or within-cluster sum-of-squares (see below). This algorithm requires the number of clusters to be specified. It scales well to large number of samples and has been used across a large range of application areas in many different fields.\n",
    "\n",
    "The k-means algorithm divides a set of $N$ samples $X = \\{x_1,x_2,...,x_n\\}$ into $K$ disjoint clusters $C_1,C_2,...,C_k$, each described by the mean $\\mu_j$ of the samples in the cluster $C_j$, for $j \\in \\{1,2,3,...,k\\}$ . The means are commonly called the cluster “centroids”; note that they are not, in general, points from $X$, although they live in the same space.\n",
    "\n",
    "The K-means algorithm aims to choose centroids that minimise the **inertia**, or **within-cluster sum-of-squares criterion**:\n",
    "$$\n",
    "\\mathop{min}\\limits_{\\mathbf{\\mu}}\n",
    "\\sum^{k}_{j=1}\n",
    "\\sum^{}_{x_i\\in C_j}\n",
    "\\| x_i - \\mu_j\\|^2\n",
    "$$\n",
    "\n",
    "Furthermore, since the total variance in the data is a constant, by minimizing the within-cluster (intra) variance we are also implicitly *maximizing* the between-cluster (inter) variance. As a result, K-means tries to find well separated spherical clusters with equal densities. More specifically, K-means can only produce convex clusters, which makes it less useful when the targeted/real clusters are strongly overlapping or entangled. And finally, whether or not there is actually any \"clustering/grouping\" we as humans might recognize or wish to find in the data, K-means **will** return us k cluster centroids, and those centroids will partition the input space in convex partitions using euclidean distance. It is solely on the analyst to interpret and validate the results using ingenuity and existing tools (goodness measures, visual inspection etc.)."
   ]
  },
  {
   "cell_type": "markdown",
   "id": "0eec0402",
   "metadata": {
    "nbgrader": {
     "grade": false,
     "grade_id": "cell-d12c343a550b4be4",
     "locked": true,
     "schema_version": 3,
     "solution": false,
     "task": false
    }
   },
   "source": [
    "## Loading Data\n",
    "\n",
    "We will use the [Iris plants dataset](https://scikit-learn.org/stable/datasets/toy_dataset.html#iris-dataset). It is a classic and very simple multi-class classification dataset. This dataset consists of 3 different types of irises’ (Setosa, Versicolour, and Virginica) petal and sepal length, stored in a 150x4 numpy.ndarray. The rows being the samples and the columns being: Sepal Length, Sepal Width, Petal Length and Petal Width. We use these four features for clustering. The true labels, see below `iris_data.target`, will be used to evaluate the performance of Kmeans method."
   ]
  },
  {
   "cell_type": "code",
   "execution_count": 2,
   "id": "6e28c3c4",
   "metadata": {
    "nbgrader": {
     "grade": false,
     "grade_id": "cell-c684d69615e64ff0",
     "locked": true,
     "schema_version": 3,
     "solution": false,
     "task": false
    }
   },
   "outputs": [
    {
     "name": "stdout",
     "output_type": "stream",
     "text": [
      "Shape of samples (150, 4)\n",
      "Target names ['setosa' 'versicolor' 'virginica']\n"
     ]
    }
   ],
   "source": [
    "# load dataset\n",
    "iris_data = load_iris()    # load the iris dataset\n",
    "X = iris_data.data    # obtain features of datapoints\n",
    "y = iris_data.target    # obtain labels of datapoints\n",
    "\n",
    "# shape of samples\n",
    "print(f'Shape of samples {X.shape}')    # print the shape of features\n",
    "print(f'Target names {iris_data.target_names}')    # print all label names"
   ]
  },
  {
   "cell_type": "markdown",
   "id": "f4416de1",
   "metadata": {
    "nbgrader": {
     "grade": false,
     "grade_id": "cell-63abb32d8b36ef27",
     "locked": true,
     "schema_version": 3,
     "solution": false,
     "task": false
    }
   },
   "source": [
    "##  Defining and Training Model\n",
    "We use `KMeans()` and `.fit()` to train our model. Read more [parameter settings](https://scikit-learn.org/stable/modules/generated/sklearn.cluster.KMeans.html#sklearn.cluster.KMeans) in details. Please set the `random_state` as 0, and the `n_clusters` (which is the parameter k in k-means) so that you could hope to capture the different types of irises' - see the targets in the previous code cell; we'll be comparing those against K-means labels."
   ]
  },
  {
   "cell_type": "code",
   "execution_count": 3,
   "id": "7a7a9774",
   "metadata": {
    "nbgrader": {
     "grade": false,
     "grade_id": "cell-bec68413a1267151",
     "locked": false,
     "schema_version": 3,
     "solution": true,
     "task": false
    }
   },
   "outputs": [
    {
     "data": {
      "text/plain": [
       "KMeans(n_clusters=3, random_state=0)"
      ]
     },
     "execution_count": 3,
     "metadata": {},
     "output_type": "execute_result"
    }
   ],
   "source": [
    "# define and train model\n",
    "\n",
    "# kmeans = ...\n",
    "# kmeans.fit(...)\n",
    "\n",
    "### BEGIN SOLUTION\n",
    "kmeans = KMeans(n_clusters=3, random_state=0)\n",
    "kmeans.fit(X)\n",
    "### END SOLUTION"
   ]
  },
  {
   "cell_type": "code",
   "execution_count": 4,
   "id": "d43c26ef",
   "metadata": {
    "nbgrader": {
     "grade": true,
     "grade_id": "cell-8e665da375c4ed59",
     "locked": true,
     "points": 1,
     "schema_version": 3,
     "solution": false,
     "task": false
    }
   },
   "outputs": [],
   "source": [
    "# this cell is for A4.1 tests\n",
    "\n",
    "### BEGIN HIDDEN TESTS\n",
    "assert isinstance(kmeans, KMeans), 'Use KMeans model!'\n",
    "assert kmeans.n_clusters==3, 'Wrong number of clusters'\n",
    "### END HIDDEN TESTS"
   ]
  },
  {
   "cell_type": "markdown",
   "id": "e5cd31c0",
   "metadata": {
    "nbgrader": {
     "grade": false,
     "grade_id": "cell-60b4fd73298f2464",
     "locked": true,
     "schema_version": 3,
     "solution": false,
     "task": false
    }
   },
   "source": [
    "## Evaluation"
   ]
  },
  {
   "cell_type": "markdown",
   "id": "d6caa3c4",
   "metadata": {
    "nbgrader": {
     "grade": false,
     "grade_id": "cell-ed469bd90fbb4684",
     "locked": true,
     "schema_version": 3,
     "solution": false,
     "task": false
    }
   },
   "source": [
    "Cluster quality metrics evaluated (see [Clustering performance evaluation](https://scikit-learn.org/stable/modules/clustering.html#clustering-evaluation) for definitions and discussions of the metrics):\n",
    "\n",
    "| Shorthand | full name |\n",
    "| ---- | ---- |\n",
    "| homo | homogeneity score |\n",
    "| compl | completeness score |\n",
    "| v-meas | V measure |\n",
    "| ARI | adjusted Rand index |\n",
    "| AMI | adjusted mutual information |\n",
    "| silhouette | silhouette coefficient |\n",
    "\n",
    "**NOTE**: Homogeneity/Completeness score, V measure, ARI and AMI are all **external validity indices** - so called since they require labels (i.e., external information). Silhouette coefficient on the other hand only requires the data points and cluster assignments, and is an example of an **internal validity index**. Validity indices can be used to evaluate single clustering, choose k, or compare multiple clusterings. However, there are some nuances in the use of these measures and how they should be used with different clustering models, which goes beyond this course.\n",
    "These and other validity indices are dealt with in more depth in the course CS-E4650 (Methods of Data Mining). "
   ]
  },
  {
   "cell_type": "code",
   "execution_count": 5,
   "id": "5f42f4fc",
   "metadata": {
    "nbgrader": {
     "grade": false,
     "grade_id": "cell-eedc2f4b91e3d8d9",
     "locked": true,
     "schema_version": 3,
     "solution": false,
     "task": false
    }
   },
   "outputs": [
    {
     "name": "stdout",
     "output_type": "stream",
     "text": [
      "__________________________________________________________________\n",
      "time\tinertia\thomo\tcompl\tv-meas\tARI\tAMI\tsilhouette\n",
      "0.038s\t79\t0.751\t0.765\t0.758\t0.730\t0.755\t0.553\n",
      "__________________________________________________________________\n"
     ]
    }
   ],
   "source": [
    "# calculate the running time\n",
    "t0 = time()\n",
    "estimator = KMeans(n_clusters=3, random_state=0).fit(X)\n",
    "fit_time = time() - t0\n",
    "results = [fit_time, estimator.inertia_]\n",
    "\n",
    "# define the metrics which require only the true labels and estimator labels\n",
    "clustering_metrics = [\n",
    "        metrics.homogeneity_score,\n",
    "        metrics.completeness_score,\n",
    "        metrics.v_measure_score,\n",
    "        metrics.adjusted_rand_score,\n",
    "        metrics.adjusted_mutual_info_score,\n",
    "]\n",
    "results += [m(y, estimator.labels_) for m in clustering_metrics]\n",
    "\n",
    "# the silhouette score requires the full dataset\n",
    "results += [\n",
    "        metrics.silhouette_score(\n",
    "            X,\n",
    "            estimator.labels_,\n",
    "            metric=\"euclidean\",\n",
    "            sample_size=300,\n",
    "    )\n",
    "]\n",
    "\n",
    "# show the results of each metric and print them\n",
    "formatter_result = (\n",
    "        \"{:.3f}s\\t{:.0f}\\t{:.3f}\\t{:.3f}\\t{:.3f}\\t{:.3f}\\t{:.3f}\\t{:.3f}\"\n",
    ")\n",
    "print(66 * \"_\")\n",
    "print(\"time\\tinertia\\thomo\\tcompl\\tv-meas\\tARI\\tAMI\\tsilhouette\")\n",
    "print(formatter_result.format(*results))\n",
    "print(66 * \"_\")"
   ]
  },
  {
   "cell_type": "markdown",
   "id": "a7d85a95",
   "metadata": {
    "nbgrader": {
     "grade": false,
     "grade_id": "cell-d378aafa83cdc109",
     "locked": true,
     "schema_version": 3,
     "solution": false,
     "task": false
    }
   },
   "source": [
    "Let's visualize the clustering results."
   ]
  },
  {
   "cell_type": "code",
   "execution_count": 6,
   "id": "760f80b4",
   "metadata": {
    "nbgrader": {
     "grade": false,
     "grade_id": "cell-b646a12a3cb3953a",
     "locked": true,
     "schema_version": 3,
     "solution": false,
     "task": false
    }
   },
   "outputs": [
    {
     "data": {
      "image/png": "[encoded data removed]",
      "text/plain": [
       "<Figure size 432x288 with 1 Axes>"
      ]
     },
     "metadata": {
      "needs_background": "light"
     },
     "output_type": "display_data"
    }
   ],
   "source": [
    "%%capture --no-display\n",
    "fig = plt.figure()    # create a new figure\n",
    "ax = Axes3D(fig, elev=48, azim=134)    # use 3D axes\n",
    "labels = kmeans.labels_    # obtain clustering labels\n",
    "print(labels)\n",
    "print(type(labels))\n",
    "print(labels.shape)\n",
    "ax.scatter(X[:, 3], X[:, 0], X[:, 2], c=labels.astype(float), edgecolor='k')    # plot a scatter plot of labels vs. X with varying marker size or color\n",
    "ax.w_xaxis.set_ticklabels([])    # leave the text values blank of the tick labels\n",
    "ax.w_yaxis.set_ticklabels([])\n",
    "ax.w_zaxis.set_ticklabels([])\n",
    "ax.set_xlabel('Petal width')    # set the label for the x/y/z-axis\n",
    "ax.set_ylabel('Sepal length')\n",
    "ax.set_zlabel('Petal length')\n",
    "plt.show()"
   ]
  },
  {
   "cell_type": "markdown",
   "id": "8c22084b",
   "metadata": {
    "nbgrader": {
     "grade": false,
     "grade_id": "cell-63ef7e9ab4a5abf7",
     "locked": true,
     "schema_version": 3,
     "solution": false,
     "task": false
    }
   },
   "source": [
    "<a id='D4.1'></a>\n",
    "<div class=\" alert alert-info\" >\n",
    "    \n",
    "## Demo\n",
    "### The importance of initialization   \n",
    "    \n",
    "Here you can visually explore the sensitivity of K-means to initialization, and the effect standardization can have on it.  \n",
    "</div>"
   ]
  },
  {
   "cell_type": "markdown",
   "id": "1218c756",
   "metadata": {
    "nbgrader": {
     "grade": false,
     "grade_id": "cell-d46d59708c30bdcd",
     "locked": true,
     "schema_version": 3,
     "solution": false,
     "task": false
    }
   },
   "source": [
    "The problem of finding k globally optimal centroids is strictly speaking too hard for us to solve in finite time. We can still find *good* solutions using an iterative approach (see 'algorithm 12' in ML book chapter 8.1). However, the solutions we find are only locally optimal and there is always the risk that we get stuck in a very suboptimal solution. Most importantly, this means that our solution depends on our initial guess for the centroids. Therefore, it is usually a good practice to run the K-means algorithm multiple times using different initial centroids, and then choose based on some goodness measure or a validation index - or if the data is low dimensional, based on visualization. "
   ]
  },
  {
   "cell_type": "markdown",
   "id": "0383d32b",
   "metadata": {
    "nbgrader": {
     "grade": false,
     "grade_id": "cell-6e474dd00a0370d0",
     "locked": true,
     "schema_version": 3,
     "solution": false,
     "task": false
    }
   },
   "source": [
    "First, let's create a toy dataset with 2 distinct clusters:"
   ]
  },
  {
   "cell_type": "code",
   "execution_count": null,
   "id": "72be6f85",
   "metadata": {},
   "outputs": [],
   "source": [
    "#Do not change the seed\n",
    "np.random.seed(0)\n",
    "n=500\n",
    "Xdemo=np.random.multivariate_normal([0,5/2],np.diag([20,5/8]),n)\n",
    "Xdemo=np.vstack((Xdemo,np.random.multivariate_normal([0,-5/2],np.diag([20,5/8]),n)))"
   ]
  },
  {
   "cell_type": "markdown",
   "id": "6f71ef3a",
   "metadata": {
    "nbgrader": {
     "grade": false,
     "grade_id": "cell-9560bf7de6758492",
     "locked": true,
     "schema_version": 3,
     "solution": false,
     "task": false
    }
   },
   "source": [
    "Now, let's choose 2 random points from the dataset as our initial cluster centroids, and then cluster and plot the result as well as the initial centroids. The 'n_init=1' is specifying that we do not want multiple re-starts of the algorithm, as we are using our own initial centroids - sklearn's KMeans makes 10 re-starts by default.\n",
    "\n",
    "**NOTE**: You can keep running the cell multiple times (hold ctrl + press enter)\n",
    "\n",
    "**NOTE**: You can also try a more sophisticated initialization scheme ([`k-means++`](https://en.wikipedia.org/wiki/K-means%2B%2B))   - it is the sklearn's default K-means initialization when you don't provide the initial centroids."
   ]
  },
  {
   "cell_type": "markdown",
   "id": "7251683c",
   "metadata": {
    "nbgrader": {
     "grade": false,
     "grade_id": "cell-444cb45ca02c8764",
     "locked": true,
     "schema_version": 3,
     "solution": false,
     "task": false
    }
   },
   "source": [
    "## Here we use numpy's random.choice to choose indeces of inital centroids "
   ]
  },
  {
   "cell_type": "code",
   "execution_count": 8,
   "id": "71edc748",
   "metadata": {},
   "outputs": [],
   "source": [
    "init=Xdemo[np.random.choice(np.arange(Xdemo.shape[0]),2, replace=False),:]"
   ]
  },
  {
   "cell_type": "markdown",
   "id": "3e71b458",
   "metadata": {
    "nbgrader": {
     "grade": false,
     "grade_id": "cell-444cb45ca02c8764b",
     "locked": true,
     "schema_version": 3,
     "solution": false,
     "task": false
    }
   },
   "source": [
    "# ...and then pass those initial centroids to K-means"
   ]
  },
  {
   "cell_type": "code",
   "execution_count": 9,
   "id": "6e1b4504",
   "metadata": {},
   "outputs": [
    {
     "data": {
      "image/png": "[encoded data removed]",
      "text/plain": [
       "<Figure size 432x288 with 1 Axes>"
      ]
     },
     "metadata": {
      "needs_background": "light"
     },
     "output_type": "display_data"
    }
   ],
   "source": [
    "kmeans=KMeans(n_clusters=2, init=init, n_init=1).fit(Xdemo)\n",
    "\n",
    "plt.scatter(Xdemo[:,0],Xdemo[:,1],c=kmeans.labels_)\n",
    "plt.plot(init[:,0],init[:,1],'bo', markersize=7)\n",
    "plt.plot(kmeans.cluster_centers_[:,0],kmeans.cluster_centers_[:,1],'ro', markersize=7)\n",
    "plt.xlim([-15,15])\n",
    "plt.ylim([-6,6])\n",
    "plt.title('Blue dots initial, Red dots final centroids')\n",
    "plt.xlabel('X1')\n",
    "plt.ylabel('X2')\n",
    "plt.show()"
   ]
  },
  {
   "cell_type": "markdown",
   "id": "f937d5d2",
   "metadata": {
    "nbgrader": {
     "grade": false,
     "grade_id": "cell-33877679efa229a7",
     "locked": true,
     "schema_version": 3,
     "solution": false,
     "task": false
    }
   },
   "source": [
    "Only very rarely are the initial centroids chosen such that the algorithm is able to distinguish the 2 distributions (if you keep running the cell you will eventually succeed).  \n",
    "\n",
    "In this particular case, we can try to mitigate this sensitivity to initialization by standardizing our features using Sklearn's ['StandardScaler'](https://scikit-learn.org/stable/modules/generated/sklearn.preprocessing.StandardScaler.html):"
   ]
  },
  {
   "cell_type": "code",
   "execution_count": 10,
   "id": "e8a716ca",
   "metadata": {},
   "outputs": [],
   "source": [
    "# Sklearn way\n",
    "Xs = StandardScaler().fit_transform(Xdemo)"
   ]
  },
  {
   "cell_type": "code",
   "execution_count": 11,
   "id": "5a5579ab",
   "metadata": {},
   "outputs": [],
   "source": [
    "# Manual way\n",
    "#Xs = (Xdemo-Xdemo.mean(axis=0))/Xdemo.std(axis=0)"
   ]
  },
  {
   "cell_type": "markdown",
   "id": "5e303155",
   "metadata": {
    "nbgrader": {
     "grade": false,
     "grade_id": "cell-6c2cff7e75a031b9",
     "locked": true,
     "schema_version": 3,
     "solution": false,
     "task": false
    }
   },
   "source": [
    "**And again using either randomly chosen data points or k-means++ for initial centroids:**"
   ]
  },
  {
   "cell_type": "code",
   "execution_count": 12,
   "id": "4a6c9733",
   "metadata": {},
   "outputs": [
    {
     "data": {
      "image/png": "[encoded data removed]",
      "text/plain": [
       "<Figure size 432x288 with 1 Axes>"
      ]
     },
     "metadata": {
      "needs_background": "light"
     },
     "output_type": "display_data"
    }
   ],
   "source": [
    "# Initial centroids as random data points\n",
    "init=Xs[np.random.choice(np.arange(Xs.shape[0]),2, replace=False),:]\n",
    "kmeans=KMeans(n_clusters=2, init=init, n_init=1).fit(Xs)\n",
    "\n",
    "plt.scatter(Xs[:,0],Xs[:,1],c=kmeans.labels_)\n",
    "plt.plot(init[:,0],init[:,1],'bo', markersize=7)\n",
    "plt.plot(kmeans.cluster_centers_[:,0],kmeans.cluster_centers_[:,1],'ro', markersize=7)\n",
    "plt.title('Blue dots initial, Red dots final centroids')\n",
    "plt.xlabel('X1 (scaled)')\n",
    "plt.ylabel('X2 (scaled)')\n",
    "plt.show()"
   ]
  },
  {
   "cell_type": "markdown",
   "id": "c6a85f23",
   "metadata": {
    "nbgrader": {
     "grade": false,
     "grade_id": "cell-b1ef61bb1eee072d",
     "locked": true,
     "schema_version": 3,
     "solution": false,
     "task": false
    }
   },
   "source": [
    "**(NOTE the different X1, X2 scales)**\n",
    "\n",
    "Now K-means has no trouble finding the clusters, even with poor initial centroids. As to the effectiveness of scaling, this is a somewhat \"cherry-picked\" example: In real world task, decision to normalize or standardize your data should be based on your understanding of the data. E.g., if there are features that do not have the same units and are on wildly differing scales, while your prior assumption is that those features are likely to be equally significant for the learning task; it is appropriate to standardize them. However, if your features have the same units (e.g., both are m/s) and you have no information based on which you could conclude about their relative significance, you should not scale the data. "
   ]
  },
  {
   "cell_type": "markdown",
   "id": "88600e44",
   "metadata": {
    "nbgrader": {
     "grade": false,
     "grade_id": "cell-39da174d5a072780",
     "locked": true,
     "schema_version": 3,
     "solution": false,
     "task": false
    }
   },
   "source": [
    "<a id='A4.2'></a>\n",
    "<div class=\" alert alert-warning\">\n",
    "    \n",
    "## Student Task A4.2:\n",
    "Standardization clearly had an effect on convergence in the previous demo. Based on the scatter plot of the data, could you come up with an even simpler feature transformation that would make the clustering task easier? If you feel unsure about the answer, you can always modify the previous demo and try different approaches, or plot histograms of the features. Answer by setting the 'Answer' variable to the index of the answer that you consider correct. \n",
    "    \n",
    "* Answer 1: Shift the data by some constant factor.\n",
    "* Answer 2: Use just one of the features - either one will work.\n",
    "* Answer 3: Use just one of the features - 2nd feature will work.\n",
    "    \n",
    "</div>"
   ]
  },
  {
   "cell_type": "code",
   "execution_count": 13,
   "id": "763d1b8b",
   "metadata": {
    "nbgrader": {
     "grade": false,
     "grade_id": "cell-61556728b176c5c0",
     "locked": false,
     "schema_version": 3,
     "solution": true,
     "task": false
    }
   },
   "outputs": [],
   "source": [
    "## set Answer to the index of the correct answer (e.g., Answer = 1 if you think Answer 1 is correct)\n",
    "\n",
    "# Answer  = ...   \n",
    "\n",
    "### BEGIN SOLUTION\n",
    "Answer = 3\n",
    "### END SOLUTION\n",
    "\n",
    "# sanity check datatype of Answer_Q1\n",
    "assert isinstance(Answer, int), \"Please use datatype 'int' for your answer\""
   ]
  },
  {
   "cell_type": "code",
   "execution_count": 14,
   "id": "d538519e",
   "metadata": {
    "nbgrader": {
     "grade": true,
     "grade_id": "cell-1f48a70cb00b0f54",
     "locked": true,
     "points": 1,
     "schema_version": 3,
     "solution": false,
     "task": false
    }
   },
   "outputs": [],
   "source": [
    "# This is the test cell for A4.2\n",
    "\n",
    "### BEGIN HIDDEN TESTS\n",
    "assert Answer == 3 , 'Wrong answer, the correct answer is 3'\n",
    "### END HIDDEN TESTS"
   ]
  },
  {
   "cell_type": "markdown",
   "id": "1b3b822a",
   "metadata": {
    "nbgrader": {
     "grade": false,
     "grade_id": "cell-83f38ff16fc706a9",
     "locked": true,
     "schema_version": 3,
     "solution": false,
     "task": false
    }
   },
   "source": [
    "<a id='D4.2'></a>\n",
    "<div class=\" alert alert-info\" >\n",
    "    \n",
    "## Demo\n",
    "    \n",
    "### The nature of K-means solutions.\n",
    "    \n",
    "Here we can inspect how the clustering evolves through iterations. As explained, in addition to minimizing inertia, the K-means objective is implicitly also maximizing the separation between clusters:\n",
    "\n",
    "</div>"
   ]
  },
  {
   "cell_type": "markdown",
   "id": "6cdda4cf",
   "metadata": {
    "nbgrader": {
     "grade": false,
     "grade_id": "cell-ec82d67c72be26d3",
     "locked": true,
     "schema_version": 3,
     "solution": false,
     "task": false
    }
   },
   "source": [
    "K-means aims to minimize:\n",
    "\n",
    "$$\n",
    "\\sum^{}_{x_i\\in C_j}\n",
    "\\| x_i - \\mu_j\\|^2\n",
    "$$\n",
    "\n",
    "for each cluster. Equivalently we could minimize within-cluster pairwise squared deviations:\n",
    "\n",
    "$$\n",
    "\\dfrac{1}{\\mid C_j\\mid}\n",
    "\\sum^{}_{x,y\\in C_j}\n",
    "\\| x - y\\|^2\n",
    "$$\n",
    "\n",
    "and as the total variance in the data remains constant, minimizing the within-cluster deviations will also result in maximizing the pairwise deviations for data points in different clusters (between-cluster deviations)."
   ]
  },
  {
   "cell_type": "markdown",
   "id": "806087bc",
   "metadata": {
    "nbgrader": {
     "grade": false,
     "grade_id": "cell-8ae1b56f4bc7ffd5",
     "locked": true,
     "schema_version": 3,
     "solution": false,
     "task": false
    }
   },
   "source": [
    "**NOTE: You can change the random seed to test different initializations.**"
   ]
  },
  {
   "cell_type": "code",
   "execution_count": 15,
   "id": "32990999",
   "metadata": {},
   "outputs": [
    {
     "name": "stdout",
     "output_type": "stream",
     "text": [
      "Stop Iteration at\n",
      "9th step\n",
      "Final centroids: \n",
      "[[ 0.04 -0.95]\n",
      " [-0.04  0.95]]\n"
     ]
    },
    {
     "data": {
      "image/png": "[encoded data removed]",
      "text/plain": [
       "<Figure size 864x576 with 4 Axes>"
      ]
     },
     "metadata": {
      "needs_background": "light"
     },
     "output_type": "display_data"
    }
   ],
   "source": [
    "# Note: this cell is editable\n",
    "np.random.seed(6)   \n",
    "\n",
    "#Alias for pairwise distance function\n",
    "DIST=metrics.pairwise_distances\n",
    "init=Xs[np.random.choice(np.arange(Xs.shape[0]),2),:]\n",
    "total_deviations=(DIST(Xs,Xs)**2).sum()/Xs.shape[0]\n",
    "inertia=[]\n",
    "between=[]\n",
    "within=[]\n",
    "plt.figure(figsize=(12,8))\n",
    "\n",
    "# Hold previous value of inertia to determine when the clustering\n",
    "# stops improving (initial value can be any large value)\n",
    "inertia_prev = 1e12\n",
    "plt.subplot(2,2,1)\n",
    "for i in range(1,100):\n",
    "    \n",
    "    # We are manually iterating with KMeans \n",
    "    kmeans=KMeans(n_clusters=2, init=init, n_init=1, max_iter=1).fit(Xs)\n",
    "    plt.scatter(Xs[:,0],Xs[:,1],c=kmeans.labels_)\n",
    "    plt.xlabel('X1 (scaled)')\n",
    "    plt.ylabel('X2 (scaled)')\n",
    "    if(i==1):\n",
    "        plt.plot(init[:,0],init[:,1],'bo', markersize=9)   \n",
    "    else:\n",
    "        plt.plot(init[:,0],init[:,1],'ro', markersize=i)\n",
    "    \n",
    "    #Hold the centroids for next iteration\n",
    "    init=kmeans.cluster_centers_\n",
    "    \n",
    "    n0=np.sum(kmeans.labels_==0) # number of points in cluster 0\n",
    "    n1=np.sum(kmeans.labels_==1) # number of points in cluster 1\n",
    "    x0=Xs[np.where(kmeans.labels_==0)[0],:] #points in cluster 0\n",
    "    x1=Xs[np.where(kmeans.labels_==1)[0],:] #points in cluster 1\n",
    "    w0 = .5*(DIST(x0,x0)**2).sum()/n0 # deviations within cluster 0\n",
    "    w1 = .5*(DIST(x1,x1)**2).sum()/n1 # deviations within cluster 1\n",
    "    \n",
    "    \n",
    "    inertia.append(kmeans.inertia_)\n",
    "    within.append( w0 + w1 )\n",
    "    between.append( total_deviations - w0 - w1 )\n",
    "    \n",
    "    if(np.isclose(kmeans.inertia_,inertia_prev, rtol=1e-3)):\n",
    "        plt.title('Blue dots initial, (Biggest) red dots final centroids')\n",
    "        print('Stop Iteration at')\n",
    "        print('{}th step'.format(i))\n",
    "        print('Final centroids: \\n{}'.format(np.round(kmeans.cluster_centers_,2)))\n",
    "        break\n",
    "    else:\n",
    "        inertia_prev=kmeans.inertia_\n",
    "\n",
    "\n",
    "plt.subplot(2,2,2)\n",
    "plt.plot(np.arange(1,len(inertia)+1),inertia)\n",
    "plt.title('Inertia')\n",
    "plt.xlabel('iter')\n",
    "plt.subplot(2,2,3)\n",
    "plt.plot(np.arange(1,len(between)+1),between)\n",
    "plt.title('Between cluster deviations')\n",
    "plt.xlabel('iter')\n",
    "plt.subplot(2,2,4)\n",
    "plt.plot(np.arange(1,len(within)+1),within)\n",
    "plt.title('Within cluster deviations')\n",
    "plt.xlabel('iter')\n",
    "plt.gcf().tight_layout(pad=3.0)\n",
    "plt.show()"
   ]
  },
  {
   "cell_type": "markdown",
   "id": "5d3a3210",
   "metadata": {
    "nbgrader": {
     "grade": false,
     "grade_id": "cell-7d39c855c9dd809f",
     "locked": true,
     "schema_version": 3,
     "solution": false,
     "task": false
    }
   },
   "source": [
    "<a id='A4.3'></a>\n",
    "<div class=\" alert alert-warning\">\n",
    "\n",
    "## Student task A4.3. Choosing k for K-means.\n",
    "\n",
    "Now, your task is to use inertia and silhouette coefficient to choose a good value for parameter k. \n",
    "    \n",
    "You can use [`sklearn.cluster.KMeans`](https://scikit-learn.org/stable/modules/generated/sklearn.cluster.KMeans.html#sklearn.cluster.KMeans) to construct the model, it's attribute **.inertia_** for inertia, and [`sklearn.metrics.silhuette_score`](https://scikit-learn.org/stable/modules/generated/sklearn.metrics.silhouette_score.html) for silhuette coefficient. \n",
    "</div>"
   ]
  },
  {
   "cell_type": "markdown",
   "id": "53d30434",
   "metadata": {
    "nbgrader": {
     "grade": false,
     "grade_id": "cell-fcc8ea09f1ac5ab4",
     "locked": true,
     "schema_version": 3,
     "solution": false,
     "task": false
    }
   },
   "source": [
    "The K-means model requires us to provide the parameter k. With low-dimensional or otherwise trivial data this might be easy to conclude based on visual exploration. However, in many real world scenarios it is hardly a trivial task. In addition to previously mentioned validity indices, the value of the clustering objective (**inertia**) itself can be used to evaluate the clustering at different values of k. And properly interpreted, the inertia can help us to choose the value for k. "
   ]
  },
  {
   "cell_type": "markdown",
   "id": "8235f0bb",
   "metadata": {
    "nbgrader": {
     "grade": false,
     "grade_id": "cell-01bcda143ded739d",
     "locked": true,
     "schema_version": 3,
     "solution": false,
     "task": false
    }
   },
   "source": [
    "The most basic approach to choosing k is called **the elbow method**. In elbow method we plot the value of inertia with different values of k, and choose the smallest k that produces \"sufficiently low values of inertia.\" In practice this is done by looking for the point where the inertia plot is becoming less steep (\"elbow\" in the curve). This typically occurs when K-means is in some sense starting to overfit, i.e., instead of adding new clusters to capture truly separated sets of data points, it is starting to partition already compact clusters into smaller parts which are not well separated. "
   ]
  },
  {
   "cell_type": "markdown",
   "id": "7e4af2f4",
   "metadata": {
    "nbgrader": {
     "grade": false,
     "grade_id": "cell-2e614c0ca4406916",
     "locked": true,
     "schema_version": 3,
     "solution": false,
     "task": false
    }
   },
   "source": [
    "As an additional method, we also use Silhuette coefficient/index (**SI**) to infer a good value for k. Higher values are better, and ideally we'd hope to find a peak."
   ]
  },
  {
   "cell_type": "markdown",
   "id": "83232c42",
   "metadata": {
    "nbgrader": {
     "grade": false,
     "grade_id": "cell-30b671e04d31c651",
     "locked": true,
     "schema_version": 3,
     "solution": false,
     "task": false
    }
   },
   "source": [
    "### Let's load and visualize the data:"
   ]
  },
  {
   "cell_type": "code",
   "execution_count": 16,
   "id": "49e32db1",
   "metadata": {
    "nbgrader": {
     "grade": false,
     "grade_id": "cell-f3993540bf70c236",
     "locked": true,
     "schema_version": 3,
     "solution": false,
     "task": false
    }
   },
   "outputs": [
    {
     "data": {
      "image/png": "[encoded data removed]",
      "text/plain": [
       "<Figure size 432x288 with 1 Axes>"
      ]
     },
     "metadata": {
      "needs_background": "light"
     },
     "output_type": "display_data"
    }
   ],
   "source": [
    "X = pd.read_csv('chooseK.csv').to_numpy()\n",
    "\n",
    "plt.scatter(X[:,0],X[:,1])\n",
    "plt.xlabel('X1')\n",
    "plt.ylabel('X2')\n",
    "plt.show()"
   ]
  },
  {
   "cell_type": "markdown",
   "id": "5b42e103",
   "metadata": {
    "nbgrader": {
     "grade": false,
     "grade_id": "cell-6b61a185f9c3b8c8",
     "locked": true,
     "schema_version": 3,
     "solution": false,
     "task": false
    }
   },
   "source": [
    "## Your task:\n",
    "\n",
    "Fit K-means model using the whole data X, for each value of k=2,3,...,6, and calculate SI for each instance and collect the inertias and SI's in python lists. Set the K-means random_state=0."
   ]
  },
  {
   "cell_type": "code",
   "execution_count": 17,
   "id": "ce9838e1",
   "metadata": {
    "nbgrader": {
     "grade": false,
     "grade_id": "cell-a7e0b654c9932cf2",
     "locked": false,
     "schema_version": 3,
     "solution": true,
     "task": false
    }
   },
   "outputs": [
    {
     "name": "stdout",
     "output_type": "stream",
     "text": [
      "(60, 2)\n"
     ]
    },
    {
     "data": {
      "image/png": "[encoded data removed]",
      "text/plain": [
       "<Figure size 864x288 with 2 Axes>"
      ]
     },
     "metadata": {
      "needs_background": "light"
     },
     "output_type": "display_data"
    }
   ],
   "source": [
    "# Pass rnd_state variable to K-means' random_state argument \n",
    "# TESTS ARE FOR SPECIFIC RESULTS, AND WILL FAIL IF YOU FORGET THIS\n",
    "rnd_state=0\n",
    "\n",
    "## append the si and inertia values to these lists \n",
    "inertia = []\n",
    "SI = []\n",
    "\n",
    "\n",
    "## Write a loop, and within it fit Kmeans on X with k=2,3,...,6 clusters\n",
    "## using following variable names:\n",
    "\n",
    "# for k in range(...):\n",
    "\n",
    "    ##initialize and train the model (for each k)\n",
    "    # kmeans = \n",
    "    \n",
    "    ##calculate si\n",
    "    # si = \n",
    "    \n",
    "    ##...and append SI and inertia (for each k) to corresponding lists\n",
    "    # inertia...\n",
    "    # SI...\n",
    "print(X.shape)\n",
    "\n",
    "\n",
    "### BEGIN SOLUTION\n",
    "for k in range(2,7):    \n",
    "    kmeans = KMeans(n_clusters=k, random_state=0).fit(X)\n",
    "    si = metrics.silhouette_score(X, kmeans.labels_, random_state=0)\n",
    "    inertia.append(kmeans.inertia_)\n",
    "    SI.append(si)\n",
    "### END SOLUTION\n",
    "\n",
    "# sanity check\n",
    "assert len(SI)==len(inertia)==5 , \"You should be getting 5 values for SI and inertia!\"\n",
    "assert kmeans.random_state==0 , \"Set the K-means random_state=0\"\n",
    "\n",
    "plt.figure(figsize=(12,4))\n",
    "plt.subplot(1,2,1)\n",
    "plt.plot(np.arange(2,7),inertia)\n",
    "plt.xlabel('iter')\n",
    "plt.ylabel('Inertia')\n",
    "plt.xticks(np.arange(2,7))\n",
    "plt.subplot(1,2,2)\n",
    "plt.plot(np.arange(2,7),SI)\n",
    "plt.xlabel('iter')\n",
    "plt.ylabel('SI')\n",
    "plt.xticks(np.arange(2,7))\n",
    "plt.show()"
   ]
  },
  {
   "cell_type": "code",
   "execution_count": 18,
   "id": "3d16c982",
   "metadata": {
    "nbgrader": {
     "grade": true,
     "grade_id": "cell-854cef1165b2c39a",
     "locked": true,
     "points": 1,
     "schema_version": 3,
     "solution": false,
     "task": false
    }
   },
   "outputs": [],
   "source": [
    "# This cells is for A4.3 tests\n",
    "\n",
    "### BEGIN HIDDEN TESTS\n",
    "assert kmeans.get_params()['n_clusters']==6 , \"The last kmeans object should have 6 clusters!\"\n",
    "### END HIDDEN TESTS"
   ]
  },
  {
   "cell_type": "code",
   "execution_count": 19,
   "id": "71bc41d4",
   "metadata": {
    "nbgrader": {
     "grade": true,
     "grade_id": "cell-d1e37b17afd8d78f",
     "locked": true,
     "points": 1,
     "schema_version": 3,
     "solution": false,
     "task": false
    }
   },
   "outputs": [],
   "source": [
    "# This cells is for A4.3 tests\n",
    "\n",
    "### BEGIN HIDDEN TESTS\n",
    "assert np.allclose(np.round(SI, 2), np.array([0.54, 0.6 , 0.59, 0.48, 0.45])) , \"Wrong values\"\n",
    "assert np.allclose(np.round(inertia, 2), np.array([870.84, 374.73, 243.1 , 200.46, 159.18])) , \"Wrong values\"\n",
    "### END HIDDEN TESTS"
   ]
  },
  {
   "cell_type": "markdown",
   "id": "bf1bf063",
   "metadata": {
    "nbgrader": {
     "grade": false,
     "grade_id": "cell-6476bd9df8b9c5b0",
     "locked": true,
     "schema_version": 3,
     "solution": false,
     "task": false
    }
   },
   "source": [
    "There is some ambiguity based on the plots whether k value should be 3 or 4. Choosing the value is seldom a trivial task, especially with high-dimensional data as we cannot rely on visual inspections for validation. You can fit and plot the kmeans for values k=3,4, to see if you find one superior to other."
   ]
  },
  {
   "cell_type": "code",
   "execution_count": 20,
   "id": "a10ff4f9",
   "metadata": {},
   "outputs": [
    {
     "data": {
      "image/png": "[encoded data removed]",
      "text/plain": [
       "<Figure size 432x288 with 1 Axes>"
      ]
     },
     "metadata": {
      "needs_background": "light"
     },
     "output_type": "display_data"
    }
   ],
   "source": [
    "km=KMeans(n_clusters=3).fit(X)\n",
    "plt.scatter(X[:,0],X[:,1], c=km.labels_)\n",
    "plt.xlabel('X1')\n",
    "plt.ylabel('X2')\n",
    "plt.show()"
   ]
  },
  {
   "cell_type": "markdown",
   "id": "66172b8f",
   "metadata": {
    "nbgrader": {
     "grade": false,
     "grade_id": "cell-f9ad7eb41dd68b5c",
     "locked": true,
     "schema_version": 3,
     "solution": false,
     "task": false
    }
   },
   "source": [
    "<a id='D8.3'></a>\n",
    "<div class=\" alert alert-info\" >\n",
    "    \n",
    "## Demo\n",
    "    \n",
    "### The nature of K-means solutions (continued).\n",
    "    \n",
    "We can also inspect how the algorithm partitions the input space. \n",
    "</div>"
   ]
  },
  {
   "cell_type": "code",
   "execution_count": 21,
   "id": "9ba7e8c3",
   "metadata": {
    "nbgrader": {
     "grade": false,
     "grade_id": "cell-1e65f9522c458fdd",
     "locked": true,
     "schema_version": 3,
     "solution": false,
     "task": false
    }
   },
   "outputs": [],
   "source": [
    "X = pd.read_csv('chooseK.csv').to_numpy()"
   ]
  },
  {
   "cell_type": "markdown",
   "id": "fcf68785",
   "metadata": {
    "nbgrader": {
     "grade": false,
     "grade_id": "cell-02b04c27d14dded0",
     "locked": true,
     "schema_version": 3,
     "solution": false,
     "task": false
    }
   },
   "source": [
    "We will use the same data as in the previous task. First, let's create a meshgrid over the input space - this helps us to visualize the cluster assignments in the input space more broadly:"
   ]
  },
  {
   "cell_type": "code",
   "execution_count": 22,
   "id": "67502a44",
   "metadata": {
    "nbgrader": {
     "grade": false,
     "grade_id": "cell-2f3978e6f4328e66",
     "locked": true,
     "schema_version": 3,
     "solution": false,
     "task": false
    }
   },
   "outputs": [],
   "source": [
    "xx,yy = np.meshgrid(np.linspace(-12.5,6.5,100),np.linspace(-6,6,100))\n",
    "xx,yy=xx.reshape(-1,1),yy.reshape(-1,1)\n",
    "XX=np.hstack((xx,yy))"
   ]
  },
  {
   "cell_type": "markdown",
   "id": "bf06f272",
   "metadata": {
    "nbgrader": {
     "grade": false,
     "grade_id": "cell-9b64ad005b3380da",
     "locked": true,
     "schema_version": 3,
     "solution": false,
     "task": false
    }
   },
   "source": [
    "Then, we create an iteration counter and choose initial centroids at random from the data. \n",
    "\n",
    "**NOTE:** You need to run this cell before starting to run the cell after it."
   ]
  },
  {
   "cell_type": "code",
   "execution_count": 23,
   "id": "dbe648b6",
   "metadata": {},
   "outputs": [],
   "source": [
    "np.random.seed(0) #remove or comment-out this line to test different initializations\n",
    "it=0\n",
    "inertia_prev=1e12\n",
    "init=X[np.random.choice(np.arange(X.shape[0]),3, replace=False),:]"
   ]
  },
  {
   "cell_type": "markdown",
   "id": "6679c321",
   "metadata": {
    "nbgrader": {
     "grade": false,
     "grade_id": "cell-f66b3f10288447d1",
     "locked": true,
     "schema_version": 3,
     "solution": false,
     "task": false
    }
   },
   "source": [
    "Now, we can run the K-means one iteration at the time, by setting 'max_iter=1' and taking the new updated centroids as the next initial points. We are also using the trained K-means instance to predict for those previously created grid points.\n",
    "\n",
    "**NOTE:** You can hold 'Shift' and press 'Enter' to run the cell one time. When the clustering objective is no longer improving, the code will print a message to stop iterating. If you wish to repeat this task, e.g., with different initial points, just run the above code cell again with necessary modifications."
   ]
  },
  {
   "cell_type": "code",
   "execution_count": 24,
   "id": "d897476b",
   "metadata": {},
   "outputs": [
    {
     "data": {
      "image/png": "[encoded data removed]",
      "text/plain": [
       "<Figure size 648x504 with 1 Axes>"
      ]
     },
     "metadata": {
      "needs_background": "light"
     },
     "output_type": "display_data"
    }
   ],
   "source": [
    "kmeans=KMeans(n_clusters=3, init=init, n_init=1, max_iter=1).fit(X)\n",
    "init=kmeans.cluster_centers_\n",
    "it+=1\n",
    "\n",
    "if(np.isclose(kmeans.inertia_,inertia_prev, rtol=1e-3)):\n",
    "        print('Stop Iteration at')\n",
    "        print('{}th step'.format(it))\n",
    "else:\n",
    "    inertia_prev=kmeans.inertia_\n",
    "    \n",
    "plt.figure(figsize=(9,7))\n",
    "plt.plot(init[:,0],init[:,1],'ro', markersize=7)\n",
    "plt.scatter(xx,yy,c=kmeans.predict(XX), alpha=.8)\n",
    "plt.scatter(X[:,0],X[:,1],c=kmeans.predict(X),edgecolors='black')#'blue')\n",
    "plt.title('Red dots are current centroids, and other colors refer to cluster assignments')\n",
    "plt.xlabel('X1')\n",
    "plt.ylabel('X2')\n",
    "plt.show()"
   ]
  },
  {
   "cell_type": "markdown",
   "id": "a203ad5e",
   "metadata": {
    "nbgrader": {
     "grade": false,
     "grade_id": "cell-77518d3bf2ec714e",
     "locked": true,
     "schema_version": 3,
     "solution": false,
     "task": false
    }
   },
   "source": [
    "<a id='A8.4'></a>\n",
    "<div class=\" alert alert-warning\">\n",
    "    \n",
    "## Student Task A4.4:\n",
    "    \n",
    "Answer the following quiz questions by setting the corresponding variable to the index of the answer that you consider correct. \n",
    "    \n",
    "Question 1: For an arbitrary dataset, can we choose k such that clustering error goes to zero?\n",
    "- Answer 1: Yes\n",
    "- Answer 2: No\n",
    "- Answer 3: It depends on the data.  \n",
    "\n",
    "Question 2: Do you agree with the following statement: The lower the clustering error, i.e., the value of the clustering objective/criterion, more faithfully the cluster centroids represent the data (imagine replacing the data points with their assigned cluster centroids).\n",
    "- Answer 1: Yes.\n",
    "- Answer 2: No.  \n",
    "\n",
    "Question 3: Do you agree with the following statement: Scikit-learn function kmeans.fit( ) will always determine k cluster means/centroids.\n",
    "- Answer 1: Yes.  \n",
    "- Answer 2: No.  \n",
    "- Answer 3: It depends on the data.  \n",
    "\n",
    "    \n",
    "</div>"
   ]
  },
  {
   "cell_type": "code",
   "execution_count": 25,
   "id": "5f22c091",
   "metadata": {
    "nbgrader": {
     "grade": false,
     "grade_id": "cell-b974857a134c3df3",
     "locked": false,
     "schema_version": 3,
     "solution": true,
     "task": false
    }
   },
   "outputs": [],
   "source": [
    "## set Answer_Q1 to the index of the correct answer (e.g., Answer_Q1=1 if you think Answer 1 is correct)\n",
    "\n",
    "# Answer_Q1  = ...  \n",
    "\n",
    "## set Answer_Q2 to the index of the correct answer for Question 2 \n",
    "\n",
    "# Answer_Q2 = ...   \n",
    "\n",
    "## set Answer_Q3 to the index of the correct answer for Question 3 \n",
    "\n",
    "# Answer_Q3 = ... \n",
    "\n",
    "### BEGIN SOLUTION\n",
    "Answer_Q1 = 1\n",
    "Answer_Q2 = 1\n",
    "Answer_Q3 = 1\n",
    "### END SOLUTION\n",
    "\n",
    "# sanity check datatype of Answer_Q1\n",
    "assert isinstance(Answer_Q1, int), \"Please use datatype 'int' for your answer\""
   ]
  },
  {
   "cell_type": "code",
   "execution_count": 26,
   "id": "c381e990",
   "metadata": {
    "nbgrader": {
     "grade": true,
     "grade_id": "cell-8be0e1e7827f94fc",
     "locked": true,
     "points": 1,
     "schema_version": 3,
     "solution": false,
     "task": false
    }
   },
   "outputs": [],
   "source": [
    "# This cells is for A4.4 tests\n",
    "\n",
    "### BEGIN HIDDEN TESTS\n",
    "assert Answer_Q1 == 1 , \"Wrong answer, correct answer is 1\"\n",
    "### END HIDDEN TESTS"
   ]
  },
  {
   "cell_type": "code",
   "execution_count": 27,
   "id": "3c622e44",
   "metadata": {
    "nbgrader": {
     "grade": true,
     "grade_id": "cell-8c07fc0892d12878",
     "locked": true,
     "points": 1,
     "schema_version": 3,
     "solution": false,
     "task": false
    }
   },
   "outputs": [],
   "source": [
    "# This cells is for A4.4 tests\n",
    "\n",
    "### BEGIN HIDDEN TESTS\n",
    "assert Answer_Q2 == 1 , \"Wrong answer, correct answer is 1\"\n",
    "### END HIDDEN TESTS"
   ]
  },
  {
   "cell_type": "code",
   "execution_count": 28,
   "id": "7c50d7ce",
   "metadata": {
    "nbgrader": {
     "grade": true,
     "grade_id": "cell-658d187c0266b059",
     "locked": true,
     "points": 1,
     "schema_version": 3,
     "solution": false,
     "task": false
    }
   },
   "outputs": [],
   "source": [
    "# This cells is for A4.4 tests\n",
    "\n",
    "### BEGIN HIDDEN TESTS\n",
    "assert Answer_Q3 == 1 , \"Wrong answer, correct answer is 2\"\n",
    "### END HIDDEN TESTS"
   ]
  },
  {
   "cell_type": "markdown",
   "id": "1eaf4ce1",
   "metadata": {
    "nbgrader": {
     "grade": false,
     "grade_id": "cell-87889c88927864db",
     "locked": true,
     "schema_version": 3,
     "solution": false,
     "task": false
    }
   },
   "source": [
    "<a id='A8.5'></a>\n",
    "<div class=\" alert alert-warning\">\n",
    "    \n",
    "## Student task A4.5. \n",
    "    \n",
    "### Using clustering to construct new features.\n",
    "\n",
    "Now, your task is to leverage K-means clustering to construct new features for a supervised learning task using linear regression.\n",
    "</div>"
   ]
  },
  {
   "cell_type": "markdown",
   "id": "81fbfa0e",
   "metadata": {
    "nbgrader": {
     "grade": false,
     "grade_id": "cell-7b7218b79ca50503",
     "locked": true,
     "schema_version": 3,
     "solution": false,
     "task": false
    }
   },
   "source": [
    "Assuming our dataset consists of four data points:\n",
    "\n",
    "\\begin{equation}\n",
    "  \\mathbf{X} = \\begin{pmatrix}\n",
    "                  x^{(1)}   \\\\\n",
    "                  x^{(2)}   \\\\\n",
    "                  x^{(3)}   \\\\\n",
    "                  x^{(4)} \n",
    "               \\end{pmatrix} \n",
    "\\end{equation}\n",
    "\n",
    "which have been clustered into 2 clusters according to: \n",
    "\n",
    "\\begin{equation}\n",
    "  \\mathbf{Y} = \\begin{pmatrix}\n",
    "                  0   \\\\\n",
    "                  0   \\\\\n",
    "                  1   \\\\\n",
    "                  1 \n",
    "               \\end{pmatrix} \n",
    "\\end{equation}\n",
    "\n",
    "We can construct new features $\\mathbf{x_1,x_2}$ using the cluster assignments. We do it using the following logic: If the i'th data point $x^{(i)}$ is assigned to cluster 0, we set $x_1^{(i)}=x^{(i)}$, and if it is assigned to cluster 1, we set $x_2^{(i)}=x^{(i)}$. Our 4 datapoints, first 2 assigned to cluster 0, and the last 2 to cluster 1, would produce the following features:\n",
    "\n",
    "\\begin{equation}\n",
    "  \\mathbf{X_{new}}= \\begin{pmatrix}\n",
    "                  x^{(1)} & 0  \\\\\n",
    "                  x^{(2)} & 0  \\\\\n",
    "                  0 & x^{(3)}  \\\\\n",
    "                  0 & x^{(4)}\n",
    "               \\end{pmatrix} \n",
    "               = \\begin{pmatrix}\n",
    "                  x_1^{(1)} & x_2^{(1)} \\\\\n",
    "                  x_1^{(2)} & x_2^{(2)} \\\\\n",
    "                  x_1^{(3)} & x_2^{(3)} \\\\\n",
    "                  x_1^{(4)} & x_2^{(4)}\n",
    "               \\end{pmatrix}\n",
    "\\end{equation}\n",
    "\n",
    "\n",
    "This is effectively the same as partitioning the data using the cluster assignments into 2 (or k more generally) disjoint datasets and training a distinct model with each partition. So, with the previous example we would get 2 models:\n",
    "\n",
    "$$\n",
    "Model_1: \\alpha_1 x_1 + \\beta\n",
    "$$\n",
    "and\n",
    "$$\n",
    "Model_2: \\alpha_2 x_2 + \\beta\n",
    "$$\n",
    "\n",
    "However, this approach is limited by the fact that both models have a shared constant term $\\beta$, which may or may not be appropriate for the task at hand. We can make the \"combined\" model slightly more expressive by adding a separate constant term $\\mathbf{x_c}$ in our features for cluster 1:\n",
    "\n",
    "\\begin{equation}\n",
    "  \\mathbf{X_{new}}= \\begin{pmatrix}\n",
    "                  x^{(1)} & 0 & 0 \\\\\n",
    "                  x^{(2)} & 0 & 0  \\\\\n",
    "                  0 & x^{(3)} & 1  \\\\\n",
    "                  0 & x^{(4)} & 1\n",
    "               \\end{pmatrix} \n",
    "\\end{equation}\n",
    "\n",
    "which equals training 2 full models (on their respective partitions of the data):\n",
    "\n",
    "$$\n",
    "Model_1: \\alpha_1 x_1 + \\beta_1\n",
    "$$\n",
    "and\n",
    "$$\n",
    "Model_2: \\alpha_2 x_2 + \\beta_2 \\\\\n",
    "$$\n",
    "or a combined model:\n",
    "$$\n",
    "Model_{1,2}: \\alpha_1 x_1 + \\alpha_2 x_2 + \\beta_2 x_c + \\beta_1\n",
    "$$\n",
    "\n",
    "(this parameterization assumes the linear model has an intercept term)"
   ]
  },
  {
   "cell_type": "markdown",
   "id": "e1fc96ba",
   "metadata": {
    "nbgrader": {
     "grade": false,
     "grade_id": "cell-058771cca8a05fa1",
     "locked": true,
     "schema_version": 3,
     "solution": false,
     "task": false
    }
   },
   "source": [
    "### Below is a class for constructing the features:\n",
    "\n",
    "**Study how the class is implemented, and what are the parameters. Its fit, transform and fit_transform addhere to the same logic as sklearn's classes you have previously used.**"
   ]
  },
  {
   "cell_type": "code",
   "execution_count": 29,
   "id": "7911ebed",
   "metadata": {
    "nbgrader": {
     "grade": false,
     "grade_id": "cell-31b8feb9fccf8dbf",
     "locked": true,
     "schema_version": 3,
     "solution": false,
     "task": false
    }
   },
   "outputs": [],
   "source": [
    "class ClusteredFeatures:\n",
    "    \n",
    "    def __init__(self, n_clusters, add_constant=False, random_state=0):\n",
    "        self.random_state = random_state\n",
    "        self.n_clusters=n_clusters\n",
    "        self.add_constant=add_constant\n",
    "        self.kmeans=None\n",
    "    \n",
    "    def fit(self,x):\n",
    "        self.kmeans = KMeans(n_clusters=self.n_clusters, random_state=self.random_state).fit(x)\n",
    "    \n",
    "    def transform(self,x):\n",
    "        assert self.kmeans is not None, 'You have to call fit before transform!'\n",
    "        \n",
    "        #Number of clusters\n",
    "        k=self.kmeans.n_clusters\n",
    "        #Cluster assignments\n",
    "        assignments=self.kmeans.predict(x)\n",
    "\n",
    "        #Initialize new features as zeros\n",
    "        x_new=np.zeros((x.shape[0],k))\n",
    "        # This creates a boolean indices\n",
    "        bool_ind=(np.arange(k).reshape(-1,1)==assignments).T\n",
    "        # Set new features to input features based on boolean indices\n",
    "        x_new[bool_ind]=x.reshape(-1)\n",
    "\n",
    "        #Add k-1 constant terms\n",
    "        if(self.add_constant):\n",
    "            for j in range(1,k):\n",
    "                ones = np.zeros((x.shape[0],1))\n",
    "                ones[np.where(assignments==j)]=1\n",
    "                x_new=np.hstack((x_new,ones))\n",
    "\n",
    "        return x_new\n",
    "        \n",
    "    def fit_transform(self, x):\n",
    "        self.fit(x)\n",
    "        return self.transform(x)"
   ]
  },
  {
   "cell_type": "markdown",
   "id": "36815e28",
   "metadata": {
    "nbgrader": {
     "grade": false,
     "grade_id": "cell-ac6f101b73798c63",
     "locked": true,
     "schema_version": 3,
     "solution": false,
     "task": false
    }
   },
   "source": [
    "Here is an \"alias\" for mse function:"
   ]
  },
  {
   "cell_type": "code",
   "execution_count": 30,
   "id": "f317dfa0",
   "metadata": {
    "nbgrader": {
     "grade": false,
     "grade_id": "cell-be446091435c6dde",
     "locked": true,
     "schema_version": 3,
     "solution": false,
     "task": false
    }
   },
   "outputs": [],
   "source": [
    "MSE = mean_squared_error"
   ]
  },
  {
   "cell_type": "markdown",
   "id": "502b6726",
   "metadata": {
    "nbgrader": {
     "grade": false,
     "grade_id": "cell-673ec1b05edf30b1",
     "locked": true,
     "schema_version": 3,
     "solution": false,
     "task": false
    }
   },
   "source": [
    "you can use it in place of the mean_squared_error function. This is sometimes handy to make your code more concise and less cluttered."
   ]
  },
  {
   "cell_type": "markdown",
   "id": "17e8e06d",
   "metadata": {
    "nbgrader": {
     "grade": false,
     "grade_id": "cell-1e40eb8ce0f50e9f",
     "locked": true,
     "schema_version": 3,
     "solution": false,
     "task": false
    }
   },
   "source": [
    "## Let's load some toy data:"
   ]
  },
  {
   "cell_type": "code",
   "execution_count": 31,
   "id": "59aae237",
   "metadata": {
    "nbgrader": {
     "grade": false,
     "grade_id": "cell-2d0931d0b0192a3a",
     "locked": true,
     "schema_version": 3,
     "solution": false,
     "task": false
    }
   },
   "outputs": [],
   "source": [
    "data=pd.read_csv('featuresK.csv').to_numpy()\n",
    "x_train,y_train = data[:,0].reshape(-1,1),data[:,1]"
   ]
  },
  {
   "cell_type": "markdown",
   "id": "6f23f3d5",
   "metadata": {
    "nbgrader": {
     "grade": false,
     "grade_id": "cell-0b4515f557249f4e",
     "locked": true,
     "schema_version": 3,
     "solution": false,
     "task": false
    }
   },
   "source": [
    "... and see how the data is clustered (based on the feature alone):"
   ]
  },
  {
   "cell_type": "code",
   "execution_count": 32,
   "id": "b99702fe",
   "metadata": {
    "nbgrader": {
     "grade": false,
     "grade_id": "cell-f81d4b6ec5e5cbad",
     "locked": true,
     "schema_version": 3,
     "solution": false,
     "task": false
    }
   },
   "outputs": [
    {
     "data": {
      "image/png": "[encoded data removed]",
      "text/plain": [
       "<Figure size 432x288 with 1 Axes>"
      ]
     },
     "metadata": {
      "needs_background": "light"
     },
     "output_type": "display_data"
    }
   ],
   "source": [
    "km = KMeans(n_clusters=2).fit(x_train)\n",
    "plt.scatter(x_train,y_train,c=km.labels_)\n",
    "plt.xlabel('X (feature)')\n",
    "plt.ylabel('Y')\n",
    "plt.show()"
   ]
  },
  {
   "cell_type": "markdown",
   "id": "84d7390e",
   "metadata": {
    "nbgrader": {
     "grade": false,
     "grade_id": "cell-edd2ee211e3a33fb",
     "locked": true,
     "schema_version": 3,
     "solution": false,
     "task": false
    }
   },
   "source": [
    "Let's train a simple LinearRegression on the training data. We will also define a grid of evaluation points for predicting with the trained model. We use numpy's [`linspace`](https://numpy.org/doc/stable/reference/generated/numpy.linspace.html) to get 50 equally spaced data points $x_{eval}\\in[0,9]$. This linear model is our baseline solution:"
   ]
  },
  {
   "cell_type": "code",
   "execution_count": 33,
   "id": "741edde8",
   "metadata": {
    "nbgrader": {
     "grade": false,
     "grade_id": "cell-f9dbc58fa16672e1",
     "locked": true,
     "schema_version": 3,
     "solution": false,
     "task": false
    }
   },
   "outputs": [
    {
     "data": {
      "image/png": "[encoded data removed]",
      "text/plain": [
       "<Figure size 432x432 with 1 Axes>"
      ]
     },
     "metadata": {
      "needs_background": "light"
     },
     "output_type": "display_data"
    }
   ],
   "source": [
    "#Baseline model\n",
    "lm=LinearRegression().fit(x_train,y_train)\n",
    "#Evaluation points \n",
    "x_eval = np.linspace(0,9, 50).reshape(-1,1)\n",
    "#prediction using the evaluation points (for plotting)\n",
    "y_eval=lm.predict(x_eval)\n",
    "#predictions for training error\n",
    "yhat_train=lm.predict(x_train)\n",
    "mse_train=MSE(y_train, yhat_train)\n",
    "\n",
    "#plotting the results\n",
    "plt.figure(figsize=(6,6))\n",
    "plt.plot(x_eval,y_eval,'k-')\n",
    "plt.scatter(x_train,y_train, c=km.labels_)\n",
    "plt.title('training error: {}'.format(round(mse_train,2)))\n",
    "plt.xlabel('X (feature)')\n",
    "plt.ylabel('Y')\n",
    "plt.show()"
   ]
  },
  {
   "cell_type": "markdown",
   "id": "ab4a56b3",
   "metadata": {
    "nbgrader": {
     "grade": false,
     "grade_id": "cell-14ebeb3a08cd3ee8",
     "locked": true,
     "schema_version": 3,
     "solution": false,
     "task": false
    }
   },
   "source": [
    "Clearly, the data seems to have 2 different modalities, and the fit is a compromise between the two."
   ]
  },
  {
   "cell_type": "code",
   "execution_count": 34,
   "id": "4926d275",
   "metadata": {},
   "outputs": [],
   "source": [
    "## In this cell, you can first try ClusteredFeatures\n",
    "## with a small subset of data, for example with x_train[:10]\n",
    "## and see how the class works. There are no tests for this (not mandatory).\n",
    "\n",
    "# x_tmp = x_train[:10]\n",
    "# ..."
   ]
  },
  {
   "cell_type": "markdown",
   "id": "4b361994",
   "metadata": {
    "nbgrader": {
     "grade": false,
     "grade_id": "cell-bbd15864589c042c",
     "locked": true,
     "schema_version": 3,
     "solution": false,
     "task": false
    }
   },
   "source": [
    "### Now, your task is to try to improve the model with clustered features:\n",
    "\n",
    "**You can use the same grid of evaluation points $x_{eval}$. In this code cell you only need to construct the features, and in the next one you train the model.**"
   ]
  },
  {
   "cell_type": "code",
   "execution_count": 35,
   "id": "0ead55b2",
   "metadata": {
    "nbgrader": {
     "grade": false,
     "grade_id": "cell-f940886ee305e7fa",
     "locked": false,
     "schema_version": 3,
     "solution": true,
     "task": false
    }
   },
   "outputs": [],
   "source": [
    "## Construct the features from both x_train and x_eval (no need to use them here).\n",
    "## You need to use \"ClusteredFeatures\" class, and it's fit and transform functions.\n",
    "## Set the number of clusters appropriately to capture both modalities in the data.\n",
    "## Set add_constant=True, and leave random_state=0\n",
    "\n",
    "\n",
    "# cf = ClusteredFeatures(n_clusters= ..., add_constant= ...)\n",
    "\n",
    "# xnew_train = \n",
    "# xnew_eval = \n",
    "\n",
    "### BEGIN SOLUTION\n",
    "cf = ClusteredFeatures(n_clusters=2, add_constant=True)\n",
    "xnew_train = cf.fit_transform(x_train)\n",
    "xnew_eval = cf.transform(x_eval)\n",
    "### END SOLUTION\n",
    "\n",
    "# Sanity check\n",
    "assert type(cf)==ClusteredFeatures , \"You need to use ClusteredFeatures class\"\n",
    "assert xnew_train.shape[1]==xnew_eval.shape[1]==3, 'You should be getting 2k-1 features'"
   ]
  },
  {
   "cell_type": "code",
   "execution_count": 36,
   "id": "70bf2cb3",
   "metadata": {
    "nbgrader": {
     "grade": true,
     "grade_id": "cell-4601a1bad61ade2a",
     "locked": true,
     "points": 1,
     "schema_version": 3,
     "solution": false,
     "task": false
    }
   },
   "outputs": [],
   "source": [
    "# This cell is for A4.5 tests\n",
    "\n",
    "### BEGIN HIDDEN TESTS\n",
    "assert xnew_train.shape[0]==100 , \"You should have 100 training data points\"\n",
    "assert xnew_eval.shape[0]==50 , \"You should have 50 evaluation points\"\n",
    "### END HIDDEN TESTS"
   ]
  },
  {
   "cell_type": "markdown",
   "id": "157a5f73",
   "metadata": {
    "nbgrader": {
     "grade": false,
     "grade_id": "cell-6bd10e1176c9e0e1",
     "locked": true,
     "schema_version": 3,
     "solution": false,
     "task": false
    }
   },
   "source": [
    "### And now you need to fit the model on those features, predict and calculate the training error."
   ]
  },
  {
   "cell_type": "code",
   "execution_count": 37,
   "id": "f2814db9",
   "metadata": {
    "nbgrader": {
     "grade": false,
     "grade_id": "cell-f6df3c4b18cd23df",
     "locked": false,
     "schema_version": 3,
     "solution": true,
     "task": false
    }
   },
   "outputs": [
    {
     "data": {
      "image/png": "[encoded data removed]",
      "text/plain": [
       "<Figure size 432x432 with 1 Axes>"
      ]
     },
     "metadata": {
      "needs_background": "light"
     },
     "output_type": "display_data"
    }
   ],
   "source": [
    "## Fit linear model (lm), with intercept term, using training data with new features\n",
    "## and then predict using both evaluation and training data, and compute training error\n",
    "\n",
    "# lm = \n",
    "# yhat_eval = \n",
    "# yhat_train = \n",
    "# mse_train = \n",
    "\n",
    "### BEGIN SOLUTION\n",
    "lm=LinearRegression().fit(xnew_train,y_train)\n",
    "yhat_eval=lm.predict(xnew_eval)\n",
    "yhat_train=lm.predict(xnew_train)\n",
    "mse_train=MSE(y_train, yhat_train)\n",
    "### END SOLUTION\n",
    "\n",
    "plt.figure(figsize=(6,6))\n",
    "plt.plot(x_eval,yhat_eval,'k-')\n",
    "plt.scatter(x_train,y_train, c=km.labels_)\n",
    "plt.xlabel('X (feature)')\n",
    "plt.ylabel('Y')\n",
    "plt.title(\"training error: {}\".format(round(mse_train,2)))\n",
    "plt.show()"
   ]
  },
  {
   "cell_type": "code",
   "execution_count": 38,
   "id": "b4be839c",
   "metadata": {
    "nbgrader": {
     "grade": true,
     "grade_id": "cell-93d69bfcc6b0cb37",
     "locked": true,
     "points": 1,
     "schema_version": 3,
     "solution": false,
     "task": false
    }
   },
   "outputs": [],
   "source": [
    "# This cells is for tests\n",
    "\n",
    "### BEGIN HIDDEN TESTS\n",
    "assert isinstance(lm,LinearRegression) , \"Model should be LinearRegression\"\n",
    "### END HIDDEN TESTS"
   ]
  },
  {
   "cell_type": "code",
   "execution_count": 39,
   "id": "84b28e9c",
   "metadata": {
    "nbgrader": {
     "grade": true,
     "grade_id": "cell-585701c7f28df330",
     "locked": true,
     "points": 1,
     "schema_version": 3,
     "solution": false,
     "task": false
    }
   },
   "outputs": [],
   "source": [
    "# This cells is for tests\n",
    "\n",
    "### BEGIN HIDDEN TESTS\n",
    "assert yhat_eval.shape[0]==50 , \"Wrong number of evaluation points\"\n",
    "assert yhat_train.shape[0]==100 , \"Wrong number of training points\"\n",
    "assert mse_train<.7 , \" Training error should be lower\"\n",
    "### END HIDDEN TESTS"
   ]
  },
  {
   "cell_type": "code",
   "execution_count": 40,
   "id": "86ff5c71",
   "metadata": {},
   "outputs": [],
   "source": [
    "#You can try constructing features with different values of k, and fitting models with them.\n",
    "# You can copy-paste some of the previous code, but do not copy \n",
    "# entire cells without acttivating them first (\"enter\" into the cell)"
   ]
  },
  {
   "cell_type": "markdown",
   "id": "8fa930ab",
   "metadata": {
    "nbgrader": {
     "grade": false,
     "grade_id": "cell-6655aae7d9da22c8",
     "locked": true,
     "schema_version": 3,
     "solution": false,
     "task": false
    }
   },
   "source": [
    "# Bayes Classifier"
   ]
  },
  {
   "cell_type": "markdown",
   "id": "8b78d640",
   "metadata": {
    "nbgrader": {
     "grade": false,
     "grade_id": "cell-29b9f76d3640c010",
     "locked": true,
     "schema_version": 3,
     "solution": false,
     "task": false
    }
   },
   "source": [
    "In this section we will build a naive Bayes classfier for spam detection. Earlier on this course logistic regression was used for classification.\n",
    "\n",
    "We will be using Youtube comments extracted from five different videos as our training and test data. Each comment is labeled either as spam or ham (non-spam). Class label 1 is used for the spam and class label 0 is used for the ham."
   ]
  },
  {
   "cell_type": "markdown",
   "id": "0e491343",
   "metadata": {
    "nbgrader": {
     "grade": false,
     "grade_id": "cell-76a6fa1517d45180",
     "locked": true,
     "schema_version": 3,
     "solution": false,
     "task": false
    }
   },
   "source": [
    "## Loading data\n",
    "\n",
    "We extract one third of the data set for testing the method later. Let us start by taking a look out our data."
   ]
  },
  {
   "cell_type": "code",
   "execution_count": 41,
   "id": "ecd48163",
   "metadata": {
    "nbgrader": {
     "grade": false,
     "grade_id": "cell-421988f9e3a7eb45",
     "locked": true,
     "schema_version": 3,
     "solution": false,
     "task": false
    }
   },
   "outputs": [
    {
     "data": {
      "text/html": [
       "<div>\n",
       "<style scoped>\n",
       "    .dataframe tbody tr th:only-of-type {\n",
       "        vertical-align: middle;\n",
       "    }\n",
       "\n",
       "    .dataframe tbody tr th {\n",
       "        vertical-align: top;\n",
       "    }\n",
       "\n",
       "    .dataframe thead th {\n",
       "        text-align: right;\n",
       "    }\n",
       "</style>\n",
       "<table border=\"1\" class=\"dataframe\">\n",
       "  <thead>\n",
       "    <tr style=\"text-align: right;\">\n",
       "      <th></th>\n",
       "      <th>CONTENT</th>\n",
       "      <th>CLASS</th>\n",
       "    </tr>\n",
       "  </thead>\n",
       "  <tbody>\n",
       "    <tr>\n",
       "      <th>551</th>\n",
       "      <td>Check out my YouTube channel I can rap﻿</td>\n",
       "      <td>1</td>\n",
       "    </tr>\n",
       "    <tr>\n",
       "      <th>552</th>\n",
       "      <td>I love your songs eminem your the rap god﻿</td>\n",
       "      <td>0</td>\n",
       "    </tr>\n",
       "    <tr>\n",
       "      <th>553</th>\n",
       "      <td>Subscribe to me and I'll subscribe back!!!﻿</td>\n",
       "      <td>1</td>\n",
       "    </tr>\n",
       "    <tr>\n",
       "      <th>554</th>\n",
       "      <td>I hav absolutely no idea what he's saying. Is ...</td>\n",
       "      <td>0</td>\n",
       "    </tr>\n",
       "    <tr>\n",
       "      <th>555</th>\n",
       "      <td>I love this song, it´s for empowering every wo...</td>\n",
       "      <td>0</td>\n",
       "    </tr>\n",
       "  </tbody>\n",
       "</table>\n",
       "</div>"
      ],
      "text/plain": [
       "                                               CONTENT  CLASS\n",
       "551            Check out my YouTube channel I can rap﻿      1\n",
       "552         I love your songs eminem your the rap god﻿      0\n",
       "553        Subscribe to me and I'll subscribe back!!!﻿      1\n",
       "554  I hav absolutely no idea what he's saying. Is ...      0\n",
       "555  I love this song, it´s for empowering every wo...      0"
      ]
     },
     "execution_count": 41,
     "metadata": {},
     "output_type": "execute_result"
    }
   ],
   "source": [
    "comments = pd.read_csv('youtube_comments.csv')\n",
    "\n",
    "training_comments = comments[len(comments) // 3:]\n",
    "testing_comments = comments[:len(comments) // 3]\n",
    "\n",
    "# Let's print five training examples\n",
    "training_comments[:5]"
   ]
  },
  {
   "cell_type": "markdown",
   "id": "d887e09e",
   "metadata": {
    "nbgrader": {
     "grade": false,
     "grade_id": "cell-c4e2ee898c3b78ed",
     "locked": true,
     "schema_version": 3,
     "solution": false,
     "task": false
    }
   },
   "source": [
    "## Bayes' Theorem\n",
    "\n",
    "We want to build a naive Bayesian word based spam classifier based on Bayesian ideas. Let us first remind ourselves of the basic Bayesian concepts. A conditional probability is the probability that a random variable will take on a particular value given that the outcome for another random variable is known. For example, the conditional probability $P(Y = y | X = x)$ is the probability that the variable $Y$ will take on the value $y$, given that the variable $X$ is observed to have the value $x$.\n",
    "\n",
    "Bayes' theorem is stated mathematically as the following equation:\n",
    "\n",
    "$$P(Y | X) = \\frac{P(Y)\\cdot P(X | Y )}{P(X)}.$$\n",
    "\n",
    "$P(Y | X)$ is the degree of belief in $Y$ after $X$ is observed (*posterior*), which is computed from $P(Y)$, i.e. the initial (*prior*) degree of belief in the hypotesis $Y$, and $\\frac{P(X | Y )}{P(X)}$, i.e. the impact of the evidence $X$ on the probability of $Y$. For this reason, Bayes' formula can be intepreted as:\n",
    "\n",
    "$$\\text{posterior} = \\frac{\\text{prior}\\cdot\\text{likelihood}}{\\text{evidence}}$$"
   ]
  },
  {
   "cell_type": "markdown",
   "id": "710721a3",
   "metadata": {
    "nbgrader": {
     "grade": false,
     "grade_id": "cell-b740ed3ac5b05045",
     "locked": true,
     "schema_version": 3,
     "solution": false,
     "task": false
    }
   },
   "source": [
    "## Bayesian Spam Detection\n",
    "\n",
    "Numerous different ways to apply the Bayes formula to spam detection exist. We are going to make strong independece assumptions, resulting in so called naive Bayesian classifier.\n",
    "\n",
    "Let us now denote the spam status of a comment as $S$ s.t $S = 1$ if the comment is spam and $S = 0$ if the comment is not spam. Let us then denote the words of the comment as $W_1, \\dots, W_n$. We are going to assume conditional independence of the words $W_i$, given the class label $S$. This can be written mathematically as\n",
    "$$\n",
    "P(W_1, \\dots, W_n|S) = \\prod_{i=1}^n P(W_i|S).\n",
    "$$\n",
    "\n",
    "Generally, the words in a comment are not independent. However, considering them as being independent is a useful simplification, since we don't have enough information on the statistical correlations. Therefore, now that we have individual words probabilities inside the class 'spam' and inside the class 'ham', we can combine the probabilities of each of the words in a sentence to compute the probability of the sentence to be spam and the probability to be ham, and train our super naive classifier."
   ]
  },
  {
   "cell_type": "markdown",
   "id": "c616921d",
   "metadata": {
    "nbgrader": {
     "grade": false,
     "grade_id": "cell-367b7ec2485ac4be",
     "locked": true,
     "schema_version": 3,
     "solution": false,
     "task": false
    }
   },
   "source": [
    "<div class=\" alert alert-warning\">\n",
    "    \n",
    "## Student Task A4.6\n",
    "\n",
    "Which of the following formulas is the correct posterior probability under the assumptions given above:\n",
    "\n",
    "1.\n",
    "$$\n",
    "P(S=1|W_1, \\dots, W_n) =\n",
    "\\frac{\n",
    "    P(S = 1)\\cdot \\prod_{i=1}^n P(W_i|S=0)\n",
    "}{\n",
    "    P(S = 1) \\cdot \\prod_{i=1}^n P(W_i|S=0) + P(S = 0) \\cdot \\prod_{i=1}^n P(wW_i|S=1)\n",
    "}\n",
    "$$\n",
    "2.\n",
    "$$\n",
    "P(S=1|W_1, \\dots, W_n) =\n",
    "\\frac{\n",
    "    P(S = 1)\\cdot \\prod_{i=1}^n P(W_i|S=1)\n",
    "}{\n",
    "    P(S = 0) \\cdot (\\prod_{i=1}^n P(W_i|S=0) + \\prod_{i=1}^n P(W_i|S=1))\n",
    "}\n",
    "$$\n",
    "3.\n",
    "$$\n",
    "P(S=1|W_1, \\dots, W_n) =\n",
    "\\frac{\n",
    "    P(S = 1)\\cdot \\prod_{i=1}^n P(W_i|S=1)\n",
    "}{\n",
    "    P(S = 1) \\cdot \\prod_{i=1}^n P(W_i|S=1) + P(S = 0) \\cdot \\prod_{i=1}^n P(W_i|S=0)\n",
    "}\n",
    "$$\n",
    "    \n",
    "Write your answer as either $1$, $2$ or $3$ into the variable \n",
    "</div>"
   ]
  },
  {
   "cell_type": "code",
   "execution_count": 42,
   "id": "26d1e0a3",
   "metadata": {
    "nbgrader": {
     "grade": false,
     "grade_id": "cell-95999525d916562e",
     "locked": false,
     "schema_version": 3,
     "solution": true,
     "task": false
    }
   },
   "outputs": [],
   "source": [
    "## create a variable as e.g.:\n",
    "# correct_posterior = 1\n",
    "\n",
    "### BEGIN SOLUTION \n",
    "correct_posterior = 3\n",
    "### END SOLUTION"
   ]
  },
  {
   "cell_type": "code",
   "execution_count": 43,
   "id": "5d5e514f",
   "metadata": {
    "nbgrader": {
     "grade": true,
     "grade_id": "cell-769cfd9d7cadfcdc",
     "locked": true,
     "points": 1,
     "schema_version": 3,
     "solution": false,
     "task": false
    }
   },
   "outputs": [],
   "source": [
    "# this cell is for tests\n",
    "\n",
    "### BEGIN HIDDEN TESTS\n",
    "assert correct_posterior == 3, 'Incorrect formula for the posterior'\n",
    "### END HIDDEN TESTS"
   ]
  },
  {
   "cell_type": "markdown",
   "id": "b722a686",
   "metadata": {
    "nbgrader": {
     "grade": false,
     "grade_id": "cell-d2bfc8584d39f04b",
     "locked": true,
     "schema_version": 3,
     "solution": false,
     "task": false
    }
   },
   "source": [
    "To calculate the posterior probability we will need the probabilities $P(S = 1) = 1- P(S = 0)$ and $P(W_i|S)$. All of these can be estimated from the data.\n",
    "\n",
    "Let us start by estimating the probability $P(S = 1)$ as the proportion of the comment being spam out of all the comments in the training data."
   ]
  },
  {
   "cell_type": "markdown",
   "id": "32c52a73",
   "metadata": {
    "nbgrader": {
     "grade": false,
     "grade_id": "cell-c9a4145f53db295c",
     "locked": true,
     "schema_version": 3,
     "solution": false,
     "task": false
    }
   },
   "source": [
    "<div class=\" alert alert-warning\">\n",
    "    \n",
    "## Student Task A4.7\n",
    "\n",
    "- Calculate the prior probability for a comment being spam $P(S=1)$ based on our training data set and store the result in variable `prior_spam_probability`.\n",
    "</div>"
   ]
  },
  {
   "cell_type": "code",
   "execution_count": 44,
   "id": "7cfb2747",
   "metadata": {
    "nbgrader": {
     "grade": false,
     "grade_id": "cell-693b683d561a0127",
     "locked": false,
     "schema_version": 3,
     "solution": true,
     "task": false
    }
   },
   "outputs": [],
   "source": [
    "## create a variable as:\n",
    "# prior_spam_probability = # prior probability of a comment being spam based on the training data set\n",
    "\n",
    "### BEGIN SOLUTION\n",
    "prior_spam_probability = len(training_comments.query('CLASS == 1')['CONTENT']) / len(training_comments)\n",
    "### END SOLUTION"
   ]
  },
  {
   "cell_type": "code",
   "execution_count": 46,
   "id": "eacdd57c",
   "metadata": {
    "nbgrader": {
     "grade": true,
     "grade_id": "cell-6fe163379d296388",
     "locked": true,
     "points": 1,
     "schema_version": 3,
     "solution": false,
     "task": false
    }
   },
   "outputs": [],
   "source": [
    "# this cell is for tests\n",
    "\n",
    "### BEGIN HIDDEN TESTS\n",
    "from types import SimpleNamespace\n",
    "import numpy.testing as np_testing\n",
    "\n",
    "test_ = SimpleNamespace()\n",
    "\n",
    "test_.comments = pd.read_csv('youtube_comments.csv')\n",
    "test_.training_comments = test_.comments[len(comments) // 3:]\n",
    "test_.testing_comments = test_.comments[:len(comments) // 3]\n",
    "\n",
    "test_.prior_spam_probability = len(test_.training_comments.query('CLASS == 1')['CONTENT']) / len(test_.training_comments)\n",
    "np_testing.assert_almost_equal(\n",
    "    prior_spam_probability,\n",
    "    test_.prior_spam_probability,\n",
    "    err_msg='(incorrect prior probability)')\n",
    "### END HIDDEN TESTS"
   ]
  },
  {
   "cell_type": "markdown",
   "id": "001192c0",
   "metadata": {
    "nbgrader": {
     "grade": false,
     "grade_id": "cell-95c485a126c3d5c2",
     "locked": true,
     "schema_version": 3,
     "solution": false,
     "task": false
    }
   },
   "source": [
    "Next we want to estimate the likelihoods $P(W_i|S = 1)$ and $P(W_i|S = 0)$ which should reflect probility of a random word being that particular word in the given class. Hence we can estimate them by counting the frequency of the word in the class and dividing it by the total amount of words in the class.\n",
    "\n",
    "Let us start by extracting the frequency of each word in both of the classes."
   ]
  },
  {
   "cell_type": "code",
   "execution_count": 47,
   "id": "f67b1176",
   "metadata": {
    "nbgrader": {
     "grade": false,
     "grade_id": "cell-52feefefed835a91",
     "locked": true,
     "schema_version": 3,
     "solution": false,
     "task": false
    }
   },
   "outputs": [],
   "source": [
    "def find_words(string):\n",
    "    \"\"\"Extracts alphanumeric words from a string into a list\"\"\"\n",
    "    return findall(\"[a-z0-9äö']+\", string)\n",
    "\n",
    "def extract_frequencies(dataframe, column):\n",
    "    \"\"\"Extracts frequencies of words from the given column\"\"\"\n",
    "    return dataframe[column].str.lower().apply(find_words).explode().value_counts()\n",
    "\n",
    "spam_word_frequencies = extract_frequencies(training_comments.query('CLASS == 1'), 'CONTENT')\n",
    "ham_word_frequencies = extract_frequencies(training_comments.query('CLASS == 0'), 'CONTENT')"
   ]
  },
  {
   "cell_type": "markdown",
   "id": "e13bcd84",
   "metadata": {
    "nbgrader": {
     "grade": false,
     "grade_id": "cell-1e9d7f21fae171be",
     "locked": true,
     "schema_version": 3,
     "solution": false,
     "task": false
    }
   },
   "source": [
    "Now we can obtain the frequency of given word in either spam comments or ham comments easily:"
   ]
  },
  {
   "cell_type": "code",
   "execution_count": 48,
   "id": "fb3b6590",
   "metadata": {
    "nbgrader": {
     "grade": false,
     "grade_id": "cell-6c01d244cd2d1996",
     "locked": true,
     "schema_version": 3,
     "solution": false,
     "task": false
    }
   },
   "outputs": [
    {
     "name": "stdout",
     "output_type": "stream",
     "text": [
      "Frequency of the word \"love\" in the spam comments: 22\n",
      "Frequency of the word \"love\" in the ham comments\": 93\n"
     ]
    }
   ],
   "source": [
    "print(f'Frequency of the word \"love\" in the spam comments: {spam_word_frequencies[\"love\"]}')\n",
    "print(f'Frequency of the word \"love\" in the ham comments\": {ham_word_frequencies[\"love\"]}')"
   ]
  },
  {
   "cell_type": "markdown",
   "id": "a100d80c",
   "metadata": {
    "nbgrader": {
     "grade": false,
     "grade_id": "cell-e1d9172426f60881",
     "locked": true,
     "schema_version": 3,
     "solution": false,
     "task": false
    }
   },
   "source": [
    "Using the frequencies we can now estimate the likelihoods $P(W_i|S = 1)$ and $P(W_i|S = 0)$ based on the training data.\n",
    "\n",
    "If a word is not present in the training data of either spam or ham comments, we simply ignore the word. More sophisticated strategies also exist."
   ]
  },
  {
   "cell_type": "markdown",
   "id": "8214b404",
   "metadata": {
    "nbgrader": {
     "grade": false,
     "grade_id": "cell-52b64ce4b8929cba",
     "locked": true,
     "schema_version": 3,
     "solution": false,
     "task": false
    }
   },
   "source": [
    "<div class=\" alert alert-warning\">\n",
    "    \n",
    "## Student Task A4.8\n",
    "\n",
    "- Complete the functions `likelihood_spam` and `likelihood_ham`.\n",
    " - `likelihood_spam` that should return the estimated probability of a word given that the word is in a spam comment. The word can be assumed to be sampled randomly from all the spam words.\n",
    " -  `likelihood_ham` that should return the estimated probability of a word given that the word is in a ham comment. The word can be assumed to be sampled randomly from all the ham words.\n",
    "\n",
    "The case for word not being present in either of the classes is already dealt with in the implementations. In that case we simply return $1$ as that way the term will cancel out in the final posterior computation.\n",
    "</div>"
   ]
  },
  {
   "cell_type": "code",
   "execution_count": 49,
   "id": "bec6c8f8",
   "metadata": {
    "nbgrader": {
     "grade": false,
     "grade_id": "cell-a1269efaca927107",
     "locked": false,
     "schema_version": 3,
     "solution": true,
     "task": false
    }
   },
   "outputs": [
    {
     "name": "stdout",
     "output_type": "stream",
     "text": [
      "<class 'pandas.core.series.Series'>\n"
     ]
    }
   ],
   "source": [
    "def likelihood_spam(word): \n",
    "    '''\n",
    "    Parameter:\n",
    "    word -- The word for which the likelihood is to be calculated\n",
    "\n",
    "    Returns:\n",
    "    Likelihood of the word given that the word is in a spam comment, should return\n",
    "    1 if the word is not present in either spam or ham training data\n",
    "    '''\n",
    "    # If the word is present in both of the classes\n",
    "    if word in spam_word_frequencies and word in ham_word_frequencies:\n",
    "        ### BEGIN SOLUTION\n",
    "        return spam_word_frequencies[word] / spam_word_frequencies.sum()\n",
    "        ### END SOLUTION\n",
    "    return 1\n",
    "\n",
    "def likelihood_ham(word):\n",
    "    '''\n",
    "    Parameter:\n",
    "    word -- The word for which the likelihood is to be calculated\n",
    "\n",
    "    Returns:\n",
    "    Likelihood of the word given that the word is in a ham comment, should return\n",
    "    1 if the word is not present in either spam or ham training data\n",
    "    '''\n",
    "    if word in spam_word_frequencies and word in ham_word_frequencies:\n",
    "        ### BEGIN SOLUTION\n",
    "        return ham_word_frequencies[word] / ham_word_frequencies.sum()\n",
    "        ### END SOLUTION\n",
    "    return 1"
   ]
  },
  {
   "cell_type": "code",
   "execution_count": 50,
   "id": "1d89f7a8",
   "metadata": {
    "nbgrader": {
     "grade": true,
     "grade_id": "cell-50ea69d61f4d2454",
     "locked": true,
     "points": 0,
     "schema_version": 3,
     "solution": false,
     "task": false
    }
   },
   "outputs": [],
   "source": [
    "# this cell is for tests\n",
    "\n",
    "np_testing.assert_almost_equal(likelihood_spam('part'), 0.000363735564244794)\n",
    "np_testing.assert_almost_equal(likelihood_ham('part'), 0.0016826518593303045)\n",
    "np_testing.assert_equal(likelihood_spam('non-existant-word'), 1.0)\n",
    "np_testing.assert_equal(likelihood_ham('non-existant-word'), 1.0)\n",
    "    "
   ]
  },
  {
   "cell_type": "code",
   "execution_count": 51,
   "id": "9b60335f",
   "metadata": {
    "nbgrader": {
     "grade": true,
     "grade_id": "cell-d9c3c05e7ae36c9a",
     "locked": true,
     "points": 1,
     "schema_version": 3,
     "solution": false,
     "task": false
    }
   },
   "outputs": [],
   "source": [
    "# this cell is for tests\n",
    "\n",
    "### BEGIN HIDDEN TESTS\n",
    "def find_words_(string):\n",
    "    \"\"\"Extracts alphanumeric words from a string into a list\"\"\"\n",
    "    return findall(\"[a-z0-9äö']+\", string)\n",
    "\n",
    "def extract_frequencies_(dataframe, column):\n",
    "    \"\"\"Extracts frequencies of words from the given column\"\"\"\n",
    "    return dataframe[column].str.lower().apply(find_words_).explode().value_counts()\n",
    "\n",
    "test_.spam_word_frequencies = extract_frequencies(\n",
    "    test_.training_comments.query('CLASS == 1'),\n",
    "    'CONTENT')\n",
    "test_.ham_word_frequencies = extract_frequencies_(\n",
    "    test_.training_comments.query('CLASS == 0'),\n",
    "    'CONTENT')\n",
    "\n",
    "def likelihood_spam_(word): \n",
    "    if word in test_.spam_word_frequencies and word in test_.ham_word_frequencies:\n",
    "        return test_.spam_word_frequencies[word] / test_.spam_word_frequencies.sum()\n",
    "    return 1\n",
    "\n",
    "def likelihood_ham_(word):\n",
    "    if word in test_.spam_word_frequencies and word in test_.ham_word_frequencies:\n",
    "        return test_.ham_word_frequencies[word] / test_.ham_word_frequencies.sum()\n",
    "    return 1\n",
    "\n",
    "test_.likelihood_spam = likelihood_spam_\n",
    "test_.likelihood_ham = likelihood_ham_\n",
    "\n",
    "# Let us test the likelihood computation for few words\n",
    "test_.test_words = ['non_existent', 'happy', 'sad', 'check', 'my', 'sorry', 'large']\n",
    "for test_word in test_.test_words:\n",
    "    np_testing.assert_almost_equal(\n",
    "        test_.likelihood_spam(test_word),\n",
    "        likelihood_spam(test_word),\n",
    "        err_msg=f'(incorrect spam likelihood for word \"{test_word}\")'\n",
    "    )\n",
    "    np_testing.assert_almost_equal(\n",
    "        test_.likelihood_ham(test_word),\n",
    "        likelihood_ham(test_word),\n",
    "        err_msg=f'(incorrect ham likelihood for word \"{test_word}\")'\n",
    "    )\n",
    "### END HIDDEN TESTS"
   ]
  },
  {
   "cell_type": "markdown",
   "id": "f6867dce",
   "metadata": {
    "nbgrader": {
     "grade": false,
     "grade_id": "cell-7410bf59b075a3fd",
     "locked": true,
     "schema_version": 3,
     "solution": false,
     "task": false
    }
   },
   "source": [
    "Using the implemented functions we can now compute the final posterior probability $P(S=1|w_1 \\in W, \\dots, w_n \\in W)$."
   ]
  },
  {
   "cell_type": "markdown",
   "id": "d90de960",
   "metadata": {
    "nbgrader": {
     "grade": false,
     "grade_id": "cell-5c7178dce0ac4119",
     "locked": true,
     "schema_version": 3,
     "solution": false,
     "task": false
    }
   },
   "source": [
    "<div class=\" alert alert-warning\">\n",
    "    \n",
    "## Student Task A4.9\n",
    "\n",
    "- Complete the function `posterior_spam` that should return the estimated posteror probability of a comment being spam.\n",
    "    \n",
    "The comment should first be forced into lower case and only unique alphanumeric words should be extracted. Note that the part doing that is already implemented.\n",
    "</div>"
   ]
  },
  {
   "cell_type": "code",
   "execution_count": 52,
   "id": "ffd0feba",
   "metadata": {
    "nbgrader": {
     "grade": false,
     "grade_id": "cell-57dbfa15983d6900",
     "locked": false,
     "schema_version": 3,
     "solution": true,
     "task": false
    }
   },
   "outputs": [],
   "source": [
    "def posterior_spam(comment):\n",
    "    '''\n",
    "    Parameter:\n",
    "    comment -- String containing the comment for which the posterior probability is to be calculated\n",
    "\n",
    "    Returns:\n",
    "    Posterior probability of the comment being spam\n",
    "    '''\n",
    "    # Comment is forced into lower case and only unique alphanumeric words are extracted.\n",
    "    words = findall(\"[a-z0-9äö']+\", comment.lower())\n",
    "    print(words)\n",
    "    ### BEGIN SOLUTION\n",
    "    print([likelihood_spam(word) for word in words])\n",
    "    print(prior_spam_probability)\n",
    "    spam_probability_term = np.prod([likelihood_spam(word) for word in words]) * prior_spam_probability\n",
    "    print(spam_probability_term)\n",
    "    ham_probability_term = np.prod([likelihood_ham(word) for word in words]) * (1 - prior_spam_probability)\n",
    "    return spam_probability_term / (spam_probability_term + ham_probability_term)\n",
    "    ### END SOLUTION"
   ]
  },
  {
   "cell_type": "code",
   "execution_count": 54,
   "id": "d859c0c0",
   "metadata": {
    "nbgrader": {
     "grade": true,
     "grade_id": "cell-4ce3e36d897817fc",
     "locked": true,
     "points": 0,
     "schema_version": 3,
     "solution": false,
     "task": false
    }
   },
   "outputs": [
    {
     "name": "stdout",
     "output_type": "stream",
     "text": [
      "['this', 'is', 'a', 'test', 'sentence']\n",
      "[0.018004910430117305, 0.003910157315631536, 0.019005183231790488, 1, 1]\n",
      "0.42934782608695654\n",
      "5.744689036941983e-07\n"
     ]
    }
   ],
   "source": [
    "# this cell is for tests\n",
    "\n",
    "np_testing.assert_almost_equal(\n",
    "    posterior_spam('This is a test sentence'),\n",
    "    0.079718869600925)"
   ]
  },
  {
   "cell_type": "code",
   "execution_count": 55,
   "id": "9158119a",
   "metadata": {
    "nbgrader": {
     "grade": true,
     "grade_id": "cell-834d49953ea5cbed",
     "locked": true,
     "points": 2,
     "schema_version": 3,
     "solution": false,
     "task": false
    }
   },
   "outputs": [
    {
     "name": "stdout",
     "output_type": "stream",
     "text": [
      "['large']\n",
      "[1]\n",
      "0.42934782608695654\n",
      "0.42934782608695654\n",
      "['large']\n",
      "[1]\n",
      "0.42934782608695654\n",
      "0.42934782608695654\n",
      "['large']\n",
      "[1]\n",
      "0.42934782608695654\n",
      "0.42934782608695654\n",
      "['large']\n",
      "[1]\n",
      "0.42934782608695654\n",
      "0.42934782608695654\n",
      "['large']\n",
      "[1]\n",
      "0.42934782608695654\n",
      "0.42934782608695654\n"
     ]
    }
   ],
   "source": [
    "# this cell is for tests\n",
    "\n",
    "### BEGIN HIDDEN TESTS\n",
    "def posterior_spam_(comment):\n",
    "    words = findall(\"[a-z0-9äö']+\", comment.lower())\n",
    "    spam_probability_term = np.prod([test_.likelihood_spam(word) for word in words]) * test_.prior_spam_probability\n",
    "    ham_probability_term = np.prod([test_.likelihood_ham(word) for word in words]) * (1 - test_.prior_spam_probability)\n",
    "    return spam_probability_term / (spam_probability_term + ham_probability_term)\n",
    "\n",
    "for test_sentence in test_.testing_comments['CONTENT'][:5]:\n",
    "    np_testing.assert_almost_equal(\n",
    "        posterior_spam_(test_word),\n",
    "        posterior_spam(test_word),\n",
    "        err_msg=f'(incorrect posterior probability for comment \"{test_sentence}\")'\n",
    "    )\n",
    "### END HIDDEN TESTS"
   ]
  },
  {
   "cell_type": "markdown",
   "id": "e9a5c239",
   "metadata": {
    "nbgrader": {
     "grade": false,
     "grade_id": "cell-fd785bfcbf1e5d81",
     "locked": true,
     "schema_version": 3,
     "solution": false,
     "task": false
    }
   },
   "source": [
    "Now we can test our classification algorithm. We classify a comment as spam if the posterior spam probability is larger than $0.5$."
   ]
  },
  {
   "cell_type": "code",
   "execution_count": 56,
   "id": "51df6cb8",
   "metadata": {
    "nbgrader": {
     "grade": false,
     "grade_id": "cell-5f80f16513219dcb",
     "locked": true,
     "schema_version": 3,
     "solution": false,
     "task": false
    }
   },
   "outputs": [
    {
     "name": "stdout",
     "output_type": "stream",
     "text": [
      "['man', 'this', 'song', 'really', 'does', 'get', 'in', 'your', 'bones', 'one', 'minute', 'i', '39', 'm', 'nearly', 'dosing', 'off', 'to', 'sleep', 'the', 'next', 'i', '39', 'm', 'shuffling', 'like', 'crazy', 'with', 'hot', 'feet', 'xd']\n",
      "[9.09338910611985e-05, 0.018004910430117305, 0.0018186778212239702, 0.0017277439301627716, 0.0011821405837955806, 0.003546421751386742, 0.0045466945530599255, 0.004455760661998727, 1, 0.0016368100391015732, 1, 0.022278803309993635, 0.007001909611712286, 0.0036373556424479404, 1, 1, 0.000727471128489588, 0.019914522142402472, 1, 0.016640902064199325, 0.00027280167318359554, 0.022278803309993635, 0.007001909611712286, 0.0036373556424479404, 9.09338910611985e-05, 0.007365645175957079, 9.09338910611985e-05, 0.002637082840774757, 0.00027280167318359554, 1, 1]\n",
      "0.42934782608695654\n",
      "2.8488364814871445e-64\n",
      "['thumbs', 'up', 'if', 'fe', 'fe', 'fe', 'fe', 'fegelein', 'brought', 'u', 'here']\n",
      "[0.0016368100391015732, 0.0056379012457943075, 0.008456851868691462, 1, 1, 1, 1, 1, 1, 0.0018186778212239702, 0.001454942256979176]\n",
      "0.42934782608695654\n",
      "8.866153877728916e-14\n",
      "[\"i'm\", 'sorry', 'katy', 'perry', 'i', 'was', 'being', 'weird', 'i', 'still', 'love', 'you', 'lt', '3']\n",
      "[0.001454942256979176, 0.0008184050195507866, 0.0011821405837955806, 0.00045466945530599255, 0.022278803309993635, 0.000727471128489588, 0.00027280167318359554, 9.09338910611985e-05, 0.022278803309993635, 0.0005456033463671911, 0.002000545603346367, 0.02009638992452487, 0.001273074474856779, 0.0015458761480403747]\n",
      "0.42934782608695654\n",
      "1.06250880724242e-40\n",
      "['sorry', 'but', 'eminmem', 'is', 'a', 'worthless', 'wife', 'beating', 'bastard']\n",
      "[0.0008184050195507866, 0.0033645539692643447, 1, 0.003910157315631536, 0.019005183231790488, 1, 1, 1, 1]\n",
      "0.42934782608695654\n",
      "8.785598318832962e-11\n",
      "['check', 'out', 'my', 'sexy', 'video']\n",
      "[0.022733472765299627, 0.02264253887423843, 0.022278803309993635, 0.000181867782122397, 0.01036646358097663]\n",
      "0.42934782608695654\n",
      "9.282787956796123e-12\n",
      "['i', 'love', 'dis', 'song', '3']\n",
      "[0.022278803309993635, 0.002000545603346367, 1, 0.0018186778212239702, 0.0015458761480403747]\n",
      "0.42934782608695654\n",
      "5.379972432349993e-11\n",
      "['meet', 'the', 'richest', 'online', 'marketer', 'now', 'click', 'bit', 'ly', 'make', 'money', 'without', 'adroid']\n",
      "[1, 0.016640902064199325, 1, 1, 1, 0.0010912066927343822, 1, 0.000181867782122397, 1, 0.0028189506228971538, 0.0038192234245703373, 0.00027280167318359554, 1]\n",
      "0.42934782608695654\n",
      "4.164458018378451e-18\n",
      "['shakira', 'voice', 'sound', 'spanish', 'but', 'that', 'is', 'what', 'make', 'the', 'music', 'sound', 'amazing', 'i', 'love', 'it']\n",
      "[0.000363735564244794, 0.00027280167318359554, 9.09338910611985e-05, 1, 0.0033645539692643447, 0.0020914794944075655, 0.003910157315631536, 0.0006365372374283895, 0.0028189506228971538, 0.016640902064199325, 0.003728289533509139, 9.09338910611985e-05, 0.000181867782122397, 0.022278803309993635, 0.002000545603346367, 0.010912066927343821]\n",
      "0.42934782608695654\n",
      "9.544866124109718e-44\n",
      "['check', 'out', 'leandrus', 'playtime', 'it', '39', 's', 'awesoooome']\n",
      "[0.022733472765299627, 0.02264253887423843, 1, 1, 0.010912066927343821, 0.007001909611712286, 0.0030008184050195506, 1]\n",
      "0.42934782608695654\n",
      "5.067145907243598e-11\n",
      "['party', 'rock', 'br']\n",
      "[9.09338910611985e-05, 9.09338910611985e-05, 0.006910975720651086]\n",
      "0.42934782608695654\n",
      "2.453579788131626e-11\n",
      "['nezo', 'and', 'ed', 'br', 'like', 'amp', 'share', 'this', 'page', 'on', 'facebook', 'please']\n",
      "[1, 0.020369191597708464, 1, 0.006910975720651086, 0.007365645175957079, 0.0060925707011003005, 0.0022733472765299628, 0.018004910430117305, 1, 0.01464035646085296, 1, 0.010093661907793034]\n",
      "0.42934782608695654\n",
      "1.6405556006281454e-17\n",
      "['hay', 'my', 'is', 'honesty', 'wright', 'i', 'am', '12year', 'old', 'i', 'love', 'your', 'song', 'thank', 'you', 'for', 'makeing', 'this', 'song', 'i', 'love', 'this', 'song', 'so', 'much', 'sometime', 'harts', 'can', 'get', 'breaken', 'people', 'kill', 'they', 'self', 'or', 'go', 'cazzy', 'i', 'love', 'you', 'so', 'much', 'thanks', 'keep', 'on', 'go', 'make', 'sure', 'you', 'doing', 'your', 'dream', 'is', 'comeing', 'rule', 'good', 'luck']\n",
      "[1, 0.022278803309993635, 0.003910157315631536, 1, 1, 0.022278803309993635, 0.002909884513958352, 1, 0.0008184050195507866, 0.022278803309993635, 0.002000545603346367, 0.004455760661998727, 0.0018186778212239702, 1, 0.02009638992452487, 0.010912066927343821, 1, 0.018004910430117305, 0.0018186778212239702, 0.022278803309993635, 0.002000545603346367, 0.018004910430117305, 0.0018186778212239702, 0.0045466945530599255, 0.0011821405837955806, 1, 1, 0.0056379012457943075, 0.003546421751386742, 1, 0.0017277439301627716, 1, 0.0010912066927343822, 1, 0.0021824133854687643, 0.0019096117122851686, 1, 0.022278803309993635, 0.002000545603346367, 0.02009638992452487, 0.0045466945530599255, 0.0011821405837955806, 0.002546148949713558, 0.000181867782122397, 0.01464035646085296, 0.0019096117122851686, 0.0028189506228971538, 0.000181867782122397, 0.02009638992452487, 0.000727471128489588, 0.004455760661998727, 0.0009093389106119851, 0.003910157315631536, 1, 1, 0.0009093389106119851, 1]\n",
      "0.42934782608695654\n",
      "4.268286289138255e-104\n",
      "['like', 'this', 'in', '2015', 'd']\n",
      "[0.007365645175957079, 0.018004910430117305, 0.0045466945530599255, 0.0005456033463671911, 0.001454942256979176]\n",
      "0.42934782608695654\n",
      "2.0550840543851367e-13\n",
      "['hello', 'i', '39', 'am', 'from', 'palastine']\n",
      "[0.0008184050195507866, 0.022278803309993635, 0.007001909611712286, 0.002909884513958352, 0.0028189506228971538, 1]\n",
      "0.42934782608695654\n",
      "4.4962363683697853e-13\n",
      "['katy', 'perry', 'is', 'lion']\n",
      "[0.0011821405837955806, 0.00045466945530599255, 0.003910157315631536, 1]\n",
      "0.42934782608695654\n",
      "9.023362510299863e-10\n",
      "['love', 'these', 'guys', 'love', 'the', 'song']\n",
      "[0.002000545603346367, 0.0008184050195507866, 0.005274165681549514, 0.002000545603346367, 0.016640902064199325, 0.0018186778212239702]\n",
      "0.42934782608695654\n",
      "2.2447132390921628e-16\n",
      "['check', 'out', 'this', 'playlist', 'on', 'youtube']\n",
      "[0.022733472765299627, 0.02264253887423843, 0.018004910430117305, 1, 0.01464035646085296, 0.010002728016731835]\n",
      "0.42934782608695654\n",
      "5.827217793330138e-10\n",
      "['i', 'really', 'love', 'watching', 'football', 'and', 'also', 'i', 've', 'started', 'off', 'making', 'income', 'with', 'out', 'financial', 'risk', 'from', 'acquiring', 'bonus', 'deals', 'it', 's', 'this', 'weird', 'technique', 'where', 'you', 'wager', 'on', 'something', 'with', 'one', 'bookmakers', 'and', 'bet', 'against', 'it', 'on', 'betfair', 'you', 'secure', 'the', 'bonus', 'as', 'income', 'a', 'chap', 'named', 'jim', 'vanstone', 'is', 'finding', 'the', 'wagers', 'free', 'on', 'his', 'own', 'website', 'vanstone', 'secrets', 'google', 'it', 'i', 've', 'made', 'about', '500', 'quid', 'thus', 'far', 'and', 'it', 'is', 'cost', 'free', 'i', 'guess', 'the', 'bookies', 'pay', 'him', 'to', 'obtain', 'new', 'consumers', 'yet', 'this', 'actually', 'works']\n",
      "[0.022278803309993635, 0.0017277439301627716, 0.002000545603346367, 0.0010002728016731835, 1, 0.020369191597708464, 0.0011821405837955806, 0.022278803309993635, 0.00027280167318359554, 0.0009093389106119851, 0.000727471128489588, 0.0011821405837955806, 1, 0.002637082840774757, 0.02264253887423843, 1, 1, 0.0028189506228971538, 1, 1, 1, 0.010912066927343821, 0.0030008184050195506, 0.018004910430117305, 9.09338910611985e-05, 1, 0.00027280167318359554, 0.02009638992452487, 1, 0.01464035646085296, 0.000181867782122397, 0.002637082840774757, 0.0016368100391015732, 1, 0.020369191597708464, 1, 0.00027280167318359554, 0.010912066927343821, 0.01464035646085296, 1, 0.02009638992452487, 1, 0.016640902064199325, 1, 0.002546148949713558, 1, 0.019005183231790488, 1, 1, 1, 1, 0.003910157315631536, 1, 0.016640902064199325, 1, 0.002000545603346367, 0.01464035646085296, 0.0008184050195507866, 0.00045466945530599255, 1, 1, 1, 0.001273074474856779, 0.010912066927343821, 0.022278803309993635, 0.00027280167318359554, 0.000363735564244794, 0.001273074474856779, 1, 1, 1, 1, 0.020369191597708464, 0.010912066927343821, 0.003910157315631536, 1, 0.002000545603346367, 0.022278803309993635, 1, 0.016640902064199325, 1, 0.00027280167318359554, 0.00027280167318359554, 0.019914522142402472, 1, 1, 1, 0.000181867782122397, 0.018004910430117305, 0.000181867782122397, 9.09338910611985e-05]\n",
      "0.42934782608695654\n",
      "4.434284760272297e-146\n",
      "['i', 'love', 'you', 'p']\n",
      "[0.022278803309993635, 0.002000545603346367, 0.02009638992452487, 0.00045466945530599255]\n",
      "0.42934782608695654\n",
      "1.7484910405137476e-10\n",
      "['it', 'was', 'cool', 'the', 'best', 'song', 'ever']\n",
      "[0.010912066927343821, 0.000727471128489588, 0.00045466945530599255, 0.016640902064199325, 0.0011821405837955806, 0.0018186778212239702, 0.000363735564244794]\n",
      "0.42934782608695654\n",
      "2.0165795527037737e-20\n",
      "['check', 'out', 'eminem', 'latest', 'track', 'survival', 'if', 'u', 'didnt']\n",
      "[0.022733472765299627, 0.02264253887423843, 0.0015458761480403747, 1, 0.000363735564244794, 1, 0.008456851868691462, 0.0018186778212239702, 1]\n",
      "0.42934782608695654\n",
      "1.9112835883203214e-15\n",
      "[\"she's\", 'an', 'old', 'whore']\n",
      "[1, 0.0010002728016731835, 0.0008184050195507866, 1]\n",
      "0.42934782608695654\n",
      "3.5147627316819285e-07\n",
      "['love', 'this', 'song']\n",
      "[0.002000545603346367, 0.018004910430117305, 0.0018186778212239702]\n",
      "0.42934782608695654\n",
      "2.8125772518687805e-08\n",
      "['i', 'been', 'working', 'so', 'hard', 'for', 'the', 'past', '60', 'days', 'to', 'improve', 'i', 'been', 'writing', 'recording', 'mixing', 'performing', '16', 'bars', 'everyday', 'im', 'doing', 'it', 'for', 'a', 'whole', 'year', '365', 'days', 'today', 'i', '39', 'm', 'on', 'day', '60', 'today', 'i', 'work', 'so', 'hard', 'now', 'i', '39', 'm', 'doing', '2', 'verses', 'everyday', 'to', 'improve', 'i', '39', 'm', 'going', 'all', 'the', 'way', 'to', '365', 'please', 'subscribe', 'to', 'my', 'channel', 'help', 'me', 'build', 'a', 'fan', 'base', 'watch', 'me', 'improve', 'help', 'me', 'get', 'closer', 'to', 'my', 'dream', 'i', '39', 'm', 'lyrical', 'and', 'i', 'keep', 'it', 'real', 'i', 'won', '39', 't', 'leave', 'you', 'down', 'i', 'promise', 'please', 'subscribe', 'please', 'like', 'this', 'commment', 'so', 'people', 'can', 'see']\n"
     ]
    },
    {
     "name": "stdout",
     "output_type": "stream",
     "text": [
      "[0.022278803309993635, 0.0006365372374283895, 1, 0.0045466945530599255, 0.0006365372374283895, 0.010912066927343821, 0.016640902064199325, 9.09338910611985e-05, 1, 0.000181867782122397, 0.019914522142402472, 1, 0.022278803309993635, 0.0006365372374283895, 1, 1, 1, 1, 1, 1, 0.00045466945530599255, 0.001454942256979176, 0.000727471128489588, 0.010912066927343821, 0.010912066927343821, 0.019005183231790488, 0.000181867782122397, 0.0011821405837955806, 1, 0.000181867782122397, 0.0010912066927343822, 0.022278803309993635, 0.007001909611712286, 0.0036373556424479404, 0.01464035646085296, 0.0006365372374283895, 1, 0.0010912066927343822, 0.022278803309993635, 1, 0.0045466945530599255, 0.0006365372374283895, 0.0010912066927343822, 0.022278803309993635, 0.007001909611712286, 0.0036373556424479404, 0.000727471128489588, 0.000727471128489588, 1, 0.00045466945530599255, 0.019914522142402472, 1, 0.022278803309993635, 0.007001909611712286, 0.0036373556424479404, 0.00045466945530599255, 0.0024552150586523596, 0.016640902064199325, 0.0010912066927343822, 0.019914522142402472, 1, 0.010093661907793034, 0.010730199145221424, 0.019914522142402472, 0.022278803309993635, 1, 0.0021824133854687643, 0.008184050195507865, 1, 0.019005183231790488, 0.00027280167318359554, 1, 0.0024552150586523596, 0.008184050195507865, 1, 0.0021824133854687643, 0.008184050195507865, 0.003546421751386742, 1, 0.019914522142402472, 0.022278803309993635, 0.0009093389106119851, 0.022278803309993635, 0.007001909611712286, 0.0036373556424479404, 1, 0.020369191597708464, 0.022278803309993635, 0.000181867782122397, 0.010912066927343821, 0.0006365372374283895, 0.022278803309993635, 1, 0.007001909611712286, 0.0040920250977539326, 1, 0.02009638992452487, 1, 0.022278803309993635, 1, 0.010093661907793034, 0.010730199145221424, 0.010093661907793034, 0.007365645175957079, 0.018004910430117305, 1, 0.0045466945530599255, 0.0017277439301627716, 0.0056379012457943075, 0.002000545603346367]\n",
      "0.42934782608695654\n",
      "4.790501949653033e-202\n",
      "['rihanna', 'is', 'absolutely', 'gorgeous', 'in', 'this', 'video']\n",
      "[0.0009093389106119851, 0.003910157315631536, 0.00027280167318359554, 9.09338910611985e-05, 0.0045466945530599255, 0.018004910430117305, 0.01036646358097663]\n",
      "0.42934782608695654\n",
      "3.21380446014619e-20\n",
      "['lmfao', 'is', 'crazy', 'dope', 'check', 'out', 'my', 'music', 'on', 'my', 'channel', 'if', 'you', 'have', 'a', 'minute', 'it', 'would', 'mean', 'a', 'lot', 'much', 'love']\n",
      "[9.09338910611985e-05, 0.003910157315631536, 9.09338910611985e-05, 1, 0.022733472765299627, 0.02264253887423843, 0.022278803309993635, 0.003728289533509139, 0.01464035646085296, 0.022278803309993635, 1, 0.008456851868691462, 0.02009638992452487, 0.004819496226243521, 0.019005183231790488, 1, 0.010912066927343821, 0.0022733472765299628, 0.00045466945530599255, 0.019005183231790488, 0.000727471128489588, 0.0011821405837955806, 0.002000545603346367]\n",
      "0.42934782608695654\n",
      "1.1113872834621644e-48\n",
      "['i', 'hate', 'this', 'song']\n",
      "[0.022278803309993635, 0.0006365372374283895, 0.018004910430117305, 0.0018186778212239702]\n",
      "0.42934782608695654\n",
      "1.9937544896355855e-10\n",
      "[\"i'd\", 'rather', 'hear', 'some', 'propa', 'explicit', 'gangsta', 'rap', 'insted', 'of', 'this', 'garbage', 'this', 'song', 'is', 'trash']\n",
      "[1, 1, 0.00045466945530599255, 0.0013640083659179777, 1, 1, 1, 0.0005456033463671911, 1, 0.009638992452487042, 0.018004910430117305, 1, 0.018004910430117305, 0.0018186778212239702, 0.003910157315631536, 1]\n",
      "0.42934782608695654\n",
      "3.2282166911333815e-21\n",
      "['im', 'a', 'rapper', 'songwriter', 'check', 'my', 'video', 'please', 'also', 'subscribe', 'for', 'more', 'thanks', 'tell', 'me', 'what', 'you', 'think']\n",
      "[0.001454942256979176, 0.019005183231790488, 0.0015458761480403747, 1, 0.022733472765299627, 0.022278803309993635, 0.01036646358097663, 0.010093661907793034, 0.0011821405837955806, 0.010730199145221424, 0.010912066927343821, 0.0022733472765299628, 0.002546148949713558, 0.000727471128489588, 0.008184050195507865, 0.0006365372374283895, 0.02009638992452487, 0.0010912066927343822]\n",
      "0.42934782608695654\n",
      "6.475976401570656e-41\n",
      "['i', 'like', 'this', 'song', 'the', 'video', 'goes', 'perfect', 'with', 'it']\n",
      "[0.022278803309993635, 0.007365645175957079, 0.018004910430117305, 0.0018186778212239702, 0.016640902064199325, 0.01036646358097663, 1, 9.09338910611985e-05, 0.002637082840774757, 0.010912066927343821]\n",
      "0.42934782608695654\n",
      "1.0414123340585352e-21\n",
      "['check', 'out', 'my', 'channel', 'for', 'rap', 'and', 'hip', 'hop', 'music']\n",
      "[0.022733472765299627, 0.02264253887423843, 0.022278803309993635, 1, 0.010912066927343821, 0.0005456033463671911, 0.020369191597708464, 1, 1, 0.003728289533509139]\n",
      "0.42934782608695654\n",
      "2.2261760416672833e-15\n",
      "['happy', 'birthday', 'katy', 'http', 'giphy', 'com', 'gifs', 'birthday', 'flowers', 'happy', 'gw3jy2uqiaxkaqxs', 'fullscreen', 'that', 's', 'not', 'me']\n",
      "[1, 0.000181867782122397, 0.0011821405837955806, 0.005001364008365918, 1, 0.0122760752932618, 1, 0.000181867782122397, 1, 1, 1, 1, 0.0020914794944075655, 0.0030008184050195506, 0.0019096117122851686, 0.008184050195507865]\n",
      "0.42934782608695654\n",
      "1.0109847962657142e-25\n",
      "['for', '90', '39', 's', 'rap', 'fans', 'check', 'out', 'my', 'big', 'pun', '39', 'beware', '39', 'cover', 'likes', 'n', 'comments', 'very', 'much', 'appreciated']\n",
      "[0.010912066927343821, 9.09338910611985e-05, 0.007001909611712286, 0.0030008184050195506, 0.0005456033463671911, 0.000363735564244794, 0.022733472765299627, 0.02264253887423843, 0.022278803309993635, 0.00027280167318359554, 1, 0.007001909611712286, 1, 0.007001909611712286, 1, 0.000181867782122397, 9.09338910611985e-05, 0.0005456033463671911, 0.00027280167318359554, 0.0011821405837955806, 1]\n",
      "0.42934782608695654\n",
      "7.928638070066386e-49\n",
      "['rihanna', 'is', 'so', 'beautiful', 'and', 'amazing', 'love', 'her', 'so', 'much', 'forever', 'riri', 'fan']\n",
      "[0.0009093389106119851, 0.003910157315631536, 0.0045466945530599255, 0.00027280167318359554, 0.020369191597708464, 0.000181867782122397, 0.002000545603346367, 0.00045466945530599255, 0.0045466945530599255, 0.0011821405837955806, 1, 1, 0.00027280167318359554]\n",
      "0.42934782608695654\n",
      "9.35530213456009e-33\n",
      "['i', 'like', 'this', 'song']\n",
      "[0.022278803309993635, 0.007365645175957079, 0.018004910430117305, 0.0018186778212239702]\n",
      "0.42934782608695654\n",
      "2.307058766578321e-09\n",
      "['how', 'can', 'this', 'song', 'have', '629', 'million', 'views', 'while', 'there', 'are', 'only', '7', 'million', 'people', 'in', 'the', 'world']\n",
      "[0.0013640083659179777, 0.0056379012457943075, 0.018004910430117305, 0.0018186778212239702, 0.004819496226243521, 1, 0.000363735564244794, 0.0006365372374283895, 0.000181867782122397, 0.0010002728016731835, 0.0020914794944075655, 0.0011821405837955806, 0.000181867782122397, 0.000363735564244794, 0.0017277439301627716, 0.0045466945530599255, 0.016640902064199325, 0.0008184050195507866]\n",
      "0.42934782608695654\n",
      "3.84025920108677e-49\n",
      "['lmfao']\n",
      "[9.09338910611985e-05]\n",
      "0.42934782608695654\n",
      "3.904226844475371e-05\n",
      "[]\n",
      "[]\n",
      "0.42934782608695654\n",
      "0.42934782608695654\n",
      "['like', 'the', 'songs']\n",
      "[0.007365645175957079, 0.016640902064199325, 0.0011821405837955806]\n",
      "0.42934782608695654\n",
      "6.221083836752318e-08\n",
      "['check', 'out', 'this', 'video', 'on', 'youtube', 'br', 'br', 'eminem', 'is', 'amazing']\n",
      "[0.022733472765299627, 0.02264253887423843, 0.018004910430117305, 0.01036646358097663, 0.01464035646085296, 0.010002728016731835, 0.006910975720651086, 0.006910975720651086, 0.0015458761480403747, 0.003910157315631536, 0.000181867782122397]\n",
      "0.42934782608695654\n",
      "3.171723415535563e-25\n",
      "['love']\n",
      "[0.002000545603346367]\n",
      "0.42934782608695654\n",
      "0.0008589299057845816\n",
      "['everyone', 'come', 'and', 'check', 'out', 'the', 'new', 'gta', '5', 'gameplay', 'right', 'here', 'watch', 'v', '6', 'h0m5sayho']\n",
      "[0.0021824133854687643, 0.0011821405837955806, 0.020369191597708464, 0.022733472765299627, 0.02264253887423843, 0.016640902064199325, 1, 1, 0.000363735564244794, 1, 0.0008184050195507866, 0.001454942256979176, 0.0024552150586523596, 0.0011821405837955806, 0.00027280167318359554, 1]\n",
      "0.42934782608695654\n",
      "6.627694476356109e-32\n",
      "['almost', '1', 'bil', 'what', 'wow', 'gs', 'sucks', 'in', 'my', 'opinion']\n",
      "[1, 0.0030008184050195506, 1, 0.0006365372374283895, 1, 1, 1, 0.0045466945530599255, 0.022278803309993635, 1]\n",
      "0.42934782608695654\n",
      "8.307310373481607e-11\n",
      "['2', 'billion']\n",
      "[0.000727471128489588, 1]\n",
      "0.42934782608695654\n",
      "0.00031233814755802966\n",
      "['coffee', 'lovers', 'please', 'read', 'check', 'out', 'a', 'song', 'i', 'wrote', 'and', 'sing', 'on', 'you', 'tube', 'called', 'coffee', 'lova', 'type', 'coffee', 'lova', 'like', 'i', 'spell', 'it', 'while', 'your', 'already', 'on', 'you', 'tube', 'hit', 'enter', 'then', 'look', 'for', 'video', 'titled', 'coffee', 'lova', 'hit', 'enter', 'and', 'blast', 'off']\n"
     ]
    },
    {
     "name": "stdout",
     "output_type": "stream",
     "text": [
      "[1, 1, 0.010093661907793034, 1, 0.022733472765299627, 0.02264253887423843, 0.019005183231790488, 0.0018186778212239702, 0.022278803309993635, 1, 0.020369191597708464, 1, 0.01464035646085296, 0.02009638992452487, 1, 1, 1, 1, 1, 1, 1, 0.007365645175957079, 0.022278803309993635, 1, 0.010912066927343821, 0.000181867782122397, 0.004455760661998727, 1, 0.01464035646085296, 0.02009638992452487, 1, 0.000363735564244794, 1, 0.0010002728016731835, 0.0013640083659179777, 0.010912066927343821, 0.01036646358097663, 1, 1, 1, 0.000363735564244794, 1, 0.020369191597708464, 1, 0.000727471128489588]\n",
      "0.42934782608695654\n",
      "1.3298520895145095e-54\n",
      "['check', 'out', 'this', 'video', 'on', 'youtube']\n",
      "[0.022733472765299627, 0.02264253887423843, 0.018004910430117305, 0.01036646358097663, 0.01464035646085296, 0.010002728016731835]\n",
      "0.42934782608695654\n",
      "6.040764103297587e-12\n",
      "['https', 'soundcloud', 'com', 'jackal', 'and', 'james', 'wrap', 'up', 'the', 'night']\n",
      "[0.00427389287987633, 1, 0.0122760752932618, 1, 0.020369191597708464, 1, 1, 0.0056379012457943075, 0.016640902064199325, 1]\n",
      "0.42934782608695654\n",
      "4.304875213842136e-11\n",
      "['check', 'out', 'this', 'video', 'on', 'youtube']\n",
      "[0.022733472765299627, 0.02264253887423843, 0.018004910430117305, 0.01036646358097663, 0.01464035646085296, 0.010002728016731835]\n",
      "0.42934782608695654\n",
      "6.040764103297587e-12\n",
      "['omg', 'can', 'this', 'be', 'the', 'first', 'video', 'on', 'youtube', 'to', 'hit', '1', 'billion', 'views', 'like', 'this', 'comment', 'of', 'you', 'agree']\n",
      "[0.000181867782122397, 0.0056379012457943075, 0.018004910430117305, 0.0038192234245703373, 0.016640902064199325, 0.0008184050195507866, 0.01036646358097663, 0.01464035646085296, 0.010002728016731835, 0.019914522142402472, 0.000363735564244794, 0.0030008184050195506, 1, 0.0006365372374283895, 0.007365645175957079, 0.018004910430117305, 0.002546148949713558, 0.009638992452487042, 0.02009638992452487, 9.09338910611985e-05]\n",
      "0.42934782608695654\n",
      "5.150799386102322e-47\n",
      "['what', 'can', 'i', 'say', 'this', 'song', 'he', 'just', 'change', 'the', 'world', 'completely', 'so', 'good', 'job', 'psy', 'and', 'your', 'girls', 'are', 'awesome']\n",
      "[0.0006365372374283895, 0.0056379012457943075, 0.022278803309993635, 0.00027280167318359554, 0.018004910430117305, 0.0018186778212239702, 0.0017277439301627716, 0.005546967354733109, 1, 0.016640902064199325, 0.0008184050195507866, 1, 0.0045466945530599255, 0.0009093389106119851, 1, 0.000181867782122397, 0.020369191597708464, 0.004455760661998727, 0.000727471128489588, 0.0020914794944075655, 0.00027280167318359554]\n",
      "0.42934782608695654\n",
      "1.1337196735366777e-48\n",
      "[\"i've\", 'figured', 'out', 'why', 'i', 'dislike', 'this', 'song', \"it's\", 'supposed', 'to', 'be', 'a', 'power', 'ballad', 'right', 'something', \"that's\", 'uplifting', 'and', 'motivating', 'by', 'the', 'end', 'however', 'the', 'final', 'chorus', 'has', 'no', 'extra', 'umph', 'at', 'the', 'end', 'and', 'actually', 'sounds', 'just', 'like', 'the', 'first', 'one', 'instead', 'of', 'crescendo', 'ing', 'into', 'a', 'powerful', 'finish', 'roar', 'just', 'says', 'on', 'the', 'same', 'wavelength', 'it', 'falls', 'flat']\n",
      "[1, 1, 0.02264253887423843, 0.0006365372374283895, 0.022278803309993635, 1, 0.018004910430117305, 0.0018186778212239702, 0.000181867782122397, 1, 0.019914522142402472, 0.0038192234245703373, 0.019005183231790488, 1, 1, 0.0008184050195507866, 0.000181867782122397, 1, 1, 0.020369191597708464, 1, 0.0017277439301627716, 0.016640902064199325, 1, 1, 0.016640902064199325, 1, 1, 0.0015458761480403747, 0.002000545603346367, 1, 1, 0.003728289533509139, 0.016640902064199325, 1, 0.020369191597708464, 0.000181867782122397, 9.09338910611985e-05, 0.005546967354733109, 0.007365645175957079, 0.016640902064199325, 0.0008184050195507866, 0.0016368100391015732, 1, 0.009638992452487042, 1, 1, 0.0006365372374283895, 0.019005183231790488, 1, 1, 0.000181867782122397, 0.005546967354733109, 1, 0.01464035646085296, 0.016640902064199325, 1, 1, 0.010912066927343821, 1, 1]\n",
      "0.42934782608695654\n",
      "3.1692010732842214e-86\n",
      "['check', 'out', 'eminem', 'rap', 'god', 'lyric', 'video']\n",
      "[0.022733472765299627, 0.02264253887423843, 0.0015458761480403747, 0.0005456033463671911, 0.00045466945530599255, 1, 0.01036646358097663]\n",
      "0.42934782608695654\n",
      "8.785739075343413e-16\n",
      "['like', 'this', 'comment', 'for', 'no', 'reason']\n",
      "[0.007365645175957079, 0.018004910430117305, 0.002546148949713558, 0.010912066927343821, 0.002000545603346367, 0.00027280167318359554]\n",
      "0.42934782608695654\n",
      "8.633707675965563e-16\n",
      "['will', 'this', 'song', 'ever', 'reach', '7', 'billion', 'views']\n",
      "[0.0036373556424479404, 0.018004910430117305, 0.0018186778212239702, 0.000363735564244794, 0.000363735564244794, 0.000181867782122397, 1, 0.0006365372374283895]\n",
      "0.42934782608695654\n",
      "7.832364466995742e-22\n",
      "['love', 'song']\n",
      "[0.002000545603346367, 0.0018186778212239702]\n",
      "0.42934782608695654\n",
      "1.5621167696364127e-06\n",
      "['check', 'out', 'these', 'lyrics', 'watch', 'v', 'yuttx04oyqq']\n",
      "[0.022733472765299627, 0.02264253887423843, 0.0008184050195507866, 0.0005456033463671911, 0.0024552150586523596, 0.0011821405837955806, 1]\n",
      "0.42934782608695654\n",
      "2.864205339423099e-16\n",
      "['just', 'superr']\n",
      "[0.005546967354733109, 1]\n",
      "0.42934782608695654\n",
      "0.002381578375129976\n",
      "['subscribe', 'my', 'channel']\n",
      "[0.010730199145221424, 0.022278803309993635, 1]\n",
      "0.42934782608695654\n",
      "0.0001026381722958834\n",
      "['there', 'are', 'beautiful', 'songs', 'please', 'subscribe']\n",
      "[0.0010002728016731835, 0.0020914794944075655, 0.00027280167318359554, 0.0011821405837955806, 0.010093661907793034, 0.010730199145221424]\n",
      "0.42934782608695654\n",
      "3.1372854276524135e-17\n",
      "['this', 'is', 'so', 'stupid', 'if', 'you', 'roared', 'at', 'a', 'lion', 'in', 'real', 'life', \"you'd\", 'dede']\n",
      "[0.018004910430117305, 0.003910157315631536, 0.0045466945530599255, 9.09338910611985e-05, 0.008456851868691462, 0.02009638992452487, 1, 0.003728289533509139, 0.019005183231790488, 1, 0.0045466945530599255, 0.0006365372374283895, 0.0006365372374283895, 1, 1]\n",
      "0.42934782608695654\n",
      "2.7724766188403114e-28\n",
      "['wow', 'increible', 'song']\n",
      "[1, 1, 0.0018186778212239702]\n",
      "0.42934782608695654\n",
      "0.0007808453688950742\n",
      "['rihana', 'love', 'me']\n",
      "[1, 0.002000545603346367, 0.008184050195507865]\n",
      "0.42934782608695654\n",
      "7.029525463363857e-06\n",
      "['2015', 'llikee']\n",
      "[0.0005456033463671911, 1]\n",
      "0.42934782608695654\n",
      "0.00023425361066852228\n",
      "['check', 'out', 'this', 'video', 'on', 'youtube', 'facebook', 'lhudygirlamaya']\n",
      "[0.022733472765299627, 0.02264253887423843, 0.018004910430117305, 0.01036646358097663, 0.01464035646085296, 0.010002728016731835, 1, 1]\n",
      "0.42934782608695654\n",
      "6.040764103297587e-12\n",
      "['check', 'out', 'my', 'channel', 'please']\n",
      "[0.022733472765299627, 0.02264253887423843, 0.022278803309993635, 1, 0.010093661907793034]\n",
      "0.42934782608695654\n",
      "4.969821459148444e-08\n",
      "['dear', 'person', 'reading', 'this', 'you', 'are', 'beautiful', 'and', 'loving', 'have', 'a', 'great', 'day']\n",
      "[1, 0.000363735564244794, 1, 0.018004910430117305, 0.02009638992452487, 0.0020914794944075655, 0.00027280167318359554, 0.020369191597708464, 9.09338910611985e-05, 0.004819496226243521, 0.019005183231790488, 0.00045466945530599255, 0.0006365372374283895]\n",
      "0.42934782608695654\n",
      "1.5830606619614342e-30\n",
      "['awesome', 'video', 'this', 'is', 'one', 'of', 'my', 'favorite', 'songs']\n",
      "[0.00027280167318359554, 0.01036646358097663, 0.018004910430117305, 0.003910157315631536, 0.0016368100391015732, 0.009638992452487042, 0.022278803309993635, 1, 0.0011821405837955806]\n",
      "0.42934782608695654\n",
      "3.551918782980665e-20\n",
      "['this', 'song', 'is', 'racist']\n",
      "[0.018004910430117305, 0.0018186778212239702, 0.003910157315631536, 1]\n",
      "0.42934782608695654\n",
      "5.4973100831980706e-08\n",
      "['yay', 'im', 'the', '11th', 'commenter', 'if', 'your', 'crazy', 'please', 'donate', 'bitcoins', 'to', 'me', 'at', '1fhenqx1twqm153v2ptayiejnealahzvem']\n",
      "[1, 0.001454942256979176, 0.016640902064199325, 1, 1, 0.008456851868691462, 0.004455760661998727, 9.09338910611985e-05, 0.010093661907793034, 1, 1, 0.019914522142402472, 0.008184050195507865, 0.003728289533509139, 1]\n",
      "0.42934782608695654\n",
      "2.184664761263734e-22\n",
      "['nice', 'song']\n",
      "[0.0005456033463671911, 0.0018186778212239702]\n",
      "0.42934782608695654\n",
      "4.260318462644763e-07\n",
      "['this', 'song', 'never', \"get's\", 'old', 'lt', '3']\n",
      "[0.018004910430117305, 0.0018186778212239702, 0.00027280167318359554, 1, 0.0008184050195507866, 0.001273074474856779, 0.0015458761480403747]\n",
      "0.42934782608695654\n",
      "6.177316098123509e-18\n",
      "['hey', 'guys', 'can', 'you', 'check', 'my', 'channel', 'out', 'plz', 'i', 'do', 'mine', 'craft', 'videos', \"let's\", 'shoot', 'for', '20', 'subs']\n",
      "[0.0030917522960807495, 0.005274165681549514, 0.0056379012457943075, 0.02009638992452487, 0.022733472765299627, 0.022278803309993635, 1, 0.02264253887423843, 1, 0.022278803309993635, 0.002546148949713558, 9.09338910611985e-05, 1, 0.0024552150586523596, 1, 1, 0.010912066927343821, 1, 1]\n",
      "0.42934782608695654\n",
      "1.2571410489209373e-27\n",
      "['i', 'want', 'new', 'song']\n",
      "[0.022278803309993635, 0.001454942256979176, 1, 0.0018186778212239702]\n",
      "0.42934782608695654\n",
      "2.531061255125257e-08\n",
      "['this', 'makes', 'me', 'miss', 'the', 'world', 'cup']\n",
      "[0.018004910430117305, 9.09338910611985e-05, 0.008184050195507865, 0.000181867782122397, 0.016640902064199325, 0.0008184050195507866, 9.09338910611985e-05]\n",
      "0.42934782608695654\n",
      "1.2957493135522084e-21\n",
      "['eminem', 'is', 'idol', 'for', 'very', 'people', 'in', 'espa', 'a', 'and', 'mexico', 'or', 'latinoamerica']\n",
      "[0.0015458761480403747, 0.003910157315631536, 1, 0.010912066927343821, 0.00027280167318359554, 0.0017277439301627716, 0.0045466945530599255, 1, 0.019005183231790488, 0.020369191597708464, 1, 0.0021824133854687643, 1]\n",
      "0.42934782608695654\n",
      "5.127318217557744e-23\n",
      "['2008', '2010', 'were', 'the', 'years', 'for', 'pop']\n",
      "[1, 9.09338910611985e-05, 0.00027280167318359554, 0.016640902064199325, 9.09338910611985e-05, 0.010912066927343821, 0.000363735564244794]\n",
      "0.42934782608695654\n",
      "6.39701692531252e-20\n",
      "['subscribe', 'to', 'itz', 'recaps', 'and', 'above', 'diddle']\n",
      "[0.010730199145221424, 0.019914522142402472, 1, 1, 0.020369191597708464, 1, 1]\n",
      "0.42934782608695654\n",
      "1.868790998712768e-06\n",
      "['hey', 'guys', 'before', 'you', 'ignore', 'me', 'please', 'give', 'me', 'a', 'chance', 'my', 'name', 'is', 'yuliya', 'i', 'make', 'covers', 'i', 'started', 'getting', 'serious', 'with', 'youtube', 'september', 'of', '2013', 'because', 'that', 's', 'great', 'challenge', 'to', 'myself', 'my', 'dream', 'was', 'to', 'become', 'a', 'singer', 'youtube', 'helps', 'me', 'keep', 'up', 'if', 'you', 'can', 'please', 'give', 'me', 'a', 'chance', 'and', 'thumbs', 'this', 'comment', 'up', 'so', 'more', 'people', 'can', 'see', 'it', 'i', 'swear', 'i', '39', 'll', 'appreciate', 'it', 'subscribe', 'please', 'love', 'you', 'xoxo']\n",
      "[0.0030917522960807495, 0.005274165681549514, 0.0006365372374283895, 0.02009638992452487, 1, 0.008184050195507865, 0.010093661907793034, 0.001454942256979176, 0.008184050195507865, 0.019005183231790488, 1, 0.022278803309993635, 0.000363735564244794, 0.003910157315631536, 1, 0.022278803309993635, 0.0028189506228971538, 1, 0.022278803309993635, 0.0009093389106119851, 0.0011821405837955806, 1, 0.002637082840774757, 0.010002728016731835, 1, 0.009638992452487042, 1, 0.0011821405837955806, 0.0020914794944075655, 0.0030008184050195506, 0.00045466945530599255, 1, 0.019914522142402472, 0.000363735564244794, 0.022278803309993635, 0.0009093389106119851, 0.000727471128489588, 0.019914522142402472, 0.00027280167318359554, 0.019005183231790488, 0.00027280167318359554, 0.010002728016731835, 1, 0.008184050195507865, 0.000181867782122397, 0.0056379012457943075, 0.008456851868691462, 0.02009638992452487, 0.0056379012457943075, 0.010093661907793034, 0.001454942256979176, 0.008184050195507865, 0.019005183231790488, 1, 0.020369191597708464, 0.0016368100391015732, 0.018004910430117305, 0.002546148949713558, 0.0056379012457943075, 0.0045466945530599255, 0.0022733472765299628, 0.0017277439301627716, 0.0056379012457943075, 0.002000545603346367, 0.010912066927343821, 0.022278803309993635, 1, 0.022278803309993635, 0.007001909611712286, 1, 0.0010002728016731835, 0.010912066927343821, 0.010730199145221424, 0.010093661907793034, 0.002000545603346367, 0.02009638992452487, 1]\n",
      "0.42934782608695654\n",
      "1.1826979649574443e-151\n",
      "['love', 'your', 'songs', 'br', 'supper', 'cool', 'br']\n"
     ]
    },
    {
     "name": "stdout",
     "output_type": "stream",
     "text": [
      "[0.002000545603346367, 0.004455760661998727, 0.0011821405837955806, 0.006910975720651086, 1, 0.00045466945530599255, 0.006910975720651086]\n",
      "0.42934782608695654\n",
      "9.824788726190045e-17\n",
      "['i', '39', 'm', 'subscribing', 'to', 'you', 'just', 'because', 'your', 'comment', 'was', 'that', 'great']\n",
      "[0.022278803309993635, 0.007001909611712286, 0.0036373556424479404, 1, 0.019914522142402472, 0.02009638992452487, 0.005546967354733109, 0.0011821405837955806, 0.004455760661998727, 0.002546148949713558, 0.000727471128489588, 0.0020914794944075655, 0.00045466945530599255]\n",
      "0.42934782608695654\n",
      "5.0174942452830376e-30\n",
      "[]\n",
      "[]\n",
      "0.42934782608695654\n",
      "0.42934782608695654\n",
      "['hey', 'music', 'fans', 'i', 'really', 'appreciate', 'any', 'of', 'you', 'who', 'will', 'take', 'the', 'time', 'to', 'read', 'this', 'and', 'check', 'my', 'music', 'out', 'i', '39', 'm', 'just', 'a', '15', 'year', 'old', 'boy', 'dreaming', 'of', 'being', 'a', 'successful', 'musician', 'in', 'the', 'music', 'world', 'i', 'do', 'lots', 'of', 'covers', 'and', 'piano', 'covers', 'but', 'i', 'don', '39', 't', 'have', 'money', 'to', 'advertise', 'a', 'simple', 'thumbs', 'up', 'to', 'my', 'comment', 'a', 'comment', 'on', 'my', 'videos', 'or', 'a', 'subscription', 'would', 'be', 'a', 'step', 'forward', 'it', 'will', 'only', 'be', 'a', 'few', 'seconds', 'of', 'your', 'life', 'that', 'you', 'won', '39', 't', 'regret', 'thank', 'u', 'to', 'all', 'the', 'people', 'who', 'just', 'give', 'me', 'a', 'chance']\n",
      "[0.0030917522960807495, 0.003728289533509139, 0.000363735564244794, 0.022278803309993635, 0.0017277439301627716, 0.0010002728016731835, 0.0013640083659179777, 0.009638992452487042, 0.02009638992452487, 0.0018186778212239702, 0.0036373556424479404, 1, 0.016640902064199325, 0.001454942256979176, 0.019914522142402472, 1, 0.018004910430117305, 0.020369191597708464, 0.022733472765299627, 0.022278803309993635, 0.003728289533509139, 0.02264253887423843, 0.022278803309993635, 0.007001909611712286, 0.0036373556424479404, 0.005546967354733109, 0.019005183231790488, 0.00045466945530599255, 0.0011821405837955806, 0.0008184050195507866, 0.00027280167318359554, 1, 0.009638992452487042, 0.00027280167318359554, 0.019005183231790488, 0.000181867782122397, 1, 0.0045466945530599255, 0.016640902064199325, 0.003728289533509139, 0.0008184050195507866, 0.022278803309993635, 0.002546148949713558, 0.000181867782122397, 0.009638992452487042, 1, 0.020369191597708464, 1, 1, 0.0033645539692643447, 0.022278803309993635, 0.0018186778212239702, 0.007001909611712286, 0.0040920250977539326, 0.004819496226243521, 0.0038192234245703373, 0.019914522142402472, 1, 0.019005183231790488, 1, 0.0016368100391015732, 0.0056379012457943075, 0.019914522142402472, 0.022278803309993635, 0.002546148949713558, 0.019005183231790488, 0.002546148949713558, 0.01464035646085296, 0.022278803309993635, 0.0024552150586523596, 0.0021824133854687643, 0.019005183231790488, 1, 0.0022733472765299628, 0.0038192234245703373, 0.019005183231790488, 1, 1, 0.010912066927343821, 0.0036373556424479404, 0.0011821405837955806, 0.0038192234245703373, 0.019005183231790488, 0.000363735564244794, 1, 0.009638992452487042, 0.004455760661998727, 0.0006365372374283895, 0.0020914794944075655, 0.02009638992452487, 1, 0.007001909611712286, 0.0040920250977539326, 1, 1, 0.0018186778212239702, 0.019914522142402472, 0.0024552150586523596, 0.016640902064199325, 0.0017277439301627716, 0.0018186778212239702, 0.005546967354733109, 0.001454942256979176, 0.008184050195507865, 0.019005183231790488, 1]\n",
      "0.42934782608695654\n",
      "5.004275389760873e-208\n",
      "['lol']\n",
      "[0.000181867782122397]\n",
      "0.42934782608695654\n",
      "7.808453688950741e-05\n",
      "['we', 'are', 'an', 'edm', 'apparel', 'company', 'dedicated', 'to', 'bringing', 'you', 'music', 'inspired', 'designs', 'our', 'clothing', 'is', 'perfect', 'for', 'any', 'rave', 'or', 'music', 'festival', 'we', 'have', 'neon', 'crop', 'tops', 'tank', 'tops', 't', 'shirts', 'v', 'necks', 'and', 'accessories', 'follow', 'us', 'on', 'facebook', 'or', 'on', 'instagraml', 'for', 'free', 'giveaways', 'news', 'and', 'more', 'visit', 'our', 'site', 'at', 'oncueapparel']\n",
      "[0.0021824133854687643, 0.0020914794944075655, 0.0010002728016731835, 1, 1, 1, 1, 0.019914522142402472, 1, 0.02009638992452487, 0.003728289533509139, 1, 1, 0.0024552150586523596, 1, 0.003910157315631536, 9.09338910611985e-05, 0.010912066927343821, 0.0013640083659179777, 1, 0.0021824133854687643, 0.003728289533509139, 1, 0.0021824133854687643, 0.004819496226243521, 1, 1, 1, 1, 1, 0.0040920250977539326, 1, 0.0011821405837955806, 1, 0.020369191597708464, 1, 1, 0.0020914794944075655, 0.01464035646085296, 1, 0.0021824133854687643, 0.01464035646085296, 1, 0.010912066927343821, 0.002000545603346367, 1, 0.00045466945530599255, 0.020369191597708464, 0.0022733472765299628, 1, 0.0024552150586523596, 1, 0.003728289533509139, 1]\n",
      "0.42934782608695654\n",
      "1.319167604983731e-72\n",
      "['check', 'my', 'channel', 'out', 'please', 'i', 'do', 'singing', 'covers']\n",
      "[0.022733472765299627, 0.022278803309993635, 1, 0.02264253887423843, 0.010093661907793034, 0.022278803309993635, 0.002546148949713558, 0.000181867782122397, 1]\n",
      "0.42934782608695654\n",
      "5.127105136614308e-16\n",
      "['facebook', 'is', 'lame', 'and', 'so', '2004', 'check', 'out', 'swagfriends', 'com', 'make', 'thousands', 'of', 'cool', 'new', 'friends', 'everyday', 'join', 'this', 'new', 'movement']\n",
      "[1, 0.003910157315631536, 1, 0.020369191597708464, 0.0045466945530599255, 1, 0.022733472765299627, 0.02264253887423843, 1, 0.0122760752932618, 0.0028189506228971538, 1, 0.009638992452487042, 0.00045466945530599255, 1, 0.0006365372374283895, 0.00045466945530599255, 1, 0.018004910430117305, 1, 1]\n",
      "0.42934782608695654\n",
      "6.324831619975872e-29\n",
      "['you', 'guys', 'should', 'check', 'out', 'this', 'extraordinary', 'website', 'called', 'moneygq', 'com', 'you', 'can', 'make', 'money', 'online', 'and', 'start', 'working', 'from', 'home', 'today', 'as', 'i', 'am', 'i', 'am', 'making', 'over', '3', '000', 'per', 'month', 'at', 'moneygq', 'com', 'visit', 'moneygq', 'com', 'and', 'check', 'it', 'out', 'the', 'cook', 'officiates', 'the', 'tax', 'the', 'walk', 'judges', 'the', 'amount', 'why', 'does', 'the', 'ink', 'train', 'the', 'valuable', 'increase']\n",
      "[0.02009638992452487, 0.005274165681549514, 0.001273074474856779, 0.022733472765299627, 0.02264253887423843, 0.018004910430117305, 1, 1, 1, 1, 0.0122760752932618, 0.02009638992452487, 0.0056379012457943075, 0.0028189506228971538, 0.0038192234245703373, 1, 0.020369191597708464, 0.0011821405837955806, 1, 0.0028189506228971538, 1, 0.0010912066927343822, 0.002546148949713558, 0.022278803309993635, 0.002909884513958352, 0.022278803309993635, 0.002909884513958352, 0.0011821405837955806, 0.001273074474856779, 0.0015458761480403747, 0.0010912066927343822, 1, 1, 0.003728289533509139, 1, 0.0122760752932618, 1, 1, 0.0122760752932618, 0.020369191597708464, 0.022733472765299627, 0.010912066927343821, 0.02264253887423843, 0.016640902064199325, 1, 1, 0.016640902064199325, 1, 0.016640902064199325, 1, 1, 0.016640902064199325, 1, 0.0006365372374283895, 0.0011821405837955806, 0.016640902064199325, 1, 1, 0.016640902064199325, 1, 1]\n",
      "0.42934782608695654\n",
      "1.6618431191625463e-86\n",
      "['2015', 'but', 'im', 'still', 'listening', 'to', 'this']\n",
      "[0.0005456033463671911, 0.0033645539692643447, 0.001454942256979176, 0.0005456033463671911, 9.09338910611985e-05, 0.019914522142402472, 0.018004910430117305]\n",
      "0.42934782608695654\n",
      "2.0399672981592806e-20\n",
      "['love', 'itt', 'and', 'ppl', 'check', 'out', 'my', 'channel']\n",
      "[0.002000545603346367, 1, 0.020369191597708464, 1, 0.022733472765299627, 0.02264253887423843, 0.022278803309993635, 1]\n",
      "0.42934782608695654\n",
      "2.0063850461004953e-10\n",
      "['youtube', 'codytolleson', 'for', 'awesome', 'videos', \"i'll\", 'subscribe', 'back']\n",
      "[0.010002728016731835, 1, 0.010912066927343821, 0.00027280167318359554, 0.0024552150586523596, 1, 0.010730199145221424, 0.0011821405837955806]\n",
      "0.42934782608695654\n",
      "3.9815138212275046e-16\n",
      "['its', 'almost', 'katys', 'birthday', 'october', '25th', 'lets', 'say', 'happy', 'birthday', 'to', 'katy']\n",
      "[0.0010912066927343822, 1, 1, 0.000181867782122397, 1, 1, 0.000181867782122397, 0.00027280167318359554, 1, 0.000181867782122397, 0.019914522142402472, 0.0011821405837955806]\n",
      "0.42934782608695654\n",
      "1.8099627952546173e-23\n",
      "['still', 'watching', 'this', '2', 'years', 'later']\n",
      "[0.0005456033463671911, 0.0010002728016731835, 0.018004910430117305, 0.000727471128489588, 9.09338910611985e-05, 1]\n",
      "0.42934782608695654\n",
      "2.7908548886711724e-16\n",
      "['me', 'shaking', 'my', 'sexy', 'ass', 'on', 'my', 'channel', 'enjoy']\n",
      "[0.008184050195507865, 1, 0.022278803309993635, 0.000181867782122397, 9.09338910611985e-05, 0.01464035646085296, 0.022278803309993635, 1, 1]\n",
      "0.42934782608695654\n",
      "4.222741222106785e-16\n",
      "['hi', 'check', 'out', 'and', 'share', 'our', 'songs']\n"
     ]
    },
    {
     "name": "stdout",
     "output_type": "stream",
     "text": [
      "[0.0013640083659179777, 0.022733472765299627, 0.02264253887423843, 0.020369191597708464, 0.0022733472765299628, 0.0024552150586523596, 0.0011821405837955806]\n",
      "0.42934782608695654\n",
      "4.051496342631161e-17\n",
      "['i', 'am', 'so', 'awesome', 'and', 'smart', 'sucscribe', 'to', 'me']\n",
      "[0.022278803309993635, 0.002909884513958352, 0.0045466945530599255, 0.00027280167318359554, 0.020369191597708464, 1, 1, 0.019914522142402472, 0.008184050195507865]\n",
      "0.42934782608695654\n",
      "1.1461241331181544e-16\n",
      "['how', 'stupid', 'humanity', 'is']\n",
      "[0.0013640083659179777, 9.09338910611985e-05, 1, 0.003910157315631536]\n",
      "0.42934782608695654\n",
      "2.0823144254538143e-10\n",
      "['love', 'this', 'video', 'and', 'the', 'song', 'of', 'course']\n",
      "[0.002000545603346367, 0.018004910430117305, 0.01036646358097663, 0.020369191597708464, 0.016640902064199325, 0.0018186778212239702, 0.009638992452487042, 1]\n",
      "0.42934782608695654\n",
      "9.526149311860122e-16\n",
      "['check', 'out', 'this', 'dope', 'channel', 'phenomenallyricshere', 'check', 'out', 'this', 'dope', 'channel', 'phenomenallyricshere', 'check', 'out', 'this', 'dope', 'channel', 'phenomenallyricshere', 'check', 'out', 'this', 'dope', 'channel', 'phenomenallyricshere', 'check', 'out', 'this', 'dope', 'channel', 'phenomenallyricshere', 'check', 'out', 'this', 'dope', 'channel', 'phenomenallyricshere', 'check', 'out', 'this', 'dope', 'channel', 'phenomenallyricshere', 'check', 'out', 'this', 'dope', 'channel', 'phenomenallyricshere', 'check', 'out', 'this', 'dope', 'channel', 'phenomenallyricshere']\n",
      "[0.022733472765299627, 0.02264253887423843, 0.018004910430117305, 1, 1, 1, 0.022733472765299627, 0.02264253887423843, 0.018004910430117305, 1, 1, 1, 0.022733472765299627, 0.02264253887423843, 0.018004910430117305, 1, 1, 1, 0.022733472765299627, 0.02264253887423843, 0.018004910430117305, 1, 1, 1, 0.022733472765299627, 0.02264253887423843, 0.018004910430117305, 1, 1, 1, 0.022733472765299627, 0.02264253887423843, 0.018004910430117305, 1, 1, 1, 0.022733472765299627, 0.02264253887423843, 0.018004910430117305, 1, 1, 1, 0.022733472765299627, 0.02264253887423843, 0.018004910430117305, 1, 1, 1, 0.022733472765299627, 0.02264253887423843, 0.018004910430117305, 1, 1, 1]\n",
      "0.42934782608695654\n",
      "2.165938425401637e-46\n",
      "['so', 'cute', 'that', 'monkey']\n",
      "[0.0045466945530599255, 9.09338910611985e-05, 0.0020914794944075655, 1]\n",
      "0.42934782608695654\n",
      "3.7126536267781185e-10\n",
      "['hi', 'check', 'out', 'and', 'share', 'our', 'songs']\n",
      "[0.0013640083659179777, 0.022733472765299627, 0.02264253887423843, 0.020369191597708464, 0.0022733472765299628, 0.0024552150586523596, 0.0011821405837955806]\n",
      "0.42934782608695654\n",
      "4.051496342631161e-17\n",
      "['he', 'gets', 'more', 'views', 'but', 'has', 'less', 'subscribers', 'lol']\n",
      "[0.0017277439301627716, 0.000363735564244794, 0.0022733472765299628, 0.0006365372374283895, 0.0033645539692643447, 0.0015458761480403747, 1, 0.0015458761480403747, 0.000181867782122397]\n",
      "0.42934782608695654\n",
      "5.709481516029437e-25\n",
      "['2', 'billion', 'views', 'for', 'this', 'piece', 'of', 'shit', 'a', 'r', 'e', 'y', 'o', 'u', 'k', 'i', 'd', 'd', 'i', 'n', 'g', 'm', 'e']\n",
      "[0.000727471128489588, 1, 0.0006365372374283895, 0.010912066927343821, 0.018004910430117305, 1, 0.009638992452487042, 0.00045466945530599255, 0.019005183231790488, 0.00045466945530599255, 0.00045466945530599255, 9.09338910611985e-05, 0.000181867782122397, 0.0018186778212239702, 1, 0.022278803309993635, 0.001454942256979176, 0.001454942256979176, 0.022278803309993635, 9.09338910611985e-05, 1, 0.0036373556424479404, 0.00045466945530599255]\n",
      "0.42934782608695654\n",
      "3.196375115907031e-54\n",
      "['i', 'love', 'it', 'and', 'my', 'mom', 'to']\n",
      "[0.022278803309993635, 0.002000545603346367, 0.010912066927343821, 0.020369191597708464, 0.022278803309993635, 1, 0.019914522142402472]\n",
      "0.42934782608695654\n",
      "1.88708797292619e-12\n",
      "['i', 'dont', 'even', 'watch', 'it', 'anymore', 'i', 'just', 'come', 'here', 'to', 'check', 'on', '2', 'billion', 'or', 'not']\n",
      "[0.022278803309993635, 0.0008184050195507866, 0.00045466945530599255, 0.0024552150586523596, 0.010912066927343821, 9.09338910611985e-05, 0.022278803309993635, 0.005546967354733109, 0.0011821405837955806, 0.001454942256979176, 0.019914522142402472, 0.022733472765299627, 0.01464035646085296, 0.000727471128489588, 1, 0.0021824133854687643, 0.0019096117122851686]\n",
      "0.42934782608695654\n",
      "3.703693617015172e-41\n",
      "['look', 'and', 'shares', 'my', 'video', 'please', 'd']\n",
      "[0.0013640083659179777, 0.020369191597708464, 1, 0.022278803309993635, 0.01036646358097663, 0.010093661907793034, 0.001454942256979176]\n",
      "0.42934782608695654\n",
      "4.045918148678512e-14\n",
      "['ways', 'to', 'make', 'money', '50k', 'per', 'month', 'search', 'google', 'now', 'gt', 'gt', '9nl', 'me', 'make', 'money', 'without', 'investment', '1']\n",
      "[1, 0.019914522142402472, 0.0028189506228971538, 0.0038192234245703373, 1, 1, 1, 1, 0.001273074474856779, 0.0010912066927343822, 0.0022733472765299628, 0.0022733472765299628, 1, 0.008184050195507865, 0.0028189506228971538, 0.0038192234245703373, 0.00027280167318359554, 1, 0.0030008184050195506]\n",
      "0.42934782608695654\n",
      "4.7670713704929784e-32\n",
      "['follow', 'me', 'gt', 'https', 'twitter', 'com', 'f0llowshoutouts']\n",
      "[1, 0.008184050195507865, 0.0022733472765299628, 0.00427389287987633, 1, 0.0122760752932618, 1]\n",
      "0.42934782608695654\n",
      "4.191085421659751e-10\n",
      "['that', 'was', 'very', 'good', 'i', 'mean', 'very', 'very', 'much', 'good']\n",
      "[0.0020914794944075655, 0.000727471128489588, 0.00027280167318359554, 0.0009093389106119851, 0.022278803309993635, 0.00045466945530599255, 0.00027280167318359554, 0.00027280167318359554, 0.0011821405837955806, 0.0009093389106119851]\n",
      "0.42934782608695654\n",
      "1.3131914484176738e-31\n",
      "['love', 'the', 'video']\n",
      "[0.002000545603346367, 0.016640902064199325, 0.01036646358097663]\n",
      "0.42934782608695654\n",
      "1.481716834052689e-07\n",
      "['check', 'out', 'this', 'playlist', 'on', 'youtube']\n",
      "[0.022733472765299627, 0.02264253887423843, 0.018004910430117305, 1, 0.01464035646085296, 0.010002728016731835]\n",
      "0.42934782608695654\n",
      "5.827217793330138e-10\n",
      "['i', 'like', 'you', 'katy', 'perry', '600', '60', '6']\n",
      "[0.022278803309993635, 0.007365645175957079, 0.02009638992452487, 0.0011821405837955806, 0.00045466945530599255, 0.000181867782122397, 1, 0.00027280167318359554]\n",
      "0.42934782608695654\n",
      "3.7757017120785583e-20\n",
      "['also', 'luckymusiqlive', 'she', 'probably', 'could', 'help', 'u', 'make', 'it', 'big', 'because', 'i', 'think', 'u', 'have', 'talent', 'just', 'look', 'her', 'name', 'up', 'on', 'the', 'internet', 'hit', 'me', 'up', 'when', 'u', 'get', 'this', 'message']\n",
      "[0.0011821405837955806, 1, 0.0005456033463671911, 0.0006365372374283895, 0.0019096117122851686, 0.0021824133854687643, 0.0018186778212239702, 0.0028189506228971538, 0.010912066927343821, 0.00027280167318359554, 0.0011821405837955806, 0.022278803309993635, 0.0010912066927343822, 0.0018186778212239702, 0.004819496226243521, 1, 0.005546967354733109, 0.0013640083659179777, 0.00045466945530599255, 0.000363735564244794, 0.0056379012457943075, 0.01464035646085296, 0.016640902064199325, 1, 0.000363735564244794, 0.008184050195507865, 0.0056379012457943075, 0.0008184050195507866, 0.0018186778212239702, 0.003546421751386742, 0.018004910430117305, 0.00027280167318359554]\n",
      "0.42934782608695654\n",
      "2.1120692394997409e-78\n",
      "['i', 'love', 'katty', 'perry']\n",
      "[0.022278803309993635, 0.002000545603346367, 9.09338910611985e-05, 0.00045466945530599255]\n",
      "0.42934782608695654\n",
      "7.911724165220577e-13\n",
      "['like', 'this', 'comment', 'if', 'you', '39', 're', 'watching', 'this', 'video', 'when', 'big', 'bang', 'happened', 'br', 'i', 'do']\n",
      "[0.007365645175957079, 0.018004910430117305, 0.002546148949713558, 0.008456851868691462, 0.02009638992452487, 0.007001909611712286, 0.000181867782122397, 0.0010002728016731835, 0.018004910430117305, 0.01036646358097663, 0.0008184050195507866, 0.00027280167318359554, 1, 1, 0.006910975720651086, 0.022278803309993635, 0.002546148949713558]\n",
      "0.42934782608695654\n",
      "5.127011303493743e-37\n",
      "['follow', 'me', 'on', 'twitter', 'amp', 'ig', 'killuminati94']\n",
      "[1, 0.008184050195507865, 0.01464035646085296, 1, 0.0060925707011003005, 1, 1]\n",
      "0.42934782608695654\n",
      "3.1342221917260876e-07\n",
      "['take', 'a', 'look', 'at', 'this', 'video', 'on', 'youtub', 'br', 'you']\n",
      "[1, 0.019005183231790488, 0.0013640083659179777, 0.003728289533509139, 0.018004910430117305, 0.01036646358097663, 0.01464035646085296, 1, 0.006910975720651086, 0.02009638992452487]\n",
      "0.42934782608695654\n",
      "1.5748480365905627e-17\n",
      "['everyone', 'please', 'come', 'check', 'our', 'newest', 'song', 'in', 'memories', 'of', 'martin', 'luther', 'king', 'jr']\n",
      "[0.0021824133854687643, 0.010093661907793034, 0.0011821405837955806, 0.022733472765299627, 0.0024552150586523596, 1, 0.0018186778212239702, 0.0045466945530599255, 1, 0.009638992452487042, 1, 1, 1, 1]\n",
      "0.42934782608695654\n",
      "4.973964470610406e-20\n",
      "['what', 'the', 'hell', 'this', 'song', 'is', 'already', 'five', 'years', 'old', 'i', 'remember', 'when', 'it', 'first', 'came', 'out', 'this', 'was', 'my', 'jam']\n",
      "[0.0006365372374283895, 0.016640902064199325, 1, 0.018004910430117305, 0.0018186778212239702, 0.003910157315631536, 1, 1, 9.09338910611985e-05, 0.0008184050195507866, 0.022278803309993635, 0.000363735564244794, 0.0008184050195507866, 0.010912066927343821, 0.0008184050195507866, 1, 0.02264253887423843, 0.018004910430117305, 0.000727471128489588, 0.022278803309993635, 1]\n",
      "0.42934782608695654\n",
      "1.6958596125370962e-41\n",
      "['hey', 'check', 'out', 'my', 'new', 'website', 'this', 'site', 'is', 'about', 'kids', 'stuff', 'kidsmediausa', 'com']\n",
      "[0.0030917522960807495, 0.022733472765299627, 0.02264253887423843, 0.022278803309993635, 1, 1, 0.018004910430117305, 1, 0.003910157315631536, 0.001273074474856779, 1, 1, 1, 0.0122760752932618]\n",
      "0.42934782608695654\n",
      "1.674924653363954e-17\n",
      "['is', 'that', 'tiger', 'called', \"'katty\", \"purry'\"]\n",
      "[0.003910157315631536, 0.0020914794944075655, 0.000181867782122397, 1, 1, 1]\n",
      "0.42934782608695654\n",
      "6.385764238058363e-10\n",
      "['check', 'out', 'my', 'music', 'video', 'on', 'my', 'chanel']\n",
      "[0.022733472765299627, 0.02264253887423843, 0.022278803309993635, 0.003728289533509139, 0.01036646358097663, 0.01464035646085296, 0.022278803309993635, 1]\n",
      "0.42934782608695654\n",
      "6.206915049508013e-14\n",
      "['check', 'out', 'this', 'video', 'on', 'youtube']\n",
      "[0.022733472765299627, 0.02264253887423843, 0.018004910430117305, 0.01036646358097663, 0.01464035646085296, 0.010002728016731835]\n",
      "0.42934782608695654\n",
      "6.040764103297587e-12\n",
      "['please', 'do', 'buy', 'these', 'new', 'christmas', 'shirts', 'you', 'can', 'buy', 'at', 'any', 'time', 'before', 'december', '4th', 'and', 'they', 'are', 'sold', 'worldwide', \"don't\", 'miss', 'out', 'http', 'teespring', 'com', 'treechristmas']\n",
      "[0.010093661907793034, 0.002546148949713558, 0.000363735564244794, 0.0008184050195507866, 1, 1, 1, 0.02009638992452487, 0.0056379012457943075, 0.000363735564244794, 0.003728289533509139, 0.0013640083659179777, 0.001454942256979176, 0.0006365372374283895, 1, 1, 0.020369191597708464, 0.0010912066927343822, 0.0020914794944075655, 1, 1, 0.0008184050195507866, 0.000181867782122397, 0.02264253887423843, 0.005001364008365918, 1, 0.0122760752932618, 1]\n",
      "0.42934782608695654\n",
      "6.132605196752846e-51\n",
      "['every', 'single', 'one', 'of', 'his', 'songs', 'brings', 'me', 'back', 'to', 'place', 'i', 'can', 'never', 'go', 'back', 'to', 'and', 'it', 'hurts', 'so', 'bad', 'inside']\n",
      "[0.00027280167318359554, 9.09338910611985e-05, 0.0016368100391015732, 0.009638992452487042, 0.0008184050195507866, 0.0011821405837955806, 1, 0.008184050195507865, 0.0011821405837955806, 0.019914522142402472, 9.09338910611985e-05, 0.022278803309993635, 0.0056379012457943075, 0.00027280167318359554, 0.0019096117122851686, 0.0011821405837955806, 0.019914522142402472, 0.020369191597708464, 0.010912066927343821, 1, 0.0045466945530599255, 0.000181867782122397, 1]\n",
      "0.42934782608695654\n",
      "8.06408850248094e-55\n",
      "[\"i'm\", 'here', 'to', 'check', 'the', 'views', 'holy', 'shit']\n",
      "[0.001454942256979176, 0.001454942256979176, 0.019914522142402472, 0.022733472765299627, 0.016640902064199325, 0.0006365372374283895, 9.09338910611985e-05, 0.00045466945530599255]\n",
      "0.42934782608695654\n",
      "1.8020161992285103e-22\n",
      "['goood']\n",
      "[1]\n",
      "0.42934782608695654\n",
      "0.42934782608695654\n",
      "['check', 'out', 'the', 'new', 'hot', 'video', 'by', 'dante', 'b', 'called', 'riled', 'up']\n",
      "[0.022733472765299627, 0.02264253887423843, 0.016640902064199325, 1, 0.00027280167318359554, 0.01036646358097663, 0.0017277439301627716, 1, 0.00027280167318359554, 1, 1, 0.0056379012457943075]\n",
      "0.42934782608695654\n",
      "2.7637487844272267e-20\n",
      "['everyday', 'i', '39', 'm', 'subscribe']\n",
      "[0.00045466945530599255, 0.022278803309993635, 0.007001909611712286, 0.0036373556424479404, 0.010730199145221424]\n",
      "0.42934782608695654\n",
      "1.1885212622482857e-12\n",
      "['3', '46', 'so', 'cute']\n",
      "[0.0015458761480403747, 1, 0.0045466945530599255, 9.09338910611985e-05]\n",
      "0.42934782608695654\n",
      "2.74413528935774e-10\n",
      "['hey', 'its', 'm', 'e', 's', 'here', 'i', '39', 'm', 'a', 'young', 'up', 'and', 'coming', 'rapper', 'and', 'i', 'wanna', 'get', 'my', 'music', 'heard', 'i', 'know', 'spam', 'wont', 'get', 'me', 'fame', 'but', 'at', 'the', 'moment', 'i', 'got', 'no', 'way', 'of', 'getting', 'a', 'little', 'attention', 'so', 'please', 'do', 'me', 'a', 'favour', 'and', 'check', 'out', 'my', 'channel', 'and', 'drop', 'a', 'sub', 'if', 'you', 'enjoy', 'yourself', 'im', 'just', 'getting', 'started', 'so', 'i', 'really', 'appreciate', 'those', 'who', 'take', 'time', 'to', 'leave', 'constructive', 'criticism', 'i', 'already', 'got', '200', 'subscribers', 'and', '4000', 'views', 'on', 'my', 'first', 'vid', 'ive', 'been', 'told', 'i', 'have', 'potential']\n"
     ]
    },
    {
     "name": "stdout",
     "output_type": "stream",
     "text": [
      "[0.0030917522960807495, 0.0010912066927343822, 0.0036373556424479404, 0.00045466945530599255, 0.0030008184050195506, 0.001454942256979176, 0.022278803309993635, 0.007001909611712286, 0.0036373556424479404, 0.019005183231790488, 0.0005456033463671911, 0.0056379012457943075, 0.020369191597708464, 0.00027280167318359554, 0.0015458761480403747, 0.020369191597708464, 0.022278803309993635, 0.000727471128489588, 0.003546421751386742, 0.022278803309993635, 0.003728289533509139, 0.0008184050195507866, 0.022278803309993635, 0.0019096117122851686, 0.000727471128489588, 1, 0.003546421751386742, 0.008184050195507865, 1, 0.0033645539692643447, 0.003728289533509139, 0.016640902064199325, 0.0005456033463671911, 0.022278803309993635, 0.0009093389106119851, 0.002000545603346367, 0.0010912066927343822, 0.009638992452487042, 0.0011821405837955806, 0.019005183231790488, 0.000363735564244794, 0.00045466945530599255, 0.0045466945530599255, 0.010093661907793034, 0.002546148949713558, 0.008184050195507865, 0.019005183231790488, 1, 0.020369191597708464, 0.022733472765299627, 0.02264253887423843, 0.022278803309993635, 1, 0.020369191597708464, 0.000363735564244794, 0.019005183231790488, 1, 0.008456851868691462, 0.02009638992452487, 1, 1, 0.001454942256979176, 0.005546967354733109, 0.0011821405837955806, 0.0009093389106119851, 0.0045466945530599255, 0.022278803309993635, 0.0017277439301627716, 0.0010002728016731835, 0.0010002728016731835, 0.0018186778212239702, 1, 0.001454942256979176, 0.019914522142402472, 1, 1, 1, 0.022278803309993635, 1, 0.0009093389106119851, 1, 0.0015458761480403747, 0.020369191597708464, 1, 0.0006365372374283895, 0.01464035646085296, 0.022278803309993635, 0.0008184050195507866, 1, 1, 0.0006365372374283895, 1, 0.022278803309993635, 0.004819496226243521, 1]\n",
      "0.42934782608695654\n",
      "2.315740763252997e-186\n",
      "['part', '2', 'holy', 'mary', 'pray', 'for', 'us', 'holy', 'mother', 'of', 'god', 'pray', 'for', 'us', 'holy', 'virgin', 'of', 'virgins', 'pray', 'for', 'us', 'mother', 'of', 'christ', 'pray', 'for', 'us', 'mother', 'of', 'divine', 'grace', 'pray', 'for', 'us', 'mother', 'most', 'pure', 'pray', 'for', 'us', 'mother', 'most', 'chaste', 'pray', 'for', 'us', 'mother', 'inviolate', 'pray', 'for', 'us', 'mother', 'undefiled', 'pray', 'for', 'us', 'mother', 'most', 'amiable', 'pray', 'for', 'us', 'mother', 'most', 'admirable', 'pray', 'for', 'us', 'mother', 'of', 'good', 'counsel', 'pray', 'for', 'us', 'mother', 'of', 'our', 'creator', 'pray', 'for', 'us', 'mother', 'of', 'our', 'redeemer', 'pray', 'for', 'us']\n",
      "[0.000363735564244794, 0.000727471128489588, 9.09338910611985e-05, 1, 0.001273074474856779, 0.010912066927343821, 0.0020914794944075655, 9.09338910611985e-05, 9.09338910611985e-05, 0.009638992452487042, 0.00045466945530599255, 0.001273074474856779, 0.010912066927343821, 0.0020914794944075655, 9.09338910611985e-05, 1, 0.009638992452487042, 1, 0.001273074474856779, 0.010912066927343821, 0.0020914794944075655, 9.09338910611985e-05, 0.009638992452487042, 1, 0.001273074474856779, 0.010912066927343821, 0.0020914794944075655, 9.09338910611985e-05, 0.009638992452487042, 1, 1, 0.001273074474856779, 0.010912066927343821, 0.0020914794944075655, 9.09338910611985e-05, 0.0008184050195507866, 1, 0.001273074474856779, 0.010912066927343821, 0.0020914794944075655, 9.09338910611985e-05, 0.0008184050195507866, 1, 0.001273074474856779, 0.010912066927343821, 0.0020914794944075655, 9.09338910611985e-05, 1, 0.001273074474856779, 0.010912066927343821, 0.0020914794944075655, 9.09338910611985e-05, 1, 0.001273074474856779, 0.010912066927343821, 0.0020914794944075655, 9.09338910611985e-05, 0.0008184050195507866, 1, 0.001273074474856779, 0.010912066927343821, 0.0020914794944075655, 9.09338910611985e-05, 0.0008184050195507866, 1, 0.001273074474856779, 0.010912066927343821, 0.0020914794944075655, 9.09338910611985e-05, 0.009638992452487042, 0.0009093389106119851, 1, 0.001273074474856779, 0.010912066927343821, 0.0020914794944075655, 9.09338910611985e-05, 0.009638992452487042, 0.0024552150586523596, 1, 0.001273074474856779, 0.010912066927343821, 0.0020914794944075655, 9.09338910611985e-05, 0.009638992452487042, 0.0024552150586523596, 1, 0.001273074474856779, 0.010912066927343821, 0.0020914794944075655]\n",
      "0.42934782608695654\n",
      "7.210989584353915e-212\n",
      "['lets', 'be', 'honest', 'you', \"wouldn't\", 'last', '1', 'day', 'on', 'your', 'own', 'in', 'the', 'jungle', 'stop', 'living', 'n', 'a', 'fairy', 'world']\n",
      "[0.000181867782122397, 0.0038192234245703373, 1, 0.02009638992452487, 1, 1, 0.0030008184050195506, 0.0006365372374283895, 0.01464035646085296, 0.004455760661998727, 0.00045466945530599255, 0.0045466945530599255, 0.016640902064199325, 1, 0.00045466945530599255, 1, 9.09338910611985e-05, 0.019005183231790488, 1, 0.0008184050195507866]\n",
      "0.42934782608695654\n",
      "1.652058841317554e-38\n",
      "['this', 'is', 'a', 'weird', 'video']\n",
      "[0.018004910430117305, 0.003910157315631536, 0.019005183231790488, 9.09338910611985e-05, 0.01036646358097663]\n",
      "0.42934782608695654\n",
      "5.415305054605327e-13\n",
      "['this', 'video', 'is', 'kinda', 'close', 'to', '1', 'million', 'views', 'br']\n",
      "[0.018004910430117305, 0.01036646358097663, 0.003910157315631536, 1, 1, 0.019914522142402472, 0.0030008184050195506, 0.000363735564244794, 0.0006365372374283895, 0.006910975720651086]\n",
      "0.42934782608695654\n",
      "2.996288609962596e-20\n",
      "['check', 'out', 'this', 'video', 'on', 'youtube']\n",
      "[0.022733472765299627, 0.02264253887423843, 0.018004910430117305, 0.01036646358097663, 0.01464035646085296, 0.010002728016731835]\n",
      "0.42934782608695654\n",
      "6.040764103297587e-12\n",
      "['eminem', 'rihanna']\n",
      "[0.0015458761480403747, 0.0009093389106119851]\n",
      "0.42934782608695654\n",
      "6.035451155413414e-07\n",
      "['5', 'years']\n",
      "[0.000363735564244794, 9.09338910611985e-05]\n",
      "0.42934782608695654\n",
      "1.4201061542149205e-08\n",
      "['lets', 'party']\n",
      "[0.000181867782122397, 9.09338910611985e-05]\n",
      "0.42934782608695654\n",
      "7.100530771074603e-09\n",
      "['check', 'out', 'this', 'playlist', 'on', 'youtube']\n",
      "[0.022733472765299627, 0.02264253887423843, 0.018004910430117305, 1, 0.01464035646085296, 0.010002728016731835]\n",
      "0.42934782608695654\n",
      "5.827217793330138e-10\n",
      "['put', 'famous', 'people', 'in', 'the', 'jungle', 'for', 'an', 'hour', 'and', 'look', 'what', 'happens']\n",
      "[0.000727471128489588, 0.00027280167318359554, 0.0017277439301627716, 0.0045466945530599255, 0.016640902064199325, 1, 0.010912066927343821, 0.0010002728016731835, 1, 0.020369191597708464, 0.0013640083659179777, 0.0006365372374283895, 1]\n",
      "0.42934782608695654\n",
      "2.150127446801584e-27\n",
      "['plz', 'help', 'me', 'getting', '1', '000', 'subscribers', 'tonight', 'today', 'thanks', 'to', 'all', 'who', 'sub', 'me']\n",
      "[1, 0.0021824133854687643, 0.008184050195507865, 0.0011821405837955806, 0.0030008184050195506, 0.0010912066927343822, 0.0015458761480403747, 9.09338910611985e-05, 0.0010912066927343822, 0.002546148949713558, 0.019914522142402472, 0.0024552150586523596, 0.0018186778212239702, 1, 0.008184050195507865]\n",
      "0.42934782608695654\n",
      "8.437333483544303e-36\n",
      "['man', 'check', 'out', 'the', 'raps', 'on', 'my', 'channel', 'im', 'better', 'rapper', 'than', 'these', 'nigger', 'fools']\n",
      "[9.09338910611985e-05, 0.022733472765299627, 0.02264253887423843, 0.016640902064199325, 1, 0.01464035646085296, 0.022278803309993635, 1, 0.001454942256979176, 0.00045466945530599255, 0.0015458761480403747, 0.0006365372374283895, 0.0008184050195507866, 1, 1]\n",
      "0.42934782608695654\n",
      "5.811050590735713e-29\n",
      "['like', 'eminen']\n",
      "[0.007365645175957079, 1]\n",
      "0.42934782608695654\n",
      "0.0031624237440250505\n",
      "['follow', 'me', 'on', 'instagram', 'chris', 'cz']\n",
      "[1, 0.008184050195507865, 0.01464035646085296, 1, 1, 1]\n",
      "0.42934782608695654\n",
      "5.14433454364355e-05\n",
      "['who', 'the', 'fuck', 'cheats', 'on', 'megan', 'fox']\n",
      "[0.0018186778212239702, 0.016640902064199325, 9.09338910611985e-05, 1, 0.01464035646085296, 1, 9.09338910611985e-05]\n",
      "0.42934782608695654\n",
      "1.5730593354935482e-15\n",
      "['http', 'hackfbaccountlive', 'com', 'ref', '5242575']\n",
      "[0.005001364008365918, 1, 0.0122760752932618, 1, 1]\n",
      "0.42934782608695654\n",
      "2.6360720487614467e-05\n",
      "['why', 'dafuq', 'is', 'a', 'korean', 'song', 'so', 'big', 'in', 'the', 'usa', 'does', 'that', 'mean', 'we', 'support', 'koreans', 'last', 'time', 'i', 'checked', 'they', 'wanted', 'to', 'bomb', 'us']\n",
      "[0.0006365372374283895, 1, 0.003910157315631536, 0.019005183231790488, 1, 0.0018186778212239702, 0.0045466945530599255, 0.00027280167318359554, 0.0045466945530599255, 0.016640902064199325, 1, 0.0011821405837955806, 0.0020914794944075655, 0.00045466945530599255, 0.0021824133854687643, 1, 1, 1, 0.001454942256979176, 0.022278803309993635, 1, 0.0010912066927343822, 0.00027280167318359554, 0.019914522142402472, 1, 0.0020914794944075655]\n",
      "0.42934782608695654\n",
      "3.4177579392303843e-48\n",
      "['now', 'its', '1', '884', '034', '783', 'views', 'pls', 'comment', 'the', 'view', 'count', 'the', 'next', 'hour', 'p']\n"
     ]
    },
    {
     "name": "stdout",
     "output_type": "stream",
     "text": [
      "[0.0010912066927343822, 0.0010912066927343822, 0.0030008184050195506, 1, 1, 1, 0.0006365372374283895, 1, 0.002546148949713558, 0.016640902064199325, 0.000363735564244794, 1, 0.016640902064199325, 0.00027280167318359554, 1, 0.00045466945530599255]\n",
      "0.42934782608695654\n",
      "3.106368337615973e-29\n",
      "['314']\n",
      "[1]\n",
      "0.42934782608695654\n",
      "0.42934782608695654\n",
      "['this', 'song', 'always', 'gives', 'me', 'chills']\n",
      "[0.018004910430117305, 0.0018186778212239702, 9.09338910611985e-05, 9.09338910611985e-05, 0.008184050195507865, 1]\n",
      "0.42934782608695654\n",
      "9.514278029560815e-16\n",
      "['hot', 'hot']\n",
      "[0.00027280167318359554, 0.00027280167318359554]\n",
      "0.42934782608695654\n",
      "3.195238846983572e-08\n",
      "['check', 'out', 'this', 'video', 'on', 'youtube']\n",
      "[0.022733472765299627, 0.02264253887423843, 0.018004910430117305, 0.01036646358097663, 0.01464035646085296, 0.010002728016731835]\n",
      "0.42934782608695654\n",
      "6.040764103297587e-12\n",
      "['ilove', 'shakira']\n",
      "[1, 0.000363735564244794]\n",
      "0.42934782608695654\n",
      "0.00015616907377901483\n",
      "['want', 'a', 'sub', 'tell', 'me', 'about', 'your', 'channel', 'and', 'i', 'will', 'subscribe', 'with', 'a', 'couple', 'exceptions']\n",
      "[0.001454942256979176, 0.019005183231790488, 1, 0.000727471128489588, 0.008184050195507865, 0.001273074474856779, 0.004455760661998727, 1, 0.020369191597708464, 0.022278803309993635, 0.0036373556424479404, 0.010730199145221424, 0.002637082840774757, 0.019005183231790488, 1, 1]\n",
      "0.42934782608695654\n",
      "3.5591134673670976e-28\n",
      "['https', 'www', 'facebook', 'com', 'myfunnyriddles']\n",
      "[0.00427389287987633, 0.004910430117304719, 1, 0.0122760752932618, 1]\n",
      "0.42934782608695654\n",
      "1.1061447931678147e-07\n",
      "['i', 'really', 'am', 'madly', 'in', 'love', 'with', 'this', 'woman']\n",
      "[0.022278803309993635, 0.0017277439301627716, 0.002909884513958352, 1, 0.0045466945530599255, 0.002000545603346367, 0.002637082840774757, 0.018004910430117305, 1]\n",
      "0.42934782608695654\n",
      "2.0768982952576778e-17\n",
      "['wow', 'comments', 'section', 'on', 'this', 'still', 'active', 'not', 'bad', 'also', '5277478', 'comments', 'now', '79']\n",
      "[1, 0.0005456033463671911, 1, 0.01464035646085296, 0.018004910430117305, 0.0005456033463671911, 1, 0.0019096117122851686, 0.000181867782122397, 0.0011821405837955806, 1, 0.0005456033463671911, 0.0010912066927343822, 1]\n",
      "0.42934782608695654\n",
      "8.234930704128003e-27\n",
      "['men', 'stop', 'being', 'naive', 'idiots', 'believing', 'in', 'love', 'and', 'believing', 'that', 'women', 'actually', 'respect', 'you', 'want', 'a', 'more', 'fulfilling', 'drama', 'fee', 'life', 'check', 'out', 'mgtow', 'there', 'are', 'many', 'channels', 'here', 'on', 'youtube', 'that', 'you', 'can', 'chose', 'from', 'which', 'will', 'give', 'you', 'all', 'the', 'information', 'needed', 'caution', 'not', 'for', 'men', 'who', 'enjoy', 'being', 'disposable', 'providers', 'of', 'utility']\n",
      "[1, 0.00045466945530599255, 0.00027280167318359554, 1, 1, 1, 0.0045466945530599255, 0.002000545603346367, 0.020369191597708464, 1, 0.0020914794944075655, 0.00045466945530599255, 0.000181867782122397, 1, 0.02009638992452487, 0.001454942256979176, 0.019005183231790488, 0.0022733472765299628, 1, 1, 1, 0.0006365372374283895, 0.022733472765299627, 0.02264253887423843, 1, 0.0010002728016731835, 0.0020914794944075655, 0.0006365372374283895, 1, 0.001454942256979176, 0.01464035646085296, 0.010002728016731835, 0.0020914794944075655, 0.02009638992452487, 0.0056379012457943075, 1, 0.0028189506228971538, 9.09338910611985e-05, 0.0036373556424479404, 0.001454942256979176, 0.02009638992452487, 0.0024552150586523596, 0.016640902064199325, 1, 1, 1, 0.0019096117122851686, 0.010912066927343821, 1, 0.0018186778212239702, 1, 0.00027280167318359554, 1, 1, 0.009638992452487042, 1]\n",
      "0.42934782608695654\n",
      "5.27118511133942e-93\n",
      "['best', 'song', 'ever']\n",
      "[0.0011821405837955806, 0.0018186778212239702, 0.000363735564244794]\n",
      "0.42934782608695654\n",
      "3.357530236390647e-10\n",
      "['check', 'out', 'this', 'video', 'on', 'youtube', 'lo']\n",
      "[0.022733472765299627, 0.02264253887423843, 0.018004910430117305, 0.01036646358097663, 0.01464035646085296, 0.010002728016731835, 1]\n",
      "0.42934782608695654\n",
      "6.040764103297587e-12\n",
      "['she', '39', 's', 'so', 'pretty']\n",
      "[0.0005456033463671911, 0.007001909611712286, 0.0030008184050195506, 0.0045466945530599255, 0.000181867782122397]\n",
      "0.42934782608695654\n",
      "4.06999671264546e-15\n",
      "['dumb', 'guy', 'why', 'is', 'there', '2', 'billion', 'views', 'when', 'there', 'are', '7', 'million', 'people', 'on', 'earth', 'also', 'i', 'know', 'what', '1', '1', 'equals', '1', '1', '1', 'i', 'am', 'a', 'smartie', 'pants']\n",
      "[1, 0.00027280167318359554, 0.0006365372374283895, 0.003910157315631536, 0.0010002728016731835, 0.000727471128489588, 1, 0.0006365372374283895, 0.0008184050195507866, 0.0010002728016731835, 0.0020914794944075655, 0.000181867782122397, 0.000363735564244794, 0.0017277439301627716, 0.01464035646085296, 9.09338910611985e-05, 0.0011821405837955806, 0.022278803309993635, 0.0019096117122851686, 0.0006365372374283895, 0.0030008184050195506, 0.0030008184050195506, 1, 0.0030008184050195506, 0.0030008184050195506, 0.0030008184050195506, 0.022278803309993635, 0.002909884513958352, 0.019005183231790488, 1, 1]\n",
      "0.42934782608695654\n",
      "3.376285732683814e-73\n",
      "['thumbs', 'up', 'if', 'your', 'watching', 'in', '2015']\n",
      "[0.0016368100391015732, 0.0056379012457943075, 0.008456851868691462, 0.004455760661998727, 0.0010002728016731835, 0.0045466945530599255, 0.0005456033463671911]\n",
      "0.42934782608695654\n",
      "3.704647202541588e-19\n",
      "['im', 'm', 'e', 's', 'an', 'aspiring', 'young', 'rapper', 'with', 'high', 'hopes', 'i', 'know', 'you', 'will', 'not', 'click', 'this', 'link', 'and', 'check', 'out', 'my', 'channel', 'you', 'just', 'dont', 'want', 'to', 'well', 'its', 'your', 'choice', 'in', 'fact', 'you', 'know', 'what', 'dont', 'click']\n",
      "[0.001454942256979176, 0.0036373556424479404, 0.00045466945530599255, 0.0030008184050195506, 0.0010002728016731835, 1, 0.0005456033463671911, 0.0015458761480403747, 0.002637082840774757, 0.000181867782122397, 1, 0.022278803309993635, 0.0019096117122851686, 0.02009638992452487, 0.0036373556424479404, 0.0019096117122851686, 1, 0.018004910430117305, 1, 0.020369191597708464, 0.022733472765299627, 0.02264253887423843, 0.022278803309993635, 1, 0.02009638992452487, 0.005546967354733109, 0.0008184050195507866, 0.001454942256979176, 0.019914522142402472, 0.000181867782122397, 0.0010912066927343822, 0.004455760661998727, 1, 0.0045466945530599255, 1, 0.02009638992452487, 0.0019096117122851686, 0.0006365372374283895, 0.0008184050195507866, 1]\n",
      "0.42934782608695654\n",
      "6.656601865644034e-81\n",
      "['i', 'love', 'you', 'because', 'u', 'make', 'me', 'smile', 'when', 'im', 'sad', 'you', 'cheer', 'me', 'up', 'with', 'your', 'beautiful', 'songs', 'lt', '3']\n",
      "[0.022278803309993635, 0.002000545603346367, 0.02009638992452487, 0.0011821405837955806, 0.0018186778212239702, 0.0028189506228971538, 0.008184050195507865, 9.09338910611985e-05, 0.0008184050195507866, 0.001454942256979176, 9.09338910611985e-05, 0.02009638992452487, 1, 0.008184050195507865, 0.0056379012457943075, 0.002637082840774757, 0.004455760661998727, 0.00027280167318359554, 0.0011821405837955806, 0.001273074474856779, 0.0015458761480403747]\n",
      "0.42934782608695654\n",
      "1.2986973789701649e-54\n",
      "['charlieee', 'dddd', 'those', 'who', 'saw', 'lost', 'only', 'will', 'understand']\n",
      "[1, 1, 0.0010002728016731835, 0.0018186778212239702, 1, 1, 0.0011821405837955806, 0.0036373556424479404, 0.000181867782122397]\n",
      "0.42934782608695654\n",
      "6.107931574532869e-16\n",
      "['hey', 'if', 'you', 'guys', 'wouldnt', 'mind', 'could', 'you', 'check', 'out', 'my', 'boys', 'and', 'my', 'music', 'we', 'just', 'made', 'a', 'real', 'lyrical', 'song', 'search', 'dna', 'andrew', 'guasch', 'i', 'appreciate', 'it', 'leave', 'some', 'real', 'feedback', 'and', 'keep', 'hip', 'hop', 'alive']\n",
      "[0.0030917522960807495, 0.008456851868691462, 0.02009638992452487, 0.005274165681549514, 1, 0.000181867782122397, 0.0019096117122851686, 0.02009638992452487, 0.022733472765299627, 0.02264253887423843, 0.022278803309993635, 0.00027280167318359554, 0.020369191597708464, 0.022278803309993635, 0.003728289533509139, 0.0021824133854687643, 0.005546967354733109, 0.000363735564244794, 0.019005183231790488, 0.0006365372374283895, 1, 0.0018186778212239702, 1, 1, 1, 1, 0.022278803309993635, 0.0010002728016731835, 0.010912066927343821, 1, 0.0013640083659179777, 0.0006365372374283895, 1, 0.020369191597708464, 0.000181867782122397, 1, 1, 1]\n",
      "0.42934782608695654\n",
      "3.330705709323696e-66\n",
      "['you', 'think', \"you're\", 'smart', 'headbutt', 'your', 'face']\n",
      "[0.02009638992452487, 0.0010912066927343822, 0.000181867782122397, 1, 1, 0.004455760661998727, 0.000181867782122397]\n",
      "0.42934782608695654\n",
      "1.3876110004325126e-15\n",
      "['d', 'this', 'is', 'my', 'favorite', 'song']\n",
      "[0.001454942256979176, 0.018004910430117305, 0.003910157315631536, 0.022278803309993635, 1, 0.0018186778212239702]\n",
      "0.42934782608695654\n",
      "1.7819185607364123e-12\n",
      "['i', 'hate', 'it', 'when', 'laura', 'bennett', 'comes', 'in']\n",
      "[0.022278803309993635, 0.0006365372374283895, 0.010912066927343821, 0.0008184050195507866, 1, 1, 0.000363735564244794, 0.0045466945530599255]\n",
      "0.42934782608695654\n",
      "8.992527890910634e-17\n",
      "['eminem', 'love', 'the', 'way', 'you', 'lie']\n",
      "[0.0015458761480403747, 0.002000545603346367, 0.016640902064199325, 0.0010912066927343822, 0.02009638992452487, 0.000363735564244794]\n",
      "0.42934782608695654\n",
      "1.7624634564826037e-16\n",
      "['i', 'love', 'the', 'way', 'you', 'lie']\n",
      "[0.022278803309993635, 0.002000545603346367, 0.016640902064199325, 0.0010912066927343822, 0.02009638992452487, 0.000363735564244794]\n",
      "0.42934782608695654\n",
      "2.5400208637543398e-15\n",
      "['i', 'love', 'you']\n",
      "[0.022278803309993635, 0.002000545603346367, 0.02009638992452487]\n",
      "0.42934782608695654\n",
      "3.845631194505936e-07\n",
      "['oh', 'my', 'god', 'go', 'to', '1', 'billion', 'of', 'replay', 'i', 'love', 'shakira']\n",
      "[9.09338910611985e-05, 0.022278803309993635, 0.00045466945530599255, 0.0019096117122851686, 0.019914522142402472, 0.0030008184050195506, 1, 0.009638992452487042, 1, 0.022278803309993635, 0.002000545603346367, 0.000363735564244794]\n",
      "0.42934782608695654\n",
      "7.052369810740902e-27\n",
      "['why', 'are', 'they', '5million', 'comments', 'when', 'there', 'is', 'only', '279', '898', 'youtube', 'users', '5million', 'fake', 'account', 'or', 'psy', 'hacked', 'youtube']\n",
      "[0.0006365372374283895, 0.0020914794944075655, 0.0010912066927343822, 1, 0.0005456033463671911, 0.0008184050195507866, 0.0010002728016731835, 0.003910157315631536, 0.0011821405837955806, 1, 1, 0.010002728016731835, 1, 1, 1, 1, 0.0021824133854687643, 0.000181867782122397, 1, 0.010002728016731835]\n",
      "0.42934782608695654\n",
      "5.113880205095786e-35\n",
      "['yo', 'i', 'know', 'nobody', 'will', 'probably', 'even', 'read', 'this', 'but', 'imma', 'type', 'it', 'any', 'way', 'because', 'i', 'hope', 'at', 'least', 'one', 'person', 'will', 'i', '39', 'm', 'a', 'rapper', 'with', 'a', 'dream', 'i', 'know', 'there', '39', 's', 'like', '200k', 'of', 'those', 'in', 'this', 'world', 'but', 'please', 'check', 'out', 'my', 'music', 'and', 'subscribe', 'if', 'you', 'want', 'thanks', 'i', 'would', 'love', 'nothing', 'more', 'than', 'to', 'have', 'a', 'decent', 'following', 'on', 'youtube', 'if', 'anyone', 'reading', 'this', 'could', 'press', 'the', 'quot', 'thumbs', 'up', 'quot', 'other', 'people', 'will', 'see', 'it', 'just', 'a', 'simple', 'button', 'press', 'could', 'make', 'my', 'dream', 'come', 'true', 'thank', 'you']\n",
      "[1, 0.022278803309993635, 0.0019096117122851686, 1, 0.0036373556424479404, 0.0006365372374283895, 0.00045466945530599255, 1, 0.018004910430117305, 0.0033645539692643447, 1, 1, 0.010912066927343821, 0.0013640083659179777, 0.0010912066927343822, 0.0011821405837955806, 0.022278803309993635, 0.0006365372374283895, 0.003728289533509139, 9.09338910611985e-05, 0.0016368100391015732, 0.000363735564244794, 0.0036373556424479404, 0.022278803309993635, 0.007001909611712286, 0.0036373556424479404, 0.019005183231790488, 0.0015458761480403747, 0.002637082840774757, 0.019005183231790488, 0.0009093389106119851, 0.022278803309993635, 0.0019096117122851686, 0.0010002728016731835, 0.007001909611712286, 0.0030008184050195506, 0.007365645175957079, 1, 0.009638992452487042, 0.0010002728016731835, 0.0045466945530599255, 0.018004910430117305, 0.0008184050195507866, 0.0033645539692643447, 0.010093661907793034, 0.022733472765299627, 0.02264253887423843, 0.022278803309993635, 0.003728289533509139, 0.020369191597708464, 0.010730199145221424, 0.008456851868691462, 0.02009638992452487, 0.001454942256979176, 0.002546148949713558, 0.022278803309993635, 0.0022733472765299628, 0.002000545603346367, 0.000727471128489588, 0.0022733472765299628, 0.0006365372374283895, 0.019914522142402472, 0.004819496226243521, 0.019005183231790488, 1, 1, 0.01464035646085296, 0.010002728016731835, 0.008456851868691462, 0.0006365372374283895, 1, 0.018004910430117305, 0.0019096117122851686, 1, 0.016640902064199325, 0.004001091206692734, 0.0016368100391015732, 0.0056379012457943075, 0.004001091206692734, 0.000363735564244794, 0.0017277439301627716, 0.0036373556424479404, 0.002000545603346367, 0.010912066927343821, 0.005546967354733109, 0.019005183231790488, 1, 0.000363735564244794, 1, 0.0019096117122851686, 0.0028189506228971538, 0.022278803309993635, 0.0009093389106119851, 0.0011821405837955806, 0.00045466945530599255, 1, 0.02009638992452487]\n",
      "0.42934782608695654\n",
      "4.3942412850191746e-204\n",
      "['br']\n",
      "[0.006910975720651086]\n",
      "0.42934782608695654\n",
      "0.002967212401801282\n",
      "['http', 'shhort', 'com', 'a', 'r', 'jt2ufxhxc']\n",
      "[0.005001364008365918, 1, 0.0122760752932618, 0.019005183231790488, 0.00045466945530599255, 1]\n",
      "0.42934782608695654\n",
      "2.2778499726703936e-10\n",
      "['i', 'votekatyperry', 'for', 'the', '2014', 'mtv', 'vma', 'best', 'lyric', 'video', 'see', \"who's\", 'in', 'the', 'lead', 'and', 'vote', 'http', 'on', 'mtv', 'com', 'ut15kx']\n"
     ]
    },
    {
     "name": "stdout",
     "output_type": "stream",
     "text": [
      "[0.022278803309993635, 1, 0.010912066927343821, 0.016640902064199325, 0.00045466945530599255, 1, 1, 0.0011821405837955806, 1, 0.01036646358097663, 0.002000545603346367, 1, 0.0045466945530599255, 0.016640902064199325, 1, 0.020369191597708464, 1, 0.005001364008365918, 0.01464035646085296, 1, 0.0122760752932618, 1]\n",
      "0.42934782608695654\n",
      "2.682100813930772e-29\n",
      "['hi', 'this', 'is', 'johnny', '1', 'if', 'you', 'already', 'know', 'my', 'music', 'thumb', 'this', 'up', 'because', 'you', 'found', 'it', 'this', 'way', 'too', '2', 'if', 'you', 'want', 'to', 'hear', 'original', 'songs', 'completely', 'made', 'by', '1', 'person', 'continue', 'reading', 'i', 'sing', 'write', 'original', 'music', 'lyrics', 'amp', 'play', 'guitar', 'bass', 'drums', 'amp', 'keyboards', 'i', '39', 'm', 'a', '1', 'man', 'band', 'my', 'music', 'is', 'completely', 'independent', 'amp', '100', 'listener', 'supported', 'if', 'you', 'want', 'to', 'hear', 'it', 'amp', 'if', 'you', '39', 're', 'willing', 'to', 'help', 'record', 'new', 'album', 'click', 'on', 'my', 'name', 'picture', 'thank', 'you', 'amp', 'enjoy', 'the', 'music', 'wish', 'you', 'awesome', 'day']\n",
      "[0.0013640083659179777, 0.018004910430117305, 0.003910157315631536, 1, 0.0030008184050195506, 0.008456851868691462, 0.02009638992452487, 1, 0.0019096117122851686, 0.022278803309993635, 0.003728289533509139, 0.00027280167318359554, 0.018004910430117305, 0.0056379012457943075, 0.0011821405837955806, 0.02009638992452487, 0.00027280167318359554, 0.010912066927343821, 0.018004910430117305, 0.0010912066927343822, 0.000727471128489588, 0.000727471128489588, 0.008456851868691462, 0.02009638992452487, 0.001454942256979176, 0.019914522142402472, 0.00045466945530599255, 1, 0.0011821405837955806, 1, 0.000363735564244794, 0.0017277439301627716, 0.0030008184050195506, 0.000363735564244794, 1, 1, 0.022278803309993635, 1, 9.09338910611985e-05, 1, 0.003728289533509139, 0.0005456033463671911, 0.0060925707011003005, 1, 1, 1, 1, 0.0060925707011003005, 1, 0.022278803309993635, 0.007001909611712286, 0.0036373556424479404, 0.019005183231790488, 0.0030008184050195506, 9.09338910611985e-05, 0.000181867782122397, 0.022278803309993635, 0.003728289533509139, 0.003910157315631536, 1, 1, 0.0060925707011003005, 0.0005456033463671911, 1, 1, 0.008456851868691462, 0.02009638992452487, 0.001454942256979176, 0.019914522142402472, 0.00045466945530599255, 0.010912066927343821, 0.0060925707011003005, 0.008456851868691462, 0.02009638992452487, 0.007001909611712286, 0.000181867782122397, 1, 0.019914522142402472, 0.0021824133854687643, 0.000181867782122397, 1, 1, 1, 0.01464035646085296, 0.022278803309993635, 0.000363735564244794, 1, 1, 0.02009638992452487, 0.0060925707011003005, 1, 0.016640902064199325, 0.003728289533509139, 1, 0.02009638992452487, 0.00027280167318359554, 0.0006365372374283895]\n",
      "0.42934782608695654\n",
      "8.72661304297419e-180\n",
      "['damnnnnnnnn', 'she', 'is', 'sexy', 'o', 'o']\n",
      "[1, 0.0005456033463671911, 0.003910157315631536, 0.000181867782122397, 0.000181867782122397, 0.000181867782122397]\n",
      "0.42934782608695654\n",
      "5.509952259543638e-18\n",
      "['very', 'nice']\n",
      "[0.00027280167318359554, 0.0005456033463671911]\n",
      "0.42934782608695654\n",
      "6.390477693967144e-08\n",
      "['take', 'a', 'break', 'from', 'katie', 'and', 'help', 'me', 'reach', '100', 'subscribers', 'this', 'month', 'new', 'music', 'and', 'free', 'downloads']\n",
      "[1, 0.019005183231790488, 1, 0.0028189506228971538, 1, 0.020369191597708464, 0.0021824133854687643, 0.008184050195507865, 0.000363735564244794, 0.0005456033463671911, 0.0015458761480403747, 0.018004910430117305, 1, 1, 0.003728289533509139, 0.020369191597708464, 0.002000545603346367, 1]\n",
      "0.42934782608695654\n",
      "7.022766459432003e-30\n",
      "['check', 'out', 'melbourne', 'shuffle', 'everybody']\n",
      "[0.022733472765299627, 0.02264253887423843, 1, 1, 0.00027280167318359554]\n",
      "0.42934782608695654\n",
      "6.029026650441858e-08\n",
      "['hi', 'loving', 'it']\n",
      "[0.0013640083659179777, 9.09338910611985e-05, 0.010912066927343821]\n",
      "0.42934782608695654\n",
      "5.811110024522273e-10\n",
      "['still', 'the', 'best', 'd']\n",
      "[0.0005456033463671911, 0.016640902064199325, 0.0011821405837955806, 0.001454942256979176]\n",
      "0.42934782608695654\n",
      "6.704679820963771e-12\n",
      "['this', 'song', 'is', 'awesome']\n",
      "[0.018004910430117305, 0.0018186778212239702, 0.003910157315631536, 0.00027280167318359554]\n",
      "0.42934782608695654\n",
      "1.4996753887054846e-11\n",
      "['my', 'name', 'is', 'george', 'and', 'let', 'me', 'tell', 'u', 'eminem', 'is', 'my', 'idol', 'my', 'inspiration', 'i', '39', 've', 'listen', 'to', 'him', 'growing', 'up', 'i', 'never', 'thou', 'i', 'would', 'love', 'rap', 'this', 'much', 'but', 'i', 'thank', 'him', 'for', 'helping', 'me', 'find', 'my', 'dream', 'so', 'i', 'rap', 'now', 'and', 'make', 'youtube', 'videos', 'and', 'yesterday', 'i', 'covered', 'the', 'song', 'mockingbird', 'it', '39', 's', 'in', 'my', 'channel', 'i', 'worked', 'really', 'hard', 'on', 'it', 'and', 'it', '39', 's', 'one', 'of', 'my', 'favorite', 'songs', 'of', 'him', 'so', 'please', 'go', 'check', 'it', 'out', 'and', 'subscribe', 'it', 'would', 'mean', 'the', 'world', 'to', 'me', 'n', 'sorry', 'for', 'the', 'spam', 'don', '39', 't', 'hate', 'i', '39', 'm', 'not', 'eminem']\n",
      "[0.022278803309993635, 0.000363735564244794, 0.003910157315631536, 1, 0.020369191597708464, 0.000181867782122397, 0.008184050195507865, 0.000727471128489588, 0.0018186778212239702, 0.0015458761480403747, 0.003910157315631536, 0.022278803309993635, 1, 0.022278803309993635, 1, 0.022278803309993635, 0.007001909611712286, 0.00027280167318359554, 0.0010002728016731835, 0.019914522142402472, 0.00027280167318359554, 1, 0.0056379012457943075, 0.022278803309993635, 0.00027280167318359554, 1, 0.022278803309993635, 0.0022733472765299628, 0.002000545603346367, 0.0005456033463671911, 0.018004910430117305, 0.0011821405837955806, 0.0033645539692643447, 0.022278803309993635, 1, 0.00027280167318359554, 0.010912066927343821, 1, 0.008184050195507865, 0.00027280167318359554, 0.022278803309993635, 0.0009093389106119851, 0.0045466945530599255, 0.022278803309993635, 0.0005456033463671911, 0.0010912066927343822, 0.020369191597708464, 0.0028189506228971538, 0.010002728016731835, 0.0024552150586523596, 0.020369191597708464, 1, 0.022278803309993635, 1, 0.016640902064199325, 0.0018186778212239702, 1, 0.010912066927343821, 0.007001909611712286, 0.0030008184050195506, 0.0045466945530599255, 0.022278803309993635, 1, 0.022278803309993635, 1, 0.0017277439301627716, 0.0006365372374283895, 0.01464035646085296, 0.010912066927343821, 0.020369191597708464, 0.010912066927343821, 0.007001909611712286, 0.0030008184050195506, 0.0016368100391015732, 0.009638992452487042, 0.022278803309993635, 1, 0.0011821405837955806, 0.009638992452487042, 0.00027280167318359554, 0.0045466945530599255, 0.010093661907793034, 0.0019096117122851686, 0.022733472765299627, 0.010912066927343821, 0.02264253887423843, 0.020369191597708464, 0.010730199145221424, 0.010912066927343821, 0.0022733472765299628, 0.00045466945530599255, 0.016640902064199325, 0.0008184050195507866, 0.019914522142402472, 0.008184050195507865, 9.09338910611985e-05, 0.0008184050195507866, 0.010912066927343821, 0.016640902064199325, 0.000727471128489588, 0.0018186778212239702, 0.007001909611712286, 0.0040920250977539326, 0.0006365372374283895, 0.022278803309993635, 0.007001909611712286, 0.0036373556424479404, 0.0019096117122851686, 0.0015458761480403747]\n",
      "0.42934782608695654\n",
      "1.2280421355931218e-229\n",
      "['hey', 'everyone', 'check', 'out', 'my', 'channel', 'leave', 'a', 'like', 'and', 'subscribe', 'please', 'and', 'if', 'there', 'is', 'a', 'song', 'you', 'want', 'me', 'to', 'do', 'post', 'the', 'name', 'in', 'the', 'comments', 'and', 'i', 'will', 'get', 'on', 'to', 'it', 'thanks']\n",
      "[0.0030917522960807495, 0.0021824133854687643, 0.022733472765299627, 0.02264253887423843, 0.022278803309993635, 1, 1, 0.019005183231790488, 0.007365645175957079, 0.020369191597708464, 0.010730199145221424, 0.010093661907793034, 0.020369191597708464, 0.008456851868691462, 0.0010002728016731835, 0.003910157315631536, 0.019005183231790488, 0.0018186778212239702, 0.02009638992452487, 0.001454942256979176, 0.008184050195507865, 0.019914522142402472, 0.002546148949713558, 1, 0.016640902064199325, 0.000363735564244794, 0.0045466945530599255, 0.016640902064199325, 0.0005456033463671911, 0.020369191597708464, 0.022278803309993635, 0.0036373556424479404, 0.003546421751386742, 0.01464035646085296, 0.019914522142402472, 0.010912066927343821, 0.002546148949713558]\n",
      "0.42934782608695654\n",
      "3.434964246083248e-74\n",
      "['check', 'out', 'this', 'video', 'on', 'youtube']\n",
      "[0.022733472765299627, 0.02264253887423843, 0.018004910430117305, 0.01036646358097663, 0.01464035646085296, 0.010002728016731835]\n",
      "0.42934782608695654\n",
      "6.040764103297587e-12\n",
      "['gusttavo', 'lima', 'voc', 'n', 'o', 'me', 'conhece', 'br', 'check', 'out']\n",
      "[1, 1, 1, 9.09338910611985e-05, 0.000181867782122397, 0.008184050195507865, 1, 0.006910975720651086, 0.022733472765299627, 0.02264253887423843]\n",
      "0.42934782608695654\n",
      "2.0672327236102133e-16\n",
      "['oppa', 'gangnam', 'style']\n",
      "[1, 9.09338910611985e-05, 0.000363735564244794]\n",
      "0.42934782608695654\n",
      "1.4201061542149205e-08\n",
      "['wow', 'justin', 'bieber', 'is', 'better', 'thats', 'why', 'when', 'he', 'buys', 'medication', 'he', 'always', 'shares', 'with', 'his', 'half', 'wited', 'money', 'alfred', 'but', 'sadly', 'enough', 'he', 'is', 'an', 'attention', 'hog', 'with', 'swamp', 'ass', 'and', 'an', 'eating', 'disorder', 'filled', 'with', 'sassy', 'mice', 'and', 'flaming', 'hot', 'cheetos', 'that', 'he', 'can', 'eat', 'with', 'the', 'power', 'of', 'the', 'samurman']\n",
      "[1, 1, 0.000181867782122397, 0.003910157315631536, 0.00045466945530599255, 9.09338910611985e-05, 0.0006365372374283895, 0.0008184050195507866, 0.0017277439301627716, 1, 1, 0.0017277439301627716, 9.09338910611985e-05, 1, 0.002637082840774757, 0.0008184050195507866, 9.09338910611985e-05, 1, 0.0038192234245703373, 1, 0.0033645539692643447, 1, 0.000181867782122397, 0.0017277439301627716, 0.003910157315631536, 0.0010002728016731835, 0.00045466945530599255, 1, 0.002637082840774757, 1, 9.09338910611985e-05, 0.020369191597708464, 0.0010002728016731835, 1, 1, 1, 0.002637082840774757, 1, 1, 0.020369191597708464, 1, 0.00027280167318359554, 1, 0.0020914794944075655, 0.0017277439301627716, 0.0056379012457943075, 1, 0.002637082840774757, 0.016640902064199325, 1, 0.009638992452487042, 0.016640902064199325, 1]\n",
      "0.42934782608695654\n",
      "2.5826612909579954e-95\n",
      "['can', 'somebody', 'wake', 'me', 'up', 'when', 'we', 'get', 'to', '3', 'billion', 'views']\n",
      "[0.0056379012457943075, 1, 1, 0.008184050195507865, 0.0056379012457943075, 0.0008184050195507866, 0.0021824133854687643, 0.003546421751386742, 0.019914522142402472, 0.0015458761480403747, 1, 0.0006365372374283895]\n",
      "0.42934782608695654\n",
      "1.386361743742766e-23\n",
      "['this', 'guy', 'win', 'dollars', 'sleeping', 'm', 'm', 'm', 'he', 'loves', 'the', 'planet', 'its', 'full', 'of', 'retards']\n",
      "[0.018004910430117305, 0.00027280167318359554, 1, 1, 1, 0.0036373556424479404, 0.0036373556424479404, 0.0036373556424479404, 0.0017277439301627716, 0.000181867782122397, 0.016640902064199325, 1, 0.0010912066927343822, 1, 0.009638992452487042, 1]\n",
      "0.42934782608695654\n",
      "5.5815553312890125e-27\n",
      "['nice', '3']\n",
      "[0.0005456033463671911, 0.0015458761480403747]\n",
      "0.42934782608695654\n",
      "3.621270693248048e-07\n",
      "['is', 'that', 'megan', 'fox']\n",
      "[0.003910157315631536, 0.0020914794944075655, 1, 9.09338910611985e-05]\n",
      "0.42934782608695654\n",
      "3.1928821190291817e-10\n",
      "['i', 'like', 'this', 'song', 'very', 'much']\n",
      "[0.022278803309993635, 0.007365645175957079, 0.018004910430117305, 0.0018186778212239702, 0.00027280167318359554, 0.0011821405837955806]\n",
      "0.42934782608695654\n",
      "7.440032182886992e-16\n",
      "['i', 'always', 'end', 'up', 'coming', 'back', 'to', 'this', 'song', 'br']\n"
     ]
    },
    {
     "name": "stdout",
     "output_type": "stream",
     "text": [
      "[0.022278803309993635, 9.09338910611985e-05, 1, 0.0056379012457943075, 0.00027280167318359554, 0.0011821405837955806, 0.019914522142402472, 0.018004910430117305, 0.0018186778212239702, 0.006910975720651086]\n",
      "0.42934782608695654\n",
      "7.127160134569076e-24\n",
      "['omg', 'this', 'guy', 'sounds', 'like', 'an', 'american', 'professor', 'green']\n",
      "[0.000181867782122397, 0.018004910430117305, 0.00027280167318359554, 9.09338910611985e-05, 0.007365645175957079, 0.0010002728016731835, 1, 1, 1]\n",
      "0.42934782608695654\n",
      "2.5695558559421326e-19\n",
      "['i', 'love', 'it']\n",
      "[0.022278803309993635, 0.002000545603346367, 0.010912066927343821]\n",
      "0.42934782608695654\n",
      "2.0881255354783367e-07\n",
      "['adam', 'b', 'beats', 'check', 'out', 'my', 'page']\n",
      "[1, 0.00027280167318359554, 9.09338910611985e-05, 0.022733472765299627, 0.02264253887423843, 0.022278803309993635, 1]\n",
      "0.42934782608695654\n",
      "1.22141946799949e-13\n",
      "['i', 'love', 'you', 'katy']\n",
      "[0.022278803309993635, 0.002000545603346367, 0.02009638992452487, 0.0011821405837955806]\n",
      "0.42934782608695654\n",
      "4.5460767053357436e-10\n",
      "['she', 'kinda', 'let', 'herself', 'go', 'huh']\n",
      "[0.0005456033463671911, 1, 0.000181867782122397, 1, 0.0019096117122851686, 1]\n",
      "0.42934782608695654\n",
      "8.135554034331183e-11\n",
      "['cool']\n",
      "[0.00045466945530599255]\n",
      "0.42934782608695654\n",
      "0.00019521134222376854\n",
      "['https', 'vimeo', 'com', '107297364']\n",
      "[0.00427389287987633, 1, 0.0122760752932618, 1]\n",
      "0.42934782608695654\n",
      "2.2526433871234185e-05\n",
      "['i', 'love', 'this', 'the', 'talents', 'of', 'eminem', 'and', 'skylar', 'works', 'well', 'together']\n",
      "[0.022278803309993635, 0.002000545603346367, 0.018004910430117305, 0.016640902064199325, 1, 0.009638992452487042, 0.0015458761480403747, 0.020369191597708464, 1, 9.09338910611985e-05, 0.000181867782122397, 9.09338910611985e-05]\n",
      "0.42934782608695654\n",
      "2.617006875030764e-27\n",
      "['nice', 'song']\n",
      "[0.0005456033463671911, 0.0018186778212239702]\n",
      "0.42934782608695654\n",
      "4.260318462644763e-07\n",
      "['is', 'it', 'bad', 'that', 'my', 'realtionship', 'is', 'just', 'like', 'this', 'lol']\n",
      "[0.003910157315631536, 0.010912066927343821, 0.000181867782122397, 0.0020914794944075655, 0.022278803309993635, 1, 0.003910157315631536, 0.005546967354733109, 0.007365645175957079, 0.018004910430117305, 0.000181867782122397]\n",
      "0.42934782608695654\n",
      "8.121179895110318e-26\n",
      "['the', 'projects', 'after', 'effects', 'music', 'foto', 'web', 'sites', 'and', 'another', 'you', 'can', 'find', 'and', 'buy', 'here', 'http', 'audiojungle', 'net', 'user', 'eugenekalinin', 'portfolio', 'ref', 'eugenekalinin']\n",
      "[0.016640902064199325, 1, 0.00027280167318359554, 1, 0.003728289533509139, 1, 1, 1, 0.020369191597708464, 9.09338910611985e-05, 0.02009638992452487, 0.0056379012457943075, 0.00027280167318359554, 0.020369191597708464, 0.000363735564244794, 0.001454942256979176, 0.005001364008365918, 1, 1, 1, 1, 1, 1, 1]\n",
      "0.42934782608695654\n",
      "2.2429453233811706e-32\n",
      "['whose', 'who', 'are', 'watching', 'this', 'in', '2015', 'like']\n",
      "[1, 0.0018186778212239702, 0.0020914794944075655, 0.0010002728016731835, 0.018004910430117305, 0.0045466945530599255, 0.0005456033463671911, 0.007365645175957079]\n",
      "0.42934782608695654\n",
      "5.374173382437849e-19\n",
      "['d']\n",
      "[0.001454942256979176]\n",
      "0.42934782608695654\n",
      "0.0006246762951160593\n",
      "['i', '39', 'm', 'watching', 'this', 'on', 'summer', '2015']\n",
      "[0.022278803309993635, 0.007001909611712286, 0.0036373556424479404, 0.0010002728016731835, 0.018004910430117305, 0.01464035646085296, 1, 0.0005456033463671911]\n",
      "0.42934782608695654\n",
      "3.504624523544841e-17\n",
      "['this', 'is', 'a', 'competition', 'to', 'meet', 'my', 'idols', 'it', 'would', 'mean', 'so', 'much', 'if', 'you', 'guys', 'will', 'like', 'this', 'pic', 'on', 'ig', 'http', 'instagram', 'com', 'p', 'smzdivopxb']\n",
      "[0.018004910430117305, 0.003910157315631536, 0.019005183231790488, 1, 0.019914522142402472, 1, 0.022278803309993635, 1, 0.010912066927343821, 0.0022733472765299628, 0.00045466945530599255, 0.0045466945530599255, 0.0011821405837955806, 0.008456851868691462, 0.02009638992452487, 0.005274165681549514, 0.0036373556424479404, 0.007365645175957079, 0.018004910430117305, 1, 0.01464035646085296, 1, 0.005001364008365918, 1, 0.0122760752932618, 0.00045466945530599255, 1]\n",
      "0.42934782608695654\n",
      "2.7303936715872688e-45\n",
      "['amazing', 'song']\n",
      "[0.000181867782122397, 0.0018186778212239702]\n",
      "0.42934782608695654\n",
      "1.4201061542149208e-07\n",
      "['cool']\n",
      "[0.00045466945530599255]\n",
      "0.42934782608695654\n",
      "0.00019521134222376854\n",
      "['check', 'out', 'this', 'video', 'on', 'youtube']\n",
      "[0.022733472765299627, 0.02264253887423843, 0.018004910430117305, 0.01036646358097663, 0.01464035646085296, 0.010002728016731835]\n",
      "0.42934782608695654\n",
      "6.040764103297587e-12\n",
      "[\"that's\", 'good']\n",
      "[1, 0.0009093389106119851]\n",
      "0.42934782608695654\n",
      "0.0003904226844475371\n",
      "['youtube', 'comments', 'in', 'a', 'nut', 'shell', 'br', 'br', 'first', 'br', '301', 'club', 'br', 'skip', 'to', 'a', 'href', 'http', 'www', 'youtube', 'com', 'watch', 'v', 'kq6zr6kcpj8', 'amp', 't', '3m57s', '3', '57', 'a', 'and', 'close', 'your', 'eyes', 'br', 'advertisements', 'br', 'like', 'this', 'comment', 'for', 'no', 'reason', 'br', 'christianity', 'arguements', 'br', 'other', 'religious', 'arguements', 'br', 'console', 'wars', 'br', 'pcmasterace', 'br', 'trolls', 'br', 'quot', 'how', 'is', 'there', '1', 'million', 'views', 'on', 'the', 'this', 'video', 'if', 'theres', 'online', '10', 'people', 'on', 'earth', 'br', 'complaints', 'br', 'pewdiepie', 'fangirls', 'br', 'minecraft', 'scrubs', 'br', 'r', 'montageparodies', 'br', 'br', 'br', 'and', 'any', 'other', 'shit']\n",
      "[0.010002728016731835, 0.0005456033463671911, 0.0045466945530599255, 0.019005183231790488, 1, 1, 0.006910975720651086, 0.006910975720651086, 0.0008184050195507866, 0.006910975720651086, 1, 1, 0.006910975720651086, 1, 0.019914522142402472, 0.019005183231790488, 0.0017277439301627716, 0.005001364008365918, 0.004910430117304719, 0.010002728016731835, 0.0122760752932618, 0.0024552150586523596, 0.0011821405837955806, 9.09338910611985e-05, 0.0060925707011003005, 0.0040920250977539326, 1, 0.0015458761480403747, 1, 0.019005183231790488, 0.020369191597708464, 1, 0.004455760661998727, 9.09338910611985e-05, 0.006910975720651086, 1, 0.006910975720651086, 0.007365645175957079, 0.018004910430117305, 0.002546148949713558, 0.010912066927343821, 0.002000545603346367, 0.00027280167318359554, 0.006910975720651086, 1, 1, 0.006910975720651086, 0.000363735564244794, 1, 1, 0.006910975720651086, 1, 1, 0.006910975720651086, 1, 0.006910975720651086, 1, 0.006910975720651086, 0.004001091206692734, 0.0013640083659179777, 0.003910157315631536, 0.0010002728016731835, 0.0030008184050195506, 0.000363735564244794, 0.0006365372374283895, 0.01464035646085296, 0.016640902064199325, 0.018004910430117305, 0.01036646358097663, 0.008456851868691462, 1, 1, 1, 0.0017277439301627716, 0.01464035646085296, 9.09338910611985e-05, 0.006910975720651086, 1, 0.006910975720651086, 1, 1, 0.006910975720651086, 1, 1, 0.006910975720651086, 0.00045466945530599255, 1, 0.006910975720651086, 0.006910975720651086, 0.006910975720651086, 0.020369191597708464, 0.0013640083659179777, 0.000363735564244794, 0.00045466945530599255]\n",
      "0.42934782608695654\n",
      "9.34120209843501e-167\n",
      "['that', 'time', 'in', '2011', 'where', 'this', 'shirt', 'was', 'cool']\n",
      "[0.0020914794944075655, 0.001454942256979176, 0.0045466945530599255, 1, 0.00027280167318359554, 0.018004910430117305, 1, 0.000727471128489588, 0.00045466945530599255]\n",
      "0.42934782608695654\n",
      "9.650591932548326e-21\n",
      "['check', 'out', 'this', 'video', 'on', 'youtube']\n",
      "[0.022733472765299627, 0.02264253887423843, 0.018004910430117305, 0.01036646358097663, 0.01464035646085296, 0.010002728016731835]\n",
      "0.42934782608695654\n",
      "6.040764103297587e-12\n",
      "['sub', 'my', 'channel', 'for', 'no', 'reason']\n",
      "[1, 0.022278803309993635, 1, 0.010912066927343821, 0.002000545603346367, 0.00027280167318359554]\n",
      "0.42934782608695654\n",
      "5.696441398958816e-11\n",
      "['check', 'out', 'this', 'video', 'on', 'youtube']\n",
      "[0.022733472765299627, 0.02264253887423843, 0.018004910430117305, 0.01036646358097663, 0.01464035646085296, 0.010002728016731835]\n",
      "0.42934782608695654\n",
      "6.040764103297587e-12\n",
      "['im', 'gonna', 'share', 'a', 'little', 'ryhme', 'canibus', 'blows', 'eminem', 'away', 'a', 'quadrillion', 'times', 'especially', 'about', 'the', 'categories', 'of', 'intelligent', 'things', 'in', 'his', 'mind', 'that', 'he', 'learned', 'and', 'rapped', 'about', 'and', 'forgot', 'before', 'eminem', 'spit', 'his', 'first', 'ryme', 'luv', 'ya', 'linz', '4e']\n",
      "[0.001454942256979176, 0.00027280167318359554, 0.0022733472765299628, 0.019005183231790488, 0.000363735564244794, 1, 1, 1, 0.0015458761480403747, 1, 0.019005183231790488, 1, 1, 1, 0.001273074474856779, 0.016640902064199325, 1, 0.009638992452487042, 1, 0.000181867782122397, 0.0045466945530599255, 0.0008184050195507866, 0.000181867782122397, 0.0020914794944075655, 0.0017277439301627716, 1, 0.020369191597708464, 1, 0.001273074474856779, 0.020369191597708464, 1, 0.0006365372374283895, 0.0015458761480403747, 1, 0.0008184050195507866, 0.0008184050195507866, 1, 1, 1, 1, 1]\n",
      "0.42934782608695654\n",
      "2.487595762684336e-63\n",
      "['nice', 'very', 'nice']\n",
      "[0.0005456033463671911, 0.00027280167318359554, 0.0005456033463671911]\n",
      "0.42934782608695654\n",
      "3.486666014713364e-11\n",
      "['good', 'thing', 'she', 'brought', 'her', 'spray', 'on', 'tan', 'hairstylist', 'makeup', 'artist', 'and', 'cameraman']\n",
      "[0.0009093389106119851, 0.000181867782122397, 0.0005456033463671911, 1, 0.00045466945530599255, 1, 0.01464035646085296, 1, 1, 0.000181867782122397, 0.00045466945530599255, 0.020369191597708464, 1]\n",
      "0.42934782608695654\n",
      "4.343507868490012e-25\n",
      "['love', 'the', 'way', 'you', 'lie', 'featuring', 'rhianna', 'hes', 'an', 'awesome', 'rapper', 'shes', 'an', 'awesome', 'singer']\n",
      "[0.002000545603346367, 0.016640902064199325, 0.0010912066927343822, 0.02009638992452487, 0.000363735564244794, 1, 1, 1, 0.0010002728016731835, 0.00027280167318359554, 0.0015458761480403747, 1, 0.0010002728016731835, 0.00027280167318359554, 0.00027280167318359554]\n",
      "0.42934782608695654\n",
      "3.580124504223468e-33\n",
      "['hey', 'everyone', 'i', '39', 'm', 'dakoda', 'bigelow', 'i', '39', 'm', 'a', '17', 'year', 'old', 'singer', 'rapper', 'and', 'producer', 'i', '39', 've', 'gained', 'over', '490', '000', 'views', 'so', 'far', 'but', 'i', 'really', 'need', 'more', 'views', 'likes', 'and', 'subscribers', 'in', 'order', 'to', 'make', 'it', 'check', 'out', 'my', 'brand', 'new', 'music', 'video', 'for', 'my', 'song', 'so', 'gone', 'also', 'check', 'out', 'my', 'new', 'song', 'called', 'deaf', 'a', 'few', 'moments', 'of', 'your', 'time', 'would', 'be', 'greatly', 'appreciated', 'and', 'you', 'won', '39', 't', 'regret', 'it', 'please', 'thumbs', 'this', 'up', 'so', 'more', 'people', 'can', 'see', 'it', 'thanks', 'for', 'the', 'support']\n",
      "[0.0030917522960807495, 0.0021824133854687643, 0.022278803309993635, 0.007001909611712286, 0.0036373556424479404, 1, 1, 0.022278803309993635, 0.007001909611712286, 0.0036373556424479404, 0.019005183231790488, 1, 0.0011821405837955806, 0.0008184050195507866, 0.00027280167318359554, 0.0015458761480403747, 0.020369191597708464, 1, 0.022278803309993635, 0.007001909611712286, 0.00027280167318359554, 1, 0.001273074474856779, 1, 0.0010912066927343822, 0.0006365372374283895, 0.0045466945530599255, 1, 0.0033645539692643447, 0.022278803309993635, 0.0017277439301627716, 0.001273074474856779, 0.0022733472765299628, 0.0006365372374283895, 0.000181867782122397, 0.020369191597708464, 0.0015458761480403747, 0.0045466945530599255, 1, 0.019914522142402472, 0.0028189506228971538, 0.010912066927343821, 0.022733472765299627, 0.02264253887423843, 0.022278803309993635, 1, 1, 0.003728289533509139, 0.01036646358097663, 0.010912066927343821, 0.022278803309993635, 0.0018186778212239702, 0.0045466945530599255, 1, 0.0011821405837955806, 0.022733472765299627, 0.02264253887423843, 0.022278803309993635, 1, 0.0018186778212239702, 1, 1, 0.019005183231790488, 0.000363735564244794, 1, 0.009638992452487042, 0.004455760661998727, 0.001454942256979176, 0.0022733472765299628, 0.0038192234245703373, 1, 1, 0.020369191597708464, 0.02009638992452487, 1, 0.007001909611712286, 0.0040920250977539326, 1, 0.010912066927343821, 0.010093661907793034, 0.0016368100391015732, 0.018004910430117305, 0.0056379012457943075, 0.0045466945530599255, 0.0022733472765299628, 0.0017277439301627716, 0.0056379012457943075, 0.002000545603346367, 0.010912066927343821, 0.002546148949713558, 0.010912066927343821, 0.016640902064199325, 1]\n",
      "0.42934782608695654\n",
      "1.7236787592581647e-171\n",
      "['thumbs', 'up', 'if', 'you', '39', 're', 'watching', 'in', '2015']\n",
      "[0.0016368100391015732, 0.0056379012457943075, 0.008456851868691462, 0.02009638992452487, 0.007001909611712286, 0.000181867782122397, 0.0010002728016731835, 0.0045466945530599255, 0.0005456033463671911]\n",
      "0.42934782608695654\n",
      "2.127724137403282e-24\n",
      "['the', 'first', 'comment', 'is', 'chuck', 'norrus', 'ovbiously', 'd']\n",
      "[0.016640902064199325, 0.0008184050195507866, 0.002546148949713558, 0.003910157315631536, 1, 1, 1, 0.001454942256979176]\n",
      "0.42934782608695654\n",
      "8.469898613370478e-14\n",
      "['your', 'a', 'fucking', 'bitch']\n",
      "[0.004455760661998727, 0.019005183231790488, 0.00045466945530599255, 1]\n",
      "0.42934782608695654\n",
      "1.6530993822536833e-08\n",
      "[\"it's\", 'been', 'back', 'for', 'quite', 'a', 'while', 'now']\n",
      "[0.000181867782122397, 0.0006365372374283895, 0.0011821405837955806, 0.010912066927343821, 9.09338910611985e-05, 0.019005183231790488, 0.000181867782122397, 0.0010912066927343822]\n",
      "0.42934782608695654\n",
      "2.1990020270846015e-25\n",
      "['https', 'apps', 'facebook', 'com', 'my', 'polls', 'utsitcompetition2014', 'from', 'user', 'link', 'amp', 'ref', 'id', 'ouxg5e', 'please', 'open', 'this', 'link', 'and', 'vote', 'for', 'anand', 'niketan', 'international', 'school', 'the', 'project', 'name', 'is', 'project', 'fr', 'e', 'dom', 'and', 'share', 'it', 'with', 'yours', 'friend']\n",
      "[0.00427389287987633, 1, 1, 0.0122760752932618, 0.022278803309993635, 1, 1, 0.0028189506228971538, 1, 1, 0.0060925707011003005, 1, 1, 1, 0.010093661907793034, 1, 0.018004910430117305, 1, 0.020369191597708464, 1, 0.010912066927343821, 1, 1, 1, 0.00045466945530599255, 0.016640902064199325, 1, 0.000363735564244794, 0.003910157315631536, 1, 1, 0.00045466945530599255, 1, 0.020369191597708464, 0.0022733472765299628, 0.010912066927343821, 0.002637082840774757, 1, 0.000363735564244794]\n",
      "0.42934782608695654\n",
      "8.256527668432287e-46\n",
      "['just', 'dance', '3']\n",
      "[0.005546967354733109, 9.09338910611985e-05, 0.0015458761480403747]\n",
      "0.42934782608695654\n",
      "3.3478450530164425e-10\n",
      "['haha', 'miley', 'cyrus', 'has', 'done', 'it', 'once', 'again', 'today', 'someone', 'leeched', 'a', 'porno', 'video', 'with', 'her', 'on', 'a', 'celeb', 'site', 'i', 'believe', 'the', 'website', 'link', 'is', 'miley', 'celeb', 'news', 'co', 'uk', 'in', 'case', 'you', 'want', 'to', 'view', 'it']\n",
      "[9.09338910611985e-05, 1, 1, 0.0015458761480403747, 0.00027280167318359554, 0.010912066927343821, 1, 0.00027280167318359554, 0.0010912066927343822, 0.00045466945530599255, 1, 0.019005183231790488, 1, 0.01036646358097663, 0.002637082840774757, 0.00045466945530599255, 0.01464035646085296, 0.019005183231790488, 1, 1, 0.022278803309993635, 0.00027280167318359554, 0.016640902064199325, 1, 1, 0.003910157315631536, 1, 1, 0.00045466945530599255, 1, 0.00027280167318359554, 0.0045466945530599255, 9.09338910611985e-05, 0.02009638992452487, 0.001454942256979176, 0.019914522142402472, 0.000363735564244794, 0.010912066927343821]\n",
      "0.42934782608695654\n",
      "7.491355420912484e-71\n",
      "['beautiful']\n",
      "[0.00027280167318359554]\n",
      "0.42934782608695654\n",
      "0.00011712680533426114\n",
      "['what', '39', 's', 'with', 'the', 'guys', 'jacket', '1', 'sleeve', 'and', 'a', 'sleeveless', 'arm']\n",
      "[0.0006365372374283895, 0.007001909611712286, 0.0030008184050195506, 0.002637082840774757, 0.016640902064199325, 0.005274165681549514, 1, 0.0030008184050195506, 1, 0.020369191597708464, 0.019005183231790488, 1, 1]\n",
      "0.42934782608695654\n",
      "1.5439359274418533e-21\n",
      "['check', 'out', 'this', 'video', 'on', 'youtube', 'br', 'br', 'br']\n",
      "[0.022733472765299627, 0.02264253887423843, 0.018004910430117305, 0.01036646358097663, 0.01464035646085296, 0.010002728016731835, 0.006910975720651086, 0.006910975720651086, 0.006910975720651086]\n",
      "0.42934782608695654\n",
      "1.993930323807902e-18\n",
      "['https', 'www', 'facebook', 'com', 'photo', 'php', 'v', '4483179854075', 'amp', 'set', 'vb', '1727483389', 'amp', 'type', '2', 'amp', 'theater']\n",
      "[0.00427389287987633, 0.004910430117304719, 1, 0.0122760752932618, 1, 1, 0.0011821405837955806, 1, 0.0060925707011003005, 1, 1, 1, 0.0060925707011003005, 1, 0.000727471128489588, 0.0060925707011003005, 1]\n",
      "0.42934782608695654\n",
      "2.151288231784415e-20\n",
      "['subscribe']\n",
      "[0.010730199145221424]\n",
      "0.42934782608695654\n",
      "0.004606987676480938\n",
      "['check', 'out', 'our', 'vids', 'our', 'songs', 'are', 'awesome', 'and', 'that', 'i', 'guarantee']\n",
      "[0.022733472765299627, 0.02264253887423843, 0.0024552150586523596, 1, 0.0024552150586523596, 0.0011821405837955806, 0.0020914794944075655, 0.00027280167318359554, 0.020369191597708464, 0.0020914794944075655, 0.022278803309993635, 1]\n",
      "0.42934782608695654\n",
      "8.52841418004981e-25\n",
      "['5', 'years', 'ago', 'damn']\n",
      "[0.000363735564244794, 9.09338910611985e-05, 1, 1]\n",
      "0.42934782608695654\n",
      "1.4201061542149205e-08\n",
      "['how', 'does', 'this', 'video', 'have', '2', '127', '322', '484', 'views', 'if', 'there', 'are', 'only', '7', 'million', 'people', 'on', 'earth']\n",
      "[0.0013640083659179777, 0.0011821405837955806, 0.018004910430117305, 0.01036646358097663, 0.004819496226243521, 0.000727471128489588, 1, 1, 1, 0.0006365372374283895, 0.008456851868691462, 0.0010002728016731835, 0.0020914794944075655, 0.0011821405837955806, 0.000181867782122397, 0.000363735564244794, 0.0017277439301627716, 0.01464035646085296, 9.09338910611985e-05]\n",
      "0.42934782608695654\n",
      "9.17712195291172e-46\n",
      "['i', 'lt', '3', 'katy', 'perry']\n",
      "[0.022278803309993635, 0.001273074474856779, 0.0015458761480403747, 0.0011821405837955806, 0.00045466945530599255]\n",
      "0.42934782608695654\n",
      "1.0117996878153739e-14\n",
      "['charlie', 'got', 'off', 'the', 'island', 'and', 'dated', 'megan', 'fox', 'b', 'but', 'what', 'about', 'claire']\n",
      "[1, 0.0009093389106119851, 0.000727471128489588, 0.016640902064199325, 1, 0.020369191597708464, 1, 1, 9.09338910611985e-05, 0.00027280167318359554, 0.0033645539692643447, 0.0006365372374283895, 0.001273074474856779, 1]\n",
      "0.42934782608695654\n",
      "6.511475222659808e-27\n",
      "['so', 'then', 'how', 'are', 'you', 'going', 'to', 'call', 'yourself', 'a', 'instrumental', 'songwriter', 'if', 'theres', 'no', 'singing', 'theres', 'no', 'song', 'to', 'write', 'lol', 'you', 'got', 'alot', 'to', 'learn', 'kid', 'but', 'hey', 'don', '39', 't', 'forget', 'to', 'subscribe']\n",
      "[0.0045466945530599255, 0.0010002728016731835, 0.0013640083659179777, 0.0020914794944075655, 0.02009638992452487, 0.00045466945530599255, 0.019914522142402472, 1, 1, 0.019005183231790488, 1, 1, 0.008456851868691462, 1, 0.002000545603346367, 0.000181867782122397, 1, 0.002000545603346367, 0.0018186778212239702, 0.019914522142402472, 9.09338910611985e-05, 0.000181867782122397, 0.02009638992452487, 0.0009093389106119851, 1, 0.019914522142402472, 1, 0.000181867782122397, 0.0033645539692643447, 0.0030917522960807495, 0.0018186778212239702, 0.007001909611712286, 0.0040920250977539326, 1, 0.019914522142402472, 0.010730199145221424]\n",
      "0.42934782608695654\n"
     ]
    },
    {
     "name": "stdout",
     "output_type": "stream",
     "text": [
      "5.44513246550861e-70\n",
      "['charlie', 'from', 'lost']\n",
      "[1, 0.0028189506228971538, 1]\n",
      "0.42934782608695654\n",
      "0.001210310321787365\n",
      "['nice', 'song']\n",
      "[0.0005456033463671911, 0.0018186778212239702]\n",
      "0.42934782608695654\n",
      "4.260318462644763e-07\n",
      "['very', 'good', 'song']\n",
      "[0.00027280167318359554, 0.0009093389106119851, 0.0018186778212239702]\n",
      "0.42934782608695654\n",
      "1.937036674840758e-10\n",
      "['shuffle']\n",
      "[1]\n",
      "0.42934782608695654\n",
      "0.42934782608695654\n",
      "['yesterday', 'this', 'video', 'have', '1', 'million', 'likes', 'and', 'now', 'it', 'has', '2', 'million']\n",
      "[1, 0.018004910430117305, 0.01036646358097663, 0.004819496226243521, 0.0030008184050195506, 0.000363735564244794, 0.000181867782122397, 0.020369191597708464, 0.0010912066927343822, 0.010912066927343821, 0.0015458761480403747, 0.000727471128489588, 0.000363735564244794]\n",
      "0.42934782608695654\n",
      "7.606376456821934e-33\n",
      "['check', 'out', 'our', 'app', 'to', 'solve', 'all', 'your', 'party', 'drunk', 'problems', 'br', 'a', 'href', 'https', 'play', 'google', 'com', 'store', 'apps', 'details', 'id', 'vn', 'ibit', 'applocker', 'amp', 'hl', 'en', 'https', 'play', 'google', 'com', 'store', 'apps', 'details', 'id', 'vn', 'ibit', 'applocker', 'amp', 'hl', 'en', 'a']\n",
      "[0.022733472765299627, 0.02264253887423843, 0.0024552150586523596, 1, 0.019914522142402472, 1, 0.0024552150586523596, 0.004455760661998727, 9.09338910611985e-05, 1, 1, 0.006910975720651086, 0.019005183231790488, 0.0017277439301627716, 0.00427389287987633, 1, 0.001273074474856779, 0.0122760752932618, 1, 1, 1, 1, 1, 1, 1, 0.0060925707011003005, 1, 1, 0.00427389287987633, 1, 0.001273074474856779, 0.0122760752932618, 1, 1, 1, 1, 1, 1, 1, 0.0060925707011003005, 1, 1, 0.019005183231790488]\n",
      "0.42934782608695654\n",
      "7.677764135910432e-45\n",
      "['hi', 'guys', 'i', 'sell', 'jack', \"daniel's\", 'hard', 'back', 'cover', 'case', 'for', 'iphone', '5', '5s', '5c', '4s', '4', \"6''\", 'old', 'time', 'with', 'only', '3', 'dollars', 'on', 'ebay', 'http', 'www', 'ebay', 'com', 'itm', '251638183951', 'sspagename', 'strk', 'meselx', 'it', 'amp', 'trksid', 'p3984', 'm1555', 'l2649']\n",
      "[0.0013640083659179777, 0.005274165681549514, 0.022278803309993635, 1, 1, 1, 0.0006365372374283895, 0.0011821405837955806, 1, 9.09338910611985e-05, 0.010912066927343821, 1, 0.000363735564244794, 1, 1, 1, 0.000181867782122397, 1, 0.0008184050195507866, 0.001454942256979176, 0.002637082840774757, 0.0011821405837955806, 0.0015458761480403747, 1, 0.01464035646085296, 1, 0.005001364008365918, 0.004910430117304719, 1, 0.0122760752932618, 1, 1, 1, 1, 1, 0.010912066927343821, 0.0060925707011003005, 1, 1, 1, 1]\n",
      "0.42934782608695654\n",
      "5.723314822509348e-54\n",
      "['d', 'subscribe', 'to', 'me', 'for', 'daily', 'vines']\n",
      "[0.001454942256979176, 0.010730199145221424, 0.019914522142402472, 0.008184050195507865, 0.010912066927343821, 1, 1]\n",
      "0.42934782608695654\n",
      "1.1920871410419907e-11\n",
      "['j', 'aiiima', 'plzzz', 'https', 'www', 'facebook', 'com', 'pages', 'c3', '89c', 'c3', 'b8l', 'ce', 'b5', 'al', 'ma', 'ce', 'b7b', 'ce', 'b5t', '302703146601369']\n",
      "[1, 1, 1, 0.00427389287987633, 0.004910430117304719, 1, 0.0122760752932618, 1, 1, 1, 1, 1, 1, 1, 1, 1, 1, 1, 1, 1, 1]\n",
      "0.42934782608695654\n",
      "1.1061447931678147e-07\n",
      "['hey', 'guy', 'if', 'you', 'can', 'please', 'subscribe', 'to', 'my', 'channel', 'im', 'a', 'young', 'dedicated', 'rapper', 'i', 'post', 'videos', 'everyday', 'to', 'improve', 'i', 'write', 'perform', 'record', 'mix', 'edit', 'post', 'everyday', 'i', 'do', 'a', 'verse', 'everyday', '16', 'bars', 'to', 'improve', 'i', '39', 'm', 'doing', 'it', 'for', '365', 'days', 'a', 'whole', 'year', 'to', 'improve', 'right', 'now', 'i', '39', 'm', 'on', 'day', '46', 'if', 'you', 'guys', 'can', 'please', 'like', 'this', 'comment', 'so', 'everyone', 'can', 'see', 'it', 'and', 'follow', 'me', 'on', 'my', 'journey', 'watch', 'me', 'improve', 'everyday', 'subscribe', 'please', 'i', '39', 'm', 'lyrical', 'and', 'i', 'keep', 'it', 'real', 'help', 'me', 'reach', 'my', 'dream', 'help', 'me', 'build', 'a', 'fan', 'base', 'thanks']\n",
      "[0.0030917522960807495, 0.00027280167318359554, 0.008456851868691462, 0.02009638992452487, 0.0056379012457943075, 0.010093661907793034, 0.010730199145221424, 0.019914522142402472, 0.022278803309993635, 1, 0.001454942256979176, 0.019005183231790488, 0.0005456033463671911, 1, 0.0015458761480403747, 0.022278803309993635, 1, 0.0024552150586523596, 0.00045466945530599255, 0.019914522142402472, 1, 0.022278803309993635, 9.09338910611985e-05, 1, 0.000181867782122397, 1, 1, 1, 0.00045466945530599255, 0.022278803309993635, 0.002546148949713558, 0.019005183231790488, 1, 0.00045466945530599255, 1, 1, 0.019914522142402472, 1, 0.022278803309993635, 0.007001909611712286, 0.0036373556424479404, 0.000727471128489588, 0.010912066927343821, 0.010912066927343821, 1, 0.000181867782122397, 0.019005183231790488, 0.000181867782122397, 0.0011821405837955806, 0.019914522142402472, 1, 0.0008184050195507866, 0.0010912066927343822, 0.022278803309993635, 0.007001909611712286, 0.0036373556424479404, 0.01464035646085296, 0.0006365372374283895, 1, 0.008456851868691462, 0.02009638992452487, 0.005274165681549514, 0.0056379012457943075, 0.010093661907793034, 0.007365645175957079, 0.018004910430117305, 0.002546148949713558, 0.0045466945530599255, 0.0021824133854687643, 0.0056379012457943075, 0.002000545603346367, 0.010912066927343821, 0.020369191597708464, 1, 0.008184050195507865, 0.01464035646085296, 0.022278803309993635, 1, 0.0024552150586523596, 0.008184050195507865, 1, 0.00045466945530599255, 0.010730199145221424, 0.010093661907793034, 0.022278803309993635, 0.007001909611712286, 0.0036373556424479404, 1, 0.020369191597708464, 0.022278803309993635, 0.000181867782122397, 0.010912066927343821, 0.0006365372374283895, 0.0021824133854687643, 0.008184050195507865, 0.000363735564244794, 0.022278803309993635, 0.0009093389106119851, 0.0021824133854687643, 0.008184050195507865, 1, 0.019005183231790488, 0.00027280167318359554, 1, 0.002546148949713558]\n",
      "0.42934782608695654\n",
      "1.23569479597243e-200\n",
      "['i', 'will', 'never', 'forget', 'this', 'song', 'in', 'my', 'life', 'like', 'this', 'comment', 'of', 'your', 'hearing', 'this', 'song', 'for', 'like', 'a', 'year']\n",
      "[0.022278803309993635, 0.0036373556424479404, 0.00027280167318359554, 1, 0.018004910430117305, 0.0018186778212239702, 0.0045466945530599255, 0.022278803309993635, 0.0006365372374283895, 0.007365645175957079, 0.018004910430117305, 0.002546148949713558, 0.009638992452487042, 0.004455760661998727, 1, 0.018004910430117305, 0.0018186778212239702, 0.010912066927343821, 0.007365645175957079, 0.019005183231790488, 0.0011821405837955806]\n",
      "0.42934782608695654\n",
      "1.718450047158804e-44\n",
      "['870', '000', '000', 'views', '566', '000', 'comments', 'oh', 'my', 'lanta']\n",
      "[1, 0.0010912066927343822, 0.0010912066927343822, 0.0006365372374283895, 1, 0.0010912066927343822, 0.0005456033463671911, 9.09338910611985e-05, 0.022278803309993635, 1]\n",
      "0.42934782608695654\n",
      "3.9250826476649123e-22\n",
      "['should', 'not', 'have', 'paused', 'the', 'music', 'this', 'is', 'a', 'clip', 'not', 'a', 'movie']\n",
      "[0.001273074474856779, 0.0019096117122851686, 0.004819496226243521, 1, 0.016640902064199325, 0.003728289533509139, 0.018004910430117305, 0.003910157315631536, 0.019005183231790488, 1, 0.0019096117122851686, 0.019005183231790488, 1]\n",
      "0.42934782608695654\n",
      "1.5155514241723828e-23\n",
      "['your', 'going', 'to', 'hear', 'me', 'roar', 'soundsofsunday']\n",
      "[0.004455760661998727, 0.00045466945530599255, 0.019914522142402472, 0.00045466945530599255, 0.008184050195507865, 0.000181867782122397, 1]\n",
      "0.42934782608695654\n",
      "1.172240242922279e-17\n",
      "['katycat', 'https', 'm', 'facebook', 'com', 'profile', 'php', 'id', '1461302180794905']\n",
      "[1, 0.00427389287987633, 0.0036373556424479404, 1, 0.0122760752932618, 1, 1, 1, 1]\n",
      "0.42934782608695654\n",
      "8.193665134576406e-08\n",
      "['something', 'to', 'dance', 'to', 'even', 'if', 'your', 'sad', 'just', 'dance', 'psy', 'gangnam', 'style', 'm', 'v', 'http', 'youtu', 'be', '9bzkp7q19f0']\n",
      "[0.000181867782122397, 0.019914522142402472, 9.09338910611985e-05, 0.019914522142402472, 0.00045466945530599255, 0.008456851868691462, 0.004455760661998727, 9.09338910611985e-05, 0.005546967354733109, 9.09338910611985e-05, 0.000181867782122397, 9.09338910611985e-05, 0.000363735564244794, 0.0036373556424479404, 0.0011821405837955806, 0.005001364008365918, 0.0005456033463671911, 0.0038192234245703373, 1]\n",
      "0.42934782608695654\n",
      "5.965225579373383e-55\n",
      "['omg', 'that', 'looks', 'just', 'like', 'a', 'piece', 'of', 'the', 'mirror', 'of', 'harry', 'potter', 'and', 'the', 'deathly', 'hallows', 'br', 'either', 'that', 'house', 'sirius', 'black']\n",
      "[0.000181867782122397, 0.0020914794944075655, 1, 0.005546967354733109, 0.007365645175957079, 0.019005183231790488, 1, 0.009638992452487042, 0.016640902064199325, 1, 0.009638992452487042, 1, 1, 0.020369191597708464, 0.016640902064199325, 1, 1, 0.006910975720651086, 1, 0.0020914794944075655, 1, 1, 1]\n",
      "0.42934782608695654\n",
      "9.605962699922748e-28\n",
      "['h', 'my', 'god', 'roar', 'is', 'the', 'most', 'liked', 'video', 'at', 'vevo', 'while', '2', 'months', 'ago', 'was', \"justin's\", 'baby', 'congrats', 'katy', 'applause', 'lt', '3']\n",
      "[1, 0.022278803309993635, 0.00045466945530599255, 0.000181867782122397, 0.003910157315631536, 0.016640902064199325, 0.0008184050195507866, 9.09338910611985e-05, 0.01036646358097663, 0.003728289533509139, 1, 0.000181867782122397, 0.000727471128489588, 0.000181867782122397, 1, 0.000727471128489588, 1, 9.09338910611985e-05, 1, 0.0011821405837955806, 1, 0.001273074474856779, 0.0015458761480403747]\n",
      "0.42934782608695654\n",
      "5.481817389416534e-52\n",
      "['admit', 'it', 'you', 'just', 'came', 'here', 'to', 'check', 'the', 'number', 'of', 'viewers']\n",
      "[1, 0.010912066927343821, 0.02009638992452487, 0.005546967354733109, 1, 0.001454942256979176, 0.019914522142402472, 0.022733472765299627, 0.016640902064199325, 1, 0.009638992452487042, 1]\n",
      "0.42934782608695654\n",
      "5.5179769724373265e-17\n",
      "['this', 'song', 'is', 'better', 'then', 'monster', 'by', 'eminem']\n",
      "[0.018004910430117305, 0.0018186778212239702, 0.003910157315631536, 0.00045466945530599255, 0.0010002728016731835, 1, 0.0017277439301627716, 0.0015458761480403747]\n",
      "0.42934782608695654\n",
      "6.677571489414859e-20\n",
      "['i', 'love', 'this', 'song']\n",
      "[0.022278803309993635, 0.002000545603346367, 0.018004910430117305, 0.0018186778212239702]\n",
      "0.42934782608695654\n",
      "6.266085538854697e-10\n",
      "['sup', 'gus', 'this', 'is', 'a', 'video', 'for', 'people', 'who', 'loves', 'party', 'rock', 'so', 'thanks', 'for', 'watching', 'and', 'please', 'subscribe']\n",
      "[1, 1, 0.018004910430117305, 0.003910157315631536, 0.019005183231790488, 0.01036646358097663, 0.010912066927343821, 0.0017277439301627716, 0.0018186778212239702, 0.000181867782122397, 9.09338910611985e-05, 9.09338910611985e-05, 0.0045466945530599255, 0.002546148949713558, 0.010912066927343821, 0.0010002728016731835, 0.020369191597708464, 0.010093661907793034, 0.010730199145221424]\n",
      "0.42934782608695654\n",
      "8.560163016335908e-44\n",
      "['why', 'sooooo', 'many', 'downs']\n",
      "[0.0006365372374283895, 1, 0.0006365372374283895, 1]\n",
      "0.42934782608695654\n",
      "1.7396300389132776e-07\n",
      "['best', 'song', 'ever']\n",
      "[0.0011821405837955806, 0.0018186778212239702, 0.000363735564244794]\n",
      "0.42934782608695654\n",
      "3.357530236390647e-10\n",
      "['curti', 'click', 'here', 'https', 'www', 'facebook', 'com', 'demiilovatofas', 'ref', 'hl', 'https', 'www', 'facebook', 'com', 'pages', 'frases', 'secretas', '448800865296855', 'ref', 'hl']\n",
      "[1, 1, 0.001454942256979176, 0.00427389287987633, 0.004910430117304719, 1, 0.0122760752932618, 1, 1, 1, 0.00427389287987633, 0.004910430117304719, 1, 0.0122760752932618, 1, 1, 1, 1, 1, 1]\n",
      "0.42934782608695654\n",
      "4.146297387622949e-17\n",
      "['i', 'loved', 'it', 'so', 'much', 'because', 'you', 'get', 'to', 'stand', 'fear']\n",
      "[0.022278803309993635, 1, 0.010912066927343821, 0.0045466945530599255, 0.0011821405837955806, 0.0011821405837955806, 0.02009638992452487, 0.003546421751386742, 0.019914522142402472, 0.000181867782122397, 1]\n",
      "0.42934782608695654\n",
      "1.711891649084352e-22\n"
     ]
    },
    {
     "name": "stdout",
     "output_type": "stream",
     "text": [
      "['i', 'was', 'playing', 'this', 'song', 'and', 'the', 'baby', 'in', 'my', 'belly', 'started', 'to', 'dance', 'to', 'it', 'sooooo', 'cute', 'but', 'had', 'to', 'take', 'the', 'song', 'out', 'cause', 'of', 'copy', 'right', 'and', 'add', 'in', 'a', 'youtube', 'made', 'song', 'still', 'sooo', 'cute', 'the', 'baby', 'danced', 'to', 'this', 'song', 'lmfao', 'https', 'plus', 'google', 'com', '111982027348137311818', 'posts', 'g2jvinpuemo']\n",
      "[0.022278803309993635, 0.000727471128489588, 1, 0.018004910430117305, 0.0018186778212239702, 0.020369191597708464, 0.016640902064199325, 9.09338910611985e-05, 0.0045466945530599255, 0.022278803309993635, 1, 0.0009093389106119851, 0.019914522142402472, 9.09338910611985e-05, 0.019914522142402472, 0.010912066927343821, 1, 9.09338910611985e-05, 0.0033645539692643447, 0.00027280167318359554, 0.019914522142402472, 1, 0.016640902064199325, 0.0018186778212239702, 0.02264253887423843, 1, 0.009638992452487042, 1, 0.0008184050195507866, 0.020369191597708464, 1, 0.0045466945530599255, 0.019005183231790488, 0.010002728016731835, 0.000363735564244794, 0.0018186778212239702, 0.0005456033463671911, 1, 9.09338910611985e-05, 0.016640902064199325, 9.09338910611985e-05, 1, 0.019914522142402472, 0.018004910430117305, 0.0018186778212239702, 9.09338910611985e-05, 0.00427389287987633, 0.000727471128489588, 0.001273074474856779, 0.0122760752932618, 1, 1, 1]\n",
      "0.42934782608695654\n",
      "5.763099829343663e-105\n",
      "['check', 'out', 'the', 'new', 'hot', 'video', 'by', 'dante', 'b', 'called', 'riled', 'up']\n",
      "[0.022733472765299627, 0.02264253887423843, 0.016640902064199325, 1, 0.00027280167318359554, 0.01036646358097663, 0.0017277439301627716, 1, 0.00027280167318359554, 1, 1, 0.0056379012457943075]\n",
      "0.42934782608695654\n",
      "2.7637487844272267e-20\n",
      "['hey', 'youtubers', 'and', 'all', 'music', 'lover', '39', 's', 'guess', 'most', 'of', 'you', 'all', 'skip', 'these', 'comments', 'but', 'for', 'you', 'who', 'is', 'still', 'reading', 'this', 'thanks', 'i', 'dont', 'have', 'any', 'money', 'for', 'advertisiments', 'no', 'chance', 'of', 'getting', 'heard', 'nothing', 'all', 'that', '39', 's', 'left', 'is', 'spam', 'sorry', 'im', '17', 'rapper', 'singer', 'from', 'estonia', 'please', 'listen', 'my', 'new', 'cover', 'on', 'my', 'account', 'you', 'wont', 'regret', 'it', 'give', 'me', 'just', 'a', 'chance', 'please', 'take', 'half', 'a', 'second', 'of', 'your', 'life', 'and', 'thumb', 'this', 'comment', 'up', 'it', 'will', 'maybe', 'change', 'my', 'life', 'for', 'real', 'thank', 'you', 'wafence']\n",
      "[0.0030917522960807495, 1, 0.020369191597708464, 0.0024552150586523596, 0.003728289533509139, 1, 0.007001909611712286, 0.0030008184050195506, 1, 0.0008184050195507866, 0.009638992452487042, 0.02009638992452487, 0.0024552150586523596, 1, 0.0008184050195507866, 0.0005456033463671911, 0.0033645539692643447, 0.010912066927343821, 0.02009638992452487, 0.0018186778212239702, 0.003910157315631536, 0.0005456033463671911, 1, 0.018004910430117305, 0.002546148949713558, 0.022278803309993635, 0.0008184050195507866, 0.004819496226243521, 0.0013640083659179777, 0.0038192234245703373, 0.010912066927343821, 1, 0.002000545603346367, 1, 0.009638992452487042, 0.0011821405837955806, 0.0008184050195507866, 0.000727471128489588, 0.0024552150586523596, 0.0020914794944075655, 0.007001909611712286, 0.0030008184050195506, 1, 0.003910157315631536, 0.000727471128489588, 0.0008184050195507866, 0.001454942256979176, 1, 0.0015458761480403747, 0.00027280167318359554, 0.0028189506228971538, 1, 0.010093661907793034, 0.0010002728016731835, 0.022278803309993635, 1, 1, 0.01464035646085296, 0.022278803309993635, 1, 0.02009638992452487, 1, 1, 0.010912066927343821, 0.001454942256979176, 0.008184050195507865, 0.005546967354733109, 0.019005183231790488, 1, 0.010093661907793034, 1, 9.09338910611985e-05, 0.019005183231790488, 0.00027280167318359554, 0.009638992452487042, 0.004455760661998727, 0.0006365372374283895, 0.020369191597708464, 0.00027280167318359554, 0.018004910430117305, 0.002546148949713558, 0.0056379012457943075, 0.010912066927343821, 0.0036373556424479404, 0.000363735564244794, 1, 0.022278803309993635, 0.0006365372374283895, 0.010912066927343821, 0.0006365372374283895, 1, 0.02009638992452487, 1]\n",
      "0.42934782608695654\n",
      "3.767676159886187e-181\n",
      "['click', 'for', 'itunes', 'code', 'http', 'shhort', 'com', 'a', 'r', '0laviqu2b']\n",
      "[1, 0.010912066927343821, 1, 1, 0.005001364008365918, 1, 0.0122760752932618, 0.019005183231790488, 0.00045466945530599255, 1]\n",
      "0.42934782608695654\n",
      "2.4856051352227633e-12\n",
      "['people', 'who', 'believe', 'in', 'illuminati', 'are', 'stupid', 'the', 'same', 'people', 'believe', 'that', '911', 'was', 'made', 'by', 'the', 'american', 'government']\n",
      "[0.0017277439301627716, 0.0018186778212239702, 0.00027280167318359554, 0.0045466945530599255, 1, 0.0020914794944075655, 9.09338910611985e-05, 0.016640902064199325, 1, 0.0017277439301627716, 0.00027280167318359554, 0.0020914794944075655, 1, 0.000727471128489588, 0.000363735564244794, 0.0017277439301627716, 0.016640902064199325, 1, 1]\n",
      "0.42934782608695654\n",
      "3.971744105138489e-41\n",
      "['lol', 'so', 'funny', 'love', 'it']\n",
      "[0.000181867782122397, 0.0045466945530599255, 0.00027280167318359554, 0.002000545603346367, 0.010912066927343821]\n",
      "0.42934782608695654\n",
      "2.1142840065690706e-15\n",
      "['if', 'i', 'reach', '100', 'subscribers', 'i', 'will', 'go', 'round', 'in', 'public', 'pouring', 'a', 'bucket', 'of', 'ice', 'water', 'over', 'people', 'and', 'then', 'running', 'away', 'acting', 'like', 'it', \"wasn't\", 'me', 'like', 'so', 'people', 'can', 'see']\n",
      "[0.008456851868691462, 0.022278803309993635, 0.000363735564244794, 0.0005456033463671911, 0.0015458761480403747, 0.022278803309993635, 0.0036373556424479404, 0.0019096117122851686, 1, 0.0045466945530599255, 1, 1, 0.019005183231790488, 1, 0.009638992452487042, 1, 1, 0.001273074474856779, 0.0017277439301627716, 0.020369191597708464, 0.0010002728016731835, 1, 1, 1, 0.007365645175957079, 0.010912066927343821, 1, 0.008184050195507865, 0.007365645175957079, 0.0045466945530599255, 0.0017277439301627716, 0.0056379012457943075, 0.002000545603346367]\n",
      "0.42934782608695654\n",
      "6.153651867930417e-56\n",
      "['hey', 'i', 'am', 'doing', 'the', 'forty', 'hour', 'famine', 'so', 'i', '39', 'll', 'be', 'giving', 'up', 'on', 'food', 'and', 'social', 'working', 'for', '40', 'hours', 'i', '39', 'm', 'doing', 'this', 'to', 'raise', 'money', 'for', 'african', 'people', 'who', 'can', '39', 't', 'experience', 'the', 'luxuries', 'that', 'we', 'can', 'so', 'can', 'you', 'donate', 'to', 'give', 'them', 'a', 'chance', 'any', 'amount', 'would', 'do', 'click', 'on', 'the', 'link', 'and', 'donate', 'h', 't', 't', 'p', '4', '0', 'h', 'f', 'c', 'o', 'm', 'a', 'u', 'a', 'n', 't', 'h', 'o', 'n', 'y', 'l', 'a', 'm', 'thanks']\n",
      "[0.0030917522960807495, 0.022278803309993635, 0.002909884513958352, 0.000727471128489588, 0.016640902064199325, 1, 1, 1, 0.0045466945530599255, 0.022278803309993635, 0.007001909611712286, 1, 0.0038192234245703373, 1, 0.0056379012457943075, 0.01464035646085296, 1, 0.020369191597708464, 1, 1, 0.010912066927343821, 1, 1, 0.022278803309993635, 0.007001909611712286, 0.0036373556424479404, 0.000727471128489588, 0.018004910430117305, 0.019914522142402472, 1, 0.0038192234245703373, 0.010912066927343821, 1, 0.0017277439301627716, 0.0018186778212239702, 0.0056379012457943075, 0.007001909611712286, 0.0040920250977539326, 1, 0.016640902064199325, 1, 0.0020914794944075655, 0.0021824133854687643, 0.0056379012457943075, 0.0045466945530599255, 0.0056379012457943075, 0.02009638992452487, 1, 0.019914522142402472, 0.001454942256979176, 0.0005456033463671911, 0.019005183231790488, 1, 0.0013640083659179777, 1, 0.0022733472765299628, 0.002546148949713558, 1, 0.01464035646085296, 0.016640902064199325, 1, 0.020369191597708464, 1, 1, 0.0040920250977539326, 0.0040920250977539326, 0.00045466945530599255, 0.000181867782122397, 0.0010912066927343822, 1, 1, 0.000181867782122397, 0.000181867782122397, 0.0036373556424479404, 0.019005183231790488, 0.0018186778212239702, 0.019005183231790488, 9.09338910611985e-05, 0.0040920250977539326, 1, 0.000181867782122397, 9.09338910611985e-05, 9.09338910611985e-05, 0.00045466945530599255, 0.019005183231790488, 0.0036373556424479404, 0.002546148949713558]\n",
      "0.42934782608695654\n",
      "2.250891822062891e-156\n",
      "['lol', 'i', 'love', 'this', 'song']\n",
      "[0.000181867782122397, 0.022278803309993635, 0.002000545603346367, 0.018004910430117305, 0.0018186778212239702]\n",
      "0.42934782608695654\n",
      "1.139599079540729e-13\n",
      "['the', 'song', 'is', 'very', 'good', 'but', 'the', 'video', 'makes', 'no', 'sense', 'just', 'a', 'nonsense', 'video', 'i', 'mean', 'she', 'is', 'telling', 'her', 'story', 'of', 'being', 'stuck', 'on', 'an', 'island', 'but', 'the', 'song', \"doesn't\", 'fit', 'in', 'the', 'situation', 'but', 'nvm', 'the', 'song', 'is', 'good']\n",
      "[0.016640902064199325, 0.0018186778212239702, 0.003910157315631536, 0.00027280167318359554, 0.0009093389106119851, 0.0033645539692643447, 0.016640902064199325, 0.01036646358097663, 9.09338910611985e-05, 0.002000545603346367, 1, 0.005546967354733109, 0.019005183231790488, 1, 0.01036646358097663, 0.022278803309993635, 0.00045466945530599255, 0.0005456033463671911, 0.003910157315631536, 1, 0.00045466945530599255, 1, 0.009638992452487042, 0.00027280167318359554, 1, 0.01464035646085296, 0.0010002728016731835, 1, 0.0033645539692643447, 0.016640902064199325, 0.0018186778212239702, 1, 1, 0.0045466945530599255, 0.016640902064199325, 1, 0.0033645539692643447, 1, 0.016640902064199325, 0.0018186778212239702, 0.003910157315631536, 0.0009093389106119851]\n",
      "0.42934782608695654\n",
      "1.5349450385328065e-81\n",
      "['eye', 'of', 'the', 'tiger', 'i', 'am', 'the', 'champion', 'seems', 'like', 'katy', 'perry', 'is', 'using', 'titles', 'of', 'old', 'rock', 'songs', 'for', 'lyrics']\n",
      "[1, 0.009638992452487042, 0.016640902064199325, 0.000181867782122397, 0.022278803309993635, 0.002909884513958352, 0.016640902064199325, 1, 1, 0.007365645175957079, 0.0011821405837955806, 0.00045466945530599255, 0.003910157315631536, 1, 1, 0.009638992452487042, 0.0008184050195507866, 9.09338910611985e-05, 0.0011821405837955806, 0.010912066927343821, 0.0005456033463671911]\n",
      "0.42934782608695654\n",
      "1.056007068074327e-42\n",
      "['i', 'believe', 'that', 'soccer', 'promotes', 'terrorism', 'bad', 'choice', 'shakira']\n",
      "[0.022278803309993635, 0.00027280167318359554, 0.0020914794944075655, 0.000363735564244794, 1, 1, 0.000181867782122397, 1, 0.000363735564244794]\n",
      "0.42934782608695654\n",
      "1.3131945491488542e-19\n",
      "['hey', 'music', 'fans', 'i', 'really', 'appreciate', 'any', 'of', 'you', 'who', 'will', 'take', 'the', 'time', 'to', 'read', 'this', 'and', 'check', 'my', 'music', 'out', 'i', '39', 'm', 'just', 'a', '15', 'year', 'old', 'boy', 'dreaming', 'of', 'being', 'a', 'successful', 'musician', 'in', 'the', 'music', 'world', 'i', 'do', 'lots', 'of', 'covers', 'and', 'piano', 'covers', 'but', 'i', 'don', '39', 't', 'have', 'money', 'to', 'advertise', 'a', 'simple', 'thumbs', 'up', 'to', 'my', 'comment', 'a', 'comment', 'on', 'my', 'videos', 'or', 'a', 'subscription', 'would', 'be', 'a', 'step', 'forward', 'it', 'will', 'only', 'be', 'a', 'few', 'seconds', 'of', 'your', 'life', 'that', 'you', 'won', '39', 't', 'regret', 'thank', 'u', 'to', 'all', 'the', 'people', 'who', 'just', 'give', 'me', 'a', 'chance']\n",
      "[0.0030917522960807495, 0.003728289533509139, 0.000363735564244794, 0.022278803309993635, 0.0017277439301627716, 0.0010002728016731835, 0.0013640083659179777, 0.009638992452487042, 0.02009638992452487, 0.0018186778212239702, 0.0036373556424479404, 1, 0.016640902064199325, 0.001454942256979176, 0.019914522142402472, 1, 0.018004910430117305, 0.020369191597708464, 0.022733472765299627, 0.022278803309993635, 0.003728289533509139, 0.02264253887423843, 0.022278803309993635, 0.007001909611712286, 0.0036373556424479404, 0.005546967354733109, 0.019005183231790488, 0.00045466945530599255, 0.0011821405837955806, 0.0008184050195507866, 0.00027280167318359554, 1, 0.009638992452487042, 0.00027280167318359554, 0.019005183231790488, 0.000181867782122397, 1, 0.0045466945530599255, 0.016640902064199325, 0.003728289533509139, 0.0008184050195507866, 0.022278803309993635, 0.002546148949713558, 0.000181867782122397, 0.009638992452487042, 1, 0.020369191597708464, 1, 1, 0.0033645539692643447, 0.022278803309993635, 0.0018186778212239702, 0.007001909611712286, 0.0040920250977539326, 0.004819496226243521, 0.0038192234245703373, 0.019914522142402472, 1, 0.019005183231790488, 1, 0.0016368100391015732, 0.0056379012457943075, 0.019914522142402472, 0.022278803309993635, 0.002546148949713558, 0.019005183231790488, 0.002546148949713558, 0.01464035646085296, 0.022278803309993635, 0.0024552150586523596, 0.0021824133854687643, 0.019005183231790488, 1, 0.0022733472765299628, 0.0038192234245703373, 0.019005183231790488, 1, 1, 0.010912066927343821, 0.0036373556424479404, 0.0011821405837955806, 0.0038192234245703373, 0.019005183231790488, 0.000363735564244794, 1, 0.009638992452487042, 0.004455760661998727, 0.0006365372374283895, 0.0020914794944075655, 0.02009638992452487, 1, 0.007001909611712286, 0.0040920250977539326, 1, 1, 0.0018186778212239702, 0.019914522142402472, 0.0024552150586523596, 0.016640902064199325, 0.0017277439301627716, 0.0018186778212239702, 0.005546967354733109, 0.001454942256979176, 0.008184050195507865, 0.019005183231790488, 1]\n",
      "0.42934782608695654\n"
     ]
    },
    {
     "name": "stdout",
     "output_type": "stream",
     "text": [
      "5.004275389760873e-208\n",
      "['the', 'best', 'fifa', 'world', 'cup', 'song', 'for', 'sure']\n",
      "[0.016640902064199325, 0.0011821405837955806, 1, 0.0008184050195507866, 9.09338910611985e-05, 0.0018186778212239702, 0.010912066927343821, 0.000181867782122397]\n",
      "0.42934782608695654\n",
      "2.2686519967917457e-21\n",
      "['5', 'milions', 'comentars', 'and', '2', 'bilion', 'views']\n",
      "[0.000363735564244794, 1, 1, 0.020369191597708464, 0.000727471128489588, 1, 0.0006365372374283895]\n",
      "0.42934782608695654\n",
      "1.4730191900337946e-12\n",
      "['good', 'music']\n",
      "[0.0009093389106119851, 0.003728289533509139]\n",
      "0.42934782608695654\n",
      "1.4556088080702938e-06\n",
      "['https', 'www', 'facebook', 'com', 'pages', 'brew', 'crew', '2014', '134470083389909', 'like', 'this', 'facebook', 'page', 'chance', 'to', 'win', 'an', 'iphone', '5s']\n",
      "[0.00427389287987633, 0.004910430117304719, 1, 0.0122760752932618, 1, 1, 1, 0.00045466945530599255, 1, 0.007365645175957079, 0.018004910430117305, 1, 1, 1, 0.019914522142402472, 1, 0.0010002728016731835, 1, 1]\n",
      "0.42934782608695654\n",
      "1.3286110727807355e-19\n",
      "['echa', 'un', 'vistazo', 'a', 'la', 'remezcla', 'check', 'out', 'the', 'remix', 'miley', 'cyrus', 'wrecking', 'ball', 'the', 'house', 'of', 'edm', 'remix', 'miley', 'cyrus', 'wrecking', 'ball', 'vincent', 't', 'remix', 'click', 'enlace', 'suscr', 'base', 'click', 'link', 'subscribe']\n",
      "[1, 1, 1, 0.019005183231790488, 1, 1, 0.022733472765299627, 0.02264253887423843, 0.016640902064199325, 1, 1, 1, 1, 1, 0.016640902064199325, 1, 0.009638992452487042, 1, 1, 1, 1, 1, 1, 1, 0.0040920250977539326, 1, 1, 1, 1, 1, 1, 1, 0.010730199145221424]\n",
      "0.42934782608695654\n",
      "4.922703466226264e-16\n",
      "['thanks', 'to', 'this', 'video', 'we', 'know', 'that', 'nokia', 'phones', 'can', 'survive', 'a', 'plane', 'crash']\n",
      "[0.002546148949713558, 0.019914522142402472, 0.018004910430117305, 0.01036646358097663, 0.0021824133854687643, 0.0019096117122851686, 0.0020914794944075655, 1, 1, 0.0056379012457943075, 1, 0.019005183231790488, 1, 1]\n",
      "0.42934782608695654\n",
      "3.794982509561378e-21\n",
      "['i', 'love', 'this', 'song', 'amp', 'i', 'love', 'shakira', 'lt', '333', '33']\n",
      "[0.022278803309993635, 0.002000545603346367, 0.018004910430117305, 0.0018186778212239702, 0.0060925707011003005, 0.022278803309993635, 0.002000545603346367, 0.000363735564244794, 0.001273074474856779, 1, 1]\n",
      "0.42934782608695654\n",
      "7.879103198556036e-23\n",
      "['this', 'song', 'is', 'just', 'insane', 'br', 'do', 'you', 'dance', 'listening', 'to', 'this', 'song', 'i', 'do', 'lol']\n",
      "[0.018004910430117305, 0.0018186778212239702, 0.003910157315631536, 0.005546967354733109, 1, 0.006910975720651086, 0.002546148949713558, 0.02009638992452487, 9.09338910611985e-05, 9.09338910611985e-05, 0.019914522142402472, 0.018004910430117305, 0.0018186778212239702, 0.022278803309993635, 0.002546148949713558, 0.000181867782122397]\n",
      "0.42934782608695654\n",
      "5.998555458959502e-39\n",
      "['its', 'a', 'good', 'song', 'and', 'i', 'like', 'her', 'video', 'clip', 'because', 'its', 'a', 'bout', 'a', 'girl', 'that', 'her', 'airplane', 'crashed', 'on', 'a', 'land', 'far', 'far', 'away', 'and', 'she', 'found', 'the', 'way', 'to', 'survive', 'and', 'i', 'love', 'the', 'pet', 'tiget', 'too', 'kitty', 'purpy', 'lol', 'd']\n",
      "[0.0010912066927343822, 0.019005183231790488, 0.0009093389106119851, 0.0018186778212239702, 0.020369191597708464, 0.022278803309993635, 0.007365645175957079, 0.00045466945530599255, 0.01036646358097663, 1, 0.0011821405837955806, 0.0010912066927343822, 0.019005183231790488, 1, 0.019005183231790488, 0.00045466945530599255, 0.0020914794944075655, 0.00045466945530599255, 1, 1, 0.01464035646085296, 0.019005183231790488, 1, 1, 1, 1, 0.020369191597708464, 0.0005456033463671911, 0.00027280167318359554, 0.016640902064199325, 0.0010912066927343822, 0.019914522142402472, 1, 0.020369191597708464, 0.022278803309993635, 0.002000545603346367, 0.016640902064199325, 1, 1, 0.000727471128489588, 1, 1, 0.000181867782122397, 0.001454942256979176]\n",
      "0.42934782608695654\n",
      "4.145928296174537e-77\n",
      "['it', 'makes', 'me', 'happy', 'instantly', 'and', 'makes', 'me', 'forgot', 'everything', 'bad', 'happening']\n",
      "[0.010912066927343821, 9.09338910611985e-05, 0.008184050195507865, 1, 1, 0.020369191597708464, 9.09338910611985e-05, 0.008184050195507865, 1, 9.09338910611985e-05, 0.000181867782122397, 1]\n",
      "0.42934782608695654\n",
      "8.740972356464366e-25\n",
      "['the', 'first', 'billion', 'viewed', 'this', 'because', 'they', 'thought', 'it', 'was', 'really', 'cool', 'the', 'other', 'billion', 'and', 'a', 'half', 'came', 'to', 'see', 'how', 'stupid', 'the', 'first', 'billion', 'were']\n",
      "[0.016640902064199325, 0.0008184050195507866, 1, 1, 0.018004910430117305, 0.0011821405837955806, 0.0010912066927343822, 1, 0.010912066927343821, 0.000727471128489588, 0.0017277439301627716, 0.00045466945530599255, 0.016640902064199325, 0.000363735564244794, 1, 0.020369191597708464, 0.019005183231790488, 9.09338910611985e-05, 1, 0.019914522142402472, 0.002000545603346367, 0.0013640083659179777, 9.09338910611985e-05, 0.016640902064199325, 0.0008184050195507866, 1, 0.00027280167318359554]\n",
      "0.42934782608695654\n",
      "3.31289035396911e-57\n",
      "['a', 'rel', 'nofollow', 'class', 'ot', 'hashtag', 'href', 'https', 'plus', 'google', 'com', 's', '23awesome', 'awesome', 'a', 'a', 'rel', 'nofollow', 'class', 'ot', 'hashtag', 'href', 'https', 'plus', 'google', 'com', 's', '23share', 'share', 'a', 'a', 'rel', 'nofollow', 'class', 'ot', 'hashtag', 'href', 'https', 'plus', 'google', 'com', 's', '23rt', 'rt', 'a', 'eminem', 'love', 'the', 'way', 'you', 'lie', 'ft', 'rihanna', 'a', 'href', 'http', 'ow', 'ly', '2zme8f', 'http', 'ow', 'ly', '2zme8f', 'a']\n",
      "[0.019005183231790488, 1, 1, 1, 1, 1, 0.0017277439301627716, 0.00427389287987633, 0.000727471128489588, 0.001273074474856779, 0.0122760752932618, 0.0030008184050195506, 1, 0.00027280167318359554, 0.019005183231790488, 0.019005183231790488, 1, 1, 1, 1, 1, 0.0017277439301627716, 0.00427389287987633, 0.000727471128489588, 0.001273074474856779, 0.0122760752932618, 0.0030008184050195506, 1, 0.0022733472765299628, 0.019005183231790488, 0.019005183231790488, 1, 1, 1, 1, 1, 0.0017277439301627716, 0.00427389287987633, 0.000727471128489588, 0.001273074474856779, 0.0122760752932618, 0.0030008184050195506, 1, 1, 0.019005183231790488, 0.0015458761480403747, 0.002000545603346367, 0.016640902064199325, 0.0010912066927343822, 0.02009638992452487, 0.000363735564244794, 9.09338910611985e-05, 0.0009093389106119851, 0.019005183231790488, 0.0017277439301627716, 0.005001364008365918, 1, 1, 1, 0.005001364008365918, 1, 1, 1, 0.019005183231790488]\n",
      "0.42934782608695654\n",
      "1.0629988536460526e-97\n",
      "['check', 'out', 'partyman318', 'fr', 'good', 'tunez', 'd']\n",
      "[0.022733472765299627, 0.02264253887423843, 1, 1, 0.0009093389106119851, 1, 0.001454942256979176]\n",
      "0.42934782608695654\n",
      "2.9239618807271594e-10\n",
      "['subscribe', 'to', 'my', 'youtube', 'channel', 'suscribite', 'a', 'mi', 'canal', 'de', 'youtube', 'whatuknow']\n",
      "[0.010730199145221424, 0.019914522142402472, 0.022278803309993635, 0.010002728016731835, 1, 1, 0.019005183231790488, 1, 1, 1, 0.010002728016731835, 1]\n",
      "0.42934782608695654\n",
      "3.886760503760953e-12\n",
      "['hey', 'guys', 'subscribe', 'to', 'my', 'chanel', 'and', 'i', 'will', 'subscribe', 'back', 'and', 'like', 'all', 'your', 'vids', 'br', 'br']\n",
      "[0.0030917522960807495, 0.005274165681549514, 0.010730199145221424, 0.019914522142402472, 0.022278803309993635, 1, 0.020369191597708464, 0.022278803309993635, 0.0036373556424479404, 0.010730199145221424, 0.0011821405837955806, 0.020369191597708464, 0.007365645175957079, 0.0024552150586523596, 0.004455760661998727, 1, 0.006910975720651086, 0.006910975720651086]\n",
      "0.42934782608695654\n",
      "5.470667303497863e-35\n",
      "['they', 'said', 'this', 'video', 'are', 'not', 'deserve', '2billion', 'views', 'while', 'they', 'keep', 'visiting', 'it', 'to', 'watch', 'the', 'viewer']\n",
      "[0.0010912066927343822, 1, 0.018004910430117305, 0.01036646358097663, 0.0020914794944075655, 0.0019096117122851686, 9.09338910611985e-05, 1, 0.0006365372374283895, 0.000181867782122397, 0.0010912066927343822, 0.000181867782122397, 1, 0.010912066927343821, 0.019914522142402472, 0.0024552150586523596, 0.016640902064199325, 1]\n",
      "0.42934782608695654\n",
      "6.478105672982319e-39\n",
      "['believe', 'that', 'jesus', 'christ', 'is', 'your', 'savior', 'for', 'all', 'your', 'sins', 'if', 'you', 'truly', 'believe', 'in', 'jesus', 'christ', 'to', 'be', 'your', 'savior', 'for', 'all', 'your', 'sins', 'then', 'you', 'will', 'go', 'to', 'heaven', 'if', 'you', 'believe', 'in', 'jesus', 'christ', 'then', 'you', 'are', 'saved', 'and', 'you', 'are', 'in', 'salvation', 'and', 'you', 'have', 'gained', 'god', 's', 'righteousness', 'it', 'matters', 'not', 'how', 'much', 'you', 'have', 'sinned', 'in', 'the', 'past', 'in', 'the', 'present', 'and', 'especially', 'in', 'the', 'future', 'believe', 'that', 'jesus', 'christ', 'is', 'your', 'savior', 'and', 'you', 'will', 'go', 'to', 'heaven', 'forever', 'and', 'that', 'is', 'the', 'whole', 'truth', 'spread', 'the', 'truth']\n"
     ]
    },
    {
     "name": "stdout",
     "output_type": "stream",
     "text": [
      "[0.00027280167318359554, 0.0020914794944075655, 1, 1, 0.003910157315631536, 0.004455760661998727, 1, 0.010912066927343821, 0.0024552150586523596, 0.004455760661998727, 1, 0.008456851868691462, 0.02009638992452487, 1, 0.00027280167318359554, 0.0045466945530599255, 1, 1, 0.019914522142402472, 0.0038192234245703373, 0.004455760661998727, 1, 0.010912066927343821, 0.0024552150586523596, 0.004455760661998727, 1, 0.0010002728016731835, 0.02009638992452487, 0.0036373556424479404, 0.0019096117122851686, 0.019914522142402472, 1, 0.008456851868691462, 0.02009638992452487, 0.00027280167318359554, 0.0045466945530599255, 1, 1, 0.0010002728016731835, 0.02009638992452487, 0.0020914794944075655, 1, 0.020369191597708464, 0.02009638992452487, 0.0020914794944075655, 0.0045466945530599255, 1, 0.020369191597708464, 0.02009638992452487, 0.004819496226243521, 1, 0.00045466945530599255, 0.0030008184050195506, 1, 0.010912066927343821, 1, 0.0019096117122851686, 0.0013640083659179777, 0.0011821405837955806, 0.02009638992452487, 0.004819496226243521, 1, 0.0045466945530599255, 0.016640902064199325, 9.09338910611985e-05, 0.0045466945530599255, 0.016640902064199325, 1, 0.020369191597708464, 1, 0.0045466945530599255, 0.016640902064199325, 1, 0.00027280167318359554, 0.0020914794944075655, 1, 1, 0.003910157315631536, 0.004455760661998727, 1, 0.020369191597708464, 0.02009638992452487, 0.0036373556424479404, 0.0019096117122851686, 0.019914522142402472, 1, 1, 0.020369191597708464, 0.0020914794944075655, 0.003910157315631536, 0.016640902064199325, 0.000181867782122397, 1, 1, 0.016640902064199325, 1]\n",
      "0.42934782608695654\n",
      "1.3831912642350125e-158\n",
      "['i', 'came', 'here', 'because', 'of', 'vanoss']\n",
      "[0.022278803309993635, 1, 0.001454942256979176, 0.0011821405837955806, 0.009638992452487042, 1]\n",
      "0.42934782608695654\n",
      "1.5857972217707573e-10\n",
      "['hey', 'guys', 'i', 'am', 'a', 'very', 'small', 'youtuber', 'i', 'upload', 'videos', 'nearly', 'every', 'single', 'day', 'i', 'once', 'hope', 'to', 'be', 'like', 'shikas', 'so', 'can', 'you', 'please', 'give', '2', 'mins', 'of', 'your', 'life', 'to', 'view', 'this', 'channel', 'and', 'my', 'new', 'video', 'is', 'on', 'how', 'to', 'watch', 'all', 'the', 'anime', 'for', 'free', 'and', 'i', 'am', 'pretty', 'sure', 'you', 'wont', 'regret', 'visiting', 'this', 'channel', 'thank', 'you']\n",
      "[0.0030917522960807495, 0.005274165681549514, 0.022278803309993635, 0.002909884513958352, 0.019005183231790488, 0.00027280167318359554, 1, 9.09338910611985e-05, 0.022278803309993635, 1, 0.0024552150586523596, 1, 0.00027280167318359554, 9.09338910611985e-05, 0.0006365372374283895, 0.022278803309993635, 1, 0.0006365372374283895, 0.019914522142402472, 0.0038192234245703373, 0.007365645175957079, 1, 0.0045466945530599255, 0.0056379012457943075, 0.02009638992452487, 0.010093661907793034, 0.001454942256979176, 0.000727471128489588, 1, 0.009638992452487042, 0.004455760661998727, 0.0006365372374283895, 0.019914522142402472, 0.000363735564244794, 0.018004910430117305, 1, 0.020369191597708464, 0.022278803309993635, 1, 0.01036646358097663, 0.003910157315631536, 0.01464035646085296, 0.0013640083659179777, 0.019914522142402472, 0.0024552150586523596, 0.0024552150586523596, 0.016640902064199325, 1, 0.010912066927343821, 0.002000545603346367, 0.020369191597708464, 0.022278803309993635, 0.002909884513958352, 0.000181867782122397, 0.000181867782122397, 0.02009638992452487, 1, 1, 1, 0.018004910430117305, 1, 1, 0.02009638992452487]\n",
      "0.42934782608695654\n",
      "1.4659381885898806e-118\n",
      "[]\n",
      "[]\n",
      "0.42934782608695654\n",
      "0.42934782608695654\n",
      "['i', 'love', 'shakira']\n",
      "[0.022278803309993635, 0.002000545603346367, 0.000363735564244794]\n",
      "0.42934782608695654\n",
      "6.960418451594455e-09\n",
      "['plz', 'i', 'wilsubscribe', 'me', 'frndzzl', 'subscribe', 'u', 'back']\n",
      "[1, 0.022278803309993635, 1, 0.008184050195507865, 1, 0.010730199145221424, 0.0018186778212239702, 0.0011821405837955806]\n",
      "0.42934782608695654\n",
      "1.8059349049746676e-12\n",
      "['check', 'out', 'this', 'playlist', 'on', 'youtube']\n",
      "[0.022733472765299627, 0.02264253887423843, 0.018004910430117305, 1, 0.01464035646085296, 0.010002728016731835]\n",
      "0.42934782608695654\n",
      "5.827217793330138e-10\n",
      "['hey', 'plz', 'check', 'out', 'my', 'music', 'video', 'thanks']\n",
      "[0.0030917522960807495, 1, 0.022733472765299627, 0.02264253887423843, 0.022278803309993635, 0.003728289533509139, 0.01036646358097663, 0.002546148949713558]\n",
      "0.42934782608695654\n",
      "1.4980309613719425e-15\n",
      "['wait', 'i', 'saw', 'a', 'kid', 'not', 'kidding']\n",
      "[1, 0.022278803309993635, 1, 0.019005183231790488, 0.000181867782122397, 0.0019096117122851686, 1]\n",
      "0.42934782608695654\n",
      "6.313555883846021e-11\n",
      "['this', 'song', 'will', 'never', 'get', 'old']\n",
      "[0.018004910430117305, 0.0018186778212239702, 0.0036373556424479404, 0.00027280167318359554, 0.003546421751386742, 0.0008184050195507866]\n",
      "0.42934782608695654\n",
      "4.048997106333057e-17\n",
      "['super', 'awesome', 'video', 'br']\n",
      "[9.09338910611985e-05, 0.00027280167318359554, 0.01036646358097663, 0.006910975720651086]\n",
      "0.42934782608695654\n",
      "7.630483655006058e-13\n",
      "['check', 'out', 'this', 'video', 'on', 'youtube', 'a', 'rel', 'nofollow', 'class', 'ot', 'hashtag', 'href', 'https', 'plus', 'google', 'com', 's', '23eminem', 'eminem', 'a', 'a', 'rel', 'nofollow', 'class', 'ot', 'hashtag', 'href', 'https', 'plus', 'google', 'com', 's', '23lovethewayyoulie', 'lovethewayyoulie', 'a', 'a', 'rel', 'nofollow', 'class', 'ot', 'hashtag', 'href', 'https', 'plus', 'google', 'com', 's', '23rapgod', 'rapgod', 'a', 'a', 'rel', 'nofollow', 'class', 'ot', 'hashtag', 'href', 'https', 'plus', 'google', 'com', 's', '23king', 'king', 'a']\n",
      "[0.022733472765299627, 0.02264253887423843, 0.018004910430117305, 0.01036646358097663, 0.01464035646085296, 0.010002728016731835, 0.019005183231790488, 1, 1, 1, 1, 1, 0.0017277439301627716, 0.00427389287987633, 0.000727471128489588, 0.001273074474856779, 0.0122760752932618, 0.0030008184050195506, 1, 0.0015458761480403747, 0.019005183231790488, 0.019005183231790488, 1, 1, 1, 1, 1, 0.0017277439301627716, 0.00427389287987633, 0.000727471128489588, 0.001273074474856779, 0.0122760752932618, 0.0030008184050195506, 1, 1, 0.019005183231790488, 0.019005183231790488, 1, 1, 1, 1, 1, 0.0017277439301627716, 0.00427389287987633, 0.000727471128489588, 0.001273074474856779, 0.0122760752932618, 0.0030008184050195506, 1, 1, 0.019005183231790488, 0.019005183231790488, 1, 1, 1, 1, 1, 0.0017277439301627716, 0.00427389287987633, 0.000727471128489588, 0.001273074474856779, 0.0122760752932618, 0.0030008184050195506, 1, 1, 0.019005183231790488]\n",
      "0.42934782608695654\n",
      "6.402217434278376e-91\n",
      "['dude', 'check', 'out', 'psy']\n",
      "[1, 0.022733472765299627, 0.02264253887423843, 0.000181867782122397]\n",
      "0.42934782608695654\n",
      "4.019351100294571e-08\n",
      "['i', 'stil', 'lisening', 'this']\n",
      "[0.022278803309993635, 1, 1, 0.018004910430117305]\n",
      "0.42934782608695654\n",
      "0.00017222337385241451\n",
      "['a', 'href', 'http', 'www', 'gofundme', 'com', 'helpmypitbull', 'http', 'www', 'gofundme', 'com', 'helpmypitbull', 'a', 'can', 'you', 'please', 'donate', 'to', 'help', 'my', 'pitbull', 'please', 'i', 'just', 'need', '50', 'dollars', 'to', 'take', 'it', 'to', 'the', 'vet']\n",
      "[0.019005183231790488, 0.0017277439301627716, 0.005001364008365918, 0.004910430117304719, 1, 0.0122760752932618, 1, 0.005001364008365918, 0.004910430117304719, 1, 0.0122760752932618, 1, 0.019005183231790488, 0.0056379012457943075, 0.02009638992452487, 0.010093661907793034, 1, 0.019914522142402472, 0.0021824133854687643, 0.022278803309993635, 1, 0.010093661907793034, 0.022278803309993635, 0.005546967354733109, 0.001273074474856779, 1, 1, 0.019914522142402472, 1, 0.010912066927343821, 0.019914522142402472, 0.016640902064199325, 1]\n",
      "0.42934782608695654\n",
      "3.084072529663304e-48\n",
      "['we', 'can', 'have', 'a', 'party', 'next', 'share']\n",
      "[0.0021824133854687643, 0.0056379012457943075, 0.004819496226243521, 0.019005183231790488, 9.09338910611985e-05, 0.00027280167318359554, 0.0022733472765299628]\n",
      "0.42934782608695654\n",
      "2.7288272496228364e-20\n",
      "['3', 'yrs', 'ago', 'i', 'had', 'a', 'health', 'scare', 'but', 'thankfully', 'i', 'm', 'okay', 'i', 'realized', 'i', 'wasn', 't', 'living', 'life', 'to', 'the', 'fullest', 'now', 'i', 'm', 'on', 'a', 'mission', 'to', 'do', 'everything', 'i', 've', 'always', 'wanted', 'to', 'do', 'if', 'you', 'found', 'out', 'you', 'were', 'going', 'to', 'die', 'tomorrow', 'would', 'you', 'be', 'happy', 'with', 'what', 'you', 've', 'accomplished', 'or', 'would', 'you', 'regret', 'not', 'doing', 'certain', 'things', 'sorry', 'for', 'spamming', 'i', 'm', 'just', 'trying', 'to', 'motivate', 'people', 'to', 'do', 'the', 'things', 'they', 've', 'always', 'wanted', 'to', 'if', 'you', 're', 'bored', 'come', 'see', 'what', 'i', 've', 'done', 'so', 'far', 'almost', '1000', 'subscribers', 'and', 'i', 'just', 'started']\n",
      "[0.0015458761480403747, 1, 1, 0.022278803309993635, 0.00027280167318359554, 0.019005183231790488, 1, 1, 0.0033645539692643447, 1, 0.022278803309993635, 0.0036373556424479404, 1, 0.022278803309993635, 1, 0.022278803309993635, 1, 0.0040920250977539326, 1, 0.0006365372374283895, 0.019914522142402472, 0.016640902064199325, 1, 0.0010912066927343822, 0.022278803309993635, 0.0036373556424479404, 0.01464035646085296, 0.019005183231790488, 1, 0.019914522142402472, 0.002546148949713558, 9.09338910611985e-05, 0.022278803309993635, 0.00027280167318359554, 9.09338910611985e-05, 0.00027280167318359554, 0.019914522142402472, 0.002546148949713558, 0.008456851868691462, 0.02009638992452487, 0.00027280167318359554, 0.02264253887423843, 0.02009638992452487, 0.00027280167318359554, 0.00045466945530599255, 0.019914522142402472, 1, 1, 0.0022733472765299628, 0.02009638992452487, 0.0038192234245703373, 1, 0.002637082840774757, 0.0006365372374283895, 0.02009638992452487, 0.00027280167318359554, 1, 0.0021824133854687643, 0.0022733472765299628, 0.02009638992452487, 1, 0.0019096117122851686, 0.000727471128489588, 1, 0.000181867782122397, 0.0008184050195507866, 0.010912066927343821, 1, 0.022278803309993635, 0.0036373556424479404, 0.005546967354733109, 1, 0.019914522142402472, 1, 0.0017277439301627716, 0.019914522142402472, 0.002546148949713558, 0.016640902064199325, 0.000181867782122397, 0.0010912066927343822, 0.00027280167318359554, 9.09338910611985e-05, 0.00027280167318359554, 0.019914522142402472, 0.008456851868691462, 0.02009638992452487, 0.000181867782122397, 1, 0.0011821405837955806, 0.002000545603346367, 0.0006365372374283895, 0.022278803309993635, 0.00027280167318359554, 0.00027280167318359554, 0.0045466945530599255, 1, 1, 1, 0.0015458761480403747, 0.020369191597708464, 0.022278803309993635, 0.005546967354733109, 0.0009093389106119851]\n",
      "0.42934782608695654\n",
      "6.333631280069548e-200\n",
      "['remeber', 'when', 'this', 'song', 'was', 'good']\n",
      "[1, 0.0008184050195507866, 0.018004910430117305, 0.0018186778212239702, 0.000727471128489588, 0.0009093389106119851]\n",
      "0.42934782608695654\n",
      "7.611422423648653e-15\n",
      "['charlie', 'from', 'lost']\n",
      "[1, 0.0028189506228971538, 1]\n",
      "0.42934782608695654\n",
      "0.001210310321787365\n",
      "['http', 'psnboss', 'com', 'ref', '2tggp3pv6l', 'this', 'is', 'the', 'song']\n",
      "[0.005001364008365918, 1, 0.0122760752932618, 1, 1, 0.018004910430117305, 0.003910157315631536, 0.016640902064199325, 0.0018186778212239702]\n",
      "0.42934782608695654\n",
      "5.6166208417801766e-14\n",
      "['i', 'think', 'this', 'is', 'now', 'a', 'place', 'to', 'promote', 'channels', 'in', 'the', 'comment', 'section', 'lol']\n",
      "[0.022278803309993635, 0.0010912066927343822, 0.018004910430117305, 0.003910157315631536, 0.0010912066927343822, 0.019005183231790488, 9.09338910611985e-05, 0.019914522142402472, 1, 1, 0.0045466945530599255, 0.016640902064199325, 0.002546148949713558, 1, 0.000181867782122397]\n",
      "0.42934782608695654\n",
      "9.66897220877824e-31\n",
      "['hey', \"i'm\", 'nerdy', 'peach', 'and', \"i'm\", 'a', 'new', 'youtuber', 'and', 'it', 'would', 'mean', 'the', 'absolute', 'world', 'to', 'me', 'if', 'you', 'could', 'check', \"'em\", 'out', 'lt', '3', 'hope', 'you', 'like', 'them', 'd']\n",
      "[0.0030917522960807495, 0.001454942256979176, 1, 1, 0.020369191597708464, 0.001454942256979176, 0.019005183231790488, 1, 9.09338910611985e-05, 0.020369191597708464, 0.010912066927343821, 0.0022733472765299628, 0.00045466945530599255, 0.016640902064199325, 1, 0.0008184050195507866, 0.019914522142402472, 0.008184050195507865, 0.008456851868691462, 0.02009638992452487, 0.0019096117122851686, 0.022733472765299627, 1, 0.02264253887423843, 0.001273074474856779, 0.0015458761480403747, 0.0006365372374283895, 0.02009638992452487, 0.007365645175957079, 0.0005456033463671911, 0.001454942256979176]\n",
      "0.42934782608695654\n",
      "1.2404221133537253e-63\n",
      "['like', 'please']\n",
      "[0.007365645175957079, 0.010093661907793034]\n",
      "0.42934782608695654\n",
      "3.192043608136588e-05\n",
      "['anyone', 'else', 'think', 'this', 'video', 'theme', 'is', 'a', 'bit', 'of', 'an', 'insult', 'to', '28', 'days', 'later']\n",
      "[0.0006365372374283895, 0.000181867782122397, 0.0010912066927343822, 0.018004910430117305, 0.01036646358097663, 1, 0.003910157315631536, 0.019005183231790488, 0.000181867782122397, 0.009638992452487042, 0.0010002728016731835, 1, 0.019914522142402472, 1, 0.000181867782122397, 1]\n",
      "0.42934782608695654\n",
      "4.7776605400529306e-33\n",
      "['how', 'do', 'you', 'forget', 'you', 'have', 'a', 'choice', 'and', 'what', 'the', 'fuck', 'surviving', 'a', 'plane', 'crash', 'has', 'a', '1', '1000', 'chance', 'of', 'happening']\n",
      "[0.0013640083659179777, 0.002546148949713558, 0.02009638992452487, 1, 0.02009638992452487, 0.004819496226243521, 0.019005183231790488, 1, 0.020369191597708464, 0.0006365372374283895, 0.016640902064199325, 9.09338910611985e-05, 1, 0.019005183231790488, 1, 1, 0.0015458761480403747, 0.019005183231790488, 0.0030008184050195506, 1, 1, 0.009638992452487042, 1]\n",
      "0.42934782608695654\n",
      "1.7478748475027223e-35\n",
      "['check', 'out', 'this', 'video', 'on', 'youtube']\n"
     ]
    },
    {
     "name": "stdout",
     "output_type": "stream",
     "text": [
      "[0.022733472765299627, 0.02264253887423843, 0.018004910430117305, 0.01036646358097663, 0.01464035646085296, 0.010002728016731835]\n",
      "0.42934782608695654\n",
      "6.040764103297587e-12\n",
      "['please', 'share', 'and', 'help', 'to', 'my', 'friend', 'http', 'www', 'gofundme', 'com', 'jormis', 'thank', 'you', 'very', 'much']\n",
      "[0.010093661907793034, 0.0022733472765299628, 0.020369191597708464, 0.0021824133854687643, 0.019914522142402472, 0.022278803309993635, 0.000363735564244794, 0.005001364008365918, 0.004910430117304719, 1, 0.0122760752932618, 1, 1, 0.02009638992452487, 0.00027280167318359554, 0.0011821405837955806]\n",
      "0.42934782608695654\n",
      "1.3809688394003864e-31\n",
      "['if', 'u', 'love', 'rihanna', 'subscribe', 'me']\n",
      "[0.008456851868691462, 0.0018186778212239702, 0.002000545603346367, 0.0009093389106119851, 0.010730199145221424, 0.008184050195507865]\n",
      "0.42934782608695654\n",
      "1.0549310124619885e-15\n",
      "['what', 'is', 'he', 'saying']\n",
      "[0.0006365372374283895, 0.003910157315631536, 0.0017277439301627716, 1]\n",
      "0.42934782608695654\n",
      "1.8463187905690482e-09\n",
      "['likeeeeeeeee']\n",
      "[1]\n",
      "0.42934782608695654\n",
      "0.42934782608695654\n",
      "['i', 'love', 'you', 'katty', 'perry', 'lt', '3']\n",
      "[0.022278803309993635, 0.002000545603346367, 0.02009638992452487, 9.09338910611985e-05, 0.00045466945530599255, 0.001273074474856779, 0.0015458761480403747]\n",
      "0.42934782608695654\n",
      "3.129087395448453e-20\n",
      "['watching', 'in', '2015']\n",
      "[0.0010002728016731835, 0.0045466945530599255, 0.0005456033463671911]\n",
      "0.42934782608695654\n",
      "1.0653701711624168e-09\n",
      "['see', 'this', 'br', 'a', 'href', 'http', 'adf', 'ly', 'http', 'adf', 'ly', 'a', '1hmvtx']\n",
      "[0.002000545603346367, 0.018004910430117305, 0.006910975720651086, 0.019005183231790488, 0.0017277439301627716, 0.005001364008365918, 1, 1, 0.005001364008365918, 1, 1, 0.019005183231790488, 1]\n",
      "0.42934782608695654\n",
      "1.6683550619557624e-18\n",
      "['recommend', 'apple', 'ipad', '4th', 'gen', '32gb', 'unlocked', 'wi', 'fi', '4g', '9', '7in', 'white', 'price', '390', 'apple', 'iphone', '5', 'latest', 'model', '32gb', 'black', 'price', '385', 'samsung', 'galaxy', 's4', 's', 'iv', '4', 'with', '16gb', 'new', 'white', 'price', '360', 'sony', '60', 'inch', '3d', 'led', 'hdtv', 'price', '510', 'all', 'in', 'one', 'pcs', 'apple', 'macbook', 'pro', 'apple', 'macbook', 'air', 'price', '320', 'camera', 'nikon', 'd90', 'slr', 'camera', '18', '55mm', '55', '200mm', '32gb', 'price', '390', 'ultrabooks', 'sony', 'vaio', 'pro', '13', 'intel', 'core', 'i5', '4gb', '128gb', 'price', '515', 'purchase', 'online', 'website', 'is', 'taaee', 'com']\n",
      "[1, 1, 1, 1, 1, 1, 1, 1, 1, 1, 1, 1, 1, 1, 1, 1, 1, 0.000363735564244794, 1, 1, 1, 1, 1, 1, 1, 1, 1, 0.0030008184050195506, 1, 0.000181867782122397, 0.002637082840774757, 1, 1, 1, 1, 1, 1, 1, 1, 1, 1, 1, 1, 1, 0.0024552150586523596, 0.0045466945530599255, 0.0016368100391015732, 1, 1, 1, 1, 1, 1, 1, 1, 1, 1, 1, 1, 1, 1, 1, 1, 1, 1, 1, 1, 1, 1, 1, 1, 1, 1, 1, 1, 1, 1, 1, 1, 1, 1, 1, 1, 0.003910157315631536, 1, 0.0122760752932618]\n",
      "0.42934782608695654\n",
      "1.9712952036641816e-25\n",
      "['hey', 'join', 'me', 'on', 'ts', 'a', 'publishing', 'platform', 'where', 'i', 'share', 'my', 'content', 'now', 'http', 'tsu', 'co', 'markusmairhofer']\n",
      "[0.0030917522960807495, 1, 0.008184050195507865, 0.01464035646085296, 1, 0.019005183231790488, 1, 1, 0.00027280167318359554, 0.022278803309993635, 0.0022733472765299628, 0.022278803309993635, 1, 0.0010912066927343822, 0.005001364008365918, 1, 1, 1]\n",
      "0.42934782608695654\n",
      "5.078061707546605e-24\n",
      "['lt', '3', 'this', 'song', 'so', 'much', 'shakira', 'your', 'a', 'really', 'good', 'artist']\n",
      "[0.001273074474856779, 0.0015458761480403747, 0.018004910430117305, 0.0018186778212239702, 0.0045466945530599255, 0.0011821405837955806, 0.000363735564244794, 0.004455760661998727, 0.019005183231790488, 0.0017277439301627716, 0.0009093389106119851, 0.00045466945530599255]\n",
      "0.42934782608695654\n",
      "3.272126084988259e-33\n",
      "['i', 'love', 'her']\n",
      "[0.022278803309993635, 0.002000545603346367, 0.00045466945530599255]\n",
      "0.42934782608695654\n",
      "8.70052306449307e-09\n",
      "['love', 'trop', 'fort', 'votre', 'clip']\n",
      "[0.002000545603346367, 1, 1, 1, 1]\n",
      "0.42934782608695654\n",
      "0.0008589299057845816\n",
      "['the', 'treu', 'detective', 'alternate', 'ending', 'http', 'www', 'funnyordie', 'com', 'videos', 'd15fb87973', 'true', 'defectives']\n",
      "[0.016640902064199325, 1, 1, 1, 1, 0.005001364008365918, 0.004910430117304719, 1, 0.0122760752932618, 0.0024552150586523596, 1, 0.00045466945530599255, 1]\n",
      "0.42934782608695654\n",
      "2.4045786901913015e-15\n",
      "['even', 'without', 'make', 'up', 'she', 'is', 'still', 'hot', 'http', 'uk', 'eonline', 'com', 'eol', 'images', 'entire', 'site', '2012430', 'reg', '1024', 'katy', 'mkup', 'mh', '053012', 'jpg']\n",
      "[0.00045466945530599255, 0.00027280167318359554, 0.0028189506228971538, 0.0056379012457943075, 0.0005456033463671911, 0.003910157315631536, 0.0005456033463671911, 0.00027280167318359554, 0.005001364008365918, 0.00027280167318359554, 1, 0.0122760752932618, 1, 1, 1, 1, 1, 1, 1, 0.0011821405837955806, 1, 1, 1, 1]\n",
      "0.42934782608695654\n",
      "5.3212845882534764e-36\n",
      "['http', 'www', 'ebay', 'com', 'itm', '131338190916', 'sspagename', 'strk', 'meselx', 'it', 'amp', 'trksid', 'p3984', 'm1555', 'l2649']\n",
      "[0.005001364008365918, 0.004910430117304719, 1, 0.0122760752932618, 1, 1, 1, 1, 1, 0.010912066927343821, 0.0060925707011003005, 1, 1, 1, 1]\n",
      "0.42934782608695654\n",
      "8.60566447773776e-12\n",
      "['i', 'love', 'you', 'katy', 'perry', 'because', 'you', 'will', 'sing', 'nice', 'than', 'shakira']\n",
      "[0.022278803309993635, 0.002000545603346367, 0.02009638992452487, 0.0011821405837955806, 0.00045466945530599255, 0.0011821405837955806, 0.02009638992452487, 0.0036373556424479404, 1, 0.0005456033463671911, 0.0006365372374283895, 0.000363735564244794]\n",
      "0.42934782608695654\n",
      "2.2562752903870495e-30\n",
      "['one', 'of', 'the', 'best', 'songs', 'in', 'music', 'history']\n",
      "[0.0016368100391015732, 0.009638992452487042, 0.016640902064199325, 0.0011821405837955806, 0.0011821405837955806, 0.0045466945530599255, 0.003728289533509139, 1]\n",
      "0.42934782608695654\n",
      "2.670297927390418e-18\n",
      "[]\n",
      "[]\n",
      "0.42934782608695654\n",
      "0.42934782608695654\n",
      "['megan', 'fox', 'and', 'eminem', 'together', 'in', 'a', 'video', 'doesnt', 'get', 'better', 'than', 'that']\n",
      "[1, 9.09338910611985e-05, 0.020369191597708464, 0.0015458761480403747, 9.09338910611985e-05, 0.0045466945530599255, 0.019005183231790488, 0.01036646358097663, 1, 0.003546421751386742, 0.00045466945530599255, 0.0006365372374283895, 0.0020914794944075655]\n",
      "0.42934782608695654\n",
      "2.1496678514341956e-31\n",
      "['hello', 'guys', 'i', 'found', 'a', 'way', 'to', 'make', 'money', 'online', 'you', 'can', 'get', 'paid', 'to', 'mess', 'around', 'on', 'facebook', 'and', 'twitter', 'get', 'paid', 'upto', '25', 'to', '35', 'an', 'hour', 'only', 'at', '4netjobs', 'com', 'work', 'from', 'the', 'comfort', 'of', 'your', 'home', 'they', 'are', 'currently', 'hiring', 'people', 'from', 'all', 'over', 'the', 'world', 'for', 'a', 'wide', 'range', 'of', 'social', 'media', 'jobs', 'on', 'sites', 'such', 'as', 'facebook', 'twitter', 'and', 'youtube', 'you', 'don', '39', 't', 'need', 'any', 'prior', 'skills', 'or', 'experience', 'and', 'you', 'can', 'begin', 'work', 'immediately', 'you', 'can', 'easily', 'make', '4000', 'to', '5000', 'monthly', 'income', 'only', 'at', '4netjobs', 'com']\n",
      "[0.0008184050195507866, 0.005274165681549514, 0.022278803309993635, 0.00027280167318359554, 0.019005183231790488, 0.0010912066927343822, 0.019914522142402472, 0.0028189506228971538, 0.0038192234245703373, 1, 0.02009638992452487, 0.0056379012457943075, 0.003546421751386742, 1, 0.019914522142402472, 1, 0.00027280167318359554, 0.01464035646085296, 1, 0.020369191597708464, 1, 0.003546421751386742, 1, 1, 0.00027280167318359554, 0.019914522142402472, 1, 0.0010002728016731835, 1, 0.0011821405837955806, 0.003728289533509139, 1, 0.0122760752932618, 1, 0.0028189506228971538, 0.016640902064199325, 1, 0.009638992452487042, 0.004455760661998727, 1, 0.0010912066927343822, 0.0020914794944075655, 1, 1, 0.0017277439301627716, 0.0028189506228971538, 0.0024552150586523596, 0.001273074474856779, 0.016640902064199325, 0.0008184050195507866, 0.010912066927343821, 0.019005183231790488, 1, 1, 0.009638992452487042, 1, 1, 1, 0.01464035646085296, 1, 0.00045466945530599255, 0.002546148949713558, 1, 1, 0.020369191597708464, 0.010002728016731835, 0.02009638992452487, 0.0018186778212239702, 0.007001909611712286, 0.0040920250977539326, 0.001273074474856779, 0.0013640083659179777, 1, 1, 0.0021824133854687643, 1, 0.020369191597708464, 0.02009638992452487, 0.0056379012457943075, 1, 1, 1, 0.02009638992452487, 0.0056379012457943075, 1, 0.0028189506228971538, 1, 0.019914522142402472, 1, 1, 1, 0.0011821405837955806, 0.003728289533509139, 1, 0.0122760752932618]\n",
      "0.42934782608695654\n",
      "7.051134594647438e-142\n",
      "['im', 'still', 'watching', 'in', '2015']\n",
      "[0.001454942256979176, 0.0005456033463671911, 0.0010002728016731835, 0.0045466945530599255, 0.0005456033463671911]\n",
      "0.42934782608695654\n",
      "8.457136026276283e-16\n",
      "['like']\n",
      "[0.007365645175957079]\n",
      "0.42934782608695654\n",
      "0.0031624237440250505\n",
      "['what', 'nicei']\n",
      "[0.0006365372374283895, 1]\n",
      "0.42934782608695654\n",
      "0.00027329587911327594\n",
      "['hey', 'dickwad', 'we', '39', 're', 'all', 'africans', 'the', 'colour', 'of', 'your', 'skin', 'just', 'tells', 'us', 'something', 'about', 'how', 'long', 'ago', 'your', 'ancestors', 'left', 'africa', 'check', 'out', 'baba', 'brinkman', 'he', 'has', 'a', 'song', 'called', 'quot', 'i', '39', 'm', 'a', 'african', 'quot', 'go', 'learn', 'something']\n",
      "[0.0030917522960807495, 1, 0.0021824133854687643, 0.007001909611712286, 0.000181867782122397, 0.0024552150586523596, 1, 0.016640902064199325, 1, 0.009638992452487042, 0.004455760661998727, 1, 0.005546967354733109, 1, 0.0020914794944075655, 0.000181867782122397, 0.001273074474856779, 0.0013640083659179777, 9.09338910611985e-05, 1, 0.004455760661998727, 1, 1, 0.000181867782122397, 0.022733472765299627, 0.02264253887423843, 1, 1, 0.0017277439301627716, 0.0015458761480403747, 0.019005183231790488, 0.0018186778212239702, 1, 0.004001091206692734, 0.022278803309993635, 0.007001909611712286, 0.0036373556424479404, 0.019005183231790488, 1, 0.004001091206692734, 0.0019096117122851686, 1, 0.000181867782122397]\n",
      "0.42934782608695654\n"
     ]
    },
    {
     "name": "stdout",
     "output_type": "stream",
     "text": [
      "4.979424166965739e-78\n",
      "['do', 'you', 'need', 'more', 'instagram', 'followers', 'or', 'photo', 'likes', 'check', 'out', 'igblast', 'com', 'and', 'get', 'em', 'in', 'minutes']\n",
      "[0.002546148949713558, 0.02009638992452487, 0.001273074474856779, 0.0022733472765299628, 1, 1, 0.0021824133854687643, 1, 0.000181867782122397, 0.022733472765299627, 0.02264253887423843, 1, 0.0122760752932618, 0.020369191597708464, 0.003546421751386742, 1, 0.0045466945530599255, 9.09338910611985e-05]\n",
      "0.42934782608695654\n",
      "4.762770810255338e-33\n",
      "['like']\n",
      "[0.007365645175957079]\n",
      "0.42934782608695654\n",
      "0.0031624237440250505\n",
      "['good', 'song']\n",
      "[0.0009093389106119851, 0.0018186778212239702]\n",
      "0.42934782608695654\n",
      "7.100530771074604e-07\n",
      "['hey', 'music', 'fans', 'i', 'really', 'appreciate', 'all', 'of', 'you', 'who', 'take', 'time', 'to', 'read', 'this', 'and', 'check', 'my', 'music', 'out', 'i', '39', 'm', 'just', 'a', '15', 'year', 'old', 'boy', 'dreaming', 'of', 'being', 'a', 'successful', 'musician', 'in', 'the', 'music', 'world', 'i', 'do', 'lots', 'of', 'covers', 'and', 'piano', 'covers', 'but', 'i', 'dont', 'have', 'money', 'to', 'advertise', 'a', 'simple', 'thumbs', 'up', 'to', 'my', 'comment', 'a', 'comment', 'on', 'my', 'videos', 'or', 'a', 'subscription', 'would', 'be', 'a', 'step', 'forward', 'it', 'will', 'only', 'be', 'a', 'few', 'seconds', 'of', 'your', 'life', 'that', 'u', 'won', '39', 't', 'regret', 'thank', 'u', 'to', 'all', 'the', 'people', 'who', 'just', 'give', 'me', 'a', 'chance', 'it', 'means', 'a', 'lot']\n",
      "[0.0030917522960807495, 0.003728289533509139, 0.000363735564244794, 0.022278803309993635, 0.0017277439301627716, 0.0010002728016731835, 0.0024552150586523596, 0.009638992452487042, 0.02009638992452487, 0.0018186778212239702, 1, 0.001454942256979176, 0.019914522142402472, 1, 0.018004910430117305, 0.020369191597708464, 0.022733472765299627, 0.022278803309993635, 0.003728289533509139, 0.02264253887423843, 0.022278803309993635, 0.007001909611712286, 0.0036373556424479404, 0.005546967354733109, 0.019005183231790488, 0.00045466945530599255, 0.0011821405837955806, 0.0008184050195507866, 0.00027280167318359554, 1, 0.009638992452487042, 0.00027280167318359554, 0.019005183231790488, 0.000181867782122397, 1, 0.0045466945530599255, 0.016640902064199325, 0.003728289533509139, 0.0008184050195507866, 0.022278803309993635, 0.002546148949713558, 0.000181867782122397, 0.009638992452487042, 1, 0.020369191597708464, 1, 1, 0.0033645539692643447, 0.022278803309993635, 0.0008184050195507866, 0.004819496226243521, 0.0038192234245703373, 0.019914522142402472, 1, 0.019005183231790488, 1, 0.0016368100391015732, 0.0056379012457943075, 0.019914522142402472, 0.022278803309993635, 0.002546148949713558, 0.019005183231790488, 0.002546148949713558, 0.01464035646085296, 0.022278803309993635, 0.0024552150586523596, 0.0021824133854687643, 0.019005183231790488, 1, 0.0022733472765299628, 0.0038192234245703373, 0.019005183231790488, 1, 1, 0.010912066927343821, 0.0036373556424479404, 0.0011821405837955806, 0.0038192234245703373, 0.019005183231790488, 0.000363735564244794, 1, 0.009638992452487042, 0.004455760661998727, 0.0006365372374283895, 0.0020914794944075655, 0.0018186778212239702, 1, 0.007001909611712286, 0.0040920250977539326, 1, 1, 0.0018186778212239702, 0.019914522142402472, 0.0024552150586523596, 0.016640902064199325, 0.0017277439301627716, 0.0018186778212239702, 0.005546967354733109, 0.001454942256979176, 0.008184050195507865, 0.019005183231790488, 1, 0.010912066927343821, 1, 0.019005183231790488, 0.000727471128489588]\n",
      "0.42934782608695654\n",
      "3.191106997951487e-207\n",
      "['party', 'rock', 'anthem', 'is', 'love', 'party', 'rock', 'anthem', 'is', 'life']\n",
      "[9.09338910611985e-05, 9.09338910611985e-05, 1, 0.003910157315631536, 0.002000545603346367, 9.09338910611985e-05, 9.09338910611985e-05, 1, 0.003910157315631536, 0.0006365372374283895]\n",
      "0.42934782608695654\n",
      "5.715748352563295e-28\n",
      "['this', 'is', 'so', 'cool', 'why', 'haven', '39', 't', 'i', 'heard', 'this', 'before']\n",
      "[0.018004910430117305, 0.003910157315631536, 0.0045466945530599255, 0.00045466945530599255, 0.0006365372374283895, 1, 0.007001909611712286, 0.0040920250977539326, 0.022278803309993635, 0.0008184050195507866, 0.018004910430117305, 0.0006365372374283895]\n",
      "0.42934782608695654\n",
      "2.3814394858362667e-28\n",
      "['shakira', 'waka', 'waka', 'br', 'love', 'this', 'song']\n",
      "[0.000363735564244794, 0.000363735564244794, 0.000363735564244794, 0.006910975720651086, 0.002000545603346367, 0.018004910430117305, 0.0018186778212239702]\n",
      "0.42934782608695654\n",
      "9.354080992012058e-21\n",
      "['still', 'watching', 'in', '2015']\n",
      "[0.0005456033463671911, 0.0010002728016731835, 0.0045466945530599255, 0.0005456033463671911]\n",
      "0.42934782608695654\n",
      "5.812695305060018e-13\n",
      "['such', 'a', 'good', 'song', 'ans', 'katy', 'sounds', 'great', 'over', 'the', 'melody', 'im', 'growing', 'as', 'an', 'artist', 'everyday', 'from', 'my', 'hit', 'song', \"'crazy'\", 'which', 'has', 'got', 'my', 'name', 'out', 'there', 'cant', 'thank', 'my', 'fans', 'more', 'for', 'their', 'support', 'if', 'you', 'could', 'take', 'a', 'moment', 'to', 'check', 'it', 'and', 'my', 'music', 'maybe', \"you'll\", 'join', 'me', 'to', 'make', 'my', 'dream', 'come', 'true', 'thank', 'you', 'for', 'your', 'time']\n",
      "[0.00045466945530599255, 0.019005183231790488, 0.0009093389106119851, 0.0018186778212239702, 1, 0.0011821405837955806, 9.09338910611985e-05, 0.00045466945530599255, 0.001273074474856779, 0.016640902064199325, 9.09338910611985e-05, 0.001454942256979176, 1, 0.002546148949713558, 0.0010002728016731835, 0.00045466945530599255, 0.00045466945530599255, 0.0028189506228971538, 0.022278803309993635, 0.000363735564244794, 0.0018186778212239702, 1, 9.09338910611985e-05, 0.0015458761480403747, 0.0009093389106119851, 0.022278803309993635, 0.000363735564244794, 0.02264253887423843, 0.0010002728016731835, 9.09338910611985e-05, 1, 0.022278803309993635, 0.000363735564244794, 0.0022733472765299628, 0.010912066927343821, 0.000363735564244794, 1, 0.008456851868691462, 0.02009638992452487, 0.0019096117122851686, 1, 0.019005183231790488, 0.0005456033463671911, 0.019914522142402472, 0.022733472765299627, 0.010912066927343821, 0.020369191597708464, 0.022278803309993635, 0.003728289533509139, 0.000363735564244794, 1, 1, 0.008184050195507865, 0.019914522142402472, 0.0028189506228971538, 0.022278803309993635, 0.0009093389106119851, 0.0011821405837955806, 0.00045466945530599255, 1, 0.02009638992452487, 0.010912066927343821, 0.004455760661998727, 0.001454942256979176]\n",
      "0.42934782608695654\n",
      "2.0868978799203886e-145\n",
      "[\"i'm\", 'only', 'checking', 'the', 'views']\n",
      "[0.001454942256979176, 0.0011821405837955806, 9.09338910611985e-05, 0.016640902064199325, 0.0006365372374283895]\n",
      "0.42934782608695654\n",
      "7.112963951796912e-16\n",
      "['this', 'song', 'means', 'so', 'much', 'to', 'me', 'thank', 'you', 'soooooooooooooooooooooooooooooooooooooooo', 'much', 'xxx']\n",
      "[0.018004910430117305, 0.0018186778212239702, 1, 0.0045466945530599255, 0.0011821405837955806, 0.019914522142402472, 0.008184050195507865, 1, 0.02009638992452487, 1, 0.0011821405837955806, 1]\n",
      "0.42934782608695654\n",
      "2.925810948246595e-19\n",
      "['party', 'time']\n",
      "[9.09338910611985e-05, 0.001454942256979176]\n",
      "0.42934782608695654\n",
      "5.680424616859682e-08\n",
      "['very', 'nice', 'br', 'yeah', 'fucking']\n",
      "[0.00027280167318359554, 0.0005456033463671911, 0.006910975720651086, 1, 0.00045466945530599255]\n",
      "0.42934782608695654\n",
      "2.0080220144752787e-13\n",
      "['hi', 'check', 'out', 'our', 'awesome', 'covers', 'and', 'say', 'what', 'you', 'think']\n",
      "[0.0013640083659179777, 0.022733472765299627, 0.02264253887423843, 0.0024552150586523596, 0.00027280167318359554, 1, 0.020369191597708464, 0.00027280167318359554, 0.0006365372374283895, 0.02009638992452487, 0.0010912066927343822]\n",
      "0.42934782608695654\n",
      "1.5661144051941323e-26\n",
      "[\"she's\", 'awesome', 'xd']\n",
      "[1, 0.00027280167318359554, 1]\n",
      "0.42934782608695654\n",
      "0.00011712680533426114\n",
      "['i', 'want', 'to', 'see', 'shakira', 'not', 'football']\n",
      "[0.022278803309993635, 0.001454942256979176, 0.019914522142402472, 0.002000545603346367, 0.000363735564244794, 0.0019096117122851686, 1]\n",
      "0.42934782608695654\n",
      "3.851199944747327e-16\n",
      "['cool', 'song']\n",
      "[0.00045466945530599255, 0.0018186778212239702]\n",
      "0.42934782608695654\n",
      "3.550265385537302e-07\n",
      "['i', 'like', 'how', 'the', 'robot', 'shuffles', 'he', 'shuffles', 'good']\n",
      "[0.022278803309993635, 0.007365645175957079, 0.0013640083659179777, 0.016640902064199325, 1, 1, 0.0017277439301627716, 1, 0.0009093389106119851]\n",
      "0.42934782608695654\n",
      "2.51252835080595e-15\n",
      "['old', 'and', 'good', 'song']\n",
      "[0.0008184050195507866, 0.020369191597708464, 0.0009093389106119851, 0.0018186778212239702]\n",
      "0.42934782608695654\n",
      "1.183676134848585e-11\n",
      "['hey', 'guys', 'check', 'out', 'my', 'new', 'channel', 'and', 'our', 'first', 'vid', 'this', 'is', 'us', 'the', 'monkeys', \"i'm\", 'the', 'monkey', 'in', 'the', 'white', 'shirt', 'please', 'leave', 'a', 'like', 'comment', 'and', 'please', 'subscribe']\n",
      "[0.0030917522960807495, 0.005274165681549514, 0.022733472765299627, 0.02264253887423843, 0.022278803309993635, 1, 1, 0.020369191597708464, 0.0024552150586523596, 0.0008184050195507866, 1, 0.018004910430117305, 0.003910157315631536, 0.0020914794944075655, 0.016640902064199325, 1, 0.001454942256979176, 0.016640902064199325, 1, 0.0045466945530599255, 0.016640902064199325, 1, 1, 0.010093661907793034, 1, 0.019005183231790488, 0.007365645175957079, 0.002546148949713558, 0.020369191597708464, 0.010093661907793034, 0.010730199145221424]\n",
      "0.42934782608695654\n",
      "1.1706815995601264e-49\n",
      "['wow', 'muslims', 'are', 'really', 'egoistic', '23', 'of', 'the', 'world', 'population', 'and', 'not', 'in', 'this', 'video', 'or', 'donating', '1', 'dollar', 'to', 'the', 'poor', 'ones', 'in', 'africa', 'shame', 'on', 'those', 'terrorist', 'muslims']\n",
      "[1, 1, 0.0020914794944075655, 0.0017277439301627716, 1, 1, 0.009638992452487042, 0.016640902064199325, 0.0008184050195507866, 1, 0.020369191597708464, 0.0019096117122851686, 0.0045466945530599255, 0.018004910430117305, 0.01036646358097663, 0.0021824133854687643, 1, 0.0030008184050195506, 1, 0.019914522142402472, 0.016640902064199325, 1, 1, 0.0045466945530599255, 0.000181867782122397, 1, 0.01464035646085296, 0.0010002728016731835, 1, 1]\n",
      "0.42934782608695654\n",
      "1.7668530277449953e-43\n",
      "['best', 'world', 'cup', 'offical', 'song']\n",
      "[0.0011821405837955806, 0.0008184050195507866, 9.09338910611985e-05, 1, 0.0018186778212239702]\n",
      "0.42934782608695654\n",
      "6.86954899688911e-14\n",
      "['thumbs', 'up', 'for', 'robo', 'guy', 'baby']\n",
      "[0.0016368100391015732, 0.0056379012457943075, 0.010912066927343821, 1, 0.00027280167318359554, 9.09338910611985e-05]\n",
      "0.42934782608695654\n",
      "1.072518614241401e-15\n",
      "['why', 'there', 'are', 'so', 'many', 'dislikes', 'this', 'song', 'is', 'so', 'awesome', 'it', 'sounds', 'like', 'we', 'must', 'stop', 'be', 'racists', 'if', 'i', 'could', 'i', 'would', 'like', 'it', '1', '000', '000', '000', 'times']\n",
      "[0.0006365372374283895, 0.0010002728016731835, 0.0020914794944075655, 0.0045466945530599255, 0.0006365372374283895, 1, 0.018004910430117305, 0.0018186778212239702, 0.003910157315631536, 0.0045466945530599255, 0.00027280167318359554, 0.010912066927343821, 9.09338910611985e-05, 0.007365645175957079, 0.0021824133854687643, 0.00027280167318359554, 0.00045466945530599255, 0.0038192234245703373, 1, 0.008456851868691462, 0.022278803309993635, 0.0019096117122851686, 0.022278803309993635, 0.0022733472765299628, 0.007365645175957079, 0.010912066927343821, 0.0030008184050195506, 0.0010912066927343822, 0.0010912066927343822, 0.0010912066927343822, 1]\n",
      "0.42934782608695654\n",
      "1.1339369116849755e-74\n",
      "['my', 'sister', 'just', 'received', 'over', '6', '500', 'new', 'a', 'rel', 'nofollow', 'class', 'ot', 'hashtag', 'href', 'https', 'plus', 'google', 'com', 's', '23active', 'active', 'a', 'youtube', 'views', 'right', 'now', 'the', 'only', 'thing', 'she', 'used', 'was', 'pimpmyviews', 'com']\n",
      "[0.022278803309993635, 1, 0.005546967354733109, 1, 0.001273074474856779, 0.00027280167318359554, 1, 1, 0.019005183231790488, 1, 1, 1, 1, 1, 0.0017277439301627716, 0.00427389287987633, 0.000727471128489588, 0.001273074474856779, 0.0122760752932618, 0.0030008184050195506, 1, 1, 0.019005183231790488, 0.010002728016731835, 0.0006365372374283895, 0.0008184050195507866, 0.0010912066927343822, 0.016640902064199325, 0.0011821405837955806, 0.000181867782122397, 0.0005456033463671911, 0.000181867782122397, 0.000727471128489588, 1, 0.0122760752932618]\n",
      "0.42934782608695654\n",
      "3.022741327784422e-62\n",
      "['check', 'out', 'this', 'playlist', 'on', 'youtube', 'm']\n",
      "[0.022733472765299627, 0.02264253887423843, 0.018004910430117305, 1, 0.01464035646085296, 0.010002728016731835, 0.0036373556424479404]\n",
      "0.42934782608695654\n",
      "2.1195663520342414e-12\n",
      "['omg', 'over', '2', 'billion', 'views']\n",
      "[0.000181867782122397, 0.001273074474856779, 0.000727471128489588, 1, 0.0006365372374283895]\n",
      "0.42934782608695654\n",
      "4.603184968855608e-14\n",
      "['everyones', 'back', 'lool', 'this', 'is', 'almost', '3', 'years', 'old', 'and', 'people', 'are', 'still', 'hear', 'xd']\n",
      "[1, 0.0011821405837955806, 1, 0.018004910430117305, 0.003910157315631536, 1, 0.0015458761480403747, 9.09338910611985e-05, 0.0008184050195507866, 0.020369191597708464, 0.0017277439301627716, 0.0020914794944075655, 0.0005456033463671911, 0.00045466945530599255, 1]\n",
      "0.42934782608695654\n",
      "7.506058272225866e-32\n",
      "['stop', 'is', 'a', 'very', 'top', '1']\n",
      "[0.00045466945530599255, 0.003910157315631536, 0.019005183231790488, 0.00027280167318359554, 9.09338910611985e-05, 0.0030008184050195506]\n",
      "0.42934782608695654\n",
      "1.0799007892514e-18\n",
      "['since', 'when', 'has', 'katy', 'perry', 'had', 'her', 'own', 'youtube', 'channel']\n"
     ]
    },
    {
     "name": "stdout",
     "output_type": "stream",
     "text": [
      "[0.000181867782122397, 0.0008184050195507866, 0.0015458761480403747, 0.0011821405837955806, 0.00045466945530599255, 0.00027280167318359554, 0.00045466945530599255, 0.00045466945530599255, 0.010002728016731835, 1]\n",
      "0.42934782608695654\n",
      "2.9952286035853964e-29\n",
      "['check', 'out', 'this', 'video', 'on', 'youtube']\n",
      "[0.022733472765299627, 0.02264253887423843, 0.018004910430117305, 0.01036646358097663, 0.01464035646085296, 0.010002728016731835]\n",
      "0.42934782608695654\n",
      "6.040764103297587e-12\n",
      "['hey', 'guys', 'i', 'really', 'want', 'to', 'go', 'to', 'a', 'katy', 'perry', 'concert', 'so', 'im', 'in', 'this', 'contest', 'where', 'i', 'need', 'a', 'lot', 'of', 'likes', 'and', 'im', 'loosing', 'so', 'please', 'if', 'you', 'could', 'like', 'this', 'picture', 'it', 'would', 'be', 'very', 'nice', 'thank', 'you', 'i', 'really', 'want', 'to', 'go', 'to', 'her', 'concert', 'https', 'www', 'facebook', 'com', 'exagdl', 'photos', 'a', '936868579660284', '1073741943', '111719098841907', '937732262907249', 'type', '1', 'amp', 'theater']\n",
      "[0.0030917522960807495, 0.005274165681549514, 0.022278803309993635, 0.0017277439301627716, 0.001454942256979176, 0.019914522142402472, 0.0019096117122851686, 0.019914522142402472, 0.019005183231790488, 0.0011821405837955806, 0.00045466945530599255, 1, 0.0045466945530599255, 0.001454942256979176, 0.0045466945530599255, 0.018004910430117305, 1, 0.00027280167318359554, 0.022278803309993635, 0.001273074474856779, 0.019005183231790488, 0.000727471128489588, 0.009638992452487042, 0.000181867782122397, 0.020369191597708464, 0.001454942256979176, 1, 0.0045466945530599255, 0.010093661907793034, 0.008456851868691462, 0.02009638992452487, 0.0019096117122851686, 0.007365645175957079, 0.018004910430117305, 1, 0.010912066927343821, 0.0022733472765299628, 0.0038192234245703373, 0.00027280167318359554, 0.0005456033463671911, 1, 0.02009638992452487, 0.022278803309993635, 0.0017277439301627716, 0.001454942256979176, 0.019914522142402472, 0.0019096117122851686, 0.019914522142402472, 0.00045466945530599255, 1, 0.00427389287987633, 0.004910430117304719, 1, 0.0122760752932618, 1, 1, 0.019005183231790488, 1, 1, 1, 1, 1, 0.0030008184050195506, 0.0060925707011003005, 1]\n",
      "0.42934782608695654\n",
      "8.821513386612673e-120\n",
      "['shakira', 'song', 'waka', 'waka']\n",
      "[0.000363735564244794, 0.0018186778212239702, 0.000363735564244794, 0.000363735564244794]\n",
      "0.42934782608695654\n",
      "3.757702015392334e-14\n",
      "['https', 'www', 'tsu', 'co', 'tomeks', 'go', 'register', 'free', 'money']\n",
      "[0.00427389287987633, 0.004910430117304719, 1, 1, 1, 0.0019096117122851686, 1, 0.002000545603346367, 0.0038192234245703373]\n",
      "0.42934782608695654\n",
      "1.3146829381247134e-13\n",
      "['it', 'is', 'a', 'shit']\n",
      "[0.010912066927343821, 0.003910157315631536, 0.019005183231790488, 0.00045466945530599255]\n",
      "0.42934782608695654\n",
      "1.5829906880780113e-10\n",
      "['please', 'check', 'my', 'channel', 'out', 'i', 'subscribe', 'back']\n",
      "[0.010093661907793034, 0.022733472765299627, 0.022278803309993635, 1, 0.02264253887423843, 0.022278803309993635, 0.010730199145221424, 0.0011821405837955806]\n",
      "0.42934782608695654\n",
      "1.4044605856368484e-14\n",
      "['i', 'know', 'that', 'maybe', 'no', 'one', 'will', 'read', 'this', 'but', 'please', 'type', 'in', 'quot', 'deazy99', 'quot', 'i', '39', 'm', 'a', 'rapper', 'with', 'a', 'dream', 'i', 'know', 'you', 'must', 'see', 'like', 'millions', 'of', 'those', 'on', 'here', 'everyday', 'but', 'please', 'check', 'out', 'my', 'music', 'and', 'subscribe', 'if', 'you', '39', 'd', 'like', 'thank', 'you', 'i', 'would', 'love', 'nothing', 'more', 'than', 'to', 'have', 'a', 'decent', 'following', 'on', 'youtube', 'from', 'people', 'if', 'anyone', 'reading', 'this', 'could', 'give', 'it', 'a', 'quot', 'thumbs', 'up', 'quot', 'because', 'what', 'some', 'might', 'see', 'as', 'just', 'a', 'simple', 'button', 'press', 'could', 'make', 'my', 'dream', 'come', 'true', 'thank', 'you', 'again', 'for', 'your', 'time', 'amp', 'may', 'god', 'bless', 'you']\n",
      "[0.022278803309993635, 0.0019096117122851686, 0.0020914794944075655, 0.000363735564244794, 0.002000545603346367, 0.0016368100391015732, 0.0036373556424479404, 1, 0.018004910430117305, 0.0033645539692643447, 0.010093661907793034, 1, 0.0045466945530599255, 0.004001091206692734, 1, 0.004001091206692734, 0.022278803309993635, 0.007001909611712286, 0.0036373556424479404, 0.019005183231790488, 0.0015458761480403747, 0.002637082840774757, 0.019005183231790488, 0.0009093389106119851, 0.022278803309993635, 0.0019096117122851686, 0.02009638992452487, 0.00027280167318359554, 0.002000545603346367, 0.007365645175957079, 0.000181867782122397, 0.009638992452487042, 0.0010002728016731835, 0.01464035646085296, 0.001454942256979176, 0.00045466945530599255, 0.0033645539692643447, 0.010093661907793034, 0.022733472765299627, 0.02264253887423843, 0.022278803309993635, 0.003728289533509139, 0.020369191597708464, 0.010730199145221424, 0.008456851868691462, 0.02009638992452487, 0.007001909611712286, 0.001454942256979176, 0.007365645175957079, 1, 0.02009638992452487, 0.022278803309993635, 0.0022733472765299628, 0.002000545603346367, 0.000727471128489588, 0.0022733472765299628, 0.0006365372374283895, 0.019914522142402472, 0.004819496226243521, 0.019005183231790488, 1, 1, 0.01464035646085296, 0.010002728016731835, 0.0028189506228971538, 0.0017277439301627716, 0.008456851868691462, 0.0006365372374283895, 1, 0.018004910430117305, 0.0019096117122851686, 0.001454942256979176, 0.010912066927343821, 0.019005183231790488, 0.004001091206692734, 0.0016368100391015732, 0.0056379012457943075, 0.004001091206692734, 0.0011821405837955806, 0.0006365372374283895, 0.0013640083659179777, 0.000363735564244794, 0.002000545603346367, 0.002546148949713558, 0.005546967354733109, 0.019005183231790488, 1, 0.000363735564244794, 1, 0.0019096117122851686, 0.0028189506228971538, 0.022278803309993635, 0.0009093389106119851, 0.0011821405837955806, 0.00045466945530599255, 1, 0.02009638992452487, 0.00027280167318359554, 0.010912066927343821, 0.004455760661998727, 0.001454942256979176, 0.0060925707011003005, 0.00027280167318359554, 0.00045466945530599255, 0.000363735564244794, 0.02009638992452487]\n",
      "0.42934782608695654\n",
      "2.7850332639081717e-235\n",
      "['so', 'beutiful']\n",
      "[0.0045466945530599255, 1]\n",
      "0.42934782608695654\n",
      "0.0019521134222376855\n",
      "['people', 'who', 'say', 'that', 'this', 'song', 'is', 'too', 'old', 'now', \"there's\", 'no', 'point', 'of', 'listening', 'to', 'it', 'suck', 'just', 'stfu', 'and', 'enjoy', 'the', 'music', 'so', 'your', 'mom', 'is', 'old', 'too', 'but', 'you', 'still', 'listen', 'to', 'her', 'right']\n",
      "[0.0017277439301627716, 0.0018186778212239702, 0.00027280167318359554, 0.0020914794944075655, 0.018004910430117305, 0.0018186778212239702, 0.003910157315631536, 0.000727471128489588, 0.0008184050195507866, 0.0010912066927343822, 1, 0.002000545603346367, 1, 0.009638992452487042, 9.09338910611985e-05, 0.019914522142402472, 0.010912066927343821, 9.09338910611985e-05, 0.005546967354733109, 1, 0.020369191597708464, 1, 0.016640902064199325, 0.003728289533509139, 0.0045466945530599255, 0.004455760661998727, 1, 0.003910157315631536, 0.0008184050195507866, 0.000727471128489588, 0.0033645539692643447, 0.02009638992452487, 0.0005456033463671911, 0.0010002728016731835, 0.019914522142402472, 0.00045466945530599255, 0.0008184050195507866]\n",
      "0.42934782608695654\n",
      "2.005729873364188e-85\n",
      "['so', 'beutiful']\n",
      "[0.0045466945530599255, 1]\n",
      "0.42934782608695654\n",
      "0.0019521134222376855\n",
      "['good']\n",
      "[0.0009093389106119851]\n",
      "0.42934782608695654\n",
      "0.0003904226844475371\n",
      "['d', 'subscribe', 'to', 'me', 'for', 'daily', 'vines']\n",
      "[0.001454942256979176, 0.010730199145221424, 0.019914522142402472, 0.008184050195507865, 0.010912066927343821, 1, 1]\n",
      "0.42934782608695654\n",
      "1.1920871410419907e-11\n",
      "['this', 'is', 'increidebl']\n",
      "[0.018004910430117305, 0.003910157315631536, 1]\n",
      "0.42934782608695654\n",
      "3.0226959492464588e-05\n",
      "['adf', 'ly', 'kld3y']\n",
      "[1, 1, 1]\n",
      "0.42934782608695654\n",
      "0.42934782608695654\n",
      "['almost', '1', 'billion']\n",
      "[1, 0.0030008184050195506, 1]\n",
      "0.42934782608695654\n",
      "0.0012883948586768722\n",
      "['i', 'lover', 'this', 'song']\n",
      "[0.022278803309993635, 1, 0.018004910430117305, 0.0018186778212239702]\n",
      "0.42934782608695654\n",
      "3.1321883032175053e-07\n",
      "['love', 'this', 'song']\n",
      "[0.002000545603346367, 0.018004910430117305, 0.0018186778212239702]\n",
      "0.42934782608695654\n",
      "2.8125772518687805e-08\n",
      "['so', 'many', 'comments']\n",
      "[0.0045466945530599255, 0.0006365372374283895, 0.0005456033463671911]\n",
      "0.42934782608695654\n"
     ]
    },
    {
     "name": "stdout",
     "output_type": "stream",
     "text": [
      "6.779628361942652e-10\n",
      "['i', 'hear', 'this', 'all', 'the', 'time', 'on', 'radio', 'and', 'its', 'really', 'irritating', 'that', 'being', 'said', 'i', 'like', 'the', 'video']\n",
      "[0.022278803309993635, 0.00045466945530599255, 0.018004910430117305, 0.0024552150586523596, 0.016640902064199325, 0.001454942256979176, 0.01464035646085296, 1, 0.020369191597708464, 0.0010912066927343822, 0.0017277439301627716, 1, 0.0020914794944075655, 0.00027280167318359554, 1, 0.022278803309993635, 0.007365645175957079, 0.016640902064199325, 0.01036646358097663]\n",
      "0.42934782608695654\n",
      "4.226906675951912e-38\n",
      "['watch', 'maroon', \"5's\", 'latest', '2nd', 'single', 'from', 'v', 'it', 'was', 'always', 'you', 'www', 'youtube', 'com', 'watch', 'v', 'tq046fuau00']\n",
      "[0.0024552150586523596, 1, 1, 1, 1, 9.09338910611985e-05, 0.0028189506228971538, 0.0011821405837955806, 0.010912066927343821, 0.000727471128489588, 9.09338910611985e-05, 0.02009638992452487, 0.004910430117304719, 0.010002728016731835, 0.0122760752932618, 0.0024552150586523596, 0.0011821405837955806, 1]\n",
      "0.42934782608695654\n",
      "8.109685075884648e-36\n",
      "['love', 'this', 'song', 'makes', 'me', 'wanna', 'dance']\n",
      "[0.002000545603346367, 0.018004910430117305, 0.0018186778212239702, 9.09338910611985e-05, 0.008184050195507865, 0.000727471128489588, 9.09338910611985e-05]\n",
      "0.42934782608695654\n",
      "1.3846501468438903e-21\n",
      "['if', 'the', 'shitty', 'chinese', 'government', \"didn't\", 'block', 'youtube', 'over', 'there', \"there'd\", 'be', 'close', 'to', '3', 'billion', 'views', 'right', 'now']\n",
      "[0.008456851868691462, 0.016640902064199325, 1, 1, 1, 1, 1, 0.010002728016731835, 0.001273074474856779, 0.0010002728016731835, 1, 0.0038192234245703373, 1, 0.019914522142402472, 0.0015458761480403747, 1, 0.0006365372374283895, 0.0008184050195507866, 0.0010912066927343822]\n",
      "0.42934782608695654\n",
      "5.144040261556798e-29\n",
      "['love', 'you']\n",
      "[0.002000545603346367, 0.02009638992452487]\n",
      "0.42934782608695654\n",
      "1.7261390304482357e-05\n",
      "['i', \"don't\", 'now', 'why', \"i'm\", 'watching', 'this', 'in', '2014']\n",
      "[0.022278803309993635, 0.0008184050195507866, 0.0010912066927343822, 0.0006365372374283895, 0.001454942256979176, 0.0010002728016731835, 0.018004910430117305, 0.0045466945530599255, 0.00045466945530599255]\n",
      "0.42934782608695654\n",
      "2.9454183584998895e-25\n",
      "[\"i'm\", 'watching', 'this', 'in', '2014']\n",
      "[0.001454942256979176, 0.0010002728016731835, 0.018004910430117305, 0.0045466945530599255, 0.00045466945530599255]\n",
      "0.42934782608695654\n",
      "2.325712407225977e-14\n",
      "['i', 'love', 'this', 'song', 'so', 'much', 'd', \"i've\", 'heard', 'it', 'so', 'much', 'i', 'pretty', 'much', 'memorized', 'the', 'lyrics']\n",
      "[0.022278803309993635, 0.002000545603346367, 0.018004910430117305, 0.0018186778212239702, 0.0045466945530599255, 0.0011821405837955806, 0.001454942256979176, 1, 0.0008184050195507866, 0.010912066927343821, 0.0045466945530599255, 0.0011821405837955806, 0.022278803309993635, 0.000181867782122397, 0.0011821405837955806, 1, 0.016640902064199325, 0.0005456033463671911]\n",
      "0.42934782608695654\n",
      "1.0228638790547666e-41\n",
      "['katy', 'perry', 'roar', 'official', 'http', 'youtu', 'be', 'cevxzvsjlk8']\n",
      "[0.0011821405837955806, 0.00045466945530599255, 0.000181867782122397, 1, 0.005001364008365918, 0.0005456033463671911, 0.0038192234245703373, 9.09338910611985e-05]\n",
      "0.42934782608695654\n",
      "3.977372580896276e-23\n",
      "['who', 'df', 'is', 'lauren', 'bennett']\n",
      "[0.0018186778212239702, 1, 0.003910157315631536, 1, 1]\n",
      "0.42934782608695654\n",
      "3.0532282315620795e-06\n",
      "['awesome', 'song', 'congratulations']\n",
      "[0.00027280167318359554, 0.0018186778212239702, 1]\n",
      "0.42934782608695654\n",
      "2.1301592313223814e-07\n",
      "['i', 'hate', 'rap', 'and', 'i', 'like', 'this', 'song']\n",
      "[0.022278803309993635, 0.0006365372374283895, 0.0005456033463671911, 0.020369191597708464, 0.022278803309993635, 0.007365645175957079, 0.018004910430117305, 0.0018186778212239702]\n",
      "0.42934782608695654\n",
      "3.6360106792786425e-19\n",
      "['party', 'rock', 'due', 'and', 'duel']\n",
      "[9.09338910611985e-05, 9.09338910611985e-05, 1, 0.020369191597708464, 1]\n",
      "0.42934782608695654\n",
      "7.23160358607216e-11\n",
      "['i', 'love', 'this', 'song', 'so', 'much']\n",
      "[0.022278803309993635, 0.002000545603346367, 0.018004910430117305, 0.0018186778212239702, 0.0045466945530599255, 0.0011821405837955806]\n",
      "0.42934782608695654\n",
      "3.3679158029529585e-15\n",
      "['help', 'me', 'click', 'on', 'the', 'subscribe', 'mai', 'nguyen', 'thank', 'you']\n",
      "[0.0021824133854687643, 0.008184050195507865, 1, 0.01464035646085296, 0.016640902064199325, 0.010730199145221424, 1, 1, 1, 0.02009638992452487]\n",
      "0.42934782608695654\n",
      "4.028736988185943e-13\n",
      "['eminem', 'is', 'a', 'ginius', 'stop']\n",
      "[0.0015458761480403747, 0.003910157315631536, 0.019005183231790488, 1, 0.00045466945530599255]\n",
      "0.42934782608695654\n",
      "2.242570141443849e-11\n",
      "['see', 'it', 'all', 'human', 'folly', 'right']\n",
      "[0.002000545603346367, 0.010912066927343821, 0.0024552150586523596, 0.000181867782122397, 1, 0.0008184050195507866]\n",
      "0.42934782608695654\n",
      "3.4251400906418936e-15\n",
      "['subscribe', 'and', 'win', 'a', 'cap', 'br']\n",
      "[0.010730199145221424, 0.020369191597708464, 1, 0.019005183231790488, 1, 0.006910975720651086]\n",
      "0.42934782608695654\n",
      "1.2325435464779562e-08\n",
      "['who', 'is', 'watching', 'in', '2015', 'like']\n",
      "[0.0018186778212239702, 0.003910157315631536, 0.0010002728016731835, 0.0045466945530599255, 0.0005456033463671911, 0.007365645175957079]\n",
      "0.42934782608695654\n",
      "5.580348576035943e-17\n",
      "['katy', \"perry's\", 'songs', 'are', 'the', 'best', 'of', 'the', 'songs', 'of', 'women', 'artists']\n",
      "[0.0011821405837955806, 1, 0.0011821405837955806, 0.0020914794944075655, 0.016640902064199325, 0.0011821405837955806, 0.009638992452487042, 0.016640902064199325, 0.0011821405837955806, 0.009638992452487042, 0.00045466945530599255, 1]\n",
      "0.42934782608695654\n",
      "2.0514086257839918e-26\n",
      "['i', 'learned', 'the', 'shuffle', 'because', 'of', 'them']\n",
      "[0.022278803309993635, 1, 0.016640902064199325, 1, 0.0011821405837955806, 0.009638992452487042, 0.0005456033463671911]\n",
      "0.42934782608695654\n",
      "9.895911097937458e-13\n",
      "['please', 'friend', 'read', 'my', 'book', 'and', 'repass', 'http', 'www', '4shared', 'com', 'web', 'preview', 'pdf', 'cjfoftxeba']\n",
      "[0.010093661907793034, 0.000363735564244794, 1, 0.022278803309993635, 0.00045466945530599255, 0.020369191597708464, 1, 0.005001364008365918, 0.004910430117304719, 1, 0.0122760752932618, 1, 1, 1, 1]\n",
      "0.42934782608695654\n",
      "9.805568158404501e-20\n",
      "['check', 'out', 'this', 'video', 'on', 'youtube']\n",
      "[0.022733472765299627, 0.02264253887423843, 0.018004910430117305, 0.01036646358097663, 0.01464035646085296, 0.010002728016731835]\n",
      "0.42934782608695654\n",
      "6.040764103297587e-12\n",
      "['hay', 'dakota', 'u', 'earned', 'a', 'subscribee']\n",
      "[1, 1, 0.0018186778212239702, 1, 0.019005183231790488, 1]\n",
      "0.42934782608695654\n",
      "1.4840109311545921e-05\n",
      "['wow', 'she', 'is', 'sexy', 'xd']\n",
      "[1, 0.0005456033463671911, 0.003910157315631536, 0.000181867782122397, 1]\n",
      "0.42934782608695654\n",
      "1.6658515403630516e-10\n",
      "['katy', 'perry', 'you', 'are', 'looking', 'soo', 'pretty', 'damn', 'cute']\n",
      "[0.0011821405837955806, 0.00045466945530599255, 0.02009638992452487, 0.0020914794944075655, 0.000181867782122397, 1, 0.000181867782122397, 1, 9.09338910611985e-05]\n",
      "0.42934782608695654\n",
      "2.917313828094627e-23\n",
      "['shakira']\n",
      "[0.000363735564244794]\n",
      "0.42934782608695654\n",
      "0.00015616907377901483\n",
      "['check', 'out', 'my', 'channel', 'for', 'funny', 'skits', 'thanks']\n",
      "[0.022733472765299627, 0.02264253887423843, 0.022278803309993635, 1, 0.010912066927343821, 0.00027280167318359554, 1, 0.002546148949713558]\n",
      "0.42934782608695654\n",
      "3.7318990747279136e-14\n",
      "['i', 'love', 'this', 'song', 'so', 'much', 'lt', '3', 'br', 'keep', 'em', '39', 'coming']\n",
      "[0.022278803309993635, 0.002000545603346367, 0.018004910430117305, 0.0018186778212239702, 0.0045466945530599255, 0.0011821405837955806, 0.001273074474856779, 0.0015458761480403747, 0.006910975720651086, 0.000181867782122397, 1, 0.007001909611712286, 0.00027280167318359554]\n",
      "0.42934782608695654\n",
      "1.5912865802785e-32\n",
      "['subscribe', 'pleaaaase', 'to', 'my', 'instagram', 'account', \"i'll\", 'subscribe', 'back', 'http', 'instagram', 'com', 'cyrine', 'ghorbel']\n",
      "[0.010730199145221424, 1, 0.019914522142402472, 0.022278803309993635, 1, 1, 1, 0.010730199145221424, 0.0011821405837955806, 0.005001364008365918, 1, 0.0122760752932618, 1, 1]\n",
      "0.42934782608695654\n",
      "1.5918557738726402e-15\n",
      "['media', 'is', 'evil', 'please', 'see', 'and', 'share', 'w', 'w', 'w', 'the', 'farrell', 'report', 'net', 'top', 'ex', 'uk', 'police', 'intelligence', 'analyst', 'turned', 'whistleblower', 'tony', 'farrell', 'exposes', 'a', 'horrific', 'monstrous', 'cover', 'up', 'perpetrated', 'by', 'criminals', 'operating', 'crimes', 'from', 'inside', 'mainstream', 'entertainment', 'and', 'media', 'law', 'firms', 'beware', 'protect', 'your', 'children', 'these', 'devils', 'brutally', 'target', 'innocent', 'people', 'these', 'are', 'the', 'real', 'criminals', 'linked', 'to', 'london', '39', 's', '7', '7', 'attacks', '2005', 'must', 'see', 'and', 'make', 'viral', 'also', 'see', 'uk', 'column', 'video', 'on', '31st', 'january', '2013']\n",
      "[1, 0.003910157315631536, 1, 0.010093661907793034, 0.002000545603346367, 0.020369191597708464, 0.0022733472765299628, 1, 1, 1, 0.016640902064199325, 1, 1, 1, 9.09338910611985e-05, 1, 0.00027280167318359554, 1, 1, 1, 9.09338910611985e-05, 1, 1, 1, 1, 0.019005183231790488, 1, 1, 1, 0.0056379012457943075, 1, 0.0017277439301627716, 1, 1, 1, 0.0028189506228971538, 1, 1, 1, 0.020369191597708464, 1, 1, 1, 1, 1, 0.004455760661998727, 1, 0.0008184050195507866, 1, 1, 1, 1, 0.0017277439301627716, 0.0008184050195507866, 0.0020914794944075655, 0.016640902064199325, 0.0006365372374283895, 1, 1, 0.019914522142402472, 1, 0.007001909611712286, 0.0030008184050195506, 0.000181867782122397, 0.000181867782122397, 1, 1, 0.00027280167318359554, 0.002000545603346367, 0.020369191597708464, 0.0028189506228971538, 1, 0.0011821405837955806, 0.002000545603346367, 0.00027280167318359554, 1, 0.01036646358097663, 0.01464035646085296, 1, 1, 1]\n",
      "0.42934782608695654\n",
      "3.038640112133711e-93\n",
      "['new', 'goal', '3', '000', '000', \"let's\", 'go', 'for', 'it']\n",
      "[1, 0.000181867782122397, 0.0015458761480403747, 0.0010912066927343822, 0.0010912066927343822, 1, 0.0019096117122851686, 0.010912066927343821, 0.010912066927343821]\n",
      "0.42934782608695654\n",
      "3.2682320821373155e-20\n",
      "['follow', '4', 'follow', 'vaahidmustafic', 'like', '4', 'like']\n",
      "[1, 0.000181867782122397, 1, 1, 0.007365645175957079, 0.000181867782122397, 0.007365645175957079]\n",
      "0.42934782608695654\n",
      "7.704463413434095e-13\n",
      "['i', 'am', 'a', 'big', 'fan', 'of', 'you', 'and', 'i', 'love', 'you']\n",
      "[0.022278803309993635, 0.002909884513958352, 0.019005183231790488, 0.00027280167318359554, 0.00027280167318359554, 0.009638992452487042, 0.02009638992452487, 0.020369191597708464, 0.022278803309993635, 0.002000545603346367, 0.02009638992452487]\n",
      "0.42934782608695654\n",
      "1.3913130128540591e-25\n",
      "['eminem', 'lt', '3', 'br', 'the', 'best', 'rapper', 'ever', 'lt', '3']\n",
      "[0.0015458761480403747, 0.001273074474856779, 0.0015458761480403747, 0.006910975720651086, 0.016640902064199325, 0.0011821405837955806, 0.0015458761480403747, 0.000363735564244794, 0.001273074474856779, 0.0015458761480403747]\n",
      "0.42934782608695654\n",
      "1.9651097039529433e-28\n",
      "['i', 'miss', 'when', 'people', 'dressed', 'like', 'this']\n",
      "[0.022278803309993635, 0.000181867782122397, 0.0008184050195507866, 0.0017277439301627716, 1, 0.007365645175957079, 0.018004910430117305]\n",
      "0.42934782608695654\n",
      "3.2621679571119887e-16\n",
      "['remove', 'this', 'video', 'its', 'wank']\n",
      "[1, 0.018004910430117305, 0.01036646358097663, 0.0010912066927343822, 1]\n",
      "0.42934782608695654\n",
      "8.744558364901117e-08\n",
      "['she', 'is', 'perfect']\n",
      "[0.0005456033463671911, 0.003910157315631536, 9.09338910611985e-05]\n",
      "0.42934782608695654\n",
      "8.329257701815258e-11\n",
      "['dress', 'like', 'rihanna', 'at', 'kpopcity', 'net', 'the', 'largest', 'discount', 'fashion', 'store', 'in', 'the', 'world', 'check', 'out', 'our', 'quot', 'hollywood', 'collection', 'quot', 'to', 'dress', 'like', 'all', 'your', 'favourite', 'stars', 'dress', 'like', 'rihanna', 'at', 'kpopcity', 'net', 'the', 'largest', 'discount', 'fashion', 'store', 'in', 'the', 'world', 'check', 'out', 'our', 'quot', 'hollywood', 'collection', 'quot', 'to', 'dress', 'like', 'all', 'your', 'favourite', 'stars']\n",
      "[1, 0.007365645175957079, 0.0009093389106119851, 0.003728289533509139, 1, 1, 0.016640902064199325, 1, 1, 1, 1, 0.0045466945530599255, 0.016640902064199325, 0.0008184050195507866, 0.022733472765299627, 0.02264253887423843, 0.0024552150586523596, 0.004001091206692734, 1, 1, 0.004001091206692734, 0.019914522142402472, 1, 0.007365645175957079, 0.0024552150586523596, 0.004455760661998727, 1, 1, 1, 0.007365645175957079, 0.0009093389106119851, 0.003728289533509139, 1, 1, 0.016640902064199325, 1, 1, 1, 1, 0.0045466945530599255, 0.016640902064199325, 0.0008184050195507866, 0.022733472765299627, 0.02264253887423843, 0.0024552150586523596, 0.004001091206692734, 1, 1, 0.004001091206692734, 0.019914522142402472, 1, 0.007365645175957079, 0.0024552150586523596, 0.004455760661998727, 1, 1]\n",
      "0.42934782608695654\n",
      "2.996374592317531e-73\n",
      "['the', 'song', 'is', 'sad']\n",
      "[0.016640902064199325, 0.0018186778212239702, 0.003910157315631536, 9.09338910611985e-05]\n",
      "0.42934782608695654\n",
      "4.620212056112855e-12\n",
      "['check', 'out', 'this', 'video', 'on', 'youtube']\n",
      "[0.022733472765299627, 0.02264253887423843, 0.018004910430117305, 0.01036646358097663, 0.01464035646085296, 0.010002728016731835]\n",
      "0.42934782608695654\n",
      "6.040764103297587e-12\n",
      "['awesome']\n",
      "[0.00027280167318359554]\n",
      "0.42934782608695654\n",
      "0.00011712680533426114\n",
      "['you', 'gotta', 'say', 'its', 'funny', 'well', 'not', '2', 'billion', 'worth', 'funny', 'but', 'still', 'it', 'clicked', 'and', 'everything', 'went', 'uphill', 'at', 'least', 'you', \"don't\", 'have', \"jb's\", 'shit', 'on', '1']\n",
      "[0.02009638992452487, 1, 0.00027280167318359554, 0.0010912066927343822, 0.00027280167318359554, 0.000181867782122397, 0.0019096117122851686, 0.000727471128489588, 1, 1, 0.00027280167318359554, 0.0033645539692643447, 0.0005456033463671911, 0.010912066927343821, 1, 0.020369191597708464, 9.09338910611985e-05, 1, 1, 0.003728289533509139, 9.09338910611985e-05, 0.02009638992452487, 0.0008184050195507866, 0.004819496226243521, 1, 0.00045466945530599255, 0.01464035646085296, 0.0030008184050195506]\n",
      "0.42934782608695654\n",
      "9.61864003078961e-61\n",
      "['this', 'is', 'shit', 'and', 'sooooo', 'autotuned']\n",
      "[0.018004910430117305, 0.003910157315631536, 0.00045466945530599255, 0.020369191597708464, 1, 1]\n",
      "0.42934782608695654\n",
      "2.799394058916904e-10\n",
      "['you', 'guys', 'should', 'check', 'out', 'this', 'extraordinary', 'website', 'called', 'zonepa', 'com', 'you', 'can', 'make', 'money', 'online', 'and', 'start', 'working', 'from', 'home', 'today', 'as', 'i', 'am', 'i', 'am', 'making', 'over', '3', '000', 'per', 'month', 'at', 'zonepa', 'com', 'visit', 'zonepa', 'com', 'and', 'check', 'it', 'out', 'why', 'does', 'the', 'answer', 'rehabilitate', 'the', 'blushing', 'limit', 'the', 'push', 'depreciateds', 'the', 'steel', 'how', 'does', 'the', 'beautiful', 'selection', 'edit', 'the', 'range']\n",
      "[0.02009638992452487, 0.005274165681549514, 0.001273074474856779, 0.022733472765299627, 0.02264253887423843, 0.018004910430117305, 1, 1, 1, 1, 0.0122760752932618, 0.02009638992452487, 0.0056379012457943075, 0.0028189506228971538, 0.0038192234245703373, 1, 0.020369191597708464, 0.0011821405837955806, 1, 0.0028189506228971538, 1, 0.0010912066927343822, 0.002546148949713558, 0.022278803309993635, 0.002909884513958352, 0.022278803309993635, 0.002909884513958352, 0.0011821405837955806, 0.001273074474856779, 0.0015458761480403747, 0.0010912066927343822, 1, 1, 0.003728289533509139, 1, 0.0122760752932618, 1, 1, 0.0122760752932618, 0.020369191597708464, 0.022733472765299627, 0.010912066927343821, 0.02264253887423843, 0.0006365372374283895, 0.0011821405837955806, 0.016640902064199325, 1, 1, 0.016640902064199325, 1, 1, 0.016640902064199325, 1, 1, 0.016640902064199325, 1, 0.0013640083659179777, 0.0011821405837955806, 0.016640902064199325, 0.00027280167318359554, 1, 1, 0.016640902064199325, 1]\n",
      "0.42934782608695654\n"
     ]
    },
    {
     "name": "stdout",
     "output_type": "stream",
     "text": [
      "7.3100982518372216e-96\n",
      "['what', 'my', 'gangnam', 'style']\n",
      "[0.0006365372374283895, 0.022278803309993635, 9.09338910611985e-05, 0.000363735564244794]\n",
      "0.42934782608695654\n",
      "2.0138934238743286e-13\n",
      "['i', 'love', 'you']\n",
      "[0.022278803309993635, 0.002000545603346367, 0.02009638992452487]\n",
      "0.42934782608695654\n",
      "3.845631194505936e-07\n",
      "['please', 'check', 'out', 'my', 'video', 'called', 'quot', 'we', 'love', 'mind', 'master', 'it', 'quot', 'thanks']\n",
      "[0.010093661907793034, 0.022733472765299627, 0.02264253887423843, 0.022278803309993635, 0.01036646358097663, 1, 0.004001091206692734, 0.0021824133854687643, 0.002000545603346367, 0.000181867782122397, 1, 0.010912066927343821, 0.004001091206692734, 0.002546148949713558]\n",
      "0.42934782608695654\n",
      "1.8195348847500438e-28\n",
      "['sick', 'music', 'for', 'sick', 'females']\n",
      "[1, 0.003728289533509139, 0.010912066927343821, 1, 1]\n",
      "0.42934782608695654\n",
      "1.7467305696843524e-05\n",
      "['subscribe', 'to', 'my', 'feed']\n",
      "[0.010730199145221424, 0.019914522142402472, 0.022278803309993635, 1]\n",
      "0.42934782608695654\n",
      "2.04399015484209e-06\n",
      "['loves', 'it']\n",
      "[0.000181867782122397, 0.010912066927343821]\n",
      "0.42934782608695654\n",
      "8.520636925289525e-07\n",
      "['you', 'exactly', 'who', 'u', 'want', 'to', 'be', 'watching', 'your', 'favourite', 'rappers', 'on', 'tv']\n",
      "[0.02009638992452487, 1, 0.0018186778212239702, 0.0018186778212239702, 0.001454942256979176, 0.019914522142402472, 0.0038192234245703373, 0.0010002728016731835, 0.004455760661998727, 1, 1, 0.01464035646085296, 0.0005456033463671911]\n",
      "0.42934782608695654\n",
      "1.1243423317185714e-25\n",
      "['facebook', 'is', 'lame', 'and', 'so', '2004', 'check', 'out', 'swagfriends', 'com', 'make', 'thousands', 'of', 'cool', 'new', 'friends', 'everyday', 'join', 'this', 'new', 'movement']\n",
      "[1, 0.003910157315631536, 1, 0.020369191597708464, 0.0045466945530599255, 1, 0.022733472765299627, 0.02264253887423843, 1, 0.0122760752932618, 0.0028189506228971538, 1, 0.009638992452487042, 0.00045466945530599255, 1, 0.0006365372374283895, 0.00045466945530599255, 1, 0.018004910430117305, 1, 1]\n",
      "0.42934782608695654\n",
      "6.324831619975872e-29\n",
      "['check', 'out', 'my', 'channel']\n",
      "[0.022733472765299627, 0.02264253887423843, 0.022278803309993635, 1]\n",
      "0.42934782608695654\n",
      "4.923705097860851e-06\n",
      "['take', 'a', 'look', 'at', 'this', 'video', 'on', 'youtube']\n",
      "[1, 0.019005183231790488, 0.0013640083659179777, 0.003728289533509139, 0.018004910430117305, 0.01036646358097663, 0.01464035646085296, 0.010002728016731835]\n",
      "0.42934782608695654\n",
      "1.1342262588845595e-15\n",
      "['like', 'amp', 'subscribe', 'watch', 'v', '5tu9gn1l310']\n",
      "[0.007365645175957079, 0.0060925707011003005, 0.010730199145221424, 0.0024552150586523596, 0.0011821405837955806, 1]\n",
      "0.42934782608695654\n",
      "6.000495140386237e-13\n",
      "['me', 'and', 'my', 'aunt', 'love', 'this', 'song']\n",
      "[0.008184050195507865, 0.020369191597708464, 0.022278803309993635, 1, 0.002000545603346367, 0.018004910430117305, 0.0018186778212239702]\n",
      "0.42934782608695654\n",
      "1.044572039808179e-13\n",
      "['check', 'out', 'this', 'video', 'on', 'youtube', 'br', 'br', 'love', 'this', 'song', 'it', '39', 's', 'all', 'good', 'will', 'never', 'go', 'back', 'that', 'but', 'i', '39', 'll', 'always', 'remember', 'the', 'passion', 'but', 'never', 'want', 'to', 'go', 'back', 'to', 'being', 'dysfunctional', 'insanity', 'goal', 'is', 'to', 'live', 'happy', 'not', 'live', 'insane']\n",
      "[0.022733472765299627, 0.02264253887423843, 0.018004910430117305, 0.01036646358097663, 0.01464035646085296, 0.010002728016731835, 0.006910975720651086, 0.006910975720651086, 0.002000545603346367, 0.018004910430117305, 0.0018186778212239702, 0.010912066927343821, 0.007001909611712286, 0.0030008184050195506, 0.0024552150586523596, 0.0009093389106119851, 0.0036373556424479404, 0.00027280167318359554, 0.0019096117122851686, 0.0011821405837955806, 0.0020914794944075655, 0.0033645539692643447, 0.022278803309993635, 0.007001909611712286, 1, 9.09338910611985e-05, 0.000363735564244794, 0.016640902064199325, 1, 0.0033645539692643447, 0.00027280167318359554, 0.001454942256979176, 0.019914522142402472, 0.0019096117122851686, 0.0011821405837955806, 0.019914522142402472, 0.00027280167318359554, 1, 1, 0.000181867782122397, 0.003910157315631536, 0.019914522142402472, 0.0010002728016731835, 1, 0.0019096117122851686, 0.0010002728016731835, 1]\n",
      "0.42934782608695654\n",
      "1.1555597172810548e-103\n",
      "['the', 'best', 'song', 'i', 'saw']\n",
      "[0.016640902064199325, 0.0011821405837955806, 0.0018186778212239702, 0.022278803309993635, 1]\n",
      "0.42934782608695654\n",
      "3.422180325283592e-10\n",
      "['roaaaaarrrrrr']\n",
      "[1]\n",
      "0.42934782608695654\n",
      "0.42934782608695654\n",
      "['http', 'www', 'ermail', 'pl', 'dolacz', 'v3veygin', 'click', 'http', 'www', 'ermail', 'pl', 'dolacz', 'v3veygin', 'http', 'www', 'ermail', 'pl', 'dolacz', 'v3veygin', 'http', 'www', 'ermail', 'pl', 'dolacz', 'v3veygin', 'http', 'www', 'ermail', 'pl', 'dolacz', 'v3veygin', 'http', 'www', 'ermail', 'pl', 'dolacz', 'v3veygin', 'http', 'www', 'ermail', 'pl', 'dolacz', 'v3veygin']\n",
      "[0.005001364008365918, 0.004910430117304719, 1, 1, 1, 1, 1, 0.005001364008365918, 0.004910430117304719, 1, 1, 1, 1, 0.005001364008365918, 0.004910430117304719, 1, 1, 1, 1, 0.005001364008365918, 0.004910430117304719, 1, 1, 1, 1, 0.005001364008365918, 0.004910430117304719, 1, 1, 1, 1, 0.005001364008365918, 0.004910430117304719, 1, 1, 1, 1, 0.005001364008365918, 0.004910430117304719, 1, 1, 1, 1]\n",
      "0.42934782608695654\n",
      "2.3134774076740908e-33\n",
      "['party', 'rock', 'xd']\n",
      "[9.09338910611985e-05, 9.09338910611985e-05, 1]\n",
      "0.42934782608695654\n",
      "3.5502653855373014e-09\n",
      "['subscribe', 'my']\n",
      "[0.010730199145221424, 0.022278803309993635]\n",
      "0.42934782608695654\n",
      "0.0001026381722958834\n",
      "['i', 'like', 'this', 'steps']\n",
      "[0.022278803309993635, 0.007365645175957079, 0.018004910430117305, 1]\n",
      "0.42934782608695654\n",
      "1.2685362628030898e-06\n",
      "['yo', 'like', 'what', 'up', 'this', 'song', 'is', 'fricking', 'beast', 'anywon', 'herd', 'the', 'see', 'mee', 'rollin', 'or', 'i', 'woke', 'up', 'in', 'a', 'new', 'buggti', 'check', 'out', 'nuketown', 'rap', 'i', 'was', 'shooting', 'in', 'it', 'see', 'my', 'nice', 'quick', 'scoping', 'things', 'training', 'for', 'faze', 'adoult', 'freind', 'sang', 'i', 'was', 'at', 'my', 'freinds', 'house', 'doing', 'it', 'we', 'just', 'had', 'the', 'rap', 'going', 'and', 'we', 'were', 'doing', 'fun', 'things']\n",
      "[1, 0.007365645175957079, 0.0006365372374283895, 0.0056379012457943075, 0.018004910430117305, 0.0018186778212239702, 0.003910157315631536, 1, 1, 1, 1, 0.016640902064199325, 0.002000545603346367, 1, 1, 0.0021824133854687643, 0.022278803309993635, 1, 0.0056379012457943075, 0.0045466945530599255, 0.019005183231790488, 1, 1, 0.022733472765299627, 0.02264253887423843, 1, 0.0005456033463671911, 0.022278803309993635, 0.000727471128489588, 1, 0.0045466945530599255, 0.010912066927343821, 0.002000545603346367, 0.022278803309993635, 0.0005456033463671911, 1, 1, 0.000181867782122397, 1, 0.010912066927343821, 1, 1, 1, 1, 0.022278803309993635, 0.000727471128489588, 0.003728289533509139, 0.022278803309993635, 1, 1, 0.000727471128489588, 0.010912066927343821, 0.0021824133854687643, 0.005546967354733109, 0.00027280167318359554, 0.016640902064199325, 0.0005456033463671911, 0.00045466945530599255, 0.020369191597708464, 0.0021824133854687643, 0.00027280167318359554, 0.000727471128489588, 9.09338910611985e-05, 0.000181867782122397]\n",
      "0.42934782608695654\n",
      "2.654462909580415e-109\n",
      "['hey', 'i', '39', 'm', 'a', '16', 'year', 'old', 'rapper', 'from', 'texas', 'i', 'don', '39', 't', 'rap', 'quot', 'pmw', 'quot', 'but', 'i', 'promise', 'my', 'music', 'will', 'not', 'disappoint', 'search', 'therealchrisking1', 'to', 'find', 'me', 'and', 'listen', 'to', 'my', 'track', 'quot', 'memory', 'lane', 'quot', 'i', 'just', 'released', 'my', '3rd', 'mix', 'tape', 'quot', 'crown', 'me', 'quot', 'and', 'so', 'far', 'i', '39', 've', 'had', 'nothing', 'but', 'good', 'reviews', 'about', 'it', 'i', '39', 'm', 'not', 'asking', 'you', 'to', 'like', 'or', 'subscribe', 'but', 'just', '1', 'view', 'will', 'help', 'me', 'catch', 'my', 'dream', 'and', 'if', 'you', 'could', 'leave', 'a', 'comment', 'letting', 'me', 'know', 'what', 'you', 'think', 'it', 'would', 'be', 'much', 'appreciated', 'also', 'thank', 'you']\n",
      "[0.0030917522960807495, 0.022278803309993635, 0.007001909611712286, 0.0036373556424479404, 0.019005183231790488, 1, 0.0011821405837955806, 0.0008184050195507866, 0.0015458761480403747, 0.0028189506228971538, 1, 0.022278803309993635, 0.0018186778212239702, 0.007001909611712286, 0.0040920250977539326, 0.0005456033463671911, 0.004001091206692734, 1, 0.004001091206692734, 0.0033645539692643447, 0.022278803309993635, 1, 0.022278803309993635, 0.003728289533509139, 0.0036373556424479404, 0.0019096117122851686, 1, 1, 1, 0.019914522142402472, 0.00027280167318359554, 0.008184050195507865, 0.020369191597708464, 0.0010002728016731835, 0.019914522142402472, 0.022278803309993635, 0.000363735564244794, 0.004001091206692734, 1, 1, 0.004001091206692734, 0.022278803309993635, 0.005546967354733109, 1, 0.022278803309993635, 1, 1, 1, 0.004001091206692734, 1, 0.008184050195507865, 0.004001091206692734, 0.020369191597708464, 0.0045466945530599255, 1, 0.022278803309993635, 0.007001909611712286, 0.00027280167318359554, 0.00027280167318359554, 0.000727471128489588, 0.0033645539692643447, 0.0009093389106119851, 1, 0.001273074474856779, 0.010912066927343821, 0.022278803309993635, 0.007001909611712286, 0.0036373556424479404, 0.0019096117122851686, 1, 0.02009638992452487, 0.019914522142402472, 0.007365645175957079, 0.0021824133854687643, 0.010730199145221424, 0.0033645539692643447, 0.005546967354733109, 0.0030008184050195506, 0.000363735564244794, 0.0036373556424479404, 0.0021824133854687643, 0.008184050195507865, 1, 0.022278803309993635, 0.0009093389106119851, 0.020369191597708464, 0.008456851868691462, 0.02009638992452487, 0.0019096117122851686, 1, 0.019005183231790488, 0.002546148949713558, 1, 0.008184050195507865, 0.0019096117122851686, 0.0006365372374283895, 0.02009638992452487, 0.0010912066927343822, 0.010912066927343821, 0.0022733472765299628, 0.0038192234245703373, 0.0011821405837955806, 1, 0.0011821405837955806, 1, 0.02009638992452487]\n",
      "0.42934782608695654\n"
     ]
    },
    {
     "name": "stdout",
     "output_type": "stream",
     "text": [
      "2.7655654339294522e-199\n",
      "['this', 'awesome', 'song', 'needed', '4', 'years', 'to', 'reach', 'to', '800', 'mil', 'views', 'while', 'tango', 'switch', 'bitch', 'needed', '1', 'year', 'its', 'not', 'fairrrrrrr']\n",
      "[0.018004910430117305, 0.00027280167318359554, 0.0018186778212239702, 1, 0.000181867782122397, 9.09338910611985e-05, 0.019914522142402472, 0.000363735564244794, 0.019914522142402472, 9.09338910611985e-05, 1, 0.0006365372374283895, 0.000181867782122397, 1, 1, 1, 1, 0.0030008184050195506, 0.0011821405837955806, 0.0010912066927343822, 0.0019096117122851686, 1]\n",
      "0.42934782608695654\n",
      "7.119941386837763e-46\n",
      "['check', 'out', 'this', 'video', 'on', 'youtube']\n",
      "[0.022733472765299627, 0.02264253887423843, 0.018004910430117305, 0.01036646358097663, 0.01464035646085296, 0.010002728016731835]\n",
      "0.42934782608695654\n",
      "6.040764103297587e-12\n",
      "['my', 'favorite', 'song']\n",
      "[0.022278803309993635, 1, 0.0018186778212239702]\n",
      "0.42934782608695654\n",
      "1.7396300389132782e-05\n",
      "['awesome', 'song', 'ever']\n",
      "[0.00027280167318359554, 0.0018186778212239702, 0.000363735564244794]\n",
      "0.42934782608695654\n",
      "7.748146699363031e-11\n",
      "['check', 'out', 'my', 'channel']\n",
      "[0.022733472765299627, 0.02264253887423843, 0.022278803309993635, 1]\n",
      "0.42934782608695654\n",
      "4.923705097860851e-06\n",
      "['this', 'song', 'is', 'great', 'there', 'are', '2', '127', '315', '950', 'views', 'wow']\n",
      "[0.018004910430117305, 0.0018186778212239702, 0.003910157315631536, 0.00045466945530599255, 0.0010002728016731835, 0.0020914794944075655, 0.000727471128489588, 1, 1, 1, 0.0006365372374283895, 1]\n",
      "0.42934782608695654\n",
      "2.421350511402163e-23\n",
      "['me', 'and', 'my', 'big', 'sister', 'like', 'you']\n",
      "[0.008184050195507865, 0.020369191597708464, 0.022278803309993635, 0.00027280167318359554, 1, 0.007365645175957079, 0.02009638992452487]\n",
      "0.42934782608695654\n",
      "6.43900967100765e-14\n",
      "['go', 'to', 'my', 'channel', 'if', 'u', 'want', 'to', 'see', 'a', 'fly', 'getting', 'burned', 'alive']\n",
      "[0.0019096117122851686, 0.019914522142402472, 0.022278803309993635, 1, 0.008456851868691462, 0.0018186778212239702, 0.001454942256979176, 0.019914522142402472, 0.002000545603346367, 0.019005183231790488, 1, 0.0011821405837955806, 1, 1]\n",
      "0.42934782608695654\n",
      "7.285944733365968e-24\n",
      "['hahaa', 'this', 'dance', 'is', 'tightttt', 'br', 'br', 'i', 'know', 'y', '39', 'all', 'quot', 'ain', '39', 't', 'got', 'time', 'for', 'my', 'demo', 'man', 'quot', 'but', 'check', 'out', 'some', 'of', 'my', 'stuff', 'br', 'br', 'slappers', 'on', 'slappers', 'on', 'bangers', 'click', 'that', 'link', 'below', 'to', 'peep', 'game', 'enjoy', 'br', 'br', 'a', 'href', 'https', 'soundcloud', 'com', 'rocc', 'steady', 'wave', 'emoji', 'prod', 'by', 'nippylongbottom', 'cyber', 'punk', 'https', 'soundcloud', 'com', 'rocc', 'steady', 'wave', 'emoji', 'prod', 'by', 'nippylongbottom', 'cyber', 'punk', 'a']\n",
      "[1, 0.018004910430117305, 9.09338910611985e-05, 0.003910157315631536, 1, 0.006910975720651086, 0.006910975720651086, 0.022278803309993635, 0.0019096117122851686, 9.09338910611985e-05, 0.007001909611712286, 0.0024552150586523596, 0.004001091206692734, 1, 0.007001909611712286, 0.0040920250977539326, 0.0009093389106119851, 0.001454942256979176, 0.010912066927343821, 0.022278803309993635, 1, 9.09338910611985e-05, 0.004001091206692734, 0.0033645539692643447, 0.022733472765299627, 0.02264253887423843, 0.0013640083659179777, 0.009638992452487042, 0.022278803309993635, 1, 0.006910975720651086, 0.006910975720651086, 1, 0.01464035646085296, 1, 0.01464035646085296, 1, 1, 0.0020914794944075655, 1, 1, 0.019914522142402472, 1, 0.00027280167318359554, 1, 0.006910975720651086, 0.006910975720651086, 0.019005183231790488, 0.0017277439301627716, 0.00427389287987633, 1, 0.0122760752932618, 1, 1, 1, 1, 1, 0.0017277439301627716, 1, 1, 1, 0.00427389287987633, 1, 0.0122760752932618, 1, 1, 1, 1, 1, 0.0017277439301627716, 1, 1, 1, 0.019005183231790488]\n",
      "0.42934782608695654\n",
      "1.6928342529540605e-102\n",
      "['it', 'is', '0', 'zero']\n",
      "[0.010912066927343821, 0.003910157315631536, 0.0010912066927343822, 1]\n",
      "0.42934782608695654\n",
      "1.999021848435662e-08\n",
      "[\"''little\", 'psy', 'only', '5', 'months', 'left', 'tumor', 'in', 'the', 'head', 'we', 'will', 'miss', 'u', 'lt', '3']\n",
      "[1, 0.000181867782122397, 0.0011821405837955806, 0.000363735564244794, 0.000181867782122397, 1, 0.000181867782122397, 0.0045466945530599255, 0.016640902064199325, 1, 0.0021824133854687643, 0.0036373556424479404, 0.000181867782122397, 0.0018186778212239702, 0.001273074474856779, 0.0015458761480403747]\n",
      "0.42934782608695654\n",
      "4.341771351523158e-40\n",
      "['amazing']\n",
      "[0.000181867782122397]\n",
      "0.42934782608695654\n",
      "7.808453688950741e-05\n",
      "['not', 'bad']\n",
      "[0.0019096117122851686, 0.000181867782122397]\n",
      "0.42934782608695654\n",
      "1.4911114619256668e-07\n",
      "['http', 'www', 'aaas', 'org', 'tech', 'i', 'vote', 'view', '25874', '2177367', 'vote', 'sheldon', 'please', 'guys', 'give', 'it', '5', 'stars', 'thanks', 'in', 'advance']\n",
      "[0.005001364008365918, 0.004910430117304719, 1, 1, 1, 0.022278803309993635, 1, 0.000363735564244794, 1, 1, 1, 1, 0.010093661907793034, 0.005274165681549514, 0.001454942256979176, 0.010912066927343821, 0.000363735564244794, 1, 0.002546148949713558, 0.0045466945530599255, 1]\n",
      "0.42934782608695654\n",
      "3.040993877381421e-28\n",
      "['you', 'guys', 'should', 'check', 'out', 'this', 'extraordinary', 'website', 'called', 'moneygq', 'com', 'you', 'can', 'make', 'money', 'online', 'and', 'start', 'working', 'from', 'home', 'today', 'as', 'i', 'am', 'i', 'am', 'making', 'over', '3', '000', 'per', 'month', 'at', 'moneygq', 'com', 'visit', 'moneygq', 'com', 'and', 'check', 'it', 'out', 'the', 'metal', 'drews', 'the', 'reflective', 'effect', 'why', 'does', 'the', 'expansion', 'intervene', 'the', 'hilarious', 'bit', 'the', 'sneeze', 'witnesss', 'the', 'smoke']\n",
      "[0.02009638992452487, 0.005274165681549514, 0.001273074474856779, 0.022733472765299627, 0.02264253887423843, 0.018004910430117305, 1, 1, 1, 1, 0.0122760752932618, 0.02009638992452487, 0.0056379012457943075, 0.0028189506228971538, 0.0038192234245703373, 1, 0.020369191597708464, 0.0011821405837955806, 1, 0.0028189506228971538, 1, 0.0010912066927343822, 0.002546148949713558, 0.022278803309993635, 0.002909884513958352, 0.022278803309993635, 0.002909884513958352, 0.0011821405837955806, 0.001273074474856779, 0.0015458761480403747, 0.0010912066927343822, 1, 1, 0.003728289533509139, 1, 0.0122760752932618, 1, 1, 0.0122760752932618, 0.020369191597708464, 0.022733472765299627, 0.010912066927343821, 0.02264253887423843, 0.016640902064199325, 1, 1, 0.016640902064199325, 1, 1, 0.0006365372374283895, 0.0011821405837955806, 0.016640902064199325, 1, 1, 0.016640902064199325, 1, 0.000181867782122397, 0.016640902064199325, 1, 1, 0.016640902064199325, 1]\n",
      "0.42934782608695654\n",
      "3.0223572231745857e-90\n",
      "['getting', 'too', '1billion', 'views', 'holy', 'moly']\n",
      "[0.0011821405837955806, 0.000727471128489588, 1, 0.0006365372374283895, 9.09338910611985e-05, 1]\n",
      "0.42934782608695654\n",
      "2.13719302125439e-14\n",
      "['check', 'out', 'this', 'playlist', 'on', 'youtube']\n",
      "[0.022733472765299627, 0.02264253887423843, 0.018004910430117305, 1, 0.01464035646085296, 0.010002728016731835]\n",
      "0.42934782608695654\n",
      "5.827217793330138e-10\n",
      "['stupid', 'people', 'this', 'video', 'doesnt', 'have', '2', 'billion', 'visits', 'have', '2', 'thousands', 'millions']\n",
      "[9.09338910611985e-05, 0.0017277439301627716, 0.018004910430117305, 0.01036646358097663, 1, 0.004819496226243521, 0.000727471128489588, 1, 1, 0.004819496226243521, 0.000727471128489588, 1, 0.000181867782122397]\n",
      "0.42934782608695654\n",
      "2.814664231604397e-26\n",
      "['shuffle']\n",
      "[1]\n",
      "0.42934782608695654\n",
      "0.42934782608695654\n",
      "['please', 'check', 'out', 'my', 'new', 'song', 'music', 'video', 'ad', 'dont', 'play']\n",
      "[0.010093661907793034, 0.022733472765299627, 0.02264253887423843, 0.022278803309993635, 1, 0.0018186778212239702, 0.003728289533509139, 0.01036646358097663, 1, 0.0008184050195507866, 1]\n",
      "0.42934782608695654\n",
      "2.8589403878876256e-18\n",
      "['subscribe', 'to', 'me', 'plz', 'plz', 'plz', 'plz', 'plz', 'plz']\n",
      "[0.010730199145221424, 0.019914522142402472, 0.008184050195507865, 1, 1, 1, 1, 1, 1]\n",
      "0.42934782608695654\n",
      "7.508535262685227e-07\n",
      "['can', 'we', 'reach', '3', 'billion', 'views', 'by', 'december', '2014']\n",
      "[0.0056379012457943075, 0.0021824133854687643, 0.000363735564244794, 0.0015458761480403747, 1, 0.0006365372374283895, 0.0017277439301627716, 1, 0.00045466945530599255]\n",
      "0.42934782608695654\n",
      "1.4853307842429617e-21\n",
      "['mix', 'psy', 'gangnam', 'style', 'm', 'v', 'psy', 'gangnam', 'style', 'm', 'v']\n",
      "[1, 0.000181867782122397, 9.09338910611985e-05, 0.000363735564244794, 0.0036373556424479404, 0.0011821405837955806, 0.000181867782122397, 9.09338910611985e-05, 0.000363735564244794, 0.0036373556424479404, 0.0011821405837955806]\n",
      "0.42934782608695654\n",
      "2.872457944943323e-34\n",
      "['most', 'viewed', 'video', 'in', 'the', 'world']\n",
      "[0.0008184050195507866, 1, 0.01036646358097663, 0.0045466945530599255, 0.016640902064199325, 0.0008184050195507866]\n",
      "0.42934782608695654\n",
      "2.255532593780656e-13\n",
      "['how', 'can', 'this', 'music', 'video', 'get', '2', 'billion', 'views', 'while', 'im', 'the', 'only', 'one', 'watching', 'here', 'on', 'earth', 'lol']\n",
      "[0.0013640083659179777, 0.0056379012457943075, 0.018004910430117305, 0.003728289533509139, 0.01036646358097663, 0.003546421751386742, 0.000727471128489588, 1, 0.0006365372374283895, 0.000181867782122397, 0.001454942256979176, 0.016640902064199325, 0.0011821405837955806, 0.0016368100391015732, 0.0010002728016731835, 0.001454942256979176, 0.01464035646085296, 9.09338910611985e-05, 0.000181867782122397]\n",
      "0.42934782608695654\n",
      "1.1327867569578293e-50\n",
      "['los', 'invito', 'a', 'subscribirse', 'a', 'mi', 'canal']\n",
      "[1, 1, 0.019005183231790488, 1, 0.019005183231790488, 1, 1]\n",
      "0.42934782608695654\n",
      "0.0001550791423056549\n",
      "['nice', 'v', 'deo', 'shakira', 'good']\n",
      "[0.0005456033463671911, 0.0011821405837955806, 1, 0.000363735564244794, 0.0009093389106119851]\n",
      "0.42934782608695654\n",
      "9.159398662518814e-14\n",
      "['please', 'check', 'out', 'my', 'acoustic', 'cover', 'channel', 'thanks']\n",
      "[0.010093661907793034, 0.022733472765299627, 0.02264253887423843, 0.022278803309993635, 1, 1, 1, 0.002546148949713558]\n",
      "0.42934782608695654\n",
      "1.2653905688474712e-10\n",
      "['hi', 'nice', 'song', 'shakira', 'sorry', 'for', 'bad', 'brazilian']\n",
      "[0.0013640083659179777, 0.0005456033463671911, 0.0018186778212239702, 0.000363735564244794, 0.0008184050195507866, 0.010912066927343821, 0.000181867782122397, 1]\n",
      "0.42934782608695654\n",
      "3.4330168930013813e-22\n",
      "['nice']\n",
      "[0.0005456033463671911]\n",
      "0.42934782608695654\n",
      "0.00023425361066852228\n",
      "['hey', 'guys', 'love', 'this', 'but', 'check', 'out', 'this', 'girl', 'name', 'cause', 'she', 'knows', 'how', 'to', 'dance', 'so', 'search', 'up', 'ej', 'ba', 'dancing']\n",
      "[0.0030917522960807495, 0.005274165681549514, 0.002000545603346367, 0.018004910430117305, 0.0033645539692643447, 0.022733472765299627, 0.02264253887423843, 0.018004910430117305, 0.00045466945530599255, 0.000363735564244794, 1, 0.0005456033463671911, 1, 0.0013640083659179777, 0.019914522142402472, 9.09338910611985e-05, 0.0045466945530599255, 1, 0.0056379012457943075, 1, 1, 9.09338910611985e-05]\n",
      "0.42934782608695654\n",
      "4.0853268459485256e-45\n",
      "['omg', 'listen', 'to', 'this', 'its', 'soo', 'good', 'd']\n",
      "[0.000181867782122397, 0.0010002728016731835, 0.019914522142402472, 0.018004910430117305, 0.0010912066927343822, 1, 0.0009093389106119851, 0.001454942256979176]\n",
      "0.42934782608695654\n",
      "4.04317842878416e-20\n",
      "['check', 'out', 'my', 'youtube', 'videos', 'for', 'funny', 'and', 'cool', 'rap']\n",
      "[0.022733472765299627, 0.02264253887423843, 0.022278803309993635, 0.010002728016731835, 0.0024552150586523596, 0.010912066927343821, 0.00027280167318359554, 0.020369191597708464, 0.00045466945530599255, 0.0005456033463671911]\n",
      "0.42934782608695654\n",
      "1.8188659004517073e-24\n",
      "['check', 'out', 'this', 'playlist', 'on', 'youtube', 'br']\n",
      "[0.022733472765299627, 0.02264253887423843, 0.018004910430117305, 1, 0.01464035646085296, 0.010002728016731835, 0.006910975720651086]\n",
      "0.42934782608695654\n",
      "4.027176068865059e-12\n",
      "['roar', 'is', 'without', 'a', 'doubt', 'your', 'best', 'song', 'feel', 'good', 'song', 'with', 'a', 'message', 'for', 'everyone', 'good', 'job', 'katy']\n",
      "[0.000181867782122397, 0.003910157315631536, 0.00027280167318359554, 0.019005183231790488, 1, 0.004455760661998727, 0.0011821405837955806, 0.0018186778212239702, 0.000181867782122397, 0.0009093389106119851, 0.0018186778212239702, 0.002637082840774757, 0.019005183231790488, 0.00027280167318359554, 0.010912066927343821, 0.0021824133854687643, 0.0009093389106119851, 1, 0.0011821405837955806]\n",
      "0.42934782608695654\n",
      "1.596409239063121e-48\n",
      "['wery', 'good']\n",
      "[1, 0.0009093389106119851]\n",
      "0.42934782608695654\n",
      "0.0003904226844475371\n",
      "['shakira', 'u', 'are', 'so', 'wiredo']\n",
      "[0.000363735564244794, 0.0018186778212239702, 0.0020914794944075655, 0.0045466945530599255, 1]\n",
      "0.42934782608695654\n",
      "2.7008483235632394e-12\n",
      "['a', 'href', 'https', 'm', 'freemyapps', 'com', 'share', 'url', '505b0232', 'https', 'm', 'freemyapps', 'com', 'share', 'url', '505b0232', 'a']\n",
      "[0.019005183231790488, 0.0017277439301627716, 0.00427389287987633, 0.0036373556424479404, 1, 0.0122760752932618, 0.0022733472765299628, 1, 1, 0.00427389287987633, 0.0036373556424479404, 1, 0.0122760752932618, 0.0022733472765299628, 1, 1, 0.019005183231790488]\n",
      "0.42934782608695654\n",
      "5.0431538670290816e-26\n",
      "['lol', 'check', 'out', 'my', 'chanell', 'and', 'subscribe', 'please', 'i', 'want', '5000', 'subs', 'thats', 'it', 'im', 'nearly', 'their', 'now']\n"
     ]
    },
    {
     "name": "stdout",
     "output_type": "stream",
     "text": [
      "[0.000181867782122397, 0.022733472765299627, 0.02264253887423843, 0.022278803309993635, 1, 0.020369191597708464, 0.010730199145221424, 0.010093661907793034, 0.022278803309993635, 0.001454942256979176, 1, 1, 9.09338910611985e-05, 0.010912066927343821, 0.001454942256979176, 1, 0.000363735564244794, 0.0010912066927343822]\n",
      "0.42934782608695654\n",
      "3.6693326968969356e-35\n",
      "['we', 'are', '14', 'year', 'old', 'boys', 'we', 'are', 'trying', 'to', 'enter', 'in', 'the', 'music', 'industry', 'maybe', 'we', 'are', 'just', 'a', 'dreamers', 'but', 'we', 'are', 'not', 'the', 'only', 'one', 'please', 'give', 'us', 'one', 'chance', 'to', 'prove', 'ourself', 'to', 'you', 'we', 'know', 'these', 'things', 'are', 'annoying', 'as', 'hell', 'we', 'are', 'sorry', 'about', 'that', 'but', 'we', 'do', 'anything', 'to', 'get', 'music', 'heard', 'please', 'visit', 'our', 'channel', 'subscribe', 'if', 'you', 'like', 'and', 'thumb', 'this', 'comment', 'up', 'so', 'everyone', 'can', 'see', 'we', 'have', 'made', 'a', 'song', 'called', 'i', 'wanna', 'play', 'a', 'game', 'please', 'take', 'a', 'look', 'on', 'our', 'channel', 'thankss']\n",
      "[0.0021824133854687643, 0.0020914794944075655, 0.00027280167318359554, 0.0011821405837955806, 0.0008184050195507866, 0.00027280167318359554, 0.0021824133854687643, 0.0020914794944075655, 1, 0.019914522142402472, 1, 0.0045466945530599255, 0.016640902064199325, 0.003728289533509139, 0.00045466945530599255, 0.000363735564244794, 0.0021824133854687643, 0.0020914794944075655, 0.005546967354733109, 0.019005183231790488, 1, 0.0033645539692643447, 0.0021824133854687643, 0.0020914794944075655, 0.0019096117122851686, 0.016640902064199325, 0.0011821405837955806, 0.0016368100391015732, 0.010093661907793034, 0.001454942256979176, 0.0020914794944075655, 0.0016368100391015732, 1, 0.019914522142402472, 1, 1, 0.019914522142402472, 0.02009638992452487, 0.0021824133854687643, 0.0019096117122851686, 0.0008184050195507866, 0.000181867782122397, 0.0020914794944075655, 0.000181867782122397, 0.002546148949713558, 1, 0.0021824133854687643, 0.0020914794944075655, 0.0008184050195507866, 0.001273074474856779, 0.0020914794944075655, 0.0033645539692643447, 0.0021824133854687643, 0.002546148949713558, 9.09338910611985e-05, 0.019914522142402472, 0.003546421751386742, 0.003728289533509139, 0.0008184050195507866, 0.010093661907793034, 1, 0.0024552150586523596, 1, 0.010730199145221424, 0.008456851868691462, 0.02009638992452487, 0.007365645175957079, 0.020369191597708464, 0.00027280167318359554, 0.018004910430117305, 0.002546148949713558, 0.0056379012457943075, 0.0045466945530599255, 0.0021824133854687643, 0.0056379012457943075, 0.002000545603346367, 0.0021824133854687643, 0.004819496226243521, 0.000363735564244794, 0.019005183231790488, 0.0018186778212239702, 1, 0.022278803309993635, 0.000727471128489588, 1, 0.019005183231790488, 0.00027280167318359554, 0.010093661907793034, 1, 0.019005183231790488, 0.0013640083659179777, 0.01464035646085296, 0.0024552150586523596, 1, 1]\n",
      "0.42934782608695654\n",
      "1.333573867372382e-207\n",
      "['is', 'that', 'charlie', 'from', 'lost']\n",
      "[0.003910157315631536, 0.0020914794944075655, 1, 0.0028189506228971538, 1]\n",
      "0.42934782608695654\n",
      "9.897934568990464e-09\n",
      "['like', 'this', 'comment']\n",
      "[0.007365645175957079, 0.018004910430117305, 0.002546148949713558]\n",
      "0.42934782608695654\n",
      "1.4497557289178167e-07\n",
      "['and', 'after', 'the', 'video', 'ends', 'a', '13', 'ft', 'boa', 'constrictor', 'squeezes', 'her', 'to', 'death']\n",
      "[0.020369191597708464, 0.00027280167318359554, 0.016640902064199325, 0.01036646358097663, 1, 0.019005183231790488, 1, 9.09338910611985e-05, 1, 1, 1, 0.00045466945530599255, 0.019914522142402472, 1]\n",
      "0.42934782608695654\n",
      "6.440225694422775e-21\n",
      "['check', 'out', 'this', 'playlist', 'on', 'youtube', 'a']\n",
      "[0.022733472765299627, 0.02264253887423843, 0.018004910430117305, 1, 0.01464035646085296, 0.010002728016731835, 0.019005183231790488]\n",
      "0.42934782608695654\n",
      "1.107473418937891e-11\n",
      "['check', 'out', 'this', 'video', 'on', 'youtube']\n",
      "[0.022733472765299627, 0.02264253887423843, 0.018004910430117305, 0.01036646358097663, 0.01464035646085296, 0.010002728016731835]\n",
      "0.42934782608695654\n",
      "6.040764103297587e-12\n",
      "['this', 'song', 'is', 'fu', 'cking', 'awesom']\n",
      "[0.018004910430117305, 0.0018186778212239702, 0.003910157315631536, 1, 1, 1]\n",
      "0.42934782608695654\n",
      "5.4973100831980706e-08\n",
      "['almost', 'a', 'billion']\n",
      "[1, 0.019005183231790488, 1]\n",
      "0.42934782608695654\n",
      "0.008159834104953525\n",
      "['hi', 'everyone', 'this', 'is', 'cool', 'check', 'out', 'sexy', 'and', 'i', 'know', 'it']\n",
      "[0.0013640083659179777, 0.0021824133854687643, 0.018004910430117305, 0.003910157315631536, 0.00045466945530599255, 0.022733472765299627, 0.02264253887423843, 0.000181867782122397, 0.020369191597708464, 0.022278803309993635, 0.0019096117122851686, 0.010912066927343821]\n",
      "0.42934782608695654\n",
      "3.621668647640476e-29\n",
      "['party', 'rock']\n",
      "[9.09338910611985e-05, 9.09338910611985e-05]\n",
      "0.42934782608695654\n",
      "3.5502653855373014e-09\n",
      "['she', 'is', 'megan', 'fox', 'because', 'she', 'is', 'very', 'similar']\n",
      "[0.0005456033463671911, 0.003910157315631536, 1, 9.09338910611985e-05, 0.0011821405837955806, 0.0005456033463671911, 0.003910157315631536, 0.00027280167318359554, 1]\n",
      "0.42934782608695654\n",
      "5.730515767852376e-23\n",
      "['this', 'the', 'best', 'song', 'i', 'ever', 'hire', 'br']\n",
      "[0.018004910430117305, 0.016640902064199325, 0.0011821405837955806, 0.0018186778212239702, 0.022278803309993635, 0.000363735564244794, 1, 0.006910975720651086]\n",
      "0.42934782608695654\n",
      "1.5488843399429513e-17\n",
      "['check', 'out', 'this', 'video', 'on', 'youtube']\n",
      "[0.022733472765299627, 0.02264253887423843, 0.018004910430117305, 0.01036646358097663, 0.01464035646085296, 0.010002728016731835]\n",
      "0.42934782608695654\n",
      "6.040764103297587e-12\n",
      "['omg', 'this', 'oldspice', 'spraytan', 'party', 'commercial', 'omg', \"i'm\", 'sitting', 'here', 'no', 'this', \"isn't\", 'a', 'real', 'thing', 'is', 'it', 'omg']\n",
      "[0.000181867782122397, 0.018004910430117305, 1, 1, 9.09338910611985e-05, 1, 0.000181867782122397, 0.001454942256979176, 1, 0.001454942256979176, 0.002000545603346367, 0.018004910430117305, 1, 0.019005183231790488, 0.0006365372374283895, 0.000181867782122397, 0.003910157315631536, 0.010912066927343821, 0.000181867782122397]\n",
      "0.42934782608695654\n",
      "3.026754206027922e-41\n",
      "['check', 'out', 'this', 'playlist', 'on', 'youtube', 'i', 'tried']\n",
      "[0.022733472765299627, 0.02264253887423843, 0.018004910430117305, 1, 0.01464035646085296, 0.010002728016731835, 0.022278803309993635, 1]\n",
      "0.42934782608695654\n",
      "1.298234390620973e-11\n",
      "['thumbs', 'up', 'if', 'you', 'think', 'this', 'should', 'have', '1', 'billion', 'views']\n",
      "[0.0016368100391015732, 0.0056379012457943075, 0.008456851868691462, 0.02009638992452487, 0.0010912066927343822, 0.018004910430117305, 0.001273074474856779, 0.004819496226243521, 0.0030008184050195506, 1, 0.0006365372374283895]\n",
      "0.42934782608695654\n",
      "1.5504892377461976e-25\n",
      "['screw', 'this', 'chinese', 'crap', 'i', 'dont', 'even', 'understand', 'what', 'he', 'is', 'saying', 'why', \"isn't\", 'he', 'speaking', 'english', 'like', 'everyone', 'should']\n",
      "[1, 0.018004910430117305, 1, 1, 0.022278803309993635, 0.0008184050195507866, 0.00045466945530599255, 0.000181867782122397, 0.0006365372374283895, 0.0017277439301627716, 0.003910157315631536, 1, 0.0006365372374283895, 1, 0.0017277439301627716, 1, 1, 0.007365645175957079, 0.0021824133854687643, 0.001273074474856779]\n",
      "0.42934782608695654\n",
      "1.1280131445115828e-36\n",
      "['i', 'like', 'the', 'lyrics', 'but', 'not', 'to', 'music', 'video']\n",
      "[0.022278803309993635, 0.007365645175957079, 0.016640902064199325, 0.0005456033463671911, 0.0033645539692643447, 0.0019096117122851686, 0.019914522142402472, 0.003728289533509139, 0.01036646358097663]\n",
      "0.42934782608695654\n",
      "3.16335933778148e-21\n",
      "['www', 'marketglory', 'com', 'strategygame', 'lordviperas']\n",
      "[0.004910430117304719, 1, 0.0122760752932618, 1, 1]\n",
      "0.42934782608695654\n",
      "2.5881434660566934e-05\n",
      "['nature', 'is', 'beautiful', 'no', 'need', 'to', 'place', 'tits', 'in', 'video', 'to', 'impress', 'people']\n",
      "[1, 0.003910157315631536, 0.00027280167318359554, 0.002000545603346367, 0.001273074474856779, 0.019914522142402472, 9.09338910611985e-05, 1, 0.0045466945530599255, 0.01036646358097663, 0.019914522142402472, 1, 0.0017277439301627716]\n",
      "0.42934782608695654\n",
      "3.425501254022473e-27\n",
      "['check', 'out', 'this', 'video', 'on', 'youtube']\n",
      "[0.022733472765299627, 0.02264253887423843, 0.018004910430117305, 0.01036646358097663, 0.01464035646085296, 0.010002728016731835]\n",
      "0.42934782608695654\n",
      "6.040764103297587e-12\n",
      "['check', 'out', 'this', 'video', 'on', 'youtube', 'but', 'i', '39', 'm', 'not', 'rhinnah']\n",
      "[0.022733472765299627, 0.02264253887423843, 0.018004910430117305, 0.01036646358097663, 0.01464035646085296, 0.010002728016731835, 0.0033645539692643447, 0.022278803309993635, 0.007001909611712286, 0.0036373556424479404, 0.0019096117122851686, 1]\n",
      "0.42934782608695654\n",
      "2.2022091912891565e-23\n",
      "['you', 'guys', 'should', 'check', 'out', 'this', 'extraordinary', 'website', 'called', 'zonepa', 'com', 'you', 'can', 'make', 'money', 'online', 'and', 'start', 'working', 'from', 'home', 'today', 'as', 'i', 'am', 'i', 'am', 'making', 'over', '3', '000', 'per', 'month', 'at', 'zonepa', 'com', 'visit', 'zonepa', 'com', 'and', 'check', 'it', 'out', 'the', 'loud', 'authority', 'improves', 'the', 'canvas', 'when', 'does', 'the', 'mother', 'repair', 'the', 'uppity', 'learning', 'the', 'substantial', 'cook', 'derives', 'the', 'harbor']\n"
     ]
    },
    {
     "name": "stdout",
     "output_type": "stream",
     "text": [
      "[0.02009638992452487, 0.005274165681549514, 0.001273074474856779, 0.022733472765299627, 0.02264253887423843, 0.018004910430117305, 1, 1, 1, 1, 0.0122760752932618, 0.02009638992452487, 0.0056379012457943075, 0.0028189506228971538, 0.0038192234245703373, 1, 0.020369191597708464, 0.0011821405837955806, 1, 0.0028189506228971538, 1, 0.0010912066927343822, 0.002546148949713558, 0.022278803309993635, 0.002909884513958352, 0.022278803309993635, 0.002909884513958352, 0.0011821405837955806, 0.001273074474856779, 0.0015458761480403747, 0.0010912066927343822, 1, 1, 0.003728289533509139, 1, 0.0122760752932618, 1, 1, 0.0122760752932618, 0.020369191597708464, 0.022733472765299627, 0.010912066927343821, 0.02264253887423843, 0.016640902064199325, 1, 1, 1, 0.016640902064199325, 1, 0.0008184050195507866, 0.0011821405837955806, 0.016640902064199325, 9.09338910611985e-05, 1, 0.016640902064199325, 1, 1, 0.016640902064199325, 1, 1, 1, 0.016640902064199325, 1]\n",
      "0.42934782608695654\n",
      "1.9429439291836623e-90\n",
      "['finally', 'someone', 'shares', 'the', 'same', 'opinion', 'as', 'me', 'i', '39', 've', 'tried', 'really', 'hard', 'to', 'like', 'gangnam', 'style', 'but', 'i', 'just', 'can', '39', 't', 'i', 'don', '39', 't', 'even', 'get', 'the', 'dance', 'either', 'a', 'song', 'like', 'this', 'should', 'be', 'more', 'popular', 'than', 'gangnam', 'style', 'at', 'least', 'it', 'makes', 'sense']\n",
      "[1, 0.00045466945530599255, 1, 0.016640902064199325, 1, 1, 0.002546148949713558, 0.008184050195507865, 0.022278803309993635, 0.007001909611712286, 0.00027280167318359554, 1, 0.0017277439301627716, 0.0006365372374283895, 0.019914522142402472, 0.007365645175957079, 9.09338910611985e-05, 0.000363735564244794, 0.0033645539692643447, 0.022278803309993635, 0.005546967354733109, 0.0056379012457943075, 0.007001909611712286, 0.0040920250977539326, 0.022278803309993635, 0.0018186778212239702, 0.007001909611712286, 0.0040920250977539326, 0.00045466945530599255, 0.003546421751386742, 0.016640902064199325, 9.09338910611985e-05, 1, 0.019005183231790488, 0.0018186778212239702, 0.007365645175957079, 0.018004910430117305, 0.001273074474856779, 0.0038192234245703373, 0.0022733472765299628, 9.09338910611985e-05, 0.0006365372374283895, 9.09338910611985e-05, 0.000363735564244794, 0.003728289533509139, 9.09338910611985e-05, 0.010912066927343821, 9.09338910611985e-05, 1]\n",
      "0.42934782608695654\n",
      "9.542822214061517e-113\n",
      "['check', 'out', 'this', 'video', 'on', 'youtube']\n",
      "[0.022733472765299627, 0.02264253887423843, 0.018004910430117305, 0.01036646358097663, 0.01464035646085296, 0.010002728016731835]\n",
      "0.42934782608695654\n",
      "6.040764103297587e-12\n",
      "['subscribe', 'to', 'me']\n",
      "[0.010730199145221424, 0.019914522142402472, 0.008184050195507865]\n",
      "0.42934782608695654\n",
      "7.508535262685227e-07\n",
      "['love', 'the', 'way', 'you', 'lie', 'quot']\n",
      "[0.002000545603346367, 0.016640902064199325, 0.0010912066927343822, 0.02009638992452487, 0.000363735564244794, 0.004001091206692734]\n",
      "0.42934782608695654\n",
      "4.561670122660854e-16\n",
      "['super', 'rihanna']\n",
      "[9.09338910611985e-05, 0.0009093389106119851]\n",
      "0.42934782608695654\n",
      "3.550265385537302e-08\n",
      "['many', 'memories']\n",
      "[0.0006365372374283895, 1]\n",
      "0.42934782608695654\n",
      "0.00027329587911327594\n",
      "['wats', 'good', 'go', 'check', 'out', 'my', 'music', 'on', 'da', 'channel', 'ik', 'yall', 'got', 'me']\n",
      "[1, 0.0009093389106119851, 0.0019096117122851686, 0.022733472765299627, 0.02264253887423843, 0.022278803309993635, 0.003728289533509139, 0.01464035646085296, 1, 1, 1, 1, 0.0009093389106119851, 0.008184050195507865]\n",
      "0.42934782608695654\n",
      "3.473107452027365e-21\n",
      "['http', 'www', 'googleadservices', 'com', 'pagead', 'aclk', 'sa', 'l', 'amp', 'ai', 'csyoeb1wxvpcfl7d27abgpydgbjdpm6ih6mhu05wbgjxbv8sbeaegkn7ljvcf7byh', 'f', '8byiofgicahkabskg31wpiaqkpah', 'kmc0hbpm', 'qambyapbbkoekwfp0kullxqi1mg6o43hvze', 'efmqrg4tu5llbu', 'fsz8gn0hbkjhbx', 'm83w1ts3', '3dx', 'hwpdx1kazsj8o7siecvjjmbnswyijecqvhxlbdzstubofaloyinwm0', 'roocpps2auat6zguickm0li83duwmabzqvene8trfazorltbb037vzyv', 'xi4hbnq2nvh19mrbge0sibgggbgkab7jeycg', 'amp', 'num', '1', 'amp', 'cid', '5ggs', 'm', '9ma3ti40fs6mvpics', 'amp', 'sig', 'aod64', '1ofc7seh', '1pop', 'jyrbs7x6', 'heenq', 'amp', 'client', 'ca', 'pub', '8252267209931889', 'amp', 'adurl', 'http', 'blog', '2parale', 'ro', '2014', '10', 'challenge', 'pentru', 'afiliati', 'aplica', 'la', 'noile', 'programe', 'de', 'afiliere', 'si', 'fii', 'business', 'boomerul', 'lunii', 'amp', 'nm', '2', 'amp', 'mb', '2', 'amp', 'bg', 'a0qouc7q48v3', 'qiaaabpugaaacsqar0', 'vgoqwqxjmpuyvkosf3k', 'q1bvkf9ze4jhnc3ovckkxcbafzzpajibxwbvvq4jrdgz8q3rinlwgaby', 'bxlfw7ma6dk0rjg14zkryizwqdi7hxgge9tndd9abfltfkbmbffcjixnthwbwkj6n2onlh2d9eveagphoewxogbnu5ibgtrkgnacq1oibgmzgafnsc0lsariqj8hqr8t12dwv', '7biy4k6i3y4yublotde', '4xvklnveadzzf1l', 'xryqke6wsur3edljwgk8flq', 'qaldi', 'waznuysgqjnrdy6vucklplzonyisdkc9ebx', '0dbhjzdw0lbsjbi40gxm0d0p5krhv8xinqli53', 'wqbahs8zx4mjhw5vwrkpxfoeks']\n",
      "[0.005001364008365918, 0.004910430117304719, 1, 0.0122760752932618, 1, 1, 1, 0.00045466945530599255, 0.0060925707011003005, 1, 1, 1, 1, 1, 1, 1, 1, 1, 1, 1, 1, 1, 0.0060925707011003005, 1, 0.0030008184050195506, 0.0060925707011003005, 1, 1, 0.0036373556424479404, 1, 0.0060925707011003005, 1, 1, 1, 1, 1, 1, 0.0060925707011003005, 1, 1, 1, 1, 0.0060925707011003005, 1, 0.005001364008365918, 1, 1, 1, 0.00045466945530599255, 1, 1, 1, 1, 1, 1, 1, 1, 1, 1, 1, 1, 0.000181867782122397, 1, 1, 0.0060925707011003005, 1, 0.000727471128489588, 0.0060925707011003005, 1, 0.000727471128489588, 0.0060925707011003005, 1, 1, 1, 1, 1, 1, 1, 1, 1, 1, 1, 1, 1]\n",
      "0.42934782608695654\n",
      "1.626203188816513e-51\n",
      "['check', 'out', 'this', 'video', 'on', 'youtube']\n",
      "[0.022733472765299627, 0.02264253887423843, 0.018004910430117305, 0.01036646358097663, 0.01464035646085296, 0.010002728016731835]\n",
      "0.42934782608695654\n",
      "6.040764103297587e-12\n",
      "['you', 'guys', 'should', 'check', 'out', 'this', 'extraordinary', 'website', 'called', 'moneygq', 'com', 'you', 'can', 'make', 'money', 'online', 'and', 'start', 'working', 'from', 'home', 'today', 'as', 'i', 'am', 'i', 'am', 'making', 'over', '3', '000', 'per', 'month', 'at', 'moneygq', 'com', 'visit', 'moneygq', 'com', 'and', 'check', 'it', 'out', 'why', 'does', 'the', 'innocent', 'woman', 'prioritize', 'the', 'desire', 'the', 'flight', 'searchs', 'the', 'sad', 'polish', 'when', 'does', 'the', 'tax', 'zip', 'the', 'omniscient', 'record']\n",
      "[0.02009638992452487, 0.005274165681549514, 0.001273074474856779, 0.022733472765299627, 0.02264253887423843, 0.018004910430117305, 1, 1, 1, 1, 0.0122760752932618, 0.02009638992452487, 0.0056379012457943075, 0.0028189506228971538, 0.0038192234245703373, 1, 0.020369191597708464, 0.0011821405837955806, 1, 0.0028189506228971538, 1, 0.0010912066927343822, 0.002546148949713558, 0.022278803309993635, 0.002909884513958352, 0.022278803309993635, 0.002909884513958352, 0.0011821405837955806, 0.001273074474856779, 0.0015458761480403747, 0.0010912066927343822, 1, 1, 0.003728289533509139, 1, 0.0122760752932618, 1, 1, 0.0122760752932618, 0.020369191597708464, 0.022733472765299627, 0.010912066927343821, 0.02264253887423843, 0.0006365372374283895, 0.0011821405837955806, 0.016640902064199325, 1, 1, 1, 0.016640902064199325, 1, 0.016640902064199325, 1, 1, 0.016640902064199325, 9.09338910611985e-05, 1, 0.0008184050195507866, 0.0011821405837955806, 0.016640902064199325, 1, 1, 0.016640902064199325, 1, 0.000181867782122397]\n",
      "0.42934782608695654\n",
      "2.6589427123168935e-100\n",
      "['haha', 'i', 'can', '39', 't', 'believe', 'how', 'many', 'kids', 'listen', 'to', 'eminem', 'you', 'kids', 'know', 'that', 'he', 'does', 'drugs', 'and', 'ends', 'high', 'in', 'jail', 'i', 'wonder', 'why', 'he', 'never', 'ended', 'od']\n",
      "[9.09338910611985e-05, 0.022278803309993635, 0.0056379012457943075, 0.007001909611712286, 0.0040920250977539326, 0.00027280167318359554, 0.0013640083659179777, 0.0006365372374283895, 1, 0.0010002728016731835, 0.019914522142402472, 0.0015458761480403747, 0.02009638992452487, 1, 0.0019096117122851686, 0.0020914794944075655, 0.0017277439301627716, 0.0011821405837955806, 1, 0.020369191597708464, 1, 0.000181867782122397, 0.0045466945530599255, 1, 0.022278803309993635, 1, 0.0006365372374283895, 0.0017277439301627716, 0.00027280167318359554, 1, 1]\n",
      "0.42934782608695654\n",
      "1.8913971752428656e-62\n",
      "['like', 'this', 'comment', 'for', 'no', 'reason']\n",
      "[0.007365645175957079, 0.018004910430117305, 0.002546148949713558, 0.010912066927343821, 0.002000545603346367, 0.00027280167318359554]\n",
      "0.42934782608695654\n",
      "8.633707675965563e-16\n",
      "['2011', 'the', 'last', 'year', 'of', 'decent', 'music']\n",
      "[1, 0.016640902064199325, 1, 0.0011821405837955806, 0.009638992452487042, 1, 0.003728289533509139]\n",
      "0.42934782608695654\n",
      "3.0352644272821407e-10\n",
      "['that', 'is', 'megan', 'fox']\n",
      "[0.0020914794944075655, 0.003910157315631536, 1, 9.09338910611985e-05]\n",
      "0.42934782608695654\n",
      "3.1928821190291817e-10\n",
      "['i', 'watched', 'this', 'because', 'of', 'the', 'large', 'amount', 'of', 'views', 'and', 'now', 'i', 'am', 'convinced', 'it', 'is', 'because', 'that', 'girl', 'is', 'so', 'hot']\n",
      "[0.022278803309993635, 9.09338910611985e-05, 0.018004910430117305, 0.0011821405837955806, 0.009638992452487042, 0.016640902064199325, 1, 1, 0.009638992452487042, 0.0006365372374283895, 0.020369191597708464, 0.0010912066927343822, 0.022278803309993635, 0.002909884513958352, 1, 0.010912066927343821, 0.003910157315631536, 0.0011821405837955806, 0.0020914794944075655, 0.00045466945530599255, 0.003910157315631536, 0.0045466945530599255, 0.00027280167318359554]\n",
      "0.42934782608695654\n",
      "6.107397548067736e-51\n",
      "['hey', 'guys', 'i', 'know', 'you', 'tend', 'to', 'skip', 'these', 'comments', 'but', 'take', 'a', 'look', 'first', 'i', 'am', 'free', 'fire', 'a', 'big', 'room', 'progressive', 'house', 'deep', 'house', 'dubstep', 'amp', 'chillstep', 'producer', 'from', 'a', 'small', 'town', 'in', 'missouri', 'down', 'here', 'i', 'have', 'no', 'support', 'from', 'the', 'community', 'and', 'all', 'i', 'really', 'ask', 'is', 'some', 'critiquing', 'support', 'and', 'views', 'my', 'music', 'has', 'gotten', 'much', 'better', 'then', 'what', 'it', 'was', '10', 'months', 'ago', 'and', 'i', 'promise', 'my', 'new', 'content', 'should', 'be', 'more', 'then', 'satisfying', 'soon', 'i', 'should', 'be', 'able', 'to', 'advertise', 'and', 'i', 'wont', 'pester', 'you', 'guys', 'anymore', 'so', 'gimme', 'a', 'chance', 'and', 'check', 'out', 'my', 'music', 'thanks', 'and', 'god', 'bless']\n",
      "[0.0030917522960807495, 0.005274165681549514, 0.022278803309993635, 0.0019096117122851686, 0.02009638992452487, 1, 0.019914522142402472, 1, 0.0008184050195507866, 0.0005456033463671911, 0.0033645539692643447, 1, 0.019005183231790488, 0.0013640083659179777, 0.0008184050195507866, 0.022278803309993635, 0.002909884513958352, 0.002000545603346367, 0.000181867782122397, 0.019005183231790488, 0.00027280167318359554, 1, 1, 1, 1, 1, 1, 0.0060925707011003005, 1, 1, 0.0028189506228971538, 0.019005183231790488, 1, 1, 0.0045466945530599255, 1, 1, 0.001454942256979176, 0.022278803309993635, 0.004819496226243521, 0.002000545603346367, 1, 0.0028189506228971538, 0.016640902064199325, 1, 0.020369191597708464, 0.0024552150586523596, 0.022278803309993635, 0.0017277439301627716, 1, 0.003910157315631536, 0.0013640083659179777, 1, 1, 0.020369191597708464, 0.0006365372374283895, 0.022278803309993635, 0.003728289533509139, 0.0015458761480403747, 1, 0.0011821405837955806, 0.00045466945530599255, 0.0010002728016731835, 0.0006365372374283895, 0.010912066927343821, 0.000727471128489588, 1, 0.000181867782122397, 1, 0.020369191597708464, 0.022278803309993635, 1, 0.022278803309993635, 1, 1, 0.001273074474856779, 0.0038192234245703373, 0.0022733472765299628, 0.0010002728016731835, 1, 0.0005456033463671911, 0.022278803309993635, 0.001273074474856779, 0.0038192234245703373, 1, 0.019914522142402472, 1, 0.020369191597708464, 0.022278803309993635, 1, 1, 0.02009638992452487, 0.005274165681549514, 9.09338910611985e-05, 0.0045466945530599255, 1, 0.019005183231790488, 1, 0.020369191597708464, 0.022733472765299627, 0.02264253887423843, 0.022278803309993635, 0.003728289533509139, 0.002546148949713558, 0.020369191597708464, 0.00045466945530599255, 0.000363735564244794]\n",
      "0.42934782608695654\n",
      "3.171039970746919e-179\n",
      "['you', 'should', 'check', 'my', 'channel', 'for', 'funny', 'videos']\n",
      "[0.02009638992452487, 0.001273074474856779, 0.022733472765299627, 0.022278803309993635, 1, 0.010912066927343821, 0.00027280167318359554, 0.0024552150586523596]\n",
      "0.42934782608695654\n",
      "4.066140305315371e-17\n",
      "['she', 'named', 'the', 'tiger', 'kitty', 'purry', 'no', 'seriously', 'she', 'did', 'check', 'the', 'video']\n",
      "[0.0005456033463671911, 1, 0.016640902064199325, 0.000181867782122397, 1, 1, 0.002000545603346367, 9.09338910611985e-05, 0.0005456033463671911, 0.0006365372374283895, 0.022733472765299627, 0.016640902064199325, 0.01036646358097663]\n",
      "0.42934782608695654\n",
      "1.7565773337709376e-28\n",
      "['god', 'she', 'is', 'so', 'hot']\n",
      "[0.00045466945530599255, 0.0005456033463671911, 0.003910157315631536, 0.0045466945530599255, 0.00027280167318359554]\n",
      "0.42934782608695654\n",
      "5.165580243322161e-16\n",
      "['hi', 'i', 'am', 'from', 'bangladesh']\n",
      "[0.0013640083659179777, 0.022278803309993635, 0.002909884513958352, 0.0028189506228971538, 1]\n",
      "0.42934782608695654\n",
      "1.0702405052589292e-10\n",
      "['i', 'lovee', 'it']\n",
      "[0.022278803309993635, 1, 0.010912066927343821]\n",
      "0.42934782608695654\n",
      "0.00010437780233479669\n",
      "['ahhh', '2', 'years', 'ago']\n",
      "[1, 0.000727471128489588, 9.09338910611985e-05, 1]\n",
      "0.42934782608695654\n",
      "2.840212308429841e-08\n",
      "['eminem', 'the', 'best']\n",
      "[0.0015458761480403747, 0.016640902064199325, 0.0011821405837955806]\n",
      "0.42934782608695654\n",
      "1.3056595706764125e-08\n",
      "['rihanna', 'looks', 'so', 'beautiful', 'with', 'red', 'hair']\n",
      "[0.0009093389106119851, 1, 0.0045466945530599255, 0.00027280167318359554, 0.002637082840774757, 1, 9.09338910611985e-05]\n",
      "0.42934782608695654\n",
      "1.161254473304982e-16\n"
     ]
    }
   ],
   "source": [
    "predictions = np.array([posterior_spam(comment) for comment in testing_comments['CONTENT']])\n",
    "discretized_predictions = predictions > 0.5\n",
    "\n",
    "labels = testing_comments['CLASS']"
   ]
  },
  {
   "cell_type": "code",
   "execution_count": 57,
   "id": "3582aad5",
   "metadata": {
    "nbgrader": {
     "grade": false,
     "grade_id": "cell-fcc293047d1cda9b",
     "locked": true,
     "schema_version": 3,
     "solution": false,
     "task": false
    }
   },
   "outputs": [
    {
     "name": "stdout",
     "output_type": "stream",
     "text": [
      "Classification accuracy: 0.9292196007259528\n"
     ]
    }
   ],
   "source": [
    "accuracy = np.sum(discretized_predictions == labels) / len(testing_comments)\n",
    "\n",
    "print(f\"Classification accuracy: {accuracy}\")"
   ]
  },
  {
   "cell_type": "markdown",
   "id": "cba5d4f1",
   "metadata": {
    "nbgrader": {
     "grade": false,
     "grade_id": "cell-eafe63fe60b424d2",
     "locked": true,
     "schema_version": 3,
     "solution": false,
     "task": false
    }
   },
   "source": [
    "If everything is implemented correctly, the classification accuracy should be approximately $0.93$. Let us still plot the confusion matrix for our predictions."
   ]
  },
  {
   "cell_type": "code",
   "execution_count": 58,
   "id": "623a1dcf",
   "metadata": {
    "nbgrader": {
     "grade": false,
     "grade_id": "cell-cdfbc60a188e5892",
     "locked": true,
     "schema_version": 3,
     "solution": false,
     "task": false
    }
   },
   "outputs": [
    {
     "data": {
      "image/png": "[encoded data removed]",
      "text/plain": [
       "<Figure size 432x288 with 1 Axes>"
      ]
     },
     "metadata": {
      "needs_background": "light"
     },
     "output_type": "display_data"
    }
   ],
   "source": [
    "confusion_matrix = calculate_confusion_matrix(labels, discretized_predictions)\n",
    "heatmap(\n",
    "    confusion_matrix.T,\n",
    "    square=True,\n",
    "    annot=True,\n",
    "    fmt='d',\n",
    "    cbar=False,\n",
    "    xticklabels=['ham', 'spam'],\n",
    "    yticklabels=['ham', 'spam']\n",
    ")\n",
    "plt.yticks(range(3))\n",
    "plt.xlabel('true label')\n",
    "plt.ylabel('predicted label')\n",
    "plt.title('Confusion matrix')\n",
    "plt.show()"
   ]
  }
 ],
 "metadata": {
  "celltoolbar": "Create Assignment",
  "kernelspec": {
   "display_name": "Python 3",
   "language": "python",
   "name": "python3"
  },
  "language_info": {
   "codemirror_mode": {
    "name": "ipython",
    "version": 3
   },
   "file_extension": ".py",
   "mimetype": "text/x-python",
   "name": "python",
   "nbconvert_exporter": "python",
   "pygments_lexer": "ipython3",
   "version": "3.9.5"
  }
 },
 "nbformat": 4,
 "nbformat_minor": 5
}
