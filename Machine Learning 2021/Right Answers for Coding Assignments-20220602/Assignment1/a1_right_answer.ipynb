{
 "cells": [
  {
   "cell_type": "markdown",
   "metadata": {
    "nbgrader": {
     "grade": false,
     "grade_id": "cell-d8c0fc514422446a",
     "locked": true,
     "schema_version": 3,
     "solution": false,
     "task": false
    }
   },
   "source": [
    "# Assignment 1\n",
    "\n",
    "\n",
    "## Learning Goals\n",
    "After successfully completing this assignment, you should be able to:\n",
    "\n",
    "- represent and manipulate numeric data using [`numpy`](https://numpy.org/doc/stable/reference/generated/numpy.array.html) arrays \n",
    "- represent and manipulate data using [`pandas`](https://pandas.pydata.org/docs/reference/api/pandas.DataFrame.html) dataframes \n",
    "- load data from a .csv file "
   ]
  },
  {
   "cell_type": "code",
   "execution_count": 1,
   "metadata": {
    "ExecuteTime": {
     "end_time": "2022-01-24T10:33:34.479154Z",
     "start_time": "2022-01-24T10:33:32.360568Z"
    },
    "nbgrader": {
     "grade": false,
     "grade_id": "cell-ba12c5c47b74176a",
     "locked": true,
     "schema_version": 3,
     "solution": false,
     "task": false
    }
   },
   "outputs": [],
   "source": [
    "import numpy as np                   # import numpy package under shorthand \"np\"\n",
    "import pandas as pd                  # import pandas package under shorthand \"pd\"\n",
    "import matplotlib.pyplot as plt\n",
    "from nose.tools import assert_equal\n",
    "from numpy.testing import assert_array_equal"
   ]
  },
  {
   "cell_type": "markdown",
   "metadata": {
    "nbgrader": {
     "grade": false,
     "grade_id": "cell-48e4a36aa5e0b026",
     "locked": true,
     "schema_version": 3,
     "solution": false,
     "task": false
    }
   },
   "source": [
    "# Representing Data as Numpy Arrays\n",
    "\n",
    "Data consists of many individual datapoints. Each datapoint is characterized by features and labels. Let us assume that the features of a datapoint is a finite list of numbers $x_{1},\\ldots,x_{n} \\in \\mathbb{R}$. We can represent such a finite list of numbers conveniently using a numeric or [`numpy`](https://numpy.org/doc/stable/reference/generated/numpy.ndarray.html?highlight=ndarray#numpy.ndarray) array. \n",
    "\n",
    "For instance, we could have a feature vector `np.array([60.1699, 24.9384])` representing the coordinates of Helsinki, and a label `np.array([5.0])` representing average yearly temperature.\n",
    "In general, the feature vector $\\mathbf{x} = \\big(x_{1},\\ldots,x_{n} \\big)^{T} \\in \\mathbb{R}^{n}$ can be represented by a 1 dimensional `numpy` array `x = np.array([x1,...,xn])`. \n",
    "\n",
    "This course will use mainly `numpy` arrays with 1 or 2 dimensions, representing vectors and matrices, respectively. We represent an $m \\times n$ matrix, i.e., with $m$ rows and $n$ columns, using a 2 dimensional `numpy`array with shape `(m,n)`. The Python code `A=np.array([[1,1,1],[2,2,2]])` creates a `numpy` array of shape `(2, 3)`, representing the matrix \n",
    "$$\n",
    "A= \\begin{pmatrix}\n",
    "1 & 1 & 1\\\\\n",
    "2 & 2 & 2\n",
    "\\end{pmatrix}\n",
    "$$\n",
    "\n",
    "One key attribute of an [`numpy.ndarray`](https://numpy.org/doc/stable/reference/generated/numpy.ndarray.html?highlight=ndarray#numpy.ndarray) object `x` is its shape, which is stored in the attribute `x.shape`. The shape `x.shape` is a tuple of integers $s_{0},\\ldots,s_{d-1}$ that indicates the extent (size/length) of the `numeric` array in different dimensions. The first entry $s_{0}$ of the list `x.shape` is the extent in the first dimension (dimension \"0\"), the second entry $s_{1}$ is the extent of `x` in the second dimension (dimension \"1\"). Note that `np.array([1,2,3]).shape` returns `(3,)` which represents a vector, but `np.array([[1,2,3]]).shape` returns `(1, 3)` which represents a matrix.\n",
    "\n",
    "\n",
    "\n",
    "For more information:\n",
    "\n",
    "- [Numpy Documentation](https://numpy.org/doc/stable/index.html)\n",
    "- [What is Numpy?](https://numpy.org/doc/stable/user/whatisnumpy.html)\n",
    "- [Numpy Basics](https://numpy.org/doc/stable/user/basics.html)\n",
    "- [Visualization](https://stackoverflow.com/questions/48200911/very-basic-numpy-array-dimension-visualization)\n",
    "\n",
    "In the task below you will be asked to do some simple operations in numpy that will be necessary to know for the duration of the course. "
   ]
  },
  {
   "cell_type": "markdown",
   "metadata": {
    "nbgrader": {
     "grade": false,
     "grade_id": "cell-48e4a36aa5e0b026-2",
     "locked": true,
     "schema_version": 3,
     "solution": false,
     "task": false
    }
   },
   "source": [
    "<div class=\" alert alert-warning\">\n",
    "    \n",
    "### Student Task A1.1\n",
    "\n",
    "- Create a `numpy` array `x` that represents the vector $\\mathbf{x} = \\big(1, 2, 3\\big)^{T}$ and another `numpy` array `y` that represents the vector $\\mathbf{y} = \\big( 2, 3, 4 \\big)^{T}$.\n",
    "- Complete the function `sum_matrix` which should read in two `numpy` arrays of the same shape. The function should return a `numpy` array with the same shape of the inputs and whose entries are sums of the corresponding entries in the two input arrays. \n",
    "- Similar to `sum_matrix`, complete the function `product_matrix` that returns a `numpy` array whose entries are products of the entries of the input `numpy` arrays. \n",
    "</div>"
   ]
  },
  {
   "cell_type": "code",
   "execution_count": 2,
   "metadata": {
    "ExecuteTime": {
     "end_time": "2022-01-24T10:33:34.496905Z",
     "start_time": "2022-01-24T10:33:34.482195Z"
    },
    "nbgrader": {
     "grade": false,
     "grade_id": "cell-1633c801da254294",
     "locked": false,
     "schema_version": 3,
     "solution": true,
     "task": false
    }
   },
   "outputs": [],
   "source": [
    "## create numpy arrays as:\n",
    "# x = np.array(...)  # input: a list\n",
    "# y = np.array(...)  # input: a list\n",
    "\n",
    "### BEGIN SOLUTION \n",
    "x = np.array([1,2,3])\n",
    "y = np.array([2,3,4])\n",
    "### END SOLUTION\n",
    "\n",
    "\n",
    "\n",
    "def sum_matrix(x,y):  \n",
    "    \"\"\"\n",
    "    Parameters:\n",
    "    x -- a numpy array\n",
    "    y -- a numpy array\n",
    "    \n",
    "    Returns:\n",
    "    a numpy array representing the element-wise sum of x and y\n",
    "    \"\"\"\n",
    "    ### BEGIN SOLUTION\n",
    "    return x + y\n",
    "    ### END SOLUTION\n",
    "\n",
    "def product_matrix(x,y):\n",
    "    \"\"\"\n",
    "    Parameters:\n",
    "    x -- a numpy array\n",
    "    y -- a numpy array\n",
    "    \n",
    "    Returns:\n",
    "    a numpy array representing the element-wise product of x and y\n",
    "    \"\"\"\n",
    "    ### BEGIN SOLUTION\n",
    "    return x * y\n",
    "    ### END SOLUTION"
   ]
  },
  {
   "cell_type": "markdown",
   "metadata": {
    "nbgrader": {
     "grade": false,
     "grade_id": "cell-1e2965ae63ee9132",
     "locked": true,
     "schema_version": 3,
     "solution": false,
     "task": false
    }
   },
   "source": [
    "<div class=\" alert alert-warning\">\n",
    "\n",
    "### Student Task A1.2\n",
    "\n",
    "\n",
    "Create a `numpy` array `A` of shape `(2,3)` that represents the $2 \\times 3$ matrix \n",
    "\n",
    "\\begin{pmatrix}\n",
    "1 & 2 & 3\\\\\n",
    "4 & 5 & 6\n",
    "\\end{pmatrix}.\n",
    "\n",
    "Complete the three functions in the code snippet:\n",
    "\n",
    " - `first_row` that should return a 1-D `numpy` array that represents the first row of the matrix corresponding to the input array.\n",
    "\n",
    " -  `second_column` that should return 1-D `numpy` array ... second column ...\n",
    "    \n",
    " -  `second_row_and_column` that should return a single number which is contained in the second row and second column of the input matrix.\n",
    "    \n",
    "</div>"
   ]
  },
  {
   "cell_type": "code",
   "execution_count": 3,
   "metadata": {
    "ExecuteTime": {
     "end_time": "2022-01-24T10:33:34.512293Z",
     "start_time": "2022-01-24T10:33:34.504672Z"
    },
    "nbgrader": {
     "grade": false,
     "grade_id": "cell-1cc1e6c6c1853608",
     "locked": false,
     "schema_version": 3,
     "solution": true,
     "task": false
    }
   },
   "outputs": [],
   "source": [
    "## create a 2-D numpy array as:\n",
    "# A = ...\n",
    "\n",
    "### BEGIN SOLUTION \n",
    "A = np.array([[1, 2, 3],[4, 5, 6]])\n",
    "### END SOLUTION\n",
    "\n",
    "## sanity check to avoid major mistakes\n",
    "assert isinstance(A,np.ndarray)  # check the type of A\n",
    "assert A.shape==(2,3)  # check the shape of A"
   ]
  },
  {
   "cell_type": "code",
   "execution_count": 4,
   "metadata": {
    "ExecuteTime": {
     "end_time": "2022-01-24T10:33:34.524530Z",
     "start_time": "2022-01-24T10:33:34.519430Z"
    },
    "nbgrader": {
     "grade": false,
     "grade_id": "cell-1cc1e6c6c1873608",
     "locked": false,
     "schema_version": 3,
     "solution": true,
     "task": false
    }
   },
   "outputs": [],
   "source": [
    "def first_row(A): \n",
    "    '''\n",
    "    Parameter:\n",
    "    A -- a numpy array\n",
    "    \n",
    "    Returns:\n",
    "    the first row of A\n",
    "    '''\n",
    "    ### BEGIN SOLUTION\n",
    "    return A[0]\n",
    "    ### END SOLUTION\n",
    "\n",
    "def second_column(A): \n",
    "    '''\n",
    "    Parameter:\n",
    "    A -- a numpy array\n",
    "    \n",
    "    Returns:\n",
    "    the second column of A\n",
    "    '''\n",
    "    ### BEGIN SOLUTION\n",
    "    return A[:,1]\n",
    "    ### END SOLUTION\n",
    "\n",
    "def second_row_and_column(A): \n",
    "    '''\n",
    "    Parameter:\n",
    "    A -- a numpy array\n",
    "    \n",
    "    Returns:\n",
    "    the second row and second column of A, a float\n",
    "    '''\n",
    "    ### BEGIN SOLUTION\n",
    "    return A[1,1]\n",
    "    ### END SOLUTION"
   ]
  },
  {
   "cell_type": "markdown",
   "metadata": {
    "nbgrader": {
     "grade": false,
     "grade_id": "cell-f4669a4f967e1533",
     "locked": true,
     "schema_version": 3,
     "solution": false,
     "task": false
    }
   },
   "source": [
    "<div class=\" alert alert-warning\">\n",
    "\n",
    "### Student Task A1.3 \n",
    "\n",
    "- Create a `numpy` array `B` of shape `(2,2)` that represents the matrix \n",
    "\\begin{pmatrix}\n",
    "1 & 2 \\\\\n",
    "3 & 4 \n",
    "\\end{pmatrix}\n",
    "- Create a `numpy` array `C` of shape `(2,2)` that represents the matrix \n",
    "\\begin{pmatrix}\n",
    "5 & 6 \\\\\n",
    "6 & 7 \n",
    "\\end{pmatrix}\n",
    "- Complete the function `matrix_mult` which reads in `numpy` arrays `B` and `C` and returns a `numpy` array that represents the [matrix multiplication](https://en.wikipedia.org/wiki/Matrix_multiplication) of the matrices represented by `B` and `C`.\n",
    "    \n",
    "</div>"
   ]
  },
  {
   "cell_type": "code",
   "execution_count": 5,
   "metadata": {
    "ExecuteTime": {
     "end_time": "2022-01-24T10:33:34.534538Z",
     "start_time": "2022-01-24T10:33:34.529340Z"
    },
    "nbgrader": {
     "grade": false,
     "grade_id": "cell-ffe997addcc907e7",
     "locked": false,
     "schema_version": 3,
     "solution": true,
     "task": false
    }
   },
   "outputs": [],
   "source": [
    "## create two numpy arrays as:\n",
    "# B = ...\n",
    "# C = ...\n",
    "\n",
    "### BEGIN SOLUTION\n",
    "B = np.array([[1,2],[3,4]])\n",
    "C = np.array([[5,6],[6,7]])\n",
    "### END SOLUTION\n",
    "\n",
    "def matrix_mult(B,C): \n",
    "    '''\n",
    "    Parameters:\n",
    "    B -- a numpy array\n",
    "    C -- a numpy array\n",
    "    \n",
    "    Returns:\n",
    "    the result of matrix multiplying of B and C\n",
    "    '''\n",
    "    ### BEGIN SOLUTION\n",
    "    return B @ C\n",
    "    # END SOLUTION   "
   ]
  },
  {
   "cell_type": "markdown",
   "metadata": {
    "nbgrader": {
     "grade": false,
     "grade_id": "cell-95e69469e6e32caf",
     "locked": true,
     "schema_version": 3,
     "solution": false,
     "task": false
    }
   },
   "source": [
    "<div class=\" alert alert-warning\">\n",
    "    \n",
    "### Student Task A1.4\n",
    "    \n",
    "Consider the code line `A=np.array([[1,0,0],[0,0,1]])` which creates a `numpy` array `A`. What is the shape of the `numpy` array? (Set the variable `Answer` to the index of the correct answer) \n",
    "   \n",
    "* answer 1: the shape is `(2,1)`.\n",
    "* answer 2: the shape is `(2,3)`.\n",
    "    \n",
    "</div>"
   ]
  },
  {
   "cell_type": "code",
   "execution_count": 6,
   "metadata": {
    "ExecuteTime": {
     "end_time": "2022-01-24T10:33:34.543242Z",
     "start_time": "2022-01-24T10:33:34.537909Z"
    },
    "nbgrader": {
     "grade": false,
     "grade_id": "cell-d5e46c978765b8c1",
     "locked": false,
     "schema_version": 3,
     "solution": true,
     "task": false
    }
   },
   "outputs": [],
   "source": [
    "## set Answer to the index of the correct answer (e.g., Answer = 1 if you think answer 1 is correct):\n",
    "# Answer = ... # either 1 or 2\n",
    "\n",
    "### BEGIN SOLUTION \n",
    "Answer = 2\n",
    "### END SOLUTION\n",
    "\n",
    "assert isinstance(Answer,int) # sanity check the datatype "
   ]
  },
  {
   "cell_type": "markdown",
   "metadata": {
    "nbgrader": {
     "grade": false,
     "grade_id": "cell-95e69464e6e32caf",
     "locked": true,
     "schema_version": 3,
     "solution": false,
     "task": false
    }
   },
   "source": [
    "<div class=\" alert alert-info\" >\n",
    "    \n",
    "### Demo\n",
    "    \n",
    "A frequently used method of ndarray is [ndarray.reshape()](https://numpy.org/doc/stable/reference/generated/numpy.ndarray.reshape.html), it returns a new shape to an array without changing its data. The mandatory parameter of `.reshape()` is 'shape' which should be the new shape represented by an int or a tuple of ints, it should be compatible with the original shape. If an integer, then the result will be a 1-D array of that length. One shape dimension can be -1, in this case, the value is inferred from the length of the array and remaining dimensions.\n",
    "</div>"
   ]
  },
  {
   "cell_type": "code",
   "execution_count": 7,
   "metadata": {
    "ExecuteTime": {
     "end_time": "2022-01-24T10:33:34.568869Z",
     "start_time": "2022-01-24T10:33:34.549279Z"
    },
    "nbgrader": {
     "grade": false,
     "grade_id": "cell-4828f310e646df38",
     "locked": true,
     "schema_version": 3,
     "solution": false,
     "task": false
    }
   },
   "outputs": [
    {
     "name": "stdout",
     "output_type": "stream",
     "text": [
      "P:\n",
      " [1 2 3 4 5 6 7 8]\n",
      "The shape of P is:  (8,)\n",
      "\n",
      "P_1:\n",
      " [[1]\n",
      " [2]\n",
      " [3]\n",
      " [4]\n",
      " [5]\n",
      " [6]\n",
      " [7]\n",
      " [8]]\n",
      "The shape of P_1 is:  (8, 1)\n",
      "\n",
      "P_2:\n",
      " [[1 2 3 4]\n",
      " [5 6 7 8]]\n",
      "The shape of P_2 is:  (2, 4)\n"
     ]
    }
   ],
   "source": [
    "# create a 1-D numpy array\n",
    "P = np.array([1,2,3,4,5,6,7,8])  \n",
    "print('P:\\n',P)\n",
    "print('The shape of P is: ',P.shape)   \n",
    "\n",
    "# reshape P to a 2-D array, the size of the second dimension is 1, the first dimension is inferred\n",
    "P_1 = P.reshape((-1,1)) \n",
    "print('\\nP_1:\\n',P_1)\n",
    "print('The shape of P_1 is: ',P_1.shape)\n",
    "\n",
    "# reshape P to a 2-D array with the shape (2,4)\n",
    "P_2 = P.reshape((2,4))  \n",
    "print('\\nP_2:\\n',P_2)\n",
    "print('The shape of P_2 is: ',P_2.shape)"
   ]
  },
  {
   "cell_type": "markdown",
   "metadata": {
    "nbgrader": {
     "grade": false,
     "grade_id": "cell-95e69466e6e32caf",
     "locked": true,
     "schema_version": 3,
     "solution": false,
     "task": false
    }
   },
   "source": [
    "<div class=\" alert alert-warning\">\n",
    "    \n",
    "### Student Task A1.5\n",
    "    \n",
    "Your task is to reshape P to a new ndarray P_test with the shape (4,2)\n",
    "    \n",
    "</div>\n"
   ]
  },
  {
   "cell_type": "code",
   "execution_count": 8,
   "metadata": {
    "ExecuteTime": {
     "end_time": "2022-01-24T10:33:34.586507Z",
     "start_time": "2022-01-24T10:33:34.578863Z"
    },
    "nbgrader": {
     "grade": false,
     "grade_id": "cell-496c2d223c75968f",
     "locked": false,
     "schema_version": 3,
     "solution": true,
     "task": false
    }
   },
   "outputs": [
    {
     "name": "stdout",
     "output_type": "stream",
     "text": [
      "P_test:\n",
      " [[1 2]\n",
      " [3 4]\n",
      " [5 6]\n",
      " [7 8]]\n",
      "\n",
      "The shape of P_test is:  (4, 2)\n"
     ]
    }
   ],
   "source": [
    "## apply the method P.rehshape() to create a new ndarray P_test with the shape (4,2) as:\n",
    "# P_test = P.reshape(...) # input: a tuple\n",
    "\n",
    "### BEGIN SOLUTION \n",
    "P_test = P.reshape((-1,2))\n",
    "### END SOLUTION\n",
    "\n",
    "print('P_test:\\n',P_test)\n",
    "print('\\nThe shape of P_test is: ', P_test.shape)"
   ]
  },
  {
   "cell_type": "markdown",
   "metadata": {
    "nbgrader": {
     "grade": false,
     "grade_id": "cell-ce07c051b9fc9ddf",
     "locked": true,
     "schema_version": 3,
     "solution": false,
     "task": false
    }
   },
   "source": [
    "# Processing Data with Pandas\n",
    "\n",
    "[Pandas](https://pandas.pydata.org/docs/) provides the class `DataFrame`. A dataframe is a two-dimensional data structure, i.e., data is aligned in a tabular fashion in rows and columns. We can think of `DataFrame` a table whose rows represent individual datapoints and whose columns represent different properties (which might be features or labels) of the datapoints. \n",
    "\n",
    "We can perform basic operations on rows/columns like selecting, deleting, adding, and renaming. You can find some example use cases for `DataFrame` below. For more practice with `pandas` there is great documentation in the [10 minutes to Pandas](https://pandas.pydata.org/pandas-docs/stable/user_guide/10min.html) notebooks on their website.\n",
    "\n",
    "In what follows, we will demonstrate the usage of a `DataFrame` on data provided by the Finnish Meteorological Institute (FMI) at https://en.ilmatieteenlaitos.fi/download-observations. We have downloaded hourly weather observations at the FMI station Otsjoki Nuorgam during 01.06.2021 and 31.08.2021. The data is stored in the file `air_temp.csv` which is located in the same directory as this notebook.\n"
   ]
  },
  {
   "cell_type": "code",
   "execution_count": 9,
   "metadata": {
    "ExecuteTime": {
     "end_time": "2022-01-24T10:33:34.669042Z",
     "start_time": "2022-01-24T10:33:34.591208Z"
    },
    "nbgrader": {
     "grade": false,
     "grade_id": "cell-fc8018b370ed297c",
     "locked": true,
     "schema_version": 3,
     "solution": false,
     "task": false
    }
   },
   "outputs": [
    {
     "data": {
      "text/html": [
       "<div>\n",
       "<style scoped>\n",
       "    .dataframe tbody tr th:only-of-type {\n",
       "        vertical-align: middle;\n",
       "    }\n",
       "\n",
       "    .dataframe tbody tr th {\n",
       "        vertical-align: top;\n",
       "    }\n",
       "\n",
       "    .dataframe thead th {\n",
       "        text-align: right;\n",
       "    }\n",
       "</style>\n",
       "<table border=\"1\" class=\"dataframe\">\n",
       "  <thead>\n",
       "    <tr style=\"text-align: right;\">\n",
       "      <th></th>\n",
       "      <th>Year</th>\n",
       "      <th>m</th>\n",
       "      <th>d</th>\n",
       "      <th>Time</th>\n",
       "      <th>Time zone</th>\n",
       "      <th>Air temperature (degC)</th>\n",
       "    </tr>\n",
       "  </thead>\n",
       "  <tbody>\n",
       "    <tr>\n",
       "      <th>0</th>\n",
       "      <td>2021</td>\n",
       "      <td>6</td>\n",
       "      <td>1</td>\n",
       "      <td>00:00</td>\n",
       "      <td>UTC</td>\n",
       "      <td>6.2</td>\n",
       "    </tr>\n",
       "    <tr>\n",
       "      <th>1</th>\n",
       "      <td>2021</td>\n",
       "      <td>6</td>\n",
       "      <td>1</td>\n",
       "      <td>01:00</td>\n",
       "      <td>UTC</td>\n",
       "      <td>6.4</td>\n",
       "    </tr>\n",
       "    <tr>\n",
       "      <th>2</th>\n",
       "      <td>2021</td>\n",
       "      <td>6</td>\n",
       "      <td>1</td>\n",
       "      <td>02:00</td>\n",
       "      <td>UTC</td>\n",
       "      <td>6.4</td>\n",
       "    </tr>\n",
       "    <tr>\n",
       "      <th>3</th>\n",
       "      <td>2021</td>\n",
       "      <td>6</td>\n",
       "      <td>1</td>\n",
       "      <td>03:00</td>\n",
       "      <td>UTC</td>\n",
       "      <td>6.8</td>\n",
       "    </tr>\n",
       "    <tr>\n",
       "      <th>4</th>\n",
       "      <td>2021</td>\n",
       "      <td>6</td>\n",
       "      <td>1</td>\n",
       "      <td>04:00</td>\n",
       "      <td>UTC</td>\n",
       "      <td>7.1</td>\n",
       "    </tr>\n",
       "  </tbody>\n",
       "</table>\n",
       "</div>"
      ],
      "text/plain": [
       "   Year  m  d   Time Time zone  Air temperature (degC)\n",
       "0  2021  6  1  00:00       UTC                     6.2\n",
       "1  2021  6  1  01:00       UTC                     6.4\n",
       "2  2021  6  1  02:00       UTC                     6.4\n",
       "3  2021  6  1  03:00       UTC                     6.8\n",
       "4  2021  6  1  04:00       UTC                     7.1"
      ]
     },
     "execution_count": 9,
     "metadata": {},
     "output_type": "execute_result"
    }
   ],
   "source": [
    "# read in data from the file \"air_temp.csv\" and store it \n",
    "# in the DataFrame \"df\"\n",
    "\n",
    "df = pd.read_csv('air_temp.csv')\n",
    "\n",
    "# print the first 5 weather recordings in the DataFrame `df`\n",
    "\n",
    "df.head(5)  "
   ]
  },
  {
   "cell_type": "code",
   "execution_count": 10,
   "metadata": {
    "ExecuteTime": {
     "end_time": "2022-01-24T10:33:34.691033Z",
     "start_time": "2022-01-24T10:33:34.671224Z"
    },
    "nbgrader": {
     "grade": false,
     "grade_id": "cell-80d20e86e47ed69c",
     "locked": true,
     "schema_version": 3,
     "solution": false,
     "task": false
    }
   },
   "outputs": [
    {
     "name": "stdout",
     "output_type": "stream",
     "text": [
      "<class 'pandas.core.frame.DataFrame'>\n",
      "RangeIndex: 2209 entries, 0 to 2208\n",
      "Data columns (total 6 columns):\n",
      " #   Column                  Non-Null Count  Dtype  \n",
      "---  ------                  --------------  -----  \n",
      " 0   Year                    2209 non-null   int64  \n",
      " 1   m                       2209 non-null   int64  \n",
      " 2   d                       2209 non-null   int64  \n",
      " 3   Time                    2209 non-null   object \n",
      " 4   Time zone               2209 non-null   object \n",
      " 5   Air temperature (degC)  2204 non-null   float64\n",
      "dtypes: float64(1), int64(3), object(2)\n",
      "memory usage: 103.7+ KB\n"
     ]
    }
   ],
   "source": [
    "# print a concise summary of a DataFrame including the index dtype and columns, non-null values and memory usage\n",
    "\n",
    "df.info()"
   ]
  },
  {
   "cell_type": "code",
   "execution_count": 11,
   "metadata": {
    "ExecuteTime": {
     "end_time": "2022-01-24T10:33:36.158596Z",
     "start_time": "2022-01-24T10:33:34.695015Z"
    },
    "nbgrader": {
     "grade": false,
     "grade_id": "cell-fc8008b370ed297c",
     "locked": true,
     "schema_version": 3,
     "solution": false,
     "task": false
    }
   },
   "outputs": [
    {
     "data": {
      "text/html": [
       "<div>\n",
       "<style scoped>\n",
       "    .dataframe tbody tr th:only-of-type {\n",
       "        vertical-align: middle;\n",
       "    }\n",
       "\n",
       "    .dataframe tbody tr th {\n",
       "        vertical-align: top;\n",
       "    }\n",
       "\n",
       "    .dataframe thead th {\n",
       "        text-align: right;\n",
       "    }\n",
       "</style>\n",
       "<table border=\"1\" class=\"dataframe\">\n",
       "  <thead>\n",
       "    <tr style=\"text-align: right;\">\n",
       "      <th></th>\n",
       "      <th>date</th>\n",
       "      <th>time</th>\n",
       "      <th>temperature</th>\n",
       "    </tr>\n",
       "  </thead>\n",
       "  <tbody>\n",
       "    <tr>\n",
       "      <th>2204</th>\n",
       "      <td>2021-8-31</td>\n",
       "      <td>20:00</td>\n",
       "      <td>6.1</td>\n",
       "    </tr>\n",
       "    <tr>\n",
       "      <th>2205</th>\n",
       "      <td>2021-8-31</td>\n",
       "      <td>21:00</td>\n",
       "      <td>6.4</td>\n",
       "    </tr>\n",
       "    <tr>\n",
       "      <th>2206</th>\n",
       "      <td>2021-8-31</td>\n",
       "      <td>22:00</td>\n",
       "      <td>6.2</td>\n",
       "    </tr>\n",
       "    <tr>\n",
       "      <th>2207</th>\n",
       "      <td>2021-8-31</td>\n",
       "      <td>23:00</td>\n",
       "      <td>5.6</td>\n",
       "    </tr>\n",
       "    <tr>\n",
       "      <th>2208</th>\n",
       "      <td>2021-9-1</td>\n",
       "      <td>00:00</td>\n",
       "      <td>5.5</td>\n",
       "    </tr>\n",
       "  </tbody>\n",
       "</table>\n",
       "</div>"
      ],
      "text/plain": [
       "           date   time  temperature\n",
       "2204  2021-8-31  20:00          6.1\n",
       "2205  2021-8-31  21:00          6.4\n",
       "2206  2021-8-31  22:00          6.2\n",
       "2207  2021-8-31  23:00          5.6\n",
       "2208   2021-9-1  00:00          5.5"
      ]
     },
     "execution_count": 11,
     "metadata": {},
     "output_type": "execute_result"
    }
   ],
   "source": [
    "# change column names\n",
    "\n",
    "df.columns=['year','month', 'day', 'time', 'time_zone','temperature'] \n",
    "\n",
    "\n",
    "# remove rows from dataframe \"df\" which contain missing values\n",
    "\n",
    "df = df.dropna(axis=0) #rows are considered as axis 0\n",
    "\n",
    "# remove rows from dataframe \"df\"  which contain missing values\n",
    "\n",
    "df = df.dropna(axis=0) # rows are considered to be axis 0\n",
    "\n",
    "\n",
    "# concatenate the 3 columns \"year\", \"month\", \"day\" into a new column \"date\" in format e.g. 2022-01-26\n",
    "\n",
    "data = df.assign(date = df[\"year\"].astype(str)+'-'+df[\"month\"].astype(str)+'-'+df[\"day\"].astype(str))\n",
    "\n",
    "# remove columns \"year\", \"month\", \"day\", \"time_zone\" that are not used \n",
    "\n",
    "data = data.drop(['year','month','day','time_zone'],axis=1)  #columns are axis 1\n",
    "\n",
    "# switch column order\n",
    "\n",
    "data = data[['date','time','temperature']]\n",
    "\n",
    "# print the last 5 weather recordings of the new dataframe \n",
    "\n",
    "data.tail(5) "
   ]
  },
  {
   "cell_type": "code",
   "execution_count": 12,
   "metadata": {
    "ExecuteTime": {
     "end_time": "2022-01-24T10:33:36.199244Z",
     "start_time": "2022-01-24T10:33:36.164805Z"
    },
    "nbgrader": {
     "grade": false,
     "grade_id": "cell-e60e6362096f0cf6",
     "locked": true,
     "schema_version": 3,
     "solution": false,
     "task": false
    }
   },
   "outputs": [
    {
     "data": {
      "text/html": [
       "<div>\n",
       "<style scoped>\n",
       "    .dataframe tbody tr th:only-of-type {\n",
       "        vertical-align: middle;\n",
       "    }\n",
       "\n",
       "    .dataframe tbody tr th {\n",
       "        vertical-align: top;\n",
       "    }\n",
       "\n",
       "    .dataframe thead th {\n",
       "        text-align: right;\n",
       "    }\n",
       "</style>\n",
       "<table border=\"1\" class=\"dataframe\">\n",
       "  <thead>\n",
       "    <tr style=\"text-align: right;\">\n",
       "      <th></th>\n",
       "      <th>year</th>\n",
       "      <th>month</th>\n",
       "      <th>day</th>\n",
       "      <th>temperature</th>\n",
       "    </tr>\n",
       "  </thead>\n",
       "  <tbody>\n",
       "    <tr>\n",
       "      <th>count</th>\n",
       "      <td>2204.0</td>\n",
       "      <td>2204.000000</td>\n",
       "      <td>2204.000000</td>\n",
       "      <td>2204.000000</td>\n",
       "    </tr>\n",
       "    <tr>\n",
       "      <th>mean</th>\n",
       "      <td>2021.0</td>\n",
       "      <td>7.014065</td>\n",
       "      <td>15.837114</td>\n",
       "      <td>12.049365</td>\n",
       "    </tr>\n",
       "    <tr>\n",
       "      <th>std</th>\n",
       "      <td>0.0</td>\n",
       "      <td>0.814798</td>\n",
       "      <td>8.863532</td>\n",
       "      <td>5.021324</td>\n",
       "    </tr>\n",
       "    <tr>\n",
       "      <th>min</th>\n",
       "      <td>2021.0</td>\n",
       "      <td>6.000000</td>\n",
       "      <td>1.000000</td>\n",
       "      <td>0.500000</td>\n",
       "    </tr>\n",
       "    <tr>\n",
       "      <th>25%</th>\n",
       "      <td>2021.0</td>\n",
       "      <td>6.000000</td>\n",
       "      <td>8.000000</td>\n",
       "      <td>8.600000</td>\n",
       "    </tr>\n",
       "    <tr>\n",
       "      <th>50%</th>\n",
       "      <td>2021.0</td>\n",
       "      <td>7.000000</td>\n",
       "      <td>16.000000</td>\n",
       "      <td>11.150000</td>\n",
       "    </tr>\n",
       "    <tr>\n",
       "      <th>75%</th>\n",
       "      <td>2021.0</td>\n",
       "      <td>8.000000</td>\n",
       "      <td>24.000000</td>\n",
       "      <td>14.700000</td>\n",
       "    </tr>\n",
       "    <tr>\n",
       "      <th>max</th>\n",
       "      <td>2021.0</td>\n",
       "      <td>9.000000</td>\n",
       "      <td>31.000000</td>\n",
       "      <td>32.200000</td>\n",
       "    </tr>\n",
       "  </tbody>\n",
       "</table>\n",
       "</div>"
      ],
      "text/plain": [
       "         year        month          day  temperature\n",
       "count  2204.0  2204.000000  2204.000000  2204.000000\n",
       "mean   2021.0     7.014065    15.837114    12.049365\n",
       "std       0.0     0.814798     8.863532     5.021324\n",
       "min    2021.0     6.000000     1.000000     0.500000\n",
       "25%    2021.0     6.000000     8.000000     8.600000\n",
       "50%    2021.0     7.000000    16.000000    11.150000\n",
       "75%    2021.0     8.000000    24.000000    14.700000\n",
       "max    2021.0     9.000000    31.000000    32.200000"
      ]
     },
     "execution_count": 12,
     "metadata": {},
     "output_type": "execute_result"
    }
   ],
   "source": [
    "# print some summary statistics of the rows in \"data\", such as mean, std, etc.\n",
    "\n",
    "df.describe()"
   ]
  },
  {
   "cell_type": "markdown",
   "metadata": {
    "nbgrader": {
     "grade": false,
     "grade_id": "cell-0664bf99478bc0e9",
     "locked": true,
     "schema_version": 3,
     "solution": false,
     "task": false
    }
   },
   "source": [
    "Sometimes we are interested in a specific column of a DataFrame, e.g. we want to use it as feature/label. we can select a single column using `dataframe['column_name']`, this will return a [Series](https://pandas.pydata.org/docs/reference/api/pandas.Series.to_numpy.html#pandas.Series.to_numpy) object. Series object has a method `Series.to_numpy()` which will give us a NumPy ndarray representing the values in this Series. You will repeatedly use this method through this course."
   ]
  },
  {
   "cell_type": "code",
   "execution_count": 13,
   "metadata": {
    "ExecuteTime": {
     "end_time": "2022-01-24T10:33:36.222617Z",
     "start_time": "2022-01-24T10:33:36.205175Z"
    },
    "nbgrader": {
     "grade": false,
     "grade_id": "cell-cf90d7dc8402d58a",
     "locked": true,
     "schema_version": 3,
     "solution": false,
     "task": false
    }
   },
   "outputs": [
    {
     "name": "stdout",
     "output_type": "stream",
     "text": [
      "<class 'pandas.core.series.Series'> \n",
      "\n",
      "0       6.2\n",
      "1       6.4\n",
      "2       6.4\n",
      "3       6.8\n",
      "4       7.1\n",
      "       ... \n",
      "2204    6.1\n",
      "2205    6.4\n",
      "2206    6.2\n",
      "2207    5.6\n",
      "2208    5.5\n",
      "Name: temperature, Length: 2204, dtype: float64\n"
     ]
    }
   ],
   "source": [
    "# Let us select only the column \"temperature\" of the DataFrame \"data\"\n",
    "tmp = data['temperature'] \n",
    "\n",
    "print(type(tmp),'\\n') # check the type of this object\n",
    "print(tmp)"
   ]
  },
  {
   "cell_type": "code",
   "execution_count": 14,
   "metadata": {
    "ExecuteTime": {
     "end_time": "2022-01-24T10:33:36.239871Z",
     "start_time": "2022-01-24T10:33:36.228274Z"
    },
    "nbgrader": {
     "grade": false,
     "grade_id": "cell-3a2bd8930083b3f3",
     "locked": true,
     "schema_version": 3,
     "solution": false,
     "task": false
    }
   },
   "outputs": [
    {
     "data": {
      "text/plain": [
       "array([6.2, 6.4, 6.4, ..., 6.2, 5.6, 5.5])"
      ]
     },
     "execution_count": 14,
     "metadata": {},
     "output_type": "execute_result"
    }
   ],
   "source": [
    "data['temperature'].to_numpy() # extract the values stored in a specific column into a ndarray"
   ]
  },
  {
   "cell_type": "markdown",
   "metadata": {
    "nbgrader": {
     "grade": false,
     "grade_id": "cell-90c119c45d708563",
     "locked": true,
     "schema_version": 3,
     "solution": false,
     "task": false
    }
   },
   "source": [
    "We can select a single row by using dataframe.loc[ ] or dataframe.iloc[ ], the returned object is also Series.\n",
    "dataframe.iloc[ ] and dataframe.loc[ ] in fact can be used in multiple ways to do dataframe slicing, for more details please read [the documentation](https://pandas.pydata.org/docs/reference/frame.html)."
   ]
  },
  {
   "cell_type": "code",
   "execution_count": 15,
   "metadata": {
    "ExecuteTime": {
     "end_time": "2022-01-24T10:33:36.261166Z",
     "start_time": "2022-01-24T10:33:36.244519Z"
    },
    "nbgrader": {
     "grade": false,
     "grade_id": "cell-21f795881988cc72",
     "locked": true,
     "schema_version": 3,
     "solution": false,
     "task": false
    }
   },
   "outputs": [
    {
     "name": "stdout",
     "output_type": "stream",
     "text": [
      "The first row: \n",
      " date           2021-6-1\n",
      "time              00:00\n",
      "temperature         6.2\n",
      "Name: 0, dtype: object\n",
      "\n",
      " The row with row label name '3': \n",
      " date           2021-6-1\n",
      "time              03:00\n",
      "temperature         6.8\n",
      "Name: 3, dtype: object\n"
     ]
    }
   ],
   "source": [
    "# select the first weather recording (row) stored in the DataFrame \"data\"\n",
    "firstrow = data.iloc[0]  # `0` is the index of the first row\n",
    "\n",
    "print(\"The first row: \\n\",firstrow) \n",
    "\n",
    "# select the row with row label name `3` by using data.loc[ ]\n",
    "# NOTE `3` is interpreted as a row label name , not an integer position along the index\n",
    "# the row label name could be string or other data type, not only int\n",
    "rowName3 = data.loc[3] \n",
    "print(\"\\n The row with row label name '3': \\n\",rowName3) "
   ]
  },
  {
   "cell_type": "code",
   "execution_count": 16,
   "metadata": {
    "ExecuteTime": {
     "end_time": "2022-01-24T10:33:36.286105Z",
     "start_time": "2022-01-24T10:33:36.267529Z"
    },
    "nbgrader": {
     "grade": false,
     "grade_id": "cell-85df995348f6ed3a",
     "locked": true,
     "schema_version": 3,
     "solution": false,
     "task": false
    },
    "scrolled": true
   },
   "outputs": [
    {
     "data": {
      "text/html": [
       "<div>\n",
       "<style scoped>\n",
       "    .dataframe tbody tr th:only-of-type {\n",
       "        vertical-align: middle;\n",
       "    }\n",
       "\n",
       "    .dataframe tbody tr th {\n",
       "        vertical-align: top;\n",
       "    }\n",
       "\n",
       "    .dataframe thead th {\n",
       "        text-align: right;\n",
       "    }\n",
       "</style>\n",
       "<table border=\"1\" class=\"dataframe\">\n",
       "  <thead>\n",
       "    <tr style=\"text-align: right;\">\n",
       "      <th></th>\n",
       "      <th>date</th>\n",
       "      <th>time</th>\n",
       "      <th>temperature</th>\n",
       "    </tr>\n",
       "  </thead>\n",
       "  <tbody>\n",
       "    <tr>\n",
       "      <th>2187</th>\n",
       "      <td>2021-8-31</td>\n",
       "      <td>03:00</td>\n",
       "      <td>6.7</td>\n",
       "    </tr>\n",
       "    <tr>\n",
       "      <th>1875</th>\n",
       "      <td>2021-8-18</td>\n",
       "      <td>03:00</td>\n",
       "      <td>5.6</td>\n",
       "    </tr>\n",
       "    <tr>\n",
       "      <th>2163</th>\n",
       "      <td>2021-8-30</td>\n",
       "      <td>03:00</td>\n",
       "      <td>6.3</td>\n",
       "    </tr>\n",
       "    <tr>\n",
       "      <th>1707</th>\n",
       "      <td>2021-8-11</td>\n",
       "      <td>03:00</td>\n",
       "      <td>13.9</td>\n",
       "    </tr>\n",
       "    <tr>\n",
       "      <th>579</th>\n",
       "      <td>2021-6-25</td>\n",
       "      <td>03:00</td>\n",
       "      <td>8.5</td>\n",
       "    </tr>\n",
       "  </tbody>\n",
       "</table>\n",
       "</div>"
      ],
      "text/plain": [
       "           date   time  temperature\n",
       "2187  2021-8-31  03:00          6.7\n",
       "1875  2021-8-18  03:00          5.6\n",
       "2163  2021-8-30  03:00          6.3\n",
       "1707  2021-8-11  03:00         13.9\n",
       "579   2021-6-25  03:00          8.5"
      ]
     },
     "execution_count": 16,
     "metadata": {},
     "output_type": "execute_result"
    }
   ],
   "source": [
    "# we can select a subset of a DataFrame on some condition and create a new DataFrame\n",
    "\n",
    "# create a \"newdataset\" which consists only of weather recordings in \"data\" at \"time\" `03:00`\n",
    "newdataset= data[data['time'] == '03:00'] ; \n",
    "\n",
    "# print randomly selected five weather recordings (rows) of \"newdataset\"\n",
    "newdataset.sample(5) "
   ]
  },
  {
   "cell_type": "markdown",
   "metadata": {
    "nbgrader": {
     "grade": false,
     "grade_id": "cell-0dac08dc476caf9f",
     "locked": true,
     "schema_version": 3,
     "solution": false,
     "task": false
    }
   },
   "source": [
    "# Preparing Features and Labels from DataFrame"
   ]
  },
  {
   "cell_type": "markdown",
   "metadata": {
    "ExecuteTime": {
     "end_time": "2021-12-20T07:56:48.798882Z",
     "start_time": "2021-12-20T07:56:48.783955Z"
    },
    "nbgrader": {
     "grade": false,
     "grade_id": "cell-ee62dc21349b1342",
     "locked": true,
     "schema_version": 3,
     "solution": false,
     "task": false
    }
   },
   "source": [
    "<div class=\" alert alert-info\" >\n",
    "\n",
    "## Demo\n",
    "\n",
    "Consider the weather observations recorded in `air_temp.csv` and loaded into the dataframe `data`. Let us now demonstrate how to define datapoints, their features and labels based on these weather observations. It is important to note that the choice (definition) of datapoints, their features and labels are design choices. \n",
    "    \n",
    "We like to define a datapoint to represent an entire day, e.g., \n",
    "* first datapoint represents the day `2021-06-01`,\n",
    "* second datapoint represents the day `2021-06-02`,\n",
    "* third datapoint represents the day `2021-06-03`, \n",
    "* ...\n",
    "\n",
    "The total number $m$ of datapoints is the number of days for which `data` contains weather recordings for daytime `01:00` and `12:00`. \n",
    "    \n",
    "We characterize the $i$-th datapoint (day) using \n",
    "* the temperature recorded at 01:00 during the $i$th day as its feature $x^{(i)}$\n",
    "* the temperature recorded at 12:00 during the $i$th day as its label $y^{(i)}$\n",
    "\n",
    "We store the feature values $x^{(i)},i=1,\\ldots,m$ in a (two-dimensional) numpy array `X_demo` with shape `(m,1)`. The feature value $x^{(i)}$ is stored in the entry `X_demo[i-1,0]` (note that indexing of numpy arrays starts with 0!). The label values $y^{(i)},i=1,\\ldots,m$ are stored in a (one-dimensional) numpy array `y_demo` with shape `(m,)`. Finally, we generate a scatterplot where the $i$th datapoint is depicted by a dot located at coordinates $\\big(x^{(i)},y^{(i)}\\big)$. \n",
    "\n",
    "HINT: Reshape `X_demo` into a 2-D array by using array.reshape(-1, 1). This asks numpy to make the second dimension length one and automatically calculate the needed length of the first dimension so that the feature fits in the container which expects a 2-D array. (e.g.,the  .fit() method of [LinearRegression](https://scikit-learn.org/stable/modules/generated/sklearn.linear_model.LinearRegression.html#sklearn.linear_model.LinearRegression.fit))\n",
    "</div>"
   ]
  },
  {
   "cell_type": "code",
   "execution_count": 17,
   "metadata": {
    "ExecuteTime": {
     "end_time": "2022-01-24T10:33:36.584220Z",
     "start_time": "2022-01-24T10:33:36.291911Z"
    },
    "nbgrader": {
     "grade": false,
     "grade_id": "cell-05cd614948ab74ec",
     "locked": true,
     "schema_version": 3,
     "solution": false,
     "task": false
    }
   },
   "outputs": [
    {
     "name": "stdout",
     "output_type": "stream",
     "text": [
      "number of datapoints: 92\n",
      "the shape of the feature matrix is:  (92, 1)\n",
      "the shape of the label vector is:  (92,)\n"
     ]
    }
   ],
   "source": [
    "# create a list containing the dates for which at least one recording is contained in \"data\"\n",
    "dates = data['date'].unique() \n",
    "\n",
    "features = []   # list used for storing features of datapoints\n",
    "labels = []     # list used for storing labels of datapoints\n",
    "\n",
    "m = 0    # number of datapoints created so far\n",
    "\n",
    "# iterate through the list of dates for which we have weather recordings\n",
    "for date in dates:\n",
    "    datapoint = data[(data['date']==date)]  # select weather recordinds corresponding at day \"date\"\n",
    "    row_f = datapoint[(datapoint.time=='01:00')]    # select weather recording at time \"01:00\"\n",
    "    row_l = datapoint[(datapoint.time=='12:00')]    # select weather recording at time \"12:00\"\n",
    "    if len(row_f)==1 and len(row_l)==1:\n",
    "        feature = row_f['temperature'].to_numpy()[0]  # extract the temperature recording at \"01:00\" as feature\n",
    "        label = row_l['temperature'].to_numpy()[0]    # extract the temperature recording at \"12:00\" as label\n",
    "        features.append(feature)                  # add feature to list \"features\"\n",
    "        labels.append(label)                      # add label to list \"labels\"\n",
    "        m = m+1\n",
    "        \n",
    "X_demo = np.array(features).reshape(m,1)  # convert a list of len=m to a ndarray and reshape it to (m,1)\n",
    "y_demo = np.array(labels) # convert a list of len=m to a ndarray \n",
    "\n",
    "print(\"number of datapoints:\",m)\n",
    "print(\"the shape of the feature matrix is: \",X_demo.shape)\n",
    "print('the shape of the label vector is: ',y_demo.shape)"
   ]
  },
  {
   "cell_type": "code",
   "execution_count": 18,
   "metadata": {
    "ExecuteTime": {
     "end_time": "2022-01-24T10:33:36.969713Z",
     "start_time": "2022-01-24T10:33:36.590527Z"
    },
    "nbgrader": {
     "grade": false,
     "grade_id": "cell-8d25839bf52a5bfa",
     "locked": true,
     "schema_version": 3,
     "solution": false,
     "task": false
    }
   },
   "outputs": [
    {
     "data": {
      "image/png": "[encoded data removed]",
      "text/plain": [
       "<Figure size 432x288 with 1 Axes>"
      ]
     },
     "metadata": {
      "needs_background": "light"
     },
     "output_type": "display_data"
    }
   ],
   "source": [
    "# visualize the datapoints\n",
    "fig = plt.figure()  #create a figure\n",
    "\n",
    "ax = fig.add_subplot(1, 1, 1) #add an axes object to the figure\n",
    "\n",
    "ax.scatter(X_demo,y_demo) #plot a scatterplot in the axes to visualize the datapoints\n",
    "ax.set_xlabel('Temperature at 01:00') # set the label of x axis\n",
    "ax.set_ylabel('Temperature at 12:00') # \n",
    "ax.set_title('Tmp_01:00 vs Tmp_12:00')\n",
    "\n",
    "plt.show()\n",
    "\n",
    "# one line of code `plt.scatter(X_demo,y_demo)` without creating figure and axes objects \n",
    "# can also realize a scatter plot, but it's worth getting yourself familiar with the relation among figure, axes and plot"
   ]
  },
  {
   "cell_type": "markdown",
   "metadata": {
    "nbgrader": {
     "grade": false,
     "grade_id": "cell-e1006521b3fdc6d8",
     "locked": true,
     "schema_version": 3,
     "solution": false,
     "task": false
    }
   },
   "source": [
    "<div class=\" alert alert-warning\">\n",
    "\n",
    "## Student Task A1.6\n",
    "\n",
    "Consider the weather observations recorded in `air_temp.csv` and loaded into the dataframe `data`. \n",
    "We define a datapoint to represent an entire day, \n",
    "* First datapoint represents the day `2021-06-01`,\n",
    "* Second datapoint represents the day `2021-06-02`,\n",
    "* Third datapoint represents the day `2021-06-03`, \n",
    "* ...\n",
    "    \n",
    "The total number $m$ of datapoints is the number of days for which `data` contains weather recordings for daytime `11:00` and `12:00`. \n",
    "    \n",
    "We characterize the $i$-th datapoint (day) using \n",
    "* The temperature recorded at 11:00 during the $i$th day as its feature $x^{(i)}$\n",
    "* The temperature recorded at 12:00 during the $i$th day as its label $y^{(i)}$\n",
    "    \n",
    "Store the feature values in a numpy array `X` of shape `(m,1)` and the label values in a numpy array `y` of shape `(m,)`. \n",
    "    \n",
    "</div>"
   ]
  },
  {
   "cell_type": "code",
   "execution_count": 19,
   "metadata": {
    "ExecuteTime": {
     "end_time": "2022-01-24T10:33:37.280784Z",
     "start_time": "2022-01-24T10:33:36.972823Z"
    },
    "nbgrader": {
     "grade": false,
     "grade_id": "cell-9f36d4b4cb51b88a",
     "locked": false,
     "schema_version": 3,
     "solution": true,
     "task": false
    }
   },
   "outputs": [],
   "source": [
    "## Generate your own datapoints with feature X = “tmp at 11:00” and label y = “tmp at 12:00\"\n",
    "\n",
    "### BEGIN SOLUTION\n",
    "features = []\n",
    "labels = []\n",
    "for date in dates:\n",
    "    datapoint = data[(data.date==date)]  # select weather recordinds corresponding at day \"date\"\n",
    "    row_f = datapoint[(datapoint.time=='11:00')]    # select weather recording at time \"11:00\"\n",
    "    row_l = datapoint[(datapoint.time=='12:00')]    # select weather recording at time \"12:00\"\n",
    "    \n",
    "    if len(row_f)==1 and len(row_l)==1:\n",
    "        feature = row_f['temperature'].to_numpy()[0]\n",
    "        label = row_l['temperature'].to_numpy()[0]\n",
    "        features.append(feature)\n",
    "        labels.append(label)\n",
    "X = np.array(features).reshape(-1,1)\n",
    "y = np.array(labels)\n",
    "### END SOLUTION\n",
    "\n",
    "# Sanity check to help you detect major mistakes\n",
    "assert np.isclose(X[0,0],14.1), 'Feature matrix is incorrect'\n",
    "assert X.shape == (91,1), 'The shape of feature matrix is incorrect'\n",
    "assert y.shape == (91,), 'The shape of label vector is incorrect'"
   ]
  }
 ],
 "metadata": {
  "celltoolbar": "Create Assignment",
  "kernelspec": {
   "display_name": "Python 3",
   "language": "python",
   "name": "python3"
  },
  "language_info": {
   "codemirror_mode": {
    "name": "ipython",
    "version": 3
   },
   "file_extension": ".py",
   "mimetype": "text/x-python",
   "name": "python",
   "nbconvert_exporter": "python",
   "pygments_lexer": "ipython3",
   "version": "3.7.6"
  },
  "latex_envs": {
   "LaTeX_envs_menu_present": true,
   "autoclose": false,
   "autocomplete": true,
   "bibliofile": "biblio.bib",
   "cite_by": "apalike",
   "current_citInitial": 1,
   "eqLabelWithNumbers": true,
   "eqNumInitial": 1,
   "hotkeys": {
    "equation": "Ctrl-E",
    "itemize": "Ctrl-I"
   },
   "labels_anchors": false,
   "latex_user_defs": false,
   "report_style_numbering": false,
   "user_envs_cfg": false
  },
  "toc": {
   "base_numbering": 1,
   "nav_menu": {},
   "number_sections": true,
   "sideBar": true,
   "skip_h1_title": false,
   "title_cell": "Table of Contents",
   "title_sidebar": "Contents",
   "toc_cell": false,
   "toc_position": {
    "height": "calc(100% - 180px)",
    "left": "10px",
    "top": "150px",
    "width": "301.17645263671875px"
   },
   "toc_section_display": true,
   "toc_window_display": false
  },
  "varInspector": {
   "cols": {
    "lenName": 16,
    "lenType": 16,
    "lenVar": 40
   },
   "kernels_config": {
    "python": {
     "delete_cmd_postfix": "",
     "delete_cmd_prefix": "del ",
     "library": "var_list.py",
     "varRefreshCmd": "print(var_dic_list())"
    },
    "r": {
     "delete_cmd_postfix": ") ",
     "delete_cmd_prefix": "rm(",
     "library": "var_list.r",
     "varRefreshCmd": "cat(var_dic_list()) "
    }
   },
   "types_to_exclude": [
    "module",
    "function",
    "builtin_function_or_method",
    "instance",
    "_Feature"
   ],
   "window_display": false
  }
 },
 "nbformat": 4,
 "nbformat_minor": 5
}
